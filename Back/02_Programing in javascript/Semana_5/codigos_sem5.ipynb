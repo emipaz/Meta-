{
 "cells": [
  {
   "cell_type": "code",
   "execution_count": 1,
   "metadata": {},
   "outputs": [
    {
     "name": "stdout",
     "output_type": "stream",
     "text": [
      "Blue\n"
     ]
    }
   ],
   "source": [
    "const a = true;\n",
    "if(!a) {\n",
    "    console.log(\"Green\");\n",
    "} else {\n",
    "    console.log(\"Blue\");\n",
    "}\n"
   ]
  },
  {
   "cell_type": "code",
   "execution_count": 2,
   "metadata": {},
   "outputs": [
    {
     "name": "stdout",
     "output_type": "stream",
     "text": [
      "7\n"
     ]
    }
   ],
   "source": [
    "var x = 2;\n",
    "x += 5;\n",
    "console.log(x);\n"
   ]
  },
  {
   "cell_type": "code",
   "execution_count": 3,
   "metadata": {},
   "outputs": [
    {
     "name": "stdout",
     "output_type": "stream",
     "text": [
      "Orange\n"
     ]
    }
   ],
   "source": [
    "var x = 20;\n",
    "\n",
    "if(x < 5) {\n",
    "    console.log(\"Apple\");\n",
    "} else if(x > 10 && x < 20) {\n",
    "    console.log(\"Pear\");\n",
    "} else {\n",
    "    console.log(\"Orange\");\n",
    "}\n"
   ]
  },
  {
   "cell_type": "code",
   "execution_count": 4,
   "metadata": {},
   "outputs": [
    {
     "name": "stdout",
     "output_type": "stream",
     "text": [
      "8\n"
     ]
    }
   ],
   "source": [
    "\n",
    "var result = 0;\n",
    "\n",
    "var i = 4;\n",
    "while(i > 0) {\n",
    "    result += 2;\n",
    "    i--;\n",
    "}\n",
    "\n",
    "console.log(result);"
   ]
  },
  {
   "cell_type": "code",
   "execution_count": 6,
   "metadata": {},
   "outputs": [
    {
     "name": "stdout",
     "output_type": "stream",
     "text": [
      "undefined\n"
     ]
    },
    {
     "data": {
      "text/plain": [
       "7"
      ]
     },
     "execution_count": 6,
     "metadata": {},
     "output_type": "execute_result"
    }
   ],
   "source": [
    "\n",
    "var resultado;\n",
    "console.log(resultado);\n",
    "resulta = 7;\n"
   ]
  },
  {
   "cell_type": "code",
   "execution_count": 7,
   "metadata": {},
   "outputs": [
    {
     "name": "stdout",
     "output_type": "stream",
     "text": [
      "meow\n"
     ]
    }
   ],
   "source": [
    "var cat = {}\n",
    "cat.sound = \"meow\"\n",
    "var catSound = \"purr\"\n",
    "console.log(cat.sound)"
   ]
  },
  {
   "cell_type": "code",
   "execution_count": 8,
   "metadata": {},
   "outputs": [
    {
     "name": "stdout",
     "output_type": "stream",
     "text": [
      "undefined\n"
     ]
    }
   ],
   "source": [
    "var resultado;\n",
    "console.log(resultado);"
   ]
  },
  {
   "cell_type": "code",
   "execution_count": 9,
   "metadata": {},
   "outputs": [
    {
     "name": "stdout",
     "output_type": "stream",
     "text": [
      "Circle\n"
     ]
    }
   ],
   "source": [
    "try {\n",
    "    throw new Error();\n",
    "    console.log('Square');\n",
    "} catch(err) {\n",
    "    console.log('Circle');\n",
    "}"
   ]
  },
  {
   "cell_type": "code",
   "execution_count": 10,
   "metadata": {},
   "outputs": [
    {
     "name": "stdout",
     "output_type": "stream",
     "text": [
      "Circle\n"
     ]
    }
   ],
   "source": [
    "try {\n",
    "    throw new Error();\n",
    "    console.log('Square');\n",
    "} catch(err) {\n",
    "    console.log('Circle');\n",
    "}"
   ]
  },
  {
   "cell_type": "code",
   "execution_count": 11,
   "metadata": {},
   "outputs": [
    {
     "name": "stdout",
     "output_type": "stream",
     "text": [
      "Pear\n"
     ]
    }
   ],
   "source": [
    "var x = 10;\n",
    "\n",
    "if(x > 10) {\n",
    "    console.log(\"Apple\");\n",
    "} else if(x > 5) {\n",
    "    console.log(\"Pear\");\n",
    "} else {\n",
    "    console.log(\"Orange\");\n",
    "}"
   ]
  },
  {
   "cell_type": "code",
   "execution_count": 14,
   "metadata": {},
   "outputs": [
    {
     "data": {
      "text/plain": [
       "'boolean'"
      ]
     },
     "execution_count": 14,
     "metadata": {},
     "output_type": "execute_result"
    }
   ],
   "source": [
    "var x = 0 != 1;\n",
    "\n",
    "typeof(x)"
   ]
  },
  {
   "cell_type": "code",
   "execution_count": 16,
   "metadata": {},
   "outputs": [
    {
     "name": "stdout",
     "output_type": "stream",
     "text": [
      "Blue\n"
     ]
    }
   ],
   "source": [
    "const a1 = 2;\n",
    "const b1 = 4;\n",
    "if(a1 == 2 && b1 == 8) {\n",
    "    console.log(\"Green\");\n",
    "} else {\n",
    "    console.log(\"Blue\");\n",
    "}\n"
   ]
  },
  {
   "cell_type": "code",
   "execution_count": 17,
   "metadata": {},
   "outputs": [
    {
     "name": "stdout",
     "output_type": "stream",
     "text": [
      "undefined\n"
     ]
    }
   ],
   "source": [
    "var veggies = ['parsley', 'carrot']\n",
    "console.log(veggies[2])\n",
    "\n"
   ]
  },
  {
   "cell_type": "code",
   "execution_count": 18,
   "metadata": {},
   "outputs": [
    {
     "data": {
      "text/plain": [
       "[Function: addFive]"
      ]
     },
     "execution_count": 18,
     "metadata": {},
     "output_type": "execute_result"
    }
   ],
   "source": [
    "function addFive(val) {\n",
    "    return val + 5;\n",
    "  };\n",
    "  module.exports = addFive;"
   ]
  },
  {
   "cell_type": "code",
   "execution_count": 19,
   "metadata": {},
   "outputs": [],
   "source": [
    "const dishData = [\n",
    "    {\n",
    "        name: \"Italian pasta\",\n",
    "        price: 9.55\n",
    "    },\n",
    "    {\n",
    "        name: \"Rice with veggies\",\n",
    "        price: 8.65\n",
    "    },\n",
    "    {\n",
    "        name: \"Chicken with potatoes\",\n",
    "        price: 15.55\n",
    "    },\n",
    "    {\n",
    "        name: \"Vegetarian Pizza\",\n",
    "        price: 6.45\n",
    "    },\n",
    "]\n",
    "const tax = 1.20;"
   ]
  },
  {
   "cell_type": "code",
   "execution_count": 21,
   "metadata": {},
   "outputs": [],
   "source": [
    "function getPrices(taxBoolean) {\n",
    "    for (var dish of dishData) {\n",
    "        let finalPrice;\n",
    "        if (taxBoolean == true) {\n",
    "            finalPrice = dish.price * tax;\n",
    "        } else if (taxBoolean == false) {\n",
    "            finalPrice = dish.price;\n",
    "        } else {\n",
    "            console.log(\"You need to pass a boolean to the getPrices call!\");\n",
    "            return;\n",
    "        }\n",
    "        console.log(\"Dish: \" + dish.name + \" Price: $\" + finalPrice);\n",
    "    }\n",
    "}\n"
   ]
  },
  {
   "cell_type": "code",
   "execution_count": 22,
   "metadata": {},
   "outputs": [
    {
     "name": "stdout",
     "output_type": "stream",
     "text": [
      "Dish: Italian pasta Price: $11.46\n",
      "Dish: Rice with veggies Price: $10.38\n",
      "Dish: Chicken with potatoes Price: $18.66\n",
      "Dish: Vegetarian Pizza Price: $7.74\n"
     ]
    }
   ],
   "source": [
    "getPrices(true)"
   ]
  },
  {
   "cell_type": "code",
   "execution_count": 23,
   "metadata": {},
   "outputs": [
    {
     "name": "stdout",
     "output_type": "stream",
     "text": [
      "Dish: Italian pasta Price: $9.55\n",
      "Dish: Rice with veggies Price: $8.65\n",
      "Dish: Chicken with potatoes Price: $15.55\n",
      "Dish: Vegetarian Pizza Price: $6.45\n"
     ]
    }
   ],
   "source": [
    "getPrices(false)"
   ]
  },
  {
   "cell_type": "code",
   "execution_count": 24,
   "metadata": {},
   "outputs": [
    {
     "name": "stdout",
     "output_type": "stream",
     "text": [
      "Dish: Italian pasta Price: $9.55\n",
      "Dish: Rice with veggies Price: $8.65\n",
      "Dish: Chicken with potatoes Price: $15.55\n",
      "Dish: Vegetarian Pizza Price: $6.45\n"
     ]
    }
   ],
   "source": [
    "getPrices(0)"
   ]
  },
  {
   "cell_type": "code",
   "execution_count": 26,
   "metadata": {},
   "outputs": [
    {
     "name": "stdout",
     "output_type": "stream",
     "text": [
      "Dish: Italian pasta Price: $11.46\n",
      "Dish: Rice with veggies Price: $10.38\n",
      "Dish: Chicken with potatoes Price: $18.66\n",
      "Dish: Vegetarian Pizza Price: $7.74\n"
     ]
    }
   ],
   "source": [
    "getPrices(1)"
   ]
  },
  {
   "cell_type": "code",
   "execution_count": 27,
   "metadata": {},
   "outputs": [
    {
     "name": "stdout",
     "output_type": "stream",
     "text": [
      "You need to pass a boolean to the getPrices call!\n"
     ]
    }
   ],
   "source": [
    "getPrices(10)"
   ]
  },
  {
   "cell_type": "code",
   "execution_count": 28,
   "metadata": {},
   "outputs": [
    {
     "name": "stdout",
     "output_type": "stream",
     "text": [
      "Dish: Italian pasta Price: $9.55\n",
      "Dish: Rice with veggies Price: $8.65\n",
      "Dish: Chicken with potatoes Price: $15.55\n",
      "Dish: Vegetarian Pizza Price: $6.45\n"
     ]
    }
   ],
   "source": [
    "getPrices(\"\")"
   ]
  },
  {
   "cell_type": "code",
   "execution_count": 29,
   "metadata": {},
   "outputs": [
    {
     "name": "stdout",
     "output_type": "stream",
     "text": [
      "Dish: Italian pasta Price: $9.55\n",
      "Dish: Rice with veggies Price: $8.65\n",
      "Dish: Chicken with potatoes Price: $15.55\n",
      "Dish: Vegetarian Pizza Price: $6.45\n"
     ]
    }
   ],
   "source": [
    "getPrices(\" \")"
   ]
  },
  {
   "cell_type": "code",
   "execution_count": 30,
   "metadata": {},
   "outputs": [
    {
     "name": "stdout",
     "output_type": "stream",
     "text": [
      "You need to pass a boolean to the getPrices call!\n"
     ]
    }
   ],
   "source": [
    "getPrices(\"a \")"
   ]
  },
  {
   "cell_type": "code",
   "execution_count": 31,
   "metadata": {},
   "outputs": [],
   "source": [
    "function getDiscount(taxBoolean, guests) {\n",
    "    getPrices(taxBoolean);\n",
    "    if (typeof(guests) == 'number' && guests > 0 && guests < 30) {\n",
    "        let discount = 0;\n",
    "        if (guests < 5) {\n",
    "            discount = 5;\n",
    "        } else if (guests >= 5) {\n",
    "            discount = 10;\n",
    "        }\n",
    "        console.log('Discount is: $' + discount);\n",
    "    } else {\n",
    "        console.log('The second argument must be a number between 0 and 30');\n",
    "    }\n",
    "}\n"
   ]
  },
  {
   "cell_type": "code",
   "execution_count": null,
   "metadata": {},
   "outputs": [],
   "source": []
  }
 ],
 "metadata": {
  "kernelspec": {
   "display_name": "JavaScript (Node.js)",
   "language": "javascript",
   "name": "javascript"
  },
  "language_info": {
   "file_extension": ".js",
   "mimetype": "application/javascript",
   "name": "javascript",
   "version": "8.10.0"
  },
  "orig_nbformat": 4
 },
 "nbformat": 4,
 "nbformat_minor": 2
}
