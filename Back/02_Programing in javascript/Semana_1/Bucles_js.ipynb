{
 "cells": [
  {
   "cell_type": "markdown",
   "metadata": {},
   "source": [
    "# Bucles Javascript"
   ]
  },
  {
   "cell_type": "markdown",
   "metadata": {},
   "source": [
    "## Bucles For\n",
    "\n",
    "<code>\n",
    "for (condicional ; variable de iteracion) {\n",
    "    codigo\n",
    "}\n",
    "</code>"
   ]
  },
  {
   "cell_type": "code",
   "execution_count": 4,
   "metadata": {},
   "outputs": [
    {
     "name": "stdout",
     "output_type": "stream",
     "text": [
      "0\n",
      "1\n",
      "2\n",
      "3\n",
      "4\n",
      "5\n",
      "6\n",
      "7\n",
      "8\n",
      "9\n"
     ]
    }
   ],
   "source": [
    "for (var variable = 0; variable < 10 ; variable++){console.log(variable)}"
   ]
  },
  {
   "cell_type": "code",
   "execution_count": 9,
   "metadata": {},
   "outputs": [
    {
     "name": "stdout",
     "output_type": "stream",
     "text": [
      "\n",
      "1 'X' 1 '=' 1\n",
      "1 x 1 = 1\n",
      "1 'X' 2 '=' 2\n",
      "1 x 2 = 2\n",
      "1 'X' 3 '=' 3\n",
      "1 x 3 = 3\n",
      "1 'X' 4 '=' 4\n",
      "1 x 4 = 4\n",
      "1 'X' 5 '=' 5\n",
      "1 x 5 = 5\n",
      "1 'X' 6 '=' 6\n",
      "1 x 6 = 6\n",
      "1 'X' 7 '=' 7\n",
      "1 x 7 = 7\n",
      "1 'X' 8 '=' 8\n",
      "1 x 8 = 8\n",
      "1 'X' 9 '=' 9\n",
      "1 x 9 = 9\n",
      "\n",
      "2 'X' 1 '=' 2\n",
      "2 x 1 = 2\n",
      "2 'X' 2 '=' 4\n",
      "2 x 2 = 4\n",
      "2 'X' 3 '=' 6\n",
      "2 x 3 = 6\n",
      "2 'X' 4 '=' 8\n",
      "2 x 4 = 8\n",
      "2 'X' 5 '=' 10\n",
      "2 x 5 = 10\n",
      "2 'X' 6 '=' 12\n",
      "2 x 6 = 12\n",
      "2 'X' 7 '=' 14\n",
      "2 x 7 = 14\n",
      "2 'X' 8 '=' 16\n",
      "2 x 8 = 16\n",
      "2 'X' 9 '=' 18\n",
      "2 x 9 = 18\n",
      "\n",
      "3 'X' 1 '=' 3\n",
      "3 x 1 = 3\n",
      "3 'X' 2 '=' 6\n",
      "3 x 2 = 6\n",
      "3 'X' 3 '=' 9\n",
      "3 x 3 = 9\n",
      "3 'X' 4 '=' 12\n",
      "3 x 4 = 12\n",
      "3 'X' 5 '=' 15\n",
      "3 x 5 = 15\n",
      "3 'X' 6 '=' 18\n",
      "3 x 6 = 18\n",
      "3 'X' 7 '=' 21\n",
      "3 x 7 = 21\n",
      "3 'X' 8 '=' 24\n",
      "3 x 8 = 24\n",
      "3 'X' 9 '=' 27\n",
      "3 x 9 = 27\n",
      "\n",
      "4 'X' 1 '=' 4\n",
      "4 x 1 = 4\n",
      "4 'X' 2 '=' 8\n",
      "4 x 2 = 8\n",
      "4 'X' 3 '=' 12\n",
      "4 x 3 = 12\n",
      "4 'X' 4 '=' 16\n",
      "4 x 4 = 16\n",
      "4 'X' 5 '=' 20\n",
      "4 x 5 = 20\n",
      "4 'X' 6 '=' 24\n",
      "4 x 6 = 24\n",
      "4 'X' 7 '=' 28\n",
      "4 x 7 = 28\n",
      "4 'X' 8 '=' 32\n",
      "4 x 8 = 32\n",
      "4 'X' 9 '=' 36\n",
      "4 x 9 = 36\n",
      "\n",
      "5 'X' 1 '=' 5\n",
      "5 x 1 = 5\n",
      "5 'X' 2 '=' 10\n",
      "5 x 2 = 10\n",
      "5 'X' 3 '=' 15\n",
      "5 x 3 = 15\n",
      "5 'X' 4 '=' 20\n",
      "5 x 4 = 20\n",
      "5 'X' 5 '=' 25\n",
      "5 x 5 = 25\n",
      "5 'X' 6 '=' 30\n",
      "5 x 6 = 30\n",
      "5 'X' 7 '=' 35\n",
      "5 x 7 = 35\n",
      "5 'X' 8 '=' 40\n",
      "5 x 8 = 40\n",
      "5 'X' 9 '=' 45\n",
      "5 x 9 = 45\n",
      "\n",
      "6 'X' 1 '=' 6\n",
      "6 x 1 = 6\n",
      "6 'X' 2 '=' 12\n",
      "6 x 2 = 12\n",
      "6 'X' 3 '=' 18\n",
      "6 x 3 = 18\n",
      "6 'X' 4 '=' 24\n",
      "6 x 4 = 24\n",
      "6 'X' 5 '=' 30\n",
      "6 x 5 = 30\n",
      "6 'X' 6 '=' 36\n",
      "6 x 6 = 36\n",
      "6 'X' 7 '=' 42\n",
      "6 x 7 = 42\n",
      "6 'X' 8 '=' 48\n",
      "6 x 8 = 48\n",
      "6 'X' 9 '=' 54\n",
      "6 x 9 = 54\n",
      "\n",
      "7 'X' 1 '=' 7\n",
      "7 x 1 = 7\n",
      "7 'X' 2 '=' 14\n",
      "7 x 2 = 14\n",
      "7 'X' 3 '=' 21\n",
      "7 x 3 = 21\n",
      "7 'X' 4 '=' 28\n",
      "7 x 4 = 28\n",
      "7 'X' 5 '=' 35\n",
      "7 x 5 = 35\n",
      "7 'X' 6 '=' 42\n",
      "7 x 6 = 42\n",
      "7 'X' 7 '=' 49\n",
      "7 x 7 = 49\n",
      "7 'X' 8 '=' 56\n",
      "7 x 8 = 56\n",
      "7 'X' 9 '=' 63\n",
      "7 x 9 = 63\n",
      "\n",
      "8 'X' 1 '=' 8\n",
      "8 x 1 = 8\n",
      "8 'X' 2 '=' 16\n",
      "8 x 2 = 16\n",
      "8 'X' 3 '=' 24\n",
      "8 x 3 = 24\n",
      "8 'X' 4 '=' 32\n",
      "8 x 4 = 32\n",
      "8 'X' 5 '=' 40\n",
      "8 x 5 = 40\n",
      "8 'X' 6 '=' 48\n",
      "8 x 6 = 48\n",
      "8 'X' 7 '=' 56\n",
      "8 x 7 = 56\n",
      "8 'X' 8 '=' 64\n",
      "8 x 8 = 64\n",
      "8 'X' 9 '=' 72\n",
      "8 x 9 = 72\n",
      "\n",
      "9 'X' 1 '=' 9\n",
      "9 x 1 = 9\n",
      "9 'X' 2 '=' 18\n",
      "9 x 2 = 18\n",
      "9 'X' 3 '=' 27\n",
      "9 x 3 = 27\n",
      "9 'X' 4 '=' 36\n",
      "9 x 4 = 36\n",
      "9 'X' 5 '=' 45\n",
      "9 x 5 = 45\n",
      "9 'X' 6 '=' 54\n",
      "9 x 6 = 54\n",
      "9 'X' 7 '=' 63\n",
      "9 x 7 = 63\n",
      "9 'X' 8 '=' 72\n",
      "9 x 8 = 72\n",
      "9 'X' 9 '=' 81\n",
      "9 x 9 = 81\n"
     ]
    }
   ],
   "source": [
    "for (var variable1 = 1; variable1 < 10 ; variable1++){\n",
    "    console.log();\n",
    "    for (var variable2 = 1; variable2 < 10; variable2++){\n",
    "        // console.log(variable1, 'X' ,variable2, \"=\", variable1 * variable2 )\n",
    "        console.log(`${variable1} x ${variable2} = ${variable1 * variable2}` )\n",
    "    }\n",
    "}"
   ]
  },
  {
   "cell_type": "code",
   "execution_count": 3,
   "metadata": {},
   "outputs": [
    {
     "name": "stdout",
     "output_type": "stream",
     "text": [
      "19\n",
      "17\n",
      "15\n",
      "13\n",
      "11\n",
      "9\n",
      "7\n",
      "5\n",
      "3\n",
      "1\n"
     ]
    },
    {
     "data": {
      "text/plain": [
       "0"
      ]
     },
     "execution_count": 3,
     "metadata": {},
     "output_type": "execute_result"
    }
   ],
   "source": [
    "for (var a = 20; a > 0 ; a--){\n",
    "    if (a % 2 == 0){\n",
    "        continue\n",
    "    };\n",
    "    console.log(a)\n",
    "}\n",
    "a"
   ]
  },
  {
   "cell_type": "code",
   "execution_count": 10,
   "metadata": {},
   "outputs": [
    {
     "name": "stdout",
     "output_type": "stream",
     "text": [
      "19\n",
      "18\n",
      "17\n",
      "16\n"
     ]
    },
    {
     "data": {
      "text/plain": [
       "15"
      ]
     },
     "execution_count": 10,
     "metadata": {},
     "output_type": "execute_result"
    }
   ],
   "source": [
    "for (var a = 19; a > 0 ; a--){\n",
    "    if (a % 5 == 0){\n",
    "        break\n",
    "    };\n",
    "    console.log(a)\n",
    "}\n",
    "\n",
    "a"
   ]
  },
  {
   "cell_type": "markdown",
   "metadata": {},
   "source": [
    "## Bucles For In\n",
    "\n",
    "La declaración de JavaScript for in recorre las propiedades de un objeto:"
   ]
  },
  {
   "cell_type": "code",
   "execution_count": 25,
   "metadata": {},
   "outputs": [
    {
     "data": {
      "text/plain": [
       "'JohnDoe25'"
      ]
     },
     "execution_count": 25,
     "metadata": {},
     "output_type": "execute_result"
    }
   ],
   "source": [
    "var person = {fname:\"John\", lname:\"Doe\", age:25}; // es un objeto json \"Javascript object notation\"\n",
    "\n",
    "var text = \"\";\n",
    "for (var x in person) {\n",
    "  text += person[x];\n",
    "}\n",
    "text"
   ]
  },
  {
   "cell_type": "code",
   "execution_count": 26,
   "metadata": {},
   "outputs": [
    {
     "data": {
      "text/plain": [
       "{ fname: 'John', lname: 'Doe', age: 25 }"
      ]
     },
     "execution_count": 26,
     "metadata": {},
     "output_type": "execute_result"
    }
   ],
   "source": [
    "person"
   ]
  },
  {
   "cell_type": "code",
   "execution_count": 4,
   "metadata": {},
   "outputs": [],
   "source": [
    "var numeros = {numeros:[1,2,3\n",
    "]}"
   ]
  },
  {
   "cell_type": "markdown",
   "metadata": {},
   "source": []
  },
  {
   "cell_type": "code",
   "execution_count": 5,
   "metadata": {},
   "outputs": [
    {
     "data": {
      "text/plain": [
       "{ numeros: [ 1, 2, 3 ] }"
      ]
     },
     "execution_count": 5,
     "metadata": {},
     "output_type": "execute_result"
    }
   ],
   "source": [
    "numeros"
   ]
  },
  {
   "cell_type": "code",
   "execution_count": 7,
   "metadata": {},
   "outputs": [
    {
     "name": "stdout",
     "output_type": "stream",
     "text": [
      "numeros\n"
     ]
    }
   ],
   "source": [
    "for (var x in numeros) {\n",
    "    console.log(x);\n",
    "  }"
   ]
  },
  {
   "cell_type": "code",
   "execution_count": 11,
   "metadata": {},
   "outputs": [
    {
     "name": "stdout",
     "output_type": "stream",
     "text": [
      "0\n",
      "1\n",
      "2\n",
      "3\n",
      "4\n",
      "5\n",
      "6\n",
      "7\n",
      "8\n"
     ]
    }
   ],
   "source": [
    "var num = [1,2,3,4,5,6,7,8,9]\n",
    "for (var x in num) {\n",
    "    console.log(x);\n",
    "  }"
   ]
  },
  {
   "cell_type": "markdown",
   "metadata": {},
   "source": [
    "## Bucles For of\n",
    "\n",
    "La declaración de JavaScript for ofrecorre los valores de un objeto iterable.\n",
    "\n",
    "Le permite recorrer estructuras de datos iterables como Arrays, Strings, Maps, NodeLists y más:"
   ]
  },
  {
   "cell_type": "code",
   "execution_count": 22,
   "metadata": {},
   "outputs": [
    {
     "name": "stdout",
     "output_type": "stream",
     "text": [
      "1\n",
      "2\n",
      "3\n",
      "4\n",
      "5\n",
      "6\n",
      "7\n",
      "8\n",
      "9\n"
     ]
    }
   ],
   "source": [
    "for (i of num) {\n",
    "    console.log(i);\n",
    "  }"
   ]
  },
  {
   "cell_type": "code",
   "execution_count": 23,
   "metadata": {},
   "outputs": [
    {
     "name": "stdout",
     "output_type": "stream",
     "text": [
      "e\n",
      "m\n",
      "i\n",
      "l\n",
      "i\n",
      "a\n",
      "n\n",
      "o\n"
     ]
    }
   ],
   "source": [
    "for (i of \"emiliano\") {\n",
    "    console.log(i);\n",
    "  }"
   ]
  },
  {
   "cell_type": "code",
   "execution_count": 27,
   "metadata": {},
   "outputs": [
    {
     "ename": "TypeError",
     "evalue": "person is not iterable",
     "output_type": "error",
     "traceback": [
      "evalmachine.<anonymous>:1",
      "for (i of person) {",
      "          ^",
      "",
      "TypeError: person is not iterable",
      "    at evalmachine.<anonymous>:1:11",
      "    at ContextifyScript.Script.runInThisContext (vm.js:50:33)",
      "    at Object.runInThisContext (vm.js:139:38)",
      "    at run ([eval]:1020:15)",
      "    at onRunRequest ([eval]:864:18)",
      "    at onMessage ([eval]:828:13)",
      "    at emitTwo (events.js:126:13)",
      "    at process.emit (events.js:214:7)",
      "    at emit (internal/child_process.js:772:12)",
      "    at _combinedTickCallback (internal/process/next_tick.js:141:11)"
     ]
    }
   ],
   "source": [
    "for (i of person) {\n",
    "    console.log(i);\n",
    "  }"
   ]
  },
  {
   "cell_type": "code",
   "execution_count": null,
   "metadata": {},
   "outputs": [],
   "source": []
  },
  {
   "cell_type": "code",
   "execution_count": null,
   "metadata": {},
   "outputs": [],
   "source": []
  },
  {
   "cell_type": "code",
   "execution_count": 19,
   "metadata": {},
   "outputs": [],
   "source": [
    "// Create a Map\n",
    "const fru = new Map([\n",
    "  [\"apples\", 500],\n",
    "  [\"bananas\", 300],\n",
    "  [\"oranges\", 200]\n",
    "]);\n"
   ]
  },
  {
   "cell_type": "markdown",
   "metadata": {},
   "source": []
  },
  {
   "cell_type": "code",
   "execution_count": 20,
   "metadata": {},
   "outputs": [
    {
     "data": {
      "text/plain": [
       "Map { 'apples' => 500, 'bananas' => 300, 'oranges' => 200 }"
      ]
     },
     "execution_count": 20,
     "metadata": {},
     "output_type": "execute_result"
    }
   ],
   "source": [
    "fru"
   ]
  },
  {
   "cell_type": "markdown",
   "metadata": {},
   "source": [
    "# Bucles While\n",
    "\n",
    "El ciclo while recorre un bloque de código siempre que una condición específica sea verdadera."
   ]
  },
  {
   "cell_type": "markdown",
   "metadata": {},
   "source": []
  },
  {
   "cell_type": "code",
   "execution_count": 1,
   "metadata": {},
   "outputs": [
    {
     "name": "stdout",
     "output_type": "stream",
     "text": [
      "1\n",
      "2\n",
      "3\n",
      "4\n",
      "5\n",
      "Counting completed!\n"
     ]
    }
   ],
   "source": [
    "var i = 1;\n",
    "while (i < 6) {\n",
    "    console.log(i);\n",
    "    i++;\n",
    "};\n",
    "console.log('Counting completed!');"
   ]
  },
  {
   "cell_type": "code",
   "execution_count": 2,
   "metadata": {},
   "outputs": [
    {
     "name": "stdout",
     "output_type": "stream",
     "text": [
      "5\n",
      "4\n",
      "3\n",
      "2\n",
      "1\n",
      "Counting completed!\n"
     ]
    }
   ],
   "source": [
    "var i = 5;\n",
    "while (i > 0) {\n",
    "    console.log(i);\n",
    "    i = i - 1;\n",
    "};\n",
    "console.log('Counting completed!');"
   ]
  },
  {
   "cell_type": "code",
   "execution_count": 15,
   "metadata": {},
   "outputs": [
    {
     "name": "stdout",
     "output_type": "stream",
     "text": [
      "1930\n",
      "1934\n",
      "1938\n",
      "1942\n",
      "1946\n",
      "1950\n",
      "1954\n",
      "1958\n",
      "1962\n",
      "1966\n",
      "1970\n",
      "1974\n",
      "Argentina\n",
      "1982\n",
      "Argentina\n",
      "1990\n",
      "1994\n",
      "1998\n",
      "2002\n",
      "2006\n",
      "2010\n",
      "2014\n",
      "2018\n",
      "2022\n"
     ]
    }
   ],
   "source": [
    "var year = 1929;\n",
    "while (year <= 2022){\n",
    "    year++;\n",
    "    if (year % 4 !=2) {continue}\n",
    "    else if (year == 1978 || year == 1986) {console.log(\"Argentina\")}\n",
    "    else {console.log(year)}\n",
    "                        }"
   ]
  },
  {
   "cell_type": "markdown",
   "metadata": {},
   "source": [
    "# Ejercicios"
   ]
  },
  {
   "cell_type": "code",
   "execution_count": 17,
   "metadata": {},
   "outputs": [
    {
     "name": "stdout",
     "output_type": "stream",
     "text": [
      "Gold medal\n",
      "Silver medal\n",
      "Bronze medal\n",
      "4\n",
      "5\n",
      "6\n",
      "7\n",
      "8\n",
      "9\n",
      "10\n"
     ]
    }
   ],
   "source": [
    "for (var i = 1; i <= 10; i++) {\n",
    "    if(i == 1) {\n",
    "        console.log(\"Gold medal\")\n",
    "    } else if (i == 2) {\n",
    "        console.log(\"Silver medal\")\n",
    "    } else if (i == 3) {\n",
    "        console.log(\"Bronze medal\")\n",
    "    } else {\n",
    "        console.log(i)\n",
    "    }\n",
    "}"
   ]
  },
  {
   "cell_type": "code",
   "execution_count": 18,
   "metadata": {},
   "outputs": [
    {
     "name": "stdout",
     "output_type": "stream",
     "text": [
      "Gold medal\n",
      "Silver medal\n",
      "Bronze medal\n",
      "4\n",
      "5\n",
      "6\n",
      "7\n",
      "8\n",
      "9\n",
      "10\n"
     ]
    }
   ],
   "source": [
    "for (var i = 1; i <= 10; i++) {\n",
    "    if(i == 1) {\n",
    "        console.log(\"Gold medal\")\n",
    "    } else if (i == 2) {\n",
    "        console.log(\"Silver medal\")\n",
    "    } else if (i == 3) {\n",
    "        console.log(\"Bronze medal\")\n",
    "    } else {\n",
    "        console.log(i)\n",
    "    }\n",
    "}"
   ]
  },
  {
   "cell_type": "code",
   "execution_count": 20,
   "metadata": {},
   "outputs": [
    {
     "name": "stdout",
     "output_type": "stream",
     "text": [
      "Hello\n"
     ]
    }
   ],
   "source": [
    "var i = 3\n",
    "  if(i < 5) {\n",
    "    console.log(\"Hello\");\n",
    "  } else {\n",
    "    console.log(\"Goodbye\");\n",
    "  }"
   ]
  },
  {
   "cell_type": "code",
   "execution_count": 21,
   "metadata": {},
   "outputs": [
    {
     "name": "stdout",
     "output_type": "stream",
     "text": [
      "Goodbye\n"
     ]
    }
   ],
   "source": [
    "\n",
    "  if(i == 0 && i == 1) {\n",
    "    console.log(\"Hello\");\n",
    "  } else {\n",
    "    console.log(\"Goodbye\");\n",
    "  }"
   ]
  },
  {
   "cell_type": "code",
   "execution_count": 22,
   "metadata": {},
   "outputs": [
    {
     "name": "stdout",
     "output_type": "stream",
     "text": [
      "Hello\n",
      "Hello\n"
     ]
    }
   ],
   "source": [
    "for (i = 0; i < 2; i++) {\n",
    "    console.log(\"Hello\");\n",
    "}"
   ]
  },
  {
   "cell_type": "code",
   "execution_count": 23,
   "metadata": {},
   "outputs": [
    {
     "name": "stdout",
     "output_type": "stream",
     "text": [
      "Hello\n",
      "Hello\n",
      "Hello\n"
     ]
    },
    {
     "data": {
      "text/plain": [
       "2"
      ]
     },
     "execution_count": 23,
     "metadata": {},
     "output_type": "execute_result"
    }
   ],
   "source": [
    "var i = 0;\n",
    "  while(i < 3) {\n",
    "    console.log(\"Hello\");\n",
    "    i++;\n",
    "  }"
   ]
  },
  {
   "cell_type": "code",
   "execution_count": 25,
   "metadata": {},
   "outputs": [
    {
     "name": "stdout",
     "output_type": "stream",
     "text": [
      "Hello\n",
      "Hello\n",
      "Hello\n",
      "Hello\n",
      "Hello\n",
      "Hello\n"
     ]
    }
   ],
   "source": [
    "for (i = 0; i < 2; i++) {\n",
    "    for (var j = 0; j < 3; j++) {\n",
    "        console.log(\"Hello\");\n",
    "    }\n",
    "}\n"
   ]
  },
  {
   "cell_type": "code",
   "execution_count": 26,
   "metadata": {},
   "outputs": [
    {
     "name": "stdout",
     "output_type": "stream",
     "text": [
      "Goodnight\n"
     ]
    }
   ],
   "source": [
    "var i = 7\n",
    "if(i <= 5) {\n",
    "    console.log(\"Hello\");\n",
    "  } else if(i <= 10) {\n",
    "    console.log(\"Goodnight\");\n",
    "  } else {\n",
    "    console.log(\"Goodbye\");\n",
    "  }"
   ]
  },
  {
   "cell_type": "code",
   "execution_count": 29,
   "metadata": {},
   "outputs": [
    {
     "name": "stdout",
     "output_type": "stream",
     "text": [
      "Goodbye\n"
     ]
    }
   ],
   "source": [
    "var i = 3\n",
    "switch(i) {\n",
    "    case 1:\n",
    "      console.log(\"Hello\");\n",
    "      break;\n",
    "    case 2:\n",
    "      console.log(\"Goodnight\");\n",
    "      break;\n",
    "    case 3:\n",
    "      console.log(\"Goodbye\");\n",
    "      break;\n",
    "  }\n"
   ]
  },
  {
   "cell_type": "code",
   "execution_count": 30,
   "metadata": {},
   "outputs": [
    {
     "name": "stdout",
     "output_type": "stream",
     "text": [
      "Hello\n"
     ]
    }
   ],
   "source": [
    "var i = 3;\n",
    "  if(i == 2 || i == 3) {\n",
    "    console.log(\"Hello\");\n",
    "  } else {\n",
    "    console.log(\"Goodbye\");\n",
    "  }"
   ]
  },
  {
   "cell_type": "code",
   "execution_count": 1,
   "metadata": {},
   "outputs": [
    {
     "name": "stdout",
     "output_type": "stream",
     "text": [
      "Hello\n",
      "Hello\n",
      "Hello\n"
     ]
    },
    {
     "data": {
      "text/plain": [
       "2"
      ]
     },
     "execution_count": 1,
     "metadata": {},
     "output_type": "execute_result"
    }
   ],
   "source": [
    "var i = 0;\n",
    "while(i < 3) {\n",
    "  console.log(\"Hello\");\n",
    "  i++;\n",
    "}"
   ]
  },
  {
   "cell_type": "code",
   "execution_count": null,
   "metadata": {},
   "outputs": [],
   "source": []
  }
 ],
 "metadata": {
  "kernelspec": {
   "display_name": "JavaScript (Node.js)",
   "language": "javascript",
   "name": "javascript"
  },
  "language_info": {
   "file_extension": ".js",
   "mimetype": "application/javascript",
   "name": "javascript",
   "version": "8.10.0"
  },
  "orig_nbformat": 4
 },
 "nbformat": 4,
 "nbformat_minor": 2
}
