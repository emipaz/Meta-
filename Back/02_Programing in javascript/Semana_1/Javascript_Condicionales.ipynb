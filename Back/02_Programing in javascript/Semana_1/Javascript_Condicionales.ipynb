{
 "cells": [
  {
   "cell_type": "markdown",
   "metadata": {},
   "source": [
    "# Condicionales en Javascipt"
   ]
  },
  {
   "cell_type": "markdown",
   "metadata": {},
   "source": [
    "## if else "
   ]
  },
  {
   "cell_type": "code",
   "execution_count": 5,
   "metadata": {},
   "outputs": [
    {
     "name": "stdout",
     "output_type": "stream",
     "text": [
      "el valor 50 es mayor que 0\n"
     ]
    }
   ],
   "source": [
    "var x = 50;\n",
    "\n",
    "if (x > 0)                                        {\n",
    "    console.log(`el valor ${x} es mayor que 0`)   }\n",
    "else                                              {\n",
    "    console.log(`el valor ${x} es manor que 0`)   };\n",
    "\n",
    "\n",
    "\n"
   ]
  },
  {
   "cell_type": "code",
   "execution_count": 6,
   "metadata": {},
   "outputs": [
    {
     "name": "stdout",
     "output_type": "stream",
     "text": [
      "Hot food\n"
     ]
    }
   ],
   "source": [
    "var food = \"hot\";\n",
    "\n",
    "if (food == \"hot\")              {\n",
    "    console.log(\"Hot food\")     }\n",
    "else if (food == \"cool\")        {\n",
    "    console.log(\"Cool food\")    }\n",
    "else                            {\n",
    "    console.log(\"Just right\")   };"
   ]
  },
  {
   "cell_type": "markdown",
   "metadata": {},
   "source": [
    "## Switch case"
   ]
  },
  {
   "cell_type": "markdown",
   "metadata": {},
   "source": []
  },
  {
   "cell_type": "code",
   "execution_count": 14,
   "metadata": {},
   "outputs": [
    {
     "name": "stdout",
     "output_type": "stream",
     "text": [
      "Default\n"
     ]
    }
   ],
   "source": [
    "var place = \"second\"              ;\n",
    "\n",
    "switch (place)                   {\n",
    "    case \"first\":\n",
    "        console.log(\"Gold\")       ;\n",
    "        break                     ;\n",
    "    case \"second\":\n",
    "        console.log(\"Silver\")     ;\n",
    "        break                     ;\n",
    "    case \"third\":\n",
    "        console.log(\"Bronce\")      ;\n",
    "        break                      ;\n",
    "    default:\n",
    "        console.log(\"Default\")     ;}"
   ]
  },
  {
   "cell_type": "code",
   "execution_count": 15,
   "metadata": {},
   "outputs": [],
   "source": [
    "var light = \"red\""
   ]
  },
  {
   "cell_type": "code",
   "execution_count": 21,
   "metadata": {},
   "outputs": [
    {
     "name": "stdout",
     "output_type": "stream",
     "text": [
      "Dont' drive\n"
     ]
    }
   ],
   "source": [
    "if (light == \"green\")                                    {\n",
    "    console.log(\"Drive\")                                 }\n",
    "else if (light == \"orange\")                              {\n",
    "    console.log(\"Get ready\")                             }\n",
    "else if (light == \"red\")                                 {\n",
    "    console.log(\"Dont' drive\")                           } \n",
    "else                                                     {\n",
    "    console.log(\"The car is not green, orange, or red\")  ;}"
   ]
  },
  {
   "cell_type": "code",
   "execution_count": 20,
   "metadata": {},
   "outputs": [
    {
     "name": "stdout",
     "output_type": "stream",
     "text": [
      "Don't drive\n"
     ]
    }
   ],
   "source": [
    "switch(light)                                                     {\n",
    "    case 'green'                                                  :\n",
    "        console.log(\"Drive\")                                      ;\n",
    "        break                                                     ;\n",
    "    case 'orange'                                                 :\n",
    "        console.log(\"Get ready\")                                  ;\n",
    "        break                                                     ;\n",
    "    case 'red'                                                    :\n",
    "        console.log(\"Don't drive\")                                ;\n",
    "        break                                                     ;\n",
    "    default                                                       :\n",
    "        console.log('The light is not green, orange, or red')     ;\n",
    "        break                                                     ;}"
   ]
  },
  {
   "cell_type": "code",
   "execution_count": 23,
   "metadata": {},
   "outputs": [
    {
     "name": "stdout",
     "output_type": "stream",
     "text": [
      "You get an allowance\n"
     ]
    }
   ],
   "source": [
    "var age = 10;\n",
    "\n",
    "if (age >= 65) {\n",
    "    console.log('You get your income from your pension')}\n",
    "else if (age < 65 && age >= 18) {\n",
    "    console.log('Each month you get a salary')}\n",
    "else if (age < 18) {\n",
    "    console.log('You get an allowance')}\n",
    "else {\n",
    "    console.log('The value of the age variable is not numerical')}"
   ]
  },
  {
   "cell_type": "code",
   "execution_count": 26,
   "metadata": {},
   "outputs": [
    {
     "name": "stdout",
     "output_type": "stream",
     "text": [
      "Have barbecue\n"
     ]
    }
   ],
   "source": [
    "var day = `Sunday`;\n",
    "switch(day) {\n",
    "   case 'Monday':\n",
    "       console.log('Read a book');\n",
    "       break;\n",
    "   case 'Tuesday':\n",
    "       console.log('Watch a movie');\n",
    "       break;\n",
    "   case 'Wednesday':\n",
    "       console.log('Read a book');\n",
    "       break;\n",
    "   case 'Thursday':\n",
    "       console.log('Play basketball');\n",
    "       break;\n",
    "   case 'Friday':\n",
    "       console.log('Socialize');\n",
    "       break;\n",
    "   case 'Saturday':\n",
    "       console.log('Chill');\n",
    "       break;\n",
    "   case 'Sunday':\n",
    "       console.log('Have barbecue');\n",
    "       break;\n",
    "   default:\n",
    "       console.log('There is no such day');}"
   ]
  },
  {
   "cell_type": "code",
   "execution_count": null,
   "metadata": {},
   "outputs": [],
   "source": []
  }
 ],
 "metadata": {
  "kernelspec": {
   "display_name": "JavaScript (Node.js)",
   "language": "javascript",
   "name": "javascript"
  },
  "language_info": {
   "file_extension": ".js",
   "mimetype": "application/javascript",
   "name": "javascript",
   "version": "8.10.0"
  },
  "orig_nbformat": 4
 },
 "nbformat": 4,
 "nbformat_minor": 2
}
