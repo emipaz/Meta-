{
 "cells": [
  {
   "cell_type": "markdown",
   "metadata": {},
   "source": [
    "# Hola Javascript"
   ]
  },
  {
   "cell_type": "code",
   "execution_count": 6,
   "metadata": {},
   "outputs": [
    {
     "name": "stdout",
     "output_type": "stream",
     "text": [
      "hola Javascript\n"
     ]
    }
   ],
   "source": [
    "console.log(\"hola Javascript\")"
   ]
  },
  {
   "cell_type": "markdown",
   "metadata": {},
   "source": [
    "# Comentarios de javascript"
   ]
  },
  {
   "cell_type": "code",
   "execution_count": 3,
   "metadata": {},
   "outputs": [
    {
     "name": "stdout",
     "output_type": "stream",
     "text": [
      "// this is a comment! es un comentario de una linea\n"
     ]
    }
   ],
   "source": [
    "// this is a comment!\n",
    "console.log(\"// this is a comment!\", \"es un comentario de una linea\")\n",
    "/*\n",
    "this\n",
    "is\n",
    "a\n",
    "multi-line\n",
    "comment\n",
    "*/"
   ]
  },
  {
   "cell_type": "markdown",
   "metadata": {},
   "source": [
    "# Variables"
   ]
  },
  {
   "cell_type": "code",
   "execution_count": 10,
   "metadata": {},
   "outputs": [],
   "source": [
    "var variable  // definimos una variable sin valor alguno\n",
    "\n",
    "variable // en la jupyter no me muestra nadad "
   ]
  },
  {
   "cell_type": "code",
   "execution_count": 11,
   "metadata": {},
   "outputs": [
    {
     "name": "stdout",
     "output_type": "stream",
     "text": [
      "undefined\n"
     ]
    }
   ],
   "source": [
    "console.log(variable) // vemos que el valor de la variable esta sin definir"
   ]
  },
  {
   "cell_type": "code",
   "execution_count": 14,
   "metadata": {},
   "outputs": [],
   "source": [
    "var nombre = \"Emiliano\""
   ]
  },
  {
   "cell_type": "code",
   "execution_count": 17,
   "metadata": {},
   "outputs": [
    {
     "name": "stdout",
     "output_type": "stream",
     "text": [
      "Emiliano\n"
     ]
    },
    {
     "data": {
      "text/plain": [
       "20"
      ]
     },
     "execution_count": 17,
     "metadata": {},
     "output_type": "execute_result"
    }
   ],
   "source": [
    "nombre\n",
    "console.log(nombre)\n",
    "10 + 10"
   ]
  },
  {
   "cell_type": "code",
   "execution_count": 19,
   "metadata": {},
   "outputs": [
    {
     "name": "stdout",
     "output_type": "stream",
     "text": [
      "Rex\n",
      "Pepper\n",
      "El nombre de mi perro es:  Rex\n",
      "El nombre de mi gato es: Pepper\n",
      "Rex says guau\n",
      "Pepper dice ronroneo\n",
      "Pepper ahora dice miau\n"
     ]
    }
   ],
   "source": [
    "var petDog = \"Rex\"                                      ;\n",
    "var petCat = \"Pepper\"                                   ;\n",
    "console.log(petDog)                                     ;\n",
    "console.log(petCat)                                     ;\n",
    "console.log(\"El nombre de mi perro es: \" ,petDog)       ;\n",
    "console.log(\"El nombre de mi gato es:\", petCat)         ;\n",
    "var catSound = \"ronroneo\"; var dogSound = \"guau\"        ;\n",
    "console.log (petDog,  \"says\" , dogSound )               ;\n",
    "console.log (petCat , \"dice\" , catSound )               ;\n",
    "catSound = \"miau\"                                       ;\n",
    "console.log (petCat , \"ahora dice\" , catSound )         ;"
   ]
  },
  {
   "cell_type": "markdown",
   "metadata": {},
   "source": [
    "# Data types"
   ]
  },
  {
   "cell_type": "code",
   "execution_count": 31,
   "metadata": {},
   "outputs": [],
   "source": [
    "var string = \"Un string\"\n",
    "var numero = 10\n",
    "var decimal = 10.0"
   ]
  },
  {
   "cell_type": "code",
   "execution_count": 43,
   "metadata": {},
   "outputs": [
    {
     "name": "stdout",
     "output_type": "stream",
     "text": [
      "Un string string\n",
      "10 'number'\n",
      "10 'number'\n",
      "true 'boolean'\n",
      "false 'boolean'\n",
      "null 'object'\n"
     ]
    }
   ],
   "source": [
    "console.log(string ,typeof(string))    ;\n",
    "console.log(numero ,typeof(numero))    ;\n",
    "console.log(decimal,typeof(decimal))   ;\n",
    "console.log(true   ,typeof(true))      ;\n",
    "console.log(false  ,typeof(false))     ;\n",
    "console.log(null   ,typeof(null))      ;"
   ]
  },
  {
   "cell_type": "markdown",
   "metadata": {},
   "source": [
    "## Operadores"
   ]
  },
  {
   "cell_type": "markdown",
   "metadata": {},
   "source": [
    "|Operator|Descripcion|\n",
    "|:--------:|:-----------:|\n",
    "|+|\tAdicion|\n",
    "|-\t|Subtraccion|\n",
    "|*\t|Multiplicacion|\n",
    "|**\t|Potencia (ES2016)|\n",
    "|/\t|Division|\n",
    "|%\t|Modulo (Remainder)|\n",
    "|++\t|Increment|\n",
    "|--\t|Decrement|"
   ]
  },
  {
   "cell_type": "code",
   "execution_count": 44,
   "metadata": {},
   "outputs": [
    {
     "data": {
      "text/plain": [
       "3.3333333333333335"
      ]
     },
     "execution_count": 44,
     "metadata": {},
     "output_type": "execute_result"
    }
   ],
   "source": [
    "10 / 3"
   ]
  },
  {
   "cell_type": "code",
   "execution_count": 46,
   "metadata": {},
   "outputs": [
    {
     "data": {
      "text/plain": [
       "1"
      ]
     },
     "execution_count": 46,
     "metadata": {},
     "output_type": "execute_result"
    }
   ],
   "source": [
    "10 % 3"
   ]
  },
  {
   "cell_type": "code",
   "execution_count": 47,
   "metadata": {},
   "outputs": [
    {
     "data": {
      "text/plain": [
       "1.4142135623730951"
      ]
     },
     "execution_count": 47,
     "metadata": {},
     "output_type": "execute_result"
    }
   ],
   "source": [
    "2 ** (1/2) // raiz cuadrada"
   ]
  },
  {
   "cell_type": "code",
   "execution_count": 52,
   "metadata": {},
   "outputs": [
    {
     "name": "stdout",
     "output_type": "stream",
     "text": [
      "1\n",
      "0\n"
     ]
    }
   ],
   "source": [
    "/* en esta celda generamos una variable y le incrementamos y despues lo descontar*/\n",
    "var a = 0 \n",
    "a++\n",
    "console.log(a)\n",
    "a--\n",
    "console.log(a)"
   ]
  },
  {
   "cell_type": "markdown",
   "metadata": {},
   "source": [
    "## Asignaciones\n",
    "\n",
    "|Operador|Ejemplo|Igaul a|\n",
    "|:------:|:-----:|:-----:|\n",
    "|= |\t  x = y| x = y |\n",
    "|+=|\tx += y\t|x = x + y|\n",
    "|-=|\tx -= y\t|x = x - y|\n",
    "|*=|\tx *= y\t|x = x * y|\n",
    "|/=|\tx /= y\t|x = x / y|\n",
    "|%=|\tx %= y\t|x = x % y|\n",
    "|**=|\tx **= y\t|x = x ** y|\n"
   ]
  },
  {
   "cell_type": "code",
   "execution_count": 63,
   "metadata": {},
   "outputs": [
    {
     "data": {
      "text/plain": [
       "20"
      ]
     },
     "execution_count": 63,
     "metadata": {},
     "output_type": "execute_result"
    }
   ],
   "source": [
    "var x = 10\n",
    "x *=2\n",
    "\n",
    "x"
   ]
  },
  {
   "cell_type": "markdown",
   "metadata": {},
   "source": [
    "## Operadodes de Comparacion\n",
    "\n",
    "|Operador|Descripcion|Ejemplo|\n",
    "|:------:|:-----:|:-----:|\n",
    "|>|Mayor|3 > 2|\n",
    "|>=|Mayor igual| 3 >= 2|\n",
    "|<|Menor|2 < 3 |\n",
    "|<=|Menor igual| 2 <= 3|\n",
    "|==|Igual| 5 == 5 |\n",
    "|!=|Distinto| 5 != 6|\n",
    "|===|igualdad estricta| \"5\" === 5|\n",
    "|!==|desigualdad estricta| \"5\" !== 5|"
   ]
  },
  {
   "cell_type": "code",
   "execution_count": 65,
   "metadata": {},
   "outputs": [
    {
     "data": {
      "text/plain": [
       "true"
      ]
     },
     "execution_count": 65,
     "metadata": {},
     "output_type": "execute_result"
    }
   ],
   "source": [
    "x <= 20 "
   ]
  },
  {
   "cell_type": "code",
   "execution_count": 72,
   "metadata": {},
   "outputs": [
    {
     "name": "stdout",
     "output_type": "stream",
     "text": [
      "'5' == 5 true\n",
      "'5' === 5 false\n"
     ]
    }
   ],
   "source": [
    "console.log(\"'5' == 5\", \"5\" == 5)\n",
    "console.log(\"'5' === 5\", \"5\" === 5)"
   ]
  },
  {
   "cell_type": "markdown",
   "metadata": {},
   "source": [
    "## Operedores Logicos\n",
    "\n",
    "|Operador|Descripcion|Ejemplo|\n",
    "|:------:|:-----:|:-----:|\n",
    "|&&| And | a > 5 && a < 10 |\n",
    "| \\|\\| | Or | a > 5 \\|\\| a < 10|\n",
    "| ! | Not | !(a > 5)|"
   ]
  },
  {
   "cell_type": "code",
   "execution_count": 66,
   "metadata": {},
   "outputs": [
    {
     "data": {
      "text/plain": [
       "true"
      ]
     },
     "execution_count": 66,
     "metadata": {},
     "output_type": "execute_result"
    }
   ],
   "source": [
    "x <= 20 && x > 0"
   ]
  },
  {
   "cell_type": "code",
   "execution_count": 68,
   "metadata": {},
   "outputs": [
    {
     "data": {
      "text/plain": [
       "true"
      ]
     },
     "execution_count": 68,
     "metadata": {},
     "output_type": "execute_result"
    }
   ],
   "source": [
    "x < 20 || x > 0"
   ]
  },
  {
   "cell_type": "code",
   "execution_count": 69,
   "metadata": {},
   "outputs": [
    {
     "data": {
      "text/plain": [
       "false"
      ]
     },
     "execution_count": 69,
     "metadata": {},
     "output_type": "execute_result"
    }
   ],
   "source": [
    "!(x < 20 || x > 0)"
   ]
  },
  {
   "cell_type": "code",
   "execution_count": 70,
   "metadata": {},
   "outputs": [
    {
     "data": {
      "text/plain": [
       "true"
      ]
     },
     "execution_count": 70,
     "metadata": {},
     "output_type": "execute_result"
    }
   ],
   "source": [
    "false || true"
   ]
  },
  {
   "cell_type": "code",
   "execution_count": 59,
   "metadata": {},
   "outputs": [
    {
     "data": {
      "text/plain": [
       "true"
      ]
     },
     "execution_count": 59,
     "metadata": {},
     "output_type": "execute_result"
    }
   ],
   "source": [
    "3 >= 2"
   ]
  },
  {
   "cell_type": "code",
   "execution_count": 73,
   "metadata": {},
   "outputs": [
    {
     "name": "stdout",
     "output_type": "stream",
     "text": [
      "true\n"
     ]
    }
   ],
   "source": [
    "var currentTime = 7;\n",
    "console.log(currentTime < 9 || currentTime > 17);"
   ]
  },
  {
   "cell_type": "code",
   "execution_count": 74,
   "metadata": {},
   "outputs": [
    {
     "name": "stdout",
     "output_type": "stream",
     "text": [
      "true\n"
     ]
    }
   ],
   "source": [
    "var currentTime = 7;\n",
    "console.log(true || false);"
   ]
  },
  {
   "cell_type": "code",
   "execution_count": 84,
   "metadata": {},
   "outputs": [
    {
     "name": "stdout",
     "output_type": "stream",
     "text": [
      "true\n",
      "false\n"
     ]
    }
   ],
   "source": [
    "var petHungry = true;\n",
    "console.log(petHungry)\n",
    "petHungry = !petHungry;\n",
    "console.log(petHungry)"
   ]
  },
  {
   "cell_type": "code",
   "execution_count": 98,
   "metadata": {},
   "outputs": [
    {
     "name": "stdout",
     "output_type": "stream",
     "text": [
      "los años tienen 12 meses1 igual a 365 dias\n"
     ]
    }
   ],
   "source": [
    "// javascript permite la concatenacion de string con numeros\n",
    "\n",
    "var dias = 365 + \" dias\" // \"365 days\"\n",
    "var meses = 12 + \" meses\" // \"12 months\"\n",
    "console.log(`los años tienen ${meses} igual a ${dias}`) // utilizando `` las comillas invertidas "
   ]
  },
  {
   "cell_type": "code",
   "execution_count": 101,
   "metadata": {},
   "outputs": [
    {
     "name": "stdout",
     "output_type": "stream",
     "text": [
      "los años tienen 12 meses igual a 365 dias\n"
     ]
    }
   ],
   "source": [
    "diez = 10\n",
    "console.log(`los años tienen ${diez+2} meses igual a ${diez * 35 + 15} dias`)"
   ]
  },
  {
   "cell_type": "code",
   "execution_count": 86,
   "metadata": {},
   "outputs": [
    {
     "data": {
      "text/plain": [
       "NaN"
      ]
     },
     "execution_count": 86,
     "metadata": {},
     "output_type": "execute_result"
    }
   ],
   "source": [
    "// pero no tiene la operacion de multiplicacion\n",
    "\"f\" * 6"
   ]
  },
  {
   "cell_type": "code",
   "execution_count": 1,
   "metadata": {},
   "outputs": [
    {
     "name": "stdout",
     "output_type": "stream",
     "text": [
      "Mid-level skills: true\n"
     ]
    }
   ],
   "source": [
    "var score = 8;\n",
    "console.log(\"Mid-level skills:\", score > 0 && score < 10)"
   ]
  },
  {
   "cell_type": "code",
   "execution_count": 2,
   "metadata": {},
   "outputs": [
    {
     "name": "stdout",
     "output_type": "stream",
     "text": [
      "Game over: true\n"
     ]
    }
   ],
   "source": [
    "var timeRemaining = 0;\n",
    "var energy = 10;\n",
    "console.log(\"Game over:\", timeRemaining == 0 || energy == 0);"
   ]
  },
  {
   "cell_type": "code",
   "execution_count": 3,
   "metadata": {},
   "outputs": [
    {
     "name": "stdout",
     "output_type": "stream",
     "text": [
      "Is 2 an even number? true\n",
      "Is 5 an even number? false\n"
     ]
    }
   ],
   "source": [
    "var num1 = 2;\n",
    "var num2 = 5;\n",
    "var test1 = num1 % 2;\n",
    "var test2 = num2 % 2;\n",
    "var result1 = test1 == 0;\n",
    "var result2 = test2 == 0;\n",
    "console.log(\"Is\", num1, \"an even number?\", result1);\n",
    "console.log(\"Is\", num2, \"an even number?\", result2);"
   ]
  },
  {
   "cell_type": "code",
   "execution_count": 4,
   "metadata": {},
   "outputs": [
    {
     "name": "stdout",
     "output_type": "stream",
     "text": [
      "15\n"
     ]
    }
   ],
   "source": [
    "console.log(5 + 10); // 15"
   ]
  },
  {
   "cell_type": "code",
   "execution_count": 5,
   "metadata": {},
   "outputs": [
    {
     "name": "stdout",
     "output_type": "stream",
     "text": [
      "Now in 3D!\n"
     ]
    }
   ],
   "source": [
    "var now = \"Now in \";\n",
    "var three = 3;\n",
    "var d = \"D!\"\n",
    "console.log(now + three + d); // \"Now in 3D!\""
   ]
  },
  {
   "cell_type": "code",
   "execution_count": 6,
   "metadata": {},
   "outputs": [
    {
     "name": "stdout",
     "output_type": "stream",
     "text": [
      "8\n"
     ]
    }
   ],
   "source": [
    "var counter = 0;\n",
    "counter += 5;\n",
    "counter += 3;\n",
    "console.log(counter); // 8"
   ]
  },
  {
   "cell_type": "code",
   "execution_count": null,
   "metadata": {},
   "outputs": [],
   "source": []
  }
 ],
 "metadata": {
  "kernelspec": {
   "display_name": "JavaScript (Node.js)",
   "language": "javascript",
   "name": "javascript"
  },
  "language_info": {
   "file_extension": ".js",
   "mimetype": "application/javascript",
   "name": "javascript",
   "version": "8.10.0"
  },
  "orig_nbformat": 4
 },
 "nbformat": 4,
 "nbformat_minor": 2
}
