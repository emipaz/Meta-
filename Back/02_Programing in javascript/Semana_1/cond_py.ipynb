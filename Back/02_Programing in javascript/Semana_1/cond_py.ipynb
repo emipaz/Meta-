{
 "cells": [
  {
   "cell_type": "code",
   "execution_count": 6,
   "metadata": {},
   "outputs": [],
   "source": [
    "light = \"red\""
   ]
  },
  {
   "cell_type": "code",
   "execution_count": 7,
   "metadata": {},
   "outputs": [
    {
     "name": "stdout",
     "output_type": "stream",
     "text": [
      "Dont' drive\n"
     ]
    }
   ],
   "source": [
    "if (light == \"green\"):\n",
    "    print(\"Drive\")\n",
    "elif (light == \"orange\"):\n",
    "    print(\"Get ready\")\n",
    "elif (light == \"red\"):\n",
    "    print(\"Dont' drive\")\n",
    "else:\n",
    "    print(\"The car is not green, orange, or red\")"
   ]
  },
  {
   "cell_type": "code",
   "execution_count": 8,
   "metadata": {},
   "outputs": [
    {
     "name": "stdout",
     "output_type": "stream",
     "text": [
      "Don't drive\n"
     ]
    }
   ],
   "source": [
    "match light:\n",
    "    case 'green':\n",
    "        print(\"Drive\")    \n",
    "    case 'orange':\n",
    "        print(\"Get ready\")\n",
    "    case 'red':\n",
    "        print(\"Don't drive\")\n",
    "    case _:\n",
    "        print('The light is not green, orange, or red')\n"
   ]
  },
  {
   "cell_type": "code",
   "execution_count": 4,
   "metadata": {},
   "outputs": [],
   "source": [
    "text = \"Please visit Microsoft and Microsoft!\"\n",
    "\n",
    "newText = text.replace(\"Microsoft\",\"w3school\",)"
   ]
  },
  {
   "cell_type": "code",
   "execution_count": 5,
   "metadata": {},
   "outputs": [
    {
     "data": {
      "text/plain": [
       "'Please visit w3school and w3school!'"
      ]
     },
     "execution_count": 5,
     "metadata": {},
     "output_type": "execute_result"
    }
   ],
   "source": [
    "newText"
   ]
  },
  {
   "cell_type": "code",
   "execution_count": 1,
   "metadata": {},
   "outputs": [
    {
     "data": {
      "text/html": [
       "<!DOCTYPE html>\n",
       "<html>\n",
       "<body>\n",
       "<h1>JavaScript Strings</h1>\n",
       "<h2>The matchAll() Method</h2>\n",
       "\n",
       "<p>ES2020 intoduced the string method matchAll().</p>\n",
       "\n",
       "<p id=\"demo\"></p>\n",
       "\n",
       "<script>\n",
       "let text = \"I love cats. Cats are very easy to love. Cats are very popular.\"\n",
       "const iterator = text.matchAll(/Cats/gi);\n",
       "\n",
       "document.getElementById(\"demo\").innerHTML = Array.from(iterator);\n",
       "</script>\n",
       "\n",
       "</body>\n",
       "</html>\n"
      ],
      "text/plain": [
       "<IPython.core.display.HTML object>"
      ]
     },
     "metadata": {},
     "output_type": "display_data"
    }
   ],
   "source": [
    "%%html\n",
    "<!DOCTYPE html>\n",
    "<html>\n",
    "<body>\n",
    "<h1>JavaScript Strings</h1>\n",
    "<h2>The matchAll() Method</h2>\n",
    "\n",
    "<p>ES2020 intoduced the string method matchAll().</p>\n",
    "\n",
    "<p id=\"demo\"></p>\n",
    "\n",
    "<script>\n",
    "let text = \"I love cats. Cats are very easy to love. Cats are very popular.\"\n",
    "const iterator = text.matchAll(/Cats/gi);\n",
    "\n",
    "document.getElementById(\"demo\").innerHTML = Array.from(iterator);\n",
    "</script>\n",
    "\n",
    "</body>\n",
    "</html>"
   ]
  },
  {
   "cell_type": "code",
   "execution_count": null,
   "metadata": {},
   "outputs": [],
   "source": []
  }
 ],
 "metadata": {
  "kernelspec": {
   "display_name": "Python 3.10.8 ('py_10')",
   "language": "python",
   "name": "python3"
  },
  "language_info": {
   "codemirror_mode": {
    "name": "ipython",
    "version": 3
   },
   "file_extension": ".py",
   "mimetype": "text/x-python",
   "name": "python",
   "nbconvert_exporter": "python",
   "pygments_lexer": "ipython3",
   "version": "3.10.8"
  },
  "orig_nbformat": 4,
  "vscode": {
   "interpreter": {
    "hash": "55cb60eccbbe5e3035290745a2cae84577e1caf6e50a24928b13dd413257407c"
   }
  }
 },
 "nbformat": 4,
 "nbformat_minor": 2
}
