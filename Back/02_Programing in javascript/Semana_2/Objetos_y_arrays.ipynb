{
 "cells": [
  {
   "cell_type": "markdown",
   "metadata": {},
   "source": [
    "# Funciones"
   ]
  },
  {
   "cell_type": "code",
   "execution_count": 1,
   "metadata": {},
   "outputs": [],
   "source": [
    "/**\n",
    "retorna la suma de p1 y p2\n",
    "*/\n",
    "function suma(p1, p2) {\n",
    "    return p1 * p2;}\n",
    "\n",
    "\n",
    "/**\n",
    "retorna la resta de p1 y p2\n",
    "*/\n",
    "function resta(p1, p2) {\n",
    "        return p1 - p2;}\n"
   ]
  },
  {
   "cell_type": "code",
   "execution_count": null,
   "metadata": {},
   "outputs": [
    {
     "data": {
      "text/plain": [
       "5"
      ]
     },
     "execution_count": 2,
     "metadata": {},
     "output_type": "execute_result"
    }
   ],
   "source": [
    "resta(10,5)"
   ]
  },
  {
   "cell_type": "code",
   "execution_count": null,
   "metadata": {},
   "outputs": [],
   "source": [
    "var colors = ['red', 'orange', 'yellow', 'green', 'blue', 'purple']"
   ]
  },
  {
   "cell_type": "code",
   "execution_count": null,
   "metadata": {},
   "outputs": [],
   "source": [
    "function listArrayItems(arr) {\n",
    "    for (var i = 0; i < arr.length; i++) {\n",
    "        console.log(arr[i])\n",
    "    }\n",
    "}\n"
   ]
  },
  {
   "cell_type": "code",
   "execution_count": null,
   "metadata": {},
   "outputs": [
    {
     "name": "stdout",
     "output_type": "stream",
     "text": [
      "red\n",
      "orange\n",
      "yellow\n",
      "green\n",
      "blue\n",
      "purple\n"
     ]
    }
   ],
   "source": [
    "listArrayItems(colors);"
   ]
  },
  {
   "cell_type": "code",
   "execution_count": null,
   "metadata": {},
   "outputs": [],
   "source": [
    "function listArrayItems2(arr) {\n",
    "    for (var i in arr) {\n",
    "        console.log(i)\n",
    "    }\n",
    "}"
   ]
  },
  {
   "cell_type": "code",
   "execution_count": null,
   "metadata": {},
   "outputs": [
    {
     "name": "stdout",
     "output_type": "stream",
     "text": [
      "0\n",
      "1\n",
      "2\n",
      "3\n",
      "4\n",
      "5\n"
     ]
    }
   ],
   "source": [
    "listArrayItems2(colors);"
   ]
  },
  {
   "cell_type": "code",
   "execution_count": null,
   "metadata": {},
   "outputs": [],
   "source": [
    "function listArrayItems3(arr) {\n",
    "    for (var i of arr) {\n",
    "        console.log(i)\n",
    "    }\n",
    "}"
   ]
  },
  {
   "cell_type": "code",
   "execution_count": null,
   "metadata": {},
   "outputs": [
    {
     "name": "stdout",
     "output_type": "stream",
     "text": [
      "red\n",
      "orange\n",
      "yellow\n",
      "green\n",
      "blue\n",
      "purple\n"
     ]
    }
   ],
   "source": [
    "listArrayItems3(colors);"
   ]
  },
  {
   "cell_type": "code",
   "execution_count": null,
   "metadata": {},
   "outputs": [],
   "source": [
    "function listArrayItems4(arr) {\n",
    "    for (var i = 0; i < arr.length; i++) {\n",
    "        console.log(i+1, arr[i])\n",
    "    }\n",
    "}"
   ]
  },
  {
   "cell_type": "code",
   "execution_count": null,
   "metadata": {},
   "outputs": [
    {
     "name": "stdout",
     "output_type": "stream",
     "text": [
      "1 'red'\n",
      "2 'orange'\n",
      "3 'yellow'\n",
      "4 'green'\n",
      "5 'blue'\n",
      "6 'purple'\n"
     ]
    }
   ],
   "source": [
    "listArrayItems4(colors);"
   ]
  },
  {
   "cell_type": "code",
   "execution_count": null,
   "metadata": {},
   "outputs": [
    {
     "name": "stdout",
     "output_type": "stream",
     "text": [
      "Found the t at 0\n",
      "---No match found at 1\n",
      "---No match found at 2\n",
      "Found the t at 3\n"
     ]
    }
   ],
   "source": [
    "function letterFinder(word, match) {\n",
    "    for(var i = 0; i < word.length; i++) {\n",
    "        if(word[i] == match) {\n",
    "            console.log('Found the', match, 'at', i)\n",
    "        } else {\n",
    "            console.log('---No match found at', i)\n",
    "        }\n",
    "    }\n",
    "}\n",
    "\n",
    "letterFinder(\"test\", \"t\")\n"
   ]
  },
  {
   "cell_type": "markdown",
   "metadata": {},
   "source": []
  },
  {
   "cell_type": "markdown",
   "metadata": {},
   "source": [
    "# Objetos"
   ]
  },
  {
   "cell_type": "code",
   "execution_count": null,
   "metadata": {},
   "outputs": [
    {
     "data": {
      "text/plain": [
       "'object'"
      ]
     },
     "execution_count": 13,
     "metadata": {},
     "output_type": "execute_result"
    }
   ],
   "source": [
    "var obj = {}\n",
    "typeof(obj)"
   ]
  },
  {
   "cell_type": "code",
   "execution_count": null,
   "metadata": {},
   "outputs": [],
   "source": [
    "var assistantManager = {\n",
    "    rangeTilesPerTurn: 3,\n",
    "    socialSkills: 30,\n",
    "    streetSmarts: 30,\n",
    "    health: 40,\n",
    "    specialAbility: \"young and ambitious\",\n",
    "    greeting: \"Let's make some money\"}"
   ]
  },
  {
   "cell_type": "code",
   "execution_count": null,
   "metadata": {},
   "outputs": [
    {
     "data": {
      "text/plain": [
       "{ rangeTilesPerTurn: 3,\n",
       "  socialSkills: 30,\n",
       "  streetSmarts: 30,\n",
       "  health: 40,\n",
       "  specialAbility: 'young and ambitious',\n",
       "  greeting: 'Let\\'s make some money' }"
      ]
     },
     "execution_count": 15,
     "metadata": {},
     "output_type": "execute_result"
    }
   ],
   "source": [
    "assistantManager"
   ]
  },
  {
   "cell_type": "code",
   "execution_count": null,
   "metadata": {},
   "outputs": [
    {
     "data": {
      "text/plain": [
       "'Let\\'s make some money'"
      ]
     },
     "execution_count": 16,
     "metadata": {},
     "output_type": "execute_result"
    }
   ],
   "source": [
    "assistantManager.greeting"
   ]
  },
  {
   "cell_type": "code",
   "execution_count": null,
   "metadata": {},
   "outputs": [
    {
     "data": {
      "text/plain": [
       "40"
      ]
     },
     "execution_count": 17,
     "metadata": {},
     "output_type": "execute_result"
    }
   ],
   "source": [
    "assistantManager[\"health\"]"
   ]
  },
  {
   "cell_type": "code",
   "execution_count": null,
   "metadata": {},
   "outputs": [
    {
     "name": "stdout",
     "output_type": "stream",
     "text": [
      "Let's make some money\n"
     ]
    }
   ],
   "source": [
    "console.log(assistantManager.greeting)"
   ]
  },
  {
   "cell_type": "code",
   "execution_count": null,
   "metadata": {},
   "outputs": [
    {
     "data": {
      "text/plain": [
       "{ rooms: 3, color: 'brown', priceUSD: 10000 }"
      ]
     },
     "execution_count": 19,
     "metadata": {},
     "output_type": "execute_result"
    }
   ],
   "source": [
    "var house = {\n",
    "    rooms: 3,\n",
    "    color: \"brown\",\n",
    "    priceUSD: 10000,\n",
    "}\n",
    "house"
   ]
  },
  {
   "cell_type": "code",
   "execution_count": null,
   "metadata": {},
   "outputs": [
    {
     "data": {
      "text/plain": [
       "150"
      ]
     },
     "execution_count": 20,
     "metadata": {},
     "output_type": "execute_result"
    }
   ],
   "source": [
    "house.metros = 150"
   ]
  },
  {
   "cell_type": "code",
   "execution_count": null,
   "metadata": {},
   "outputs": [
    {
     "data": {
      "text/plain": [
       "{ rooms: 3, color: 'brown', priceUSD: 10000, metros: 150 }"
      ]
     },
     "execution_count": 21,
     "metadata": {},
     "output_type": "execute_result"
    }
   ],
   "source": [
    "house"
   ]
  },
  {
   "cell_type": "code",
   "execution_count": null,
   "metadata": {},
   "outputs": [
    {
     "name": "stdout",
     "output_type": "stream",
     "text": [
      "{ rooms: 3, color: 'brown', priceUSD: 10000, metros: 11 }\n"
     ]
    }
   ],
   "source": [
    "house.metros = 11;\n",
    "console.log(house);"
   ]
  },
  {
   "cell_type": "code",
   "execution_count": null,
   "metadata": {},
   "outputs": [
    {
     "name": "stdout",
     "output_type": "stream",
     "text": [
      "100\n",
      "200\n",
      "red\n"
     ]
    }
   ],
   "source": [
    "var arrOfKeys = ['speed', 'altitude', 'color'];\n",
    "var drone = {\n",
    "    speed: 100,\n",
    "    altitude: 200,\n",
    "    color: \"red\"\n",
    "}\n",
    "for (var i = 0; i < arrOfKeys.length; i++) {\n",
    "    console.log(drone[arrOfKeys[i]])\n",
    "}"
   ]
  },
  {
   "cell_type": "code",
   "execution_count": null,
   "metadata": {},
   "outputs": [
    {
     "name": "stdout",
     "output_type": "stream",
     "text": [
      "speed\n",
      "100\n",
      "altitude\n",
      "200\n",
      "color\n",
      "red\n"
     ]
    }
   ],
   "source": [
    "for (var i of arrOfKeys) {\n",
    "    console.log(i);\n",
    "    console.log(drone[i])\n",
    "}"
   ]
  },
  {
   "cell_type": "code",
   "execution_count": null,
   "metadata": {},
   "outputs": [],
   "source": [
    "// el this es como el self de python la diferencia es que aca es estricto\n",
    "const persona = {\n",
    "    firstName: \"John\",\n",
    "    lastName : \"Doe\",\n",
    "    id       : 5566,\n",
    "    fullName : function() {\n",
    "      return this.firstName + \" \" + this.lastName},\n",
    "    } "
   ]
  },
  {
   "cell_type": "code",
   "execution_count": null,
   "metadata": {},
   "outputs": [
    {
     "data": {
      "text/plain": [
       "{ firstName: 'John',\n",
       "  lastName: 'Doe',\n",
       "  id: 5566,\n",
       "  fullName: [Function: fullName] }"
      ]
     },
     "execution_count": 26,
     "metadata": {},
     "output_type": "execute_result"
    }
   ],
   "source": [
    "persona"
   ]
  },
  {
   "cell_type": "code",
   "execution_count": null,
   "metadata": {},
   "outputs": [
    {
     "ename": "ReferenceError",
     "evalue": "person is not defined",
     "output_type": "error",
     "traceback": [
      "evalmachine.<anonymous>:2",
      "person",
      "^",
      "",
      "ReferenceError: person is not defined",
      "    at evalmachine.<anonymous>:2:1",
      "    at ContextifyScript.Script.runInThisContext (vm.js:50:33)",
      "    at Object.runInThisContext (vm.js:139:38)",
      "    at run ([eval]:1020:15)",
      "    at onRunRequest ([eval]:864:18)",
      "    at onMessage ([eval]:828:13)",
      "    at emitTwo (events.js:126:13)",
      "    at process.emit (events.js:214:7)",
      "    at emit (internal/child_process.js:772:12)",
      "    at _combinedTickCallback (internal/process/next_tick.js:141:11)"
     ]
    }
   ],
   "source": [
    "persona.firstName = \"emiliano\"\n",
    "person"
   ]
  },
  {
   "cell_type": "code",
   "execution_count": null,
   "metadata": {},
   "outputs": [
    {
     "data": {
      "text/plain": [
       "'emiliano Doe'"
      ]
     },
     "execution_count": 6,
     "metadata": {},
     "output_type": "execute_result"
    }
   ],
   "source": [
    "person.fullName()"
   ]
  },
  {
   "cell_type": "code",
   "execution_count": null,
   "metadata": {},
   "outputs": [
    {
     "data": {
      "text/plain": [
       "'passarello'"
      ]
     },
     "execution_count": 36,
     "metadata": {},
     "output_type": "execute_result"
    }
   ],
   "source": [
    "person.first_name = \"passarello\""
   ]
  },
  {
   "cell_type": "code",
   "execution_count": null,
   "metadata": {},
   "outputs": [
    {
     "data": {
      "text/plain": [
       "{ firstName: 'emiliano',\n",
       "  lastName: 'Doe',\n",
       "  id: 5566,\n",
       "  fullName: [Function: fullName],\n",
       "  set_firstName: [Function: set_firstName],\n",
       "  edad: 48,\n",
       "  first_name: 'passarello',\n",
       "  lastname: 'passarello',\n",
       "  first_nama: 'passarello' }"
      ]
     },
     "execution_count": 37,
     "metadata": {},
     "output_type": "execute_result"
    }
   ],
   "source": [
    "person"
   ]
  },
  {
   "cell_type": "markdown",
   "metadata": {},
   "source": [
    "# Arrays "
   ]
  },
  {
   "cell_type": "markdown",
   "metadata": {},
   "source": [
    "## push"
   ]
  },
  {
   "cell_type": "code",
   "execution_count": null,
   "metadata": {},
   "outputs": [
    {
     "name": "stdout",
     "output_type": "stream",
     "text": [
      "[ 'apple' ]\n"
     ]
    },
    {
     "data": {
      "text/plain": [
       "[ 'apple', 'pear' ]"
      ]
     },
     "execution_count": 22,
     "metadata": {},
     "output_type": "execute_result"
    }
   ],
   "source": [
    "var fruits = [];\n",
    "fruits.push(\"apple\"); // ['apple']\n",
    "console.log(fruits);\n",
    "fruits.push('pear'); // ['apple', 'pear']\n",
    "fruits"
   ]
  },
  {
   "cell_type": "markdown",
   "metadata": {},
   "source": [
    "## pop"
   ]
  },
  {
   "cell_type": "code",
   "execution_count": null,
   "metadata": {},
   "outputs": [],
   "source": [
    "var fruta = fruits.pop()"
   ]
  },
  {
   "cell_type": "code",
   "execution_count": null,
   "metadata": {},
   "outputs": [
    {
     "data": {
      "text/plain": [
       "'pear'"
      ]
     },
     "execution_count": 21,
     "metadata": {},
     "output_type": "execute_result"
    }
   ],
   "source": [
    "fruta"
   ]
  },
  {
   "cell_type": "markdown",
   "metadata": {},
   "source": [
    "## shift"
   ]
  },
  {
   "cell_type": "code",
   "execution_count": null,
   "metadata": {},
   "outputs": [
    {
     "name": "stdout",
     "output_type": "stream",
     "text": [
      "Banana\n",
      "[ 'Orange', 'Apple', 'Mango' ]\n",
      "Orange\n",
      "[ 'Apple', 'Mango' ]\n",
      "Apple\n",
      "[ 'Mango' ]\n"
     ]
    }
   ],
   "source": [
    "var fruits = [\"Banana\", \"Orange\", \"Apple\", \"Mango\"];\n",
    "console.log(fruits.shift());console.log(fruits);\n",
    "console.log(fruits.shift());console.log(fruits);\n",
    "console.log(fruits.shift());console.log(fruits);"
   ]
  },
  {
   "cell_type": "markdown",
   "metadata": {},
   "source": [
    "## unshift"
   ]
  },
  {
   "cell_type": "code",
   "execution_count": null,
   "metadata": {},
   "outputs": [
    {
     "name": "stdout",
     "output_type": "stream",
     "text": [
      "[ 'Lemon', 'Banana', 'Orange', 'Apple', 'Mango' ]\n"
     ]
    }
   ],
   "source": [
    "var fruits = [\"Banana\", \"Orange\", \"Apple\", \"Mango\"];\n",
    "fruits.unshift(\"Lemon\");\n",
    "console.log(fruits);"
   ]
  },
  {
   "cell_type": "markdown",
   "metadata": {},
   "source": [
    "## delete"
   ]
  },
  {
   "cell_type": "code",
   "execution_count": null,
   "metadata": {},
   "outputs": [
    {
     "name": "stdout",
     "output_type": "stream",
     "text": [
      "[ <1 empty item>, 'Orange', 'Apple', 'Mango' ]\n"
     ]
    }
   ],
   "source": [
    "var fruits = [\"Banana\", \"Orange\", \"Apple\", \"Mango\"];\n",
    "delete fruits[0];\n",
    "console.log(fruits);"
   ]
  },
  {
   "cell_type": "code",
   "execution_count": null,
   "metadata": {},
   "outputs": [
    {
     "name": "stdout",
     "output_type": "stream",
     "text": [
      "undefined\n"
     ]
    }
   ],
   "source": [
    "console.log(fruits[0])"
   ]
  },
  {
   "cell_type": "markdown",
   "metadata": {},
   "source": [
    "## concat"
   ]
  },
  {
   "cell_type": "code",
   "execution_count": null,
   "metadata": {},
   "outputs": [],
   "source": [
    "const myGirls = [\"Cecilie\", \"Lone\"];\n",
    "const myBoys = [\"Emil\", \"Tobias\", \"Linus\"];\n",
    "\n",
    "const myChildren = myGirls.concat(myBoys);"
   ]
  },
  {
   "cell_type": "code",
   "execution_count": null,
   "metadata": {},
   "outputs": [
    {
     "data": {
      "text/plain": [
       "[ 'Cecilie', 'Lone', 'Emil', 'Tobias', 'Linus' ]"
      ]
     },
     "execution_count": 38,
     "metadata": {},
     "output_type": "execute_result"
    }
   ],
   "source": [
    "myChildren"
   ]
  },
  {
   "cell_type": "code",
   "execution_count": null,
   "metadata": {},
   "outputs": [
    {
     "data": {
      "text/plain": [
       "[ 'Cecilie', 'Lone', 'Emil', 'Tobias', 'Linus', 'Robin', 'Morgan' ]"
      ]
     },
     "execution_count": 4,
     "metadata": {},
     "output_type": "execute_result"
    }
   ],
   "source": [
    "var arr_1 = [\"Cecilie\", \"Lone\"];\n",
    "var arr_2 = [\"Emil\", \"Tobias\", \"Linus\"];\n",
    "var arr_3 = [\"Robin\", \"Morgan\"];\n",
    "var myChildren = arr_1.concat(arr_2, arr_3);\n",
    "myChildren"
   ]
  },
  {
   "cell_type": "code",
   "execution_count": null,
   "metadata": {},
   "outputs": [
    {
     "name": "stdout",
     "output_type": "stream",
     "text": [
      "[ 'Emil', 'Tobias', 'Linus' ]\n",
      "[ 'Emil', 'Tobias', 'Linus', 'Peter' ]\n"
     ]
    }
   ],
   "source": [
    "var arr1 = [\"Emil\", \"Tobias\", \"Linus\"];\n",
    "var myChildren = arr1.concat(\"Peter\"); \n",
    "console.log(arr1);\n",
    "console.log(myChildren);"
   ]
  },
  {
   "cell_type": "markdown",
   "metadata": {},
   "source": [
    "## splice"
   ]
  },
  {
   "cell_type": "code",
   "execution_count": null,
   "metadata": {},
   "outputs": [
    {
     "name": "stdout",
     "output_type": "stream",
     "text": [
      "[ 'Banana', 'Orange', 'Lemon', 'Kiwi', 'Apple', 'Mango' ]\n"
     ]
    }
   ],
   "source": [
    "var fruits = [\"Banana\", \"Orange\", \"Apple\", \"Mango\"];\n",
    "fruits.splice(2, 0, \"Lemon\", \"Kiwi\");\n",
    "// el primer argumanto es la ubicacion donde agraga los elementos que agrega y el segundo la cantidad que remplaza\n",
    "\n",
    "console.log(fruits);"
   ]
  },
  {
   "cell_type": "code",
   "execution_count": null,
   "metadata": {},
   "outputs": [
    {
     "name": "stdout",
     "output_type": "stream",
     "text": [
      "[ 'Lemon', 'Kiwi', 'Apple', 'Mango' ]\n"
     ]
    }
   ],
   "source": [
    "var fruits = [\"Banana\", \"Orange\", \"Apple\", \"Mango\"];\n",
    "fruits.splice(0, 2, \"Lemon\", \"Kiwi\"); // va remplaza los 2 primeros elementos\n",
    "console.log(fruits);"
   ]
  },
  {
   "cell_type": "markdown",
   "metadata": {},
   "source": [
    "## splice"
   ]
  },
  {
   "cell_type": "code",
   "execution_count": null,
   "metadata": {},
   "outputs": [
    {
     "name": "stdout",
     "output_type": "stream",
     "text": [
      "[ 'Banana' ]\n",
      "[ 'Orange', 'Apple', 'Mango' ]\n"
     ]
    }
   ],
   "source": [
    "var fruits = [\"Banana\", \"Orange\", \"Apple\", \"Mango\"];\n",
    "console.log(fruits.splice(0, 1));console.log(fruits)"
   ]
  },
  {
   "cell_type": "code",
   "execution_count": null,
   "metadata": {},
   "outputs": [
    {
     "name": "stdout",
     "output_type": "stream",
     "text": [
      "[ 'Apple', 'Mango' ]\n",
      "[ 'Banana', 'Orange' ]\n"
     ]
    }
   ],
   "source": [
    "var fruits = [\"Banana\", \"Orange\", \"Apple\", \"Mango\"];\n",
    "console.log(fruits.splice(2,));console.log(fruits) // los mismo que poner splice(2,2)"
   ]
  },
  {
   "cell_type": "code",
   "execution_count": null,
   "metadata": {},
   "outputs": [
    {
     "name": "stdout",
     "output_type": "stream",
     "text": [
      "[ 'Orange', 'Apple' ]\n",
      "[ 'Banana', 'Mango' ]\n"
     ]
    }
   ],
   "source": [
    "var fruits = [\"Banana\", \"Orange\", \"Apple\", \"Mango\"];\n",
    "console.log(fruits.splice(1,2));console.log(fruits)"
   ]
  },
  {
   "cell_type": "markdown",
   "metadata": {},
   "source": [
    "## slice"
   ]
  },
  {
   "cell_type": "code",
   "execution_count": null,
   "metadata": {},
   "outputs": [
    {
     "name": "stdout",
     "output_type": "stream",
     "text": [
      "[ 'Orange', 'Lemon', 'Apple', 'Mango' ]\n",
      "[ 'Banana', 'Orange', 'Lemon', 'Apple', 'Mango' ]\n"
     ]
    }
   ],
   "source": [
    "var fruits = [\"Banana\", \"Orange\", \"Lemon\", \"Apple\", \"Mango\"];\n",
    "var citrus = fruits.slice(1);\n",
    "console.log(citrus);console.log(fruits)"
   ]
  },
  {
   "cell_type": "code",
   "execution_count": null,
   "metadata": {},
   "outputs": [
    {
     "name": "stdout",
     "output_type": "stream",
     "text": [
      "[ 'Apple', 'Mango' ]\n",
      "[ 'Banana', 'Orange', 'Lemon', 'Apple', 'Mango' ]\n"
     ]
    }
   ],
   "source": [
    "var fruits = [\"Banana\", \"Orange\", \"Lemon\", \"Apple\", \"Mango\"];\n",
    "var citrus = fruits.slice(3);\n",
    "console.log(citrus);console.log(fruits)"
   ]
  },
  {
   "cell_type": "code",
   "execution_count": null,
   "metadata": {},
   "outputs": [
    {
     "name": "stdout",
     "output_type": "stream",
     "text": [
      "[ 'Orange', 'Lemon' ]\n",
      "[ 'Banana', 'Orange', 'Lemon', 'Apple', 'Mango' ]\n"
     ]
    }
   ],
   "source": [
    "var fruits = [\"Banana\", \"Orange\", \"Lemon\", \"Apple\", \"Mango\"];\n",
    "var citrus = fruits.slice(1,3);\n",
    "console.log(citrus);console.log(fruits)"
   ]
  },
  {
   "cell_type": "markdown",
   "metadata": {},
   "source": [
    "## sort"
   ]
  },
  {
   "cell_type": "code",
   "execution_count": null,
   "metadata": {},
   "outputs": [
    {
     "data": {
      "text/plain": [
       "[ 'Apple', 'Banana', 'Mango', 'Orange' ]"
      ]
     },
     "execution_count": 1,
     "metadata": {},
     "output_type": "execute_result"
    }
   ],
   "source": [
    "var fruits = [\"Banana\", \"Orange\", \"Apple\", \"Mango\"];\n",
    "fruits.sort();"
   ]
  },
  {
   "cell_type": "code",
   "execution_count": null,
   "metadata": {},
   "outputs": [
    {
     "data": {
      "text/plain": [
       "[ 'Apple', 'Banana', 'Mango', 'Orange' ]"
      ]
     },
     "execution_count": 2,
     "metadata": {},
     "output_type": "execute_result"
    }
   ],
   "source": [
    "var fruits = [\"Banana\", \"Orange\", \"Apple\", \"Mango\"];\n",
    "fruits.sort();\n"
   ]
  },
  {
   "cell_type": "code",
   "execution_count": null,
   "metadata": {},
   "outputs": [
    {
     "data": {
      "text/plain": [
       "[ 'Orange', 'Mango', 'Banana', 'Apple' ]"
      ]
     },
     "execution_count": 3,
     "metadata": {},
     "output_type": "execute_result"
    }
   ],
   "source": [
    "fruits.reverse();"
   ]
  },
  {
   "cell_type": "code",
   "execution_count": null,
   "metadata": {},
   "outputs": [
    {
     "data": {
      "text/plain": [
       "[ -25, 1, 5, 10, 25, 40, 100 ]"
      ]
     },
     "execution_count": 11,
     "metadata": {},
     "output_type": "execute_result"
    }
   ],
   "source": [
    "var points = [40, 100, 1, 5, 25, 10, -25];\n",
    "points.sort(function(a, b){return  a- b});"
   ]
  },
  {
   "cell_type": "code",
   "execution_count": null,
   "metadata": {},
   "outputs": [
    {
     "data": {
      "text/plain": [
       "[ -25, 1, 5, 10, 25, 40, 100 ]"
      ]
     },
     "execution_count": 12,
     "metadata": {},
     "output_type": "execute_result"
    }
   ],
   "source": [
    "var points = [40, 100, 1, 5, 25, 10, -25];\n",
    "points.sort((a, b) =>  a - b); //"
   ]
  },
  {
   "cell_type": "code",
   "execution_count": null,
   "metadata": {},
   "outputs": [
    {
     "data": {
      "text/plain": [
       "[ 100, 40, 25, 10, 5, 1, -25 ]"
      ]
     },
     "execution_count": 13,
     "metadata": {},
     "output_type": "execute_result"
    }
   ],
   "source": [
    "var points = [40, 100, 1, 5, 25, 10, -25];\n",
    "points.sort((a, b) =>  b- a); //"
   ]
  },
  {
   "cell_type": "markdown",
   "metadata": {},
   "source": [
    "## toSting"
   ]
  },
  {
   "cell_type": "code",
   "execution_count": null,
   "metadata": {},
   "outputs": [
    {
     "data": {
      "text/plain": [
       "'Banana,Orange,Apple,Mango'"
      ]
     },
     "execution_count": 31,
     "metadata": {},
     "output_type": "execute_result"
    }
   ],
   "source": [
    "fruits = [\"Banana\", \"Orange\", \"Apple\", \"Mango\"];\n",
    "fruits.toString();"
   ]
  },
  {
   "cell_type": "code",
   "execution_count": null,
   "metadata": {},
   "outputs": [],
   "source": []
  },
  {
   "cell_type": "markdown",
   "metadata": {},
   "source": [
    "## Array Iteration"
   ]
  },
  {
   "cell_type": "code",
   "execution_count": null,
   "metadata": {},
   "outputs": [
    {
     "name": "stdout",
     "output_type": "stream",
     "text": [
      "0\n",
      "[ 45, 4, 9, 16, 25 ]\n",
      "1\n",
      "[ 45, 4, 9, 16, 25 ]\n",
      "2\n",
      "[ 45, 4, 9, 16, 25 ]\n",
      "3\n",
      "[ 45, 4, 9, 16, 25 ]\n",
      "4\n",
      "[ 45, 4, 9, 16, 25 ]\n",
      "45\n",
      "4\n",
      "9\n",
      "16\n",
      "25\n",
      "\n"
     ]
    }
   ],
   "source": [
    "var numbers = [45, 4, 9, 16, 25];\n",
    "var txt = \"\";\n",
    "numbers.forEach(myFunction);\n",
    "\n",
    "function myFunction(value, index, array) {\n",
    "  console.log(index);\n",
    "  console.log(array);\n",
    "  txt += value + \"\\n\";\n",
    "  }\n",
    "\n",
    "console.log(txt)\n"
   ]
  },
  {
   "cell_type": "code",
   "execution_count": null,
   "metadata": {},
   "outputs": [
    {
     "data": {
      "text/plain": [
       "'45<br>4<br>9<br>16<br>25<br>'"
      ]
     },
     "execution_count": 15,
     "metadata": {},
     "output_type": "execute_result"
    }
   ],
   "source": [
    "var numbers = [45, 4, 9, 16, 25];\n",
    "var txt = \"\";\n",
    "numbers.forEach(myFunction);\n",
    "\n",
    "function myFunction(value) {\n",
    "\n",
    "  txt += value + \"<br>\";\n",
    "}\n",
    "\n",
    "txt"
   ]
  },
  {
   "cell_type": "markdown",
   "metadata": {},
   "source": [
    "## Array map()\n"
   ]
  },
  {
   "cell_type": "markdown",
   "metadata": {},
   "source": [
    "\n",
    "El método map() crea un nuevo array ejecutando una función en cada elemento del array.\n",
    "\n",
    "El método map() no ejecuta la función para los elementos de la matriz sin valores.\n",
    "\n",
    "El método map() no cambia el array original.\n",
    "\n"
   ]
  },
  {
   "cell_type": "code",
   "execution_count": null,
   "metadata": {},
   "outputs": [
    {
     "name": "stdout",
     "output_type": "stream",
     "text": [
      "0\n",
      "[ 45, 4, 9, 16, 25 ]\n",
      "1\n",
      "[ 45, 4, 9, 16, 25 ]\n",
      "2\n",
      "[ 45, 4, 9, 16, 25 ]\n",
      "3\n",
      "[ 45, 4, 9, 16, 25 ]\n",
      "4\n",
      "[ 45, 4, 9, 16, 25 ]\n"
     ]
    },
    {
     "data": {
      "text/plain": [
       "[ 90, 8, 18, 32, 50 ]"
      ]
     },
     "execution_count": 16,
     "metadata": {},
     "output_type": "execute_result"
    }
   ],
   "source": [
    "var numbers1 = [45, 4, 9, 16, 25];\n",
    "var numbers2 = numbers1.map(myFunction);\n",
    "\n",
    "function myFunction(value, index, array) {\n",
    "  console.log(index);\n",
    "  console.log(array);\n",
    "  return value * 2;}\n",
    "\n",
    "numbers2"
   ]
  },
  {
   "cell_type": "code",
   "execution_count": null,
   "metadata": {},
   "outputs": [
    {
     "data": {
      "text/plain": [
       "[ 90, 8, 18, 32, 50 ]"
      ]
     },
     "execution_count": 18,
     "metadata": {},
     "output_type": "execute_result"
    }
   ],
   "source": [
    "var numbers1 = [45, 4, 9, 16, 25];\n",
    "var numbers2 = numbers1.map(myFunction);\n",
    "\n",
    "function myFunction(value) {\n",
    "\n",
    "  return value * 2;\n",
    "}\n",
    "numbers2"
   ]
  },
  {
   "cell_type": "markdown",
   "metadata": {},
   "source": [
    "## Array filter"
   ]
  },
  {
   "cell_type": "code",
   "execution_count": null,
   "metadata": {},
   "outputs": [
    {
     "name": "stdout",
     "output_type": "stream",
     "text": [
      "0\n",
      "[ 45, 4, 9, 16, 25 ]\n",
      "1\n",
      "[ 45, 4, 9, 16, 25 ]\n",
      "2\n",
      "[ 45, 4, 9, 16, 25 ]\n",
      "3\n",
      "[ 45, 4, 9, 16, 25 ]\n",
      "4\n",
      "[ 45, 4, 9, 16, 25 ]\n"
     ]
    },
    {
     "data": {
      "text/plain": [
       "[ 45, 25 ]"
      ]
     },
     "execution_count": 21,
     "metadata": {},
     "output_type": "execute_result"
    }
   ],
   "source": [
    "var numbers = [45, 4, 9, 16, 25];\n",
    "var over18 = numbers.filter(myFunction);\n",
    "\n",
    "function myFunction(value, index, array) {\n",
    "  console.log(index);\n",
    "  console.log(array);\n",
    "  return value > 18;\n",
    "}\n",
    "over18"
   ]
  },
  {
   "cell_type": "markdown",
   "metadata": {},
   "source": [
    "## Array reduce()"
   ]
  },
  {
   "cell_type": "code",
   "execution_count": null,
   "metadata": {},
   "outputs": [
    {
     "name": "stdout",
     "output_type": "stream",
     "text": [
      "1\n",
      "4\n",
      "45\n",
      "2\n",
      "9\n",
      "49\n",
      "3\n",
      "16\n",
      "58\n",
      "4\n",
      "25\n",
      "74\n"
     ]
    },
    {
     "data": {
      "text/plain": [
       "99"
      ]
     },
     "execution_count": 3,
     "metadata": {},
     "output_type": "execute_result"
    }
   ],
   "source": [
    "var numeros = [45, 4, 9, 16, 25];\n",
    "function myFunction(total, value, index, array) {\n",
    "  console.log(index);\n",
    "  // console.log(array);\n",
    "  console.log(value);\n",
    "  console.log(total);\n",
    "  return total + value;\n",
    "}\n",
    "multi = numeros.reduce(myFunction);\n",
    "multi"
   ]
  },
  {
   "cell_type": "code",
   "execution_count": 2,
   "metadata": {},
   "outputs": [
    {
     "data": {
      "text/plain": [
       "599"
      ]
     },
     "execution_count": 2,
     "metadata": {},
     "output_type": "execute_result"
    }
   ],
   "source": [
    "var num = [45, 4, 9, 16, 25];\n",
    "\n",
    "// El método reduce() puede aceptar un valor inicial:\n",
    "\n",
    "var sum = num.reduce(myFunction, 500);\n",
    "\n",
    "function myFunction(total, value) {\n",
    "  return total + value;\n",
    "}\n",
    "sum"
   ]
  },
  {
   "cell_type": "markdown",
   "metadata": {},
   "source": [
    "## every / some"
   ]
  },
  {
   "cell_type": "code",
   "execution_count": 9,
   "metadata": {},
   "outputs": [],
   "source": [
    "function myFunction(value, index, array) {\n",
    "  console.log(value, index, array);\n",
    "  return value > 18;\n",
    "}\n"
   ]
  },
  {
   "cell_type": "code",
   "execution_count": 10,
   "metadata": {},
   "outputs": [
    {
     "name": "stdout",
     "output_type": "stream",
     "text": [
      "45 0 [ 45, 4, 9, 16, 25 ]\n"
     ]
    },
    {
     "data": {
      "text/plain": [
       "true"
      ]
     },
     "execution_count": 10,
     "metadata": {},
     "output_type": "execute_result"
    }
   ],
   "source": [
    "numbers.some(myFunction)"
   ]
  },
  {
   "cell_type": "code",
   "execution_count": 11,
   "metadata": {},
   "outputs": [
    {
     "name": "stdout",
     "output_type": "stream",
     "text": [
      "45 0 [ 45, 4, 9, 16, 25 ]\n",
      "4 1 [ 45, 4, 9, 16, 25 ]\n"
     ]
    },
    {
     "data": {
      "text/plain": [
       "false"
      ]
     },
     "execution_count": 11,
     "metadata": {},
     "output_type": "execute_result"
    }
   ],
   "source": [
    "numbers.every(myFunction)"
   ]
  },
  {
   "cell_type": "code",
   "execution_count": null,
   "metadata": {},
   "outputs": [],
   "source": []
  }
 ],
 "metadata": {
  "kernelspec": {
   "display_name": "JavaScript (Node.js)",
   "language": "javascript",
   "name": "javascript"
  },
  "language_info": {
   "file_extension": ".js",
   "mimetype": "application/javascript",
   "name": "javascript",
   "version": "8.10.0"
  },
  "orig_nbformat": 4,
  "vscode": {
   "interpreter": {
    "hash": "fcbf007ba77cba3fdf48b1b0ee5de58e7e03e3fe5e5fc9e328b4c9ebf96f443e"
   }
  }
 },
 "nbformat": 4,
 "nbformat_minor": 2
}
