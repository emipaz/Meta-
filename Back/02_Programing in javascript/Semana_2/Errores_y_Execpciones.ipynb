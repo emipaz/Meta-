{
 "cells": [
  {
   "cell_type": "markdown",
   "metadata": {},
   "source": [
    "# Errores"
   ]
  },
  {
   "cell_type": "code",
   "execution_count": 2,
   "metadata": {},
   "outputs": [
    {
     "ename": "ReferenceError",
     "evalue": "username is not defined",
     "output_type": "error",
     "traceback": [
      "evalmachine.<anonymous>:1",
      "console.log(username);",
      "            ^",
      "",
      "ReferenceError: username is not defined",
      "    at evalmachine.<anonymous>:1:13",
      "    at ContextifyScript.Script.runInThisContext (vm.js:50:33)",
      "    at Object.runInThisContext (vm.js:139:38)",
      "    at run ([eval]:1020:15)",
      "    at onRunRequest ([eval]:864:18)",
      "    at onMessage ([eval]:828:13)",
      "    at emitTwo (events.js:126:13)",
      "    at process.emit (events.js:214:7)",
      "    at emit (internal/child_process.js:772:12)",
      "    at _combinedTickCallback (internal/process/next_tick.js:141:11)"
     ]
    }
   ],
   "source": [
    "console.log(username);"
   ]
  },
  {
   "cell_type": "code",
   "execution_count": 3,
   "metadata": {},
   "outputs": [
    {
     "ename": "SyntaxError",
     "evalue": "Unexpected string",
     "output_type": "error",
     "traceback": [
      "evalmachine.<anonymous>:1",
      "var a \"there's no assignment operator here\";",
      "      ^^^^^^^^^^^^^^^^^^^^^^^^^^^^^^^^^^^^^",
      "",
      "SyntaxError: Unexpected string",
      "    at createScript (vm.js:80:10)",
      "    at Object.runInThisContext (vm.js:139:10)",
      "    at run ([eval]:1020:15)",
      "    at onRunRequest ([eval]:864:18)",
      "    at onMessage ([eval]:828:13)",
      "    at emitTwo (events.js:126:13)",
      "    at process.emit (events.js:214:7)",
      "    at emit (internal/child_process.js:772:12)",
      "    at _combinedTickCallback (internal/process/next_tick.js:141:11)",
      "    at process._tickCallback (internal/process/next_tick.js:180:9)"
     ]
    }
   ],
   "source": [
    "var a \"there's no assignment operator here\";"
   ]
  },
  {
   "cell_type": "code",
   "execution_count": 4,
   "metadata": {},
   "outputs": [
    {
     "ename": "TypeError",
     "evalue": "\"hello\".pop is not a function",
     "output_type": "error",
     "traceback": [
      "evalmachine.<anonymous>:1",
      "\"hello\".pop() ",
      "        ^",
      "",
      "TypeError: \"hello\".pop is not a function",
      "    at evalmachine.<anonymous>:1:9",
      "    at ContextifyScript.Script.runInThisContext (vm.js:50:33)",
      "    at Object.runInThisContext (vm.js:139:38)",
      "    at run ([eval]:1020:15)",
      "    at onRunRequest ([eval]:864:18)",
      "    at onMessage ([eval]:828:13)",
      "    at emitTwo (events.js:126:13)",
      "    at process.emit (events.js:214:7)",
      "    at emit (internal/child_process.js:772:12)",
      "    at _combinedTickCallback (internal/process/next_tick.js:141:11)"
     ]
    }
   ],
   "source": [
    "\"hello\".pop() "
   ]
  },
  {
   "cell_type": "code",
   "execution_count": 5,
   "metadata": {},
   "outputs": [
    {
     "ename": "RangeError",
     "evalue": "toString() radix argument must be between 2 and 36",
     "output_type": "error",
     "traceback": [
      "evalmachine.<anonymous>:1",
      "(10).toString(100)",
      "     ^",
      "",
      "RangeError: toString() radix argument must be between 2 and 36",
      "    at Number.toString (<anonymous>)",
      "    at evalmachine.<anonymous>:1:6",
      "    at ContextifyScript.Script.runInThisContext (vm.js:50:33)",
      "    at Object.runInThisContext (vm.js:139:38)",
      "    at run ([eval]:1020:15)",
      "    at onRunRequest ([eval]:864:18)",
      "    at onMessage ([eval]:828:13)",
      "    at emitTwo (events.js:126:13)",
      "    at process.emit (events.js:214:7)",
      "    at emit (internal/child_process.js:772:12)"
     ]
    }
   ],
   "source": [
    "(10).toString(100)"
   ]
  },
  {
   "cell_type": "markdown",
   "metadata": {},
   "source": [
    "# Try catch finally"
   ]
  },
  {
   "cell_type": "code",
   "execution_count": 14,
   "metadata": {},
   "outputs": [
    {
     "name": "stdout",
     "output_type": "stream",
     "text": [
      "Error! ReferenceError: the second argument is not a number\n",
      "    at addTwoNums (evalmachine.<anonymous>:6:19)\n",
      "    at evalmachine.<anonymous>:14:1\n",
      "    at ContextifyScript.Script.runInThisContext (vm.js:50:33)\n",
      "    at Object.runInThisContext (vm.js:139:38)\n",
      "    at run ([eval]:1020:15)\n",
      "    at onRunRequest ([eval]:864:18)\n",
      "    at onMessage ([eval]:828:13)\n",
      "    at emitTwo (events.js:126:13)\n",
      "    at process.emit (events.js:214:7)\n",
      "    at emit (internal/child_process.js:772:12)\n",
      "It still works\n"
     ]
    }
   ],
   "source": [
    "function addTwoNums(a,b) {\n",
    "    try {\n",
    "        if(typeof(a) != 'number') {\n",
    "            throw new ReferenceError('the first argument is not a number')\n",
    "        } else if (typeof(b) != 'number') {\n",
    "            throw new ReferenceError('the second argument is not a number')\n",
    "        } else {\n",
    "            console.log(a + b)\n",
    "        }\n",
    "    } catch(err) {\n",
    "        console.log(\"Error!\", err)\n",
    "    }\n",
    "}\n",
    "\n",
    "addTwoNums(5, \"5\")\n",
    "console.log(\"It still works\")\n"
   ]
  },
  {
   "cell_type": "code",
   "execution_count": 17,
   "metadata": {},
   "outputs": [],
   "source": [
    "function suma (a,b) {\n",
    "if(typeof(a) != 'number') {\n",
    "    throw new ReferenceError('the first argument is not a number')\n",
    "} else if (typeof(b) != 'number') {\n",
    "    throw new ReferenceError('the second argument is not a number')\n",
    "}\n",
    "return (a+b)\n",
    "}"
   ]
  },
  {
   "cell_type": "code",
   "execution_count": 30,
   "metadata": {},
   "outputs": [
    {
     "name": "stdout",
     "output_type": "stream",
     "text": [
      "30\n",
      "Gracias\n"
     ]
    }
   ],
   "source": [
    "var num1 = 10\n",
    "var num2 = \"20\"\n",
    "try {\n",
    "    var sum = suma (num1, num2)\n",
    "    console.log(sum)\n",
    "}\n",
    "catch (ReferenceError){\n",
    "    var sum = suma (parseFloat(num1),parseFloat(num2))\n",
    "    console.log(sum)\n",
    "}\n",
    "finally {console.log(\"Gracias\")}\n",
    "\n"
   ]
  },
  {
   "cell_type": "code",
   "execution_count": 28,
   "metadata": {},
   "outputs": [
    {
     "data": {
      "text/plain": [
       "30"
      ]
     },
     "execution_count": 28,
     "metadata": {},
     "output_type": "execute_result"
    }
   ],
   "source": [
    "sum"
   ]
  },
  {
   "cell_type": "code",
   "execution_count": 31,
   "metadata": {},
   "outputs": [
    {
     "name": "stdout",
     "output_type": "stream",
     "text": [
      "Please pass correct arguments to the function\n",
      "Found the c at 0\n",
      "---No match found at 1\n",
      "---No match found at 2\n"
     ]
    }
   ],
   "source": [
    "function letterFinder(word, match) {\n",
    "    var condition1 = typeof(word) == 'string' && word.length >= 2;\n",
    "    var condition2 = typeof(match) == 'string' && match.length == 1;\n",
    "    if(condition1 && condition2) {\n",
    "        for(var i = 0; i < word.length; i++) {\n",
    "            if(word[i] == match) {\n",
    "                console.log('Found the', match, 'at', i)\n",
    "            } else {\n",
    "                console.log('---No match found at', i)\n",
    "            }\n",
    "        }\n",
    "    } else {\n",
    "        console.log(\"Please pass correct arguments to the function\")\n",
    "    }\n",
    "}\n",
    "letterFinder([],[])\n",
    "letterFinder(\"cat\",\"c\")"
   ]
  },
  {
   "cell_type": "code",
   "execution_count": 32,
   "metadata": {},
   "outputs": [
    {
     "name": "stdout",
     "output_type": "stream",
     "text": [
      "There was an error\n"
     ]
    }
   ],
   "source": [
    "try {\n",
    "    Number(5).toPrecision(300)\n",
    "    } catch(e) {\n",
    "    console.log(\"There was an error\")\n",
    "    }"
   ]
  },
  {
   "cell_type": "code",
   "execution_count": 49,
   "metadata": {},
   "outputs": [
    {
     "name": "stdout",
     "output_type": "stream",
     "text": [
      "34\n"
     ]
    }
   ],
   "source": [
    "function add(a, b) {\n",
    "    console.log(a + b)\n",
    "  }\n",
    "\n",
    "  add(3, \"4\");"
   ]
  },
  {
   "cell_type": "code",
   "execution_count": 34,
   "metadata": {},
   "outputs": [
    {
     "data": {
      "text/plain": [
       "'34'"
      ]
     },
     "execution_count": 34,
     "metadata": {},
     "output_type": "execute_result"
    }
   ],
   "source": [
    "3 + \"4\""
   ]
  },
  {
   "cell_type": "code",
   "execution_count": 42,
   "metadata": {},
   "outputs": [],
   "source": [
    "function add(a,b){\n",
    "    console.log(a+b)\n",
    "}"
   ]
  },
  {
   "cell_type": "code",
   "execution_count": 43,
   "metadata": {},
   "outputs": [
    {
     "name": "stdout",
     "output_type": "stream",
     "text": [
      "6\n"
     ]
    }
   ],
   "source": [
    "add(3,3)"
   ]
  },
  {
   "cell_type": "code",
   "execution_count": 32,
   "metadata": {},
   "outputs": [],
   "source": [
    "function myFunction(x) {\n",
    "  try {\n",
    "    if(x == \"\") throw  TypeError (\"empty\");\n",
    "    if(isNaN(x)) throw TypeError (\"not a number\");\n",
    "    x = Number(x);\n",
    "    if(x < 5) throw RangeError (\"too low\");\n",
    "    if(x > 10) throw  RangeError (\"too high\");}\n",
    "    catch(err) {\n",
    "      console.log( \"Input is \" + err);}}"
   ]
  },
  {
   "cell_type": "code",
   "execution_count": 33,
   "metadata": {},
   "outputs": [
    {
     "name": "stdout",
     "output_type": "stream",
     "text": [
      "Input is TypeError: not a number\n",
      "Input is TypeError: empty\n",
      "Input is TypeError: empty\n",
      "Input is RangeError: too high\n"
     ]
    }
   ],
   "source": [
    "myFunction(\"hola\")\n",
    "myFunction(\"\")\n",
    "myFunction(0) // 0 == \"\" es true\n",
    "myFunction(11)"
   ]
  },
  {
   "cell_type": "code",
   "execution_count": 15,
   "metadata": {},
   "outputs": [
    {
     "data": {
      "text/plain": [
       "true"
      ]
     },
     "execution_count": 15,
     "metadata": {},
     "output_type": "execute_result"
    }
   ],
   "source": [
    "0 == \"\""
   ]
  },
  {
   "cell_type": "code",
   "execution_count": 34,
   "metadata": {},
   "outputs": [
    {
     "data": {
      "text/plain": [
       "false"
      ]
     },
     "execution_count": 34,
     "metadata": {},
     "output_type": "execute_result"
    }
   ],
   "source": [
    "0 === \"\""
   ]
  },
  {
   "cell_type": "code",
   "execution_count": 35,
   "metadata": {},
   "outputs": [
    {
     "data": {
      "text/plain": [
       "Infinity"
      ]
     },
     "execution_count": 35,
     "metadata": {},
     "output_type": "execute_result"
    }
   ],
   "source": [
    "10 / 0"
   ]
  },
  {
   "cell_type": "code",
   "execution_count": 38,
   "metadata": {},
   "outputs": [
    {
     "data": {
      "text/plain": [
       "Infinity"
      ]
     },
     "execution_count": 38,
     "metadata": {},
     "output_type": "execute_result"
    }
   ],
   "source": [
    "Math.log(Infinity)"
   ]
  },
  {
   "cell_type": "code",
   "execution_count": 43,
   "metadata": {},
   "outputs": [
    {
     "data": {
      "text/plain": [
       "NaN"
      ]
     },
     "execution_count": 43,
     "metadata": {},
     "output_type": "execute_result"
    }
   ],
   "source": [
    "(-2) ** (1/2)"
   ]
  },
  {
   "cell_type": "code",
   "execution_count": null,
   "metadata": {},
   "outputs": [],
   "source": []
  }
 ],
 "metadata": {
  "kernelspec": {
   "display_name": "JavaScript (Node.js)",
   "language": "javascript",
   "name": "javascript"
  },
  "language_info": {
   "file_extension": ".js",
   "mimetype": "application/javascript",
   "name": "javascript",
   "version": "8.10.0"
  },
  "orig_nbformat": 4,
  "vscode": {
   "interpreter": {
    "hash": "8a32cce1f9b3e4570ca846caf6903fa722a4c567520840cb717f6823875f1f99"
   }
  }
 },
 "nbformat": 4,
 "nbformat_minor": 2
}
