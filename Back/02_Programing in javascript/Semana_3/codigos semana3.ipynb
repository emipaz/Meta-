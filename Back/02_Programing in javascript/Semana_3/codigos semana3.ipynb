{
 "cells": [
  {
   "cell_type": "markdown",
   "metadata": {},
   "source": [
    "# De-structuring arrays and objects"
   ]
  },
  {
   "cell_type": "code",
   "execution_count": 2,
   "metadata": {},
   "outputs": [],
   "source": [
    "var {PI} = Math;"
   ]
  },
  {
   "cell_type": "code",
   "execution_count": 3,
   "metadata": {},
   "outputs": [
    {
     "data": {
      "text/plain": [
       "3.141592653589793"
      ]
     },
     "execution_count": 3,
     "metadata": {},
     "output_type": "execute_result"
    }
   ],
   "source": [
    "PI"
   ]
  },
  {
   "cell_type": "code",
   "execution_count": 4,
   "metadata": {},
   "outputs": [],
   "source": [
    "var {E} = Math;"
   ]
  },
  {
   "cell_type": "code",
   "execution_count": 5,
   "metadata": {},
   "outputs": [
    {
     "data": {
      "text/plain": [
       "2.718281828459045"
      ]
     },
     "execution_count": 5,
     "metadata": {},
     "output_type": "execute_result"
    }
   ],
   "source": [
    "E"
   ]
  },
  {
   "cell_type": "code",
   "execution_count": 7,
   "metadata": {},
   "outputs": [
    {
     "name": "stdout",
     "output_type": "stream",
     "text": [
      "price : 50\n",
      "color : 50\n",
      "material : 50\n",
      "season : 50\n"
     ]
    }
   ],
   "source": [
    "var clothingItem = {\n",
    "    price: 50,\n",
    "    color: 'beige',\n",
    "    material: 'cotton',\n",
    "    season: 'autumn'\n",
    "}\n",
    "\n",
    "for( keys of Object.keys(clothingItem) ) {\n",
    "    console.log(keys, \":\", clothingItem[key])\n",
    "}"
   ]
  },
  {
   "cell_type": "code",
   "execution_count": 10,
   "metadata": {},
   "outputs": [],
   "source": [
    "var {price, color , material, season} = clothingItem"
   ]
  },
  {
   "cell_type": "code",
   "execution_count": 11,
   "metadata": {},
   "outputs": [
    {
     "data": {
      "text/plain": [
       "50"
      ]
     },
     "execution_count": 11,
     "metadata": {},
     "output_type": "execute_result"
    }
   ],
   "source": [
    "price"
   ]
  },
  {
   "cell_type": "code",
   "execution_count": 13,
   "metadata": {},
   "outputs": [
    {
     "data": {
      "text/plain": [
       "'beige'"
      ]
     },
     "execution_count": 13,
     "metadata": {},
     "output_type": "execute_result"
    }
   ],
   "source": [
    "color"
   ]
  },
  {
   "cell_type": "code",
   "execution_count": 14,
   "metadata": {},
   "outputs": [],
   "source": [
    "const animal = {\n",
    "    canJump: true\n",
    "};\n"
   ]
  },
  {
   "cell_type": "code",
   "execution_count": 15,
   "metadata": {},
   "outputs": [
    {
     "data": {
      "text/plain": [
       "{ canJump: true }"
      ]
     },
     "execution_count": 15,
     "metadata": {},
     "output_type": "execute_result"
    }
   ],
   "source": [
    "animal"
   ]
  },
  {
   "cell_type": "code",
   "execution_count": 16,
   "metadata": {},
   "outputs": [
    {
     "data": {
      "text/plain": [
       "true"
      ]
     },
     "execution_count": 16,
     "metadata": {},
     "output_type": "execute_result"
    }
   ],
   "source": [
    "\n",
    "const bird = Object.create(animal);\n",
    "bird.canFly = true;\n",
    "bird.hasFeathers = true;\n"
   ]
  },
  {
   "cell_type": "code",
   "execution_count": 17,
   "metadata": {},
   "outputs": [
    {
     "data": {
      "text/plain": [
       "{ canFly: true, hasFeathers: true }"
      ]
     },
     "execution_count": 17,
     "metadata": {},
     "output_type": "execute_result"
    }
   ],
   "source": [
    "bird"
   ]
  },
  {
   "cell_type": "code",
   "execution_count": 18,
   "metadata": {},
   "outputs": [],
   "source": [
    "\n",
    "function birdCan() {\n",
    "    for (key of Object.keys(bird)) {\n",
    "        console.log(key + \": \" + bird[key]);\n",
    "    }\n",
    "}\n"
   ]
  },
  {
   "cell_type": "code",
   "execution_count": 19,
   "metadata": {},
   "outputs": [
    {
     "name": "stdout",
     "output_type": "stream",
     "text": [
      "canFly: true\n",
      "hasFeathers: true\n"
     ]
    }
   ],
   "source": [
    "\n",
    "birdCan();\n"
   ]
  },
  {
   "cell_type": "code",
   "execution_count": 20,
   "metadata": {},
   "outputs": [],
   "source": [
    "\n",
    "function animalCan() {\n",
    "    for (prop in bird) {\n",
    "        console.log(prop + \": \" + bird[prop]);\n",
    "    }\n",
    "}\n"
   ]
  },
  {
   "cell_type": "code",
   "execution_count": 21,
   "metadata": {},
   "outputs": [
    {
     "name": "stdout",
     "output_type": "stream",
     "text": [
      "canFly: true\n",
      "hasFeathers: true\n",
      "canJump: true\n"
     ]
    }
   ],
   "source": [
    "\n",
    "animalCan()"
   ]
  },
  {
   "cell_type": "code",
   "execution_count": 26,
   "metadata": {},
   "outputs": [
    {
     "data": {
      "text/plain": [
       "{ canFly: true, hasFeathers: true }"
      ]
     },
     "execution_count": 26,
     "metadata": {},
     "output_type": "execute_result"
    }
   ],
   "source": [
    "bird"
   ]
  },
  {
   "cell_type": "code",
   "execution_count": 25,
   "metadata": {},
   "outputs": [
    {
     "data": {
      "text/plain": [
       "{ canJump: true }"
      ]
     },
     "execution_count": 25,
     "metadata": {},
     "output_type": "execute_result"
    }
   ],
   "source": [
    "Object.getPrototypeOf(bird)"
   ]
  },
  {
   "cell_type": "code",
   "execution_count": 27,
   "metadata": {},
   "outputs": [
    {
     "data": {
      "text/plain": [
       "{ canJump: true }"
      ]
     },
     "execution_count": 27,
     "metadata": {},
     "output_type": "execute_result"
    }
   ],
   "source": []
  },
  {
   "cell_type": "markdown",
   "metadata": {},
   "source": [
    "# forEach "
   ]
  },
  {
   "cell_type": "code",
   "execution_count": 29,
   "metadata": {},
   "outputs": [
    {
     "name": "stdout",
     "output_type": "stream",
     "text": [
      "0. kiwi\n",
      "1. mango\n",
      "2. apple\n",
      "3. pear\n"
     ]
    }
   ],
   "source": [
    "const fruits = ['kiwi','mango','apple','pear'];\n",
    "function appendIndex(fruit, index) {\n",
    "    console.log(`${index}. ${fruit}`)\n",
    "}\n",
    "fruits.forEach(appendIndex);"
   ]
  },
  {
   "cell_type": "code",
   "execution_count": 36,
   "metadata": {},
   "outputs": [
    {
     "name": "stdout",
     "output_type": "stream",
     "text": [
      "0. onion\n",
      "1. garlic\n",
      "2. potato\n"
     ]
    }
   ],
   "source": [
    "var verduras1 = ['onion', 'garlic', 'potato'];\n",
    "verduras1.forEach( function(veggie, index) {\n",
    "    console.log(`${index}. ${veggie}`);\n",
    "});"
   ]
  },
  {
   "cell_type": "code",
   "execution_count": 37,
   "metadata": {},
   "outputs": [
    {
     "name": "stdout",
     "output_type": "stream",
     "text": [
      "[ 'speed', 100, 'color', 'yellow' ]\n"
     ]
    }
   ],
   "source": [
    "const result = [];\n",
    "const drone = {\n",
    "    speed: 100,\n",
    "    color: 'yellow'\n",
    "}\n",
    "const droneKeys = Object.keys(drone);\n",
    "droneKeys.forEach( function(key) {\n",
    "    result.push(key, drone[key])\n",
    "})\n",
    "console.log(result)"
   ]
  },
  {
   "cell_type": "markdown",
   "metadata": {},
   "source": [
    "# filter() method\n"
   ]
  },
  {
   "cell_type": "code",
   "execution_count": 38,
   "metadata": {},
   "outputs": [
    {
     "data": {
      "text/plain": [
       "[ 30, 40, 50 ]"
      ]
     },
     "execution_count": 38,
     "metadata": {},
     "output_type": "execute_result"
    }
   ],
   "source": [
    "const nums = [0,10,20,30,40,50];\n",
    "nums.filter( function(num) {\n",
    "    return num > 20;\n",
    "})"
   ]
  },
  {
   "cell_type": "markdown",
   "metadata": {},
   "source": [
    "# The map method"
   ]
  },
  {
   "cell_type": "code",
   "execution_count": 39,
   "metadata": {},
   "outputs": [
    {
     "data": {
      "text/plain": [
       "[ 0, 1, 2, 3, 4, 5 ]"
      ]
     },
     "execution_count": 39,
     "metadata": {},
     "output_type": "execute_result"
    }
   ],
   "source": [
    "[0,10,20,30,40,50].map( function(num) {\n",
    "    return num / 10\n",
    "})"
   ]
  },
  {
   "cell_type": "markdown",
   "metadata": {},
   "source": [
    "# Working with Maps in JavaScript"
   ]
  },
  {
   "cell_type": "code",
   "execution_count": 40,
   "metadata": {},
   "outputs": [
    {
     "data": {
      "text/plain": [
       "Map {\n",
       "  1 => 'The Champion',\n",
       "  2 => 'The Runner-up',\n",
       "  3 => 'The third place' }"
      ]
     },
     "execution_count": 40,
     "metadata": {},
     "output_type": "execute_result"
    }
   ],
   "source": [
    "let bestBoxers = new Map();\n",
    "bestBoxers.set(1, \"The Champion\");\n",
    "bestBoxers.set(2, \"The Runner-up\");\n",
    "bestBoxers.set(3, \"The third place\");\n"
   ]
  },
  {
   "cell_type": "code",
   "execution_count": 43,
   "metadata": {},
   "outputs": [
    {
     "data": {
      "text/plain": [
       "Map {\n",
       "  1 => 'The Champion',\n",
       "  2 => 'The Runner-up',\n",
       "  3 => 'The third place' }"
      ]
     },
     "execution_count": 43,
     "metadata": {},
     "output_type": "execute_result"
    }
   ],
   "source": [
    "bestBoxers"
   ]
  },
  {
   "cell_type": "code",
   "execution_count": 44,
   "metadata": {},
   "outputs": [
    {
     "data": {
      "text/plain": [
       "'The Champion'"
      ]
     },
     "execution_count": 44,
     "metadata": {},
     "output_type": "execute_result"
    }
   ],
   "source": [
    "bestBoxers.get(1)"
   ]
  },
  {
   "cell_type": "code",
   "execution_count": 45,
   "metadata": {},
   "outputs": [
    {
     "data": {
      "text/plain": [
       "Map {\n",
       "  1 => 'The Champion',\n",
       "  2 => 'The Runner-up',\n",
       "  3 => 'The third place',\n",
       "  'emi' => 'The Champion',\n",
       "  'belu' => 'The Runner-up',\n",
       "  'luca' => 'The third place' }"
      ]
     },
     "execution_count": 45,
     "metadata": {},
     "output_type": "execute_result"
    }
   ],
   "source": [
    "bestBoxers.set(\"emi\", \"The Champion\");\n",
    "bestBoxers.set(\"belu\", \"The Runner-up\");\n",
    "bestBoxers.set(\"luca\", \"The third place\");"
   ]
  },
  {
   "cell_type": "code",
   "execution_count": 46,
   "metadata": {},
   "outputs": [
    {
     "data": {
      "text/plain": [
       "'The Runner-up'"
      ]
     },
     "execution_count": 46,
     "metadata": {},
     "output_type": "execute_result"
    }
   ],
   "source": [
    "bestBoxers.get(\"belu\")"
   ]
  },
  {
   "cell_type": "markdown",
   "metadata": {},
   "source": [
    "# Using Spread and Rest"
   ]
  },
  {
   "cell_type": "markdown",
   "metadata": {},
   "source": [
    "## Unir matrices, objetos usando el operador Spread"
   ]
  },
  {
   "cell_type": "code",
   "execution_count": 48,
   "metadata": {},
   "outputs": [],
   "source": [
    "const frutas = ['apple', 'pear', 'plum']\n",
    "const berries = ['blueberry', 'strawberry']\n",
    "const fruitsAndBerries = [...fruits, ...berries]"
   ]
  },
  {
   "cell_type": "code",
   "execution_count": 49,
   "metadata": {},
   "outputs": [
    {
     "data": {
      "text/plain": [
       "[ 'kiwi', 'mango', 'apple', 'pear', 'blueberry', 'strawberry' ]"
      ]
     },
     "execution_count": 49,
     "metadata": {},
     "output_type": "execute_result"
    }
   ],
   "source": [
    "fruitsAndBerries"
   ]
  },
  {
   "cell_type": "code",
   "execution_count": 50,
   "metadata": {},
   "outputs": [],
   "source": [
    "const flying = { wings: 2 }\n",
    "const car = { wheels: 4 }\n",
    "const flyingCar = {...flying, ...car}"
   ]
  },
  {
   "cell_type": "code",
   "execution_count": 51,
   "metadata": {},
   "outputs": [
    {
     "data": {
      "text/plain": [
       "{ wings: 2, wheels: 4 }"
      ]
     },
     "execution_count": 51,
     "metadata": {},
     "output_type": "execute_result"
    }
   ],
   "source": [
    "flyingCar"
   ]
  },
  {
   "cell_type": "code",
   "execution_count": 1,
   "metadata": {},
   "outputs": [
    {
     "data": {
      "text/plain": [
       "[ 'cebolla', 'perejil', 'zanahoria', 'remolacha' ]"
      ]
     },
     "execution_count": 1,
     "metadata": {},
     "output_type": "execute_result"
    }
   ],
   "source": [
    "var ver = ['cebolla', 'perejil']; \n",
    "ver = [...ver, 'zanahoria', 'remolacha'];\n",
    "ver"
   ]
  },
  {
   "cell_type": "code",
   "execution_count": 2,
   "metadata": {},
   "outputs": [],
   "source": [
    "const greeting = \"Hello\";\n",
    "const arrayOfChars = [...greeting];"
   ]
  },
  {
   "cell_type": "code",
   "execution_count": 3,
   "metadata": {},
   "outputs": [
    {
     "name": "stdout",
     "output_type": "stream",
     "text": [
      "[ 'H', 'e', 'l', 'l', 'o' ]\n"
     ]
    }
   ],
   "source": [
    "console.log(arrayOfChars)"
   ]
  },
  {
   "cell_type": "code",
   "execution_count": 5,
   "metadata": {},
   "outputs": [
    {
     "name": "stdout",
     "output_type": "stream",
     "text": [
      "201 200\n"
     ]
    }
   ],
   "source": [
    "// Aquí se explica cómo copiar un objeto en un objeto completamente separado, utilizando el operador de extensión.\n",
    "\n",
    "\n",
    "const car1 = {\n",
    "    speed: 200,\n",
    "    color: 'yellow'\n",
    "}\n",
    "const car2 = {...car1}\n",
    "\n",
    "car1.speed = 201\n",
    "\n",
    "console.log(car1.speed, car2.speed)"
   ]
  },
  {
   "cell_type": "code",
   "execution_count": 6,
   "metadata": {},
   "outputs": [
    {
     "name": "stdout",
     "output_type": "stream",
     "text": [
      "[ 'apples' ] 'not' [ 'apples', 'pears' ]\n"
     ]
    }
   ],
   "source": [
    "const fruits1 = ['apples', 'pears']\n",
    "const fruits2 = [...fruits1]\n",
    "fruits1.pop()\n",
    "console.log(fruits1, \"not\", fruits2)"
   ]
  },
  {
   "cell_type": "code",
   "execution_count": 7,
   "metadata": {},
   "outputs": [
    {
     "name": "stdout",
     "output_type": "stream",
     "text": [
      "soup\n"
     ]
    }
   ],
   "source": [
    "const meal = [\"soup\", \"steak\", \"ice cream\"]\n",
    "let [starter] = meal;\n",
    "console.log(starter);"
   ]
  },
  {
   "cell_type": "markdown",
   "metadata": {},
   "source": [
    " # set o conjuntos"
   ]
  },
  {
   "cell_type": "code",
   "execution_count": 8,
   "metadata": {},
   "outputs": [
    {
     "data": {
      "text/plain": [
       "Set { 1, 2, 3 }"
      ]
     },
     "execution_count": 8,
     "metadata": {},
     "output_type": "execute_result"
    }
   ],
   "source": [
    "let set = new Set();\n",
    "    set.add(1);\n",
    "    set.add(2);\n",
    "    set.add(3);\n",
    "    set.add(2);\n",
    "    set.add(1);\n"
   ]
  },
  {
   "cell_type": "code",
   "execution_count": 9,
   "metadata": {},
   "outputs": [
    {
     "data": {
      "text/plain": [
       "Set { 1, 2, 3 }"
      ]
     },
     "execution_count": 9,
     "metadata": {},
     "output_type": "execute_result"
    }
   ],
   "source": [
    "set"
   ]
  },
  {
   "cell_type": "code",
   "execution_count": 10,
   "metadata": {},
   "outputs": [
    {
     "name": "stdout",
     "output_type": "stream",
     "text": [
      "3\n"
     ]
    }
   ],
   "source": [
    "let obj = {\n",
    "    key: 1,\n",
    "    value: 4\n",
    "};\n",
    "\n",
    "let output = { ...obj };\n",
    "output.value -= obj.key;\n",
    "\n",
    "console.log(output.value);\n"
   ]
  },
  {
   "cell_type": "code",
   "execution_count": 12,
   "metadata": {},
   "outputs": [
    {
     "name": "stdout",
     "output_type": "stream",
     "text": [
      "[ 10, 9, 8, 7, 6 ]\n",
      "5\n"
     ]
    }
   ],
   "source": [
    "function count(...basket) {\n",
    "    console.log(basket)\n",
    "    console.log(basket.length)\n",
    "}\n",
    "\n",
    "count(10, 9, 8, 7, 6);"
   ]
  },
  {
   "cell_type": "markdown",
   "metadata": {},
   "source": [
    "# Codigos de examen y"
   ]
  },
  {
   "cell_type": "code",
   "execution_count": 3,
   "metadata": {},
   "outputs": [
    {
     "name": "stdout",
     "output_type": "stream",
     "text": [
      "33\n"
     ]
    }
   ],
   "source": [
    "function scopeTest() {\n",
    "    var y = 44;\n",
    "\n",
    "    console.log(x);\n",
    "}\n",
    "\n",
    "var x = 33;\n",
    "scopeTest();"
   ]
  },
  {
   "cell_type": "code",
   "execution_count": 4,
   "metadata": {},
   "outputs": [
    {
     "name": "stdout",
     "output_type": "stream",
     "text": [
      "10\n"
     ]
    }
   ],
   "source": [
    "class Cake {\n",
    "    constructor(lyr) {\n",
    "        this.layers = lyr;\n",
    "    }\n",
    "\n",
    "    getLayers() {\n",
    "        return this.layers;\n",
    "    }\n",
    "}\n",
    "\n",
    "class WeddingCake extends Cake {\n",
    "    constructor() {\n",
    "        super(2);\n",
    "    }\n",
    "\n",
    "    getLayers() {\n",
    "        return super.getLayers() * 5;\n",
    "    }\n",
    "}\n",
    "\n",
    "var result = new WeddingCake();\n",
    "console.log(result.getLayers());\n"
   ]
  },
  {
   "cell_type": "code",
   "execution_count": 1,
   "metadata": {},
   "outputs": [],
   "source": [
    "class Animal {};"
   ]
  },
  {
   "cell_type": "code",
   "execution_count": 1,
   "metadata": {},
   "outputs": [
    {
     "ename": "ReferenceError",
     "evalue": "Must call super constructor in derived class before accessing 'this' or returning from derived constructor",
     "output_type": "error",
     "traceback": [
      "evalmachine.<anonymous>:5",
      "            this.noise = \"bark\";",
      "            ^",
      "",
      "ReferenceError: Must call super constructor in derived class before accessing 'this' or returning from derived constructor",
      "    at new Dog (evalmachine.<anonymous>:5:13)",
      "    at new Wolf (evalmachine.<anonymous>:15:13)",
      "    at evalmachine.<anonymous>:20:14",
      "    at ContextifyScript.Script.runInThisContext (vm.js:50:33)",
      "    at Object.runInThisContext (vm.js:139:38)",
      "    at run ([eval]:1020:15)",
      "    at onRunRequest ([eval]:864:18)",
      "    at onMessage ([eval]:828:13)",
      "    at emitTwo (events.js:126:13)",
      "    at process.emit (events.js:214:7)"
     ]
    }
   ],
   "source": [
    "class Animal {};\n",
    "\n",
    "class Dog extends Animal {\n",
    "    constructor() {\n",
    "    this.noise = \"bark\";\n",
    "    };\n",
    "\n",
    "    makeNoise() {\n",
    "    return this.noise;\n",
    "    };\n",
    "    };\n",
    "\n",
    "class Wolf extends Dog {\n",
    "    constructor() {\n",
    "        super();\n",
    "        this.noise = \"growl\";\n",
    "        }\n",
    "    };\n",
    "\n",
    "var result = new Wolf();\n",
    "console.log(result.makeNoise());"
   ]
  },
  {
   "cell_type": "code",
   "execution_count": 1,
   "metadata": {},
   "outputs": [
    {
     "name": "stdout",
     "output_type": "stream",
     "text": [
      "growl\n"
     ]
    }
   ],
   "source": [
    "class Mascota {\n",
    "    constructor() {\n",
    "        this.noise = \"bark\";\n",
    "        };\n",
    "}\n",
    "class Dog extends Mascota{\n",
    "    constructor() {\n",
    "        super();\n",
    "    \n",
    "        this.noise = \"gao\";\n",
    "    };\n",
    "\n",
    "    makeNoise() {\n",
    "    return this.noise;\n",
    "    };\n",
    "    };\n",
    "\n",
    "class Wolf extends Dog {\n",
    "    constructor() {\n",
    "        super();\n",
    "        this.noise = \"growl\";\n",
    "        }\n",
    "    };\n",
    "\n",
    "var result = new Wolf();\n",
    "console.log(result.makeNoise());"
   ]
  },
  {
   "cell_type": "code",
   "execution_count": null,
   "metadata": {},
   "outputs": [],
   "source": []
  }
 ],
 "metadata": {
  "kernelspec": {
   "display_name": "JavaScript (Node.js)",
   "language": "javascript",
   "name": "javascript"
  },
  "language_info": {
   "file_extension": ".js",
   "mimetype": "application/javascript",
   "name": "javascript",
   "version": "8.10.0"
  },
  "orig_nbformat": 4
 },
 "nbformat": 4,
 "nbformat_minor": 2
}
