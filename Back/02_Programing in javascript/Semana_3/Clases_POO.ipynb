{
 "cells": [
  {
   "cell_type": "markdown",
   "metadata": {},
   "source": [
    "# Paradigma de Objetos Javascript"
   ]
  },
  {
   "cell_type": "markdown",
   "metadata": {},
   "source": [
    "Un objeto JavaScript es una colección de valores con nombre\n",
    "\n",
    "Los objetos escritos como pares de valor de nombre son similares a:  \n",
    "\n",
    "Matrices asociativas en PHP  \n",
    "Diccionarios en Python  \n",
    "Tablas hash en C  \n",
    "Mapas hash en Java  \n",
    "Hashes en Ruby y Perl  \n"
   ]
  },
  {
   "cell_type": "code",
   "execution_count": 3,
   "metadata": {},
   "outputs": [],
   "source": [
    "const person = {firstName:\"John\", lastName:\"Doe\", age:50, eyeColor:\"blue\"};\n"
   ]
  },
  {
   "cell_type": "code",
   "execution_count": 4,
   "metadata": {},
   "outputs": [
    {
     "data": {
      "text/plain": [
       "{ firstName: 'John', lastName: 'Doe', age: 50, eyeColor: 'blue' }"
      ]
     },
     "execution_count": 4,
     "metadata": {},
     "output_type": "execute_result"
    }
   ],
   "source": [
    "person"
   ]
  },
  {
   "cell_type": "code",
   "execution_count": 5,
   "metadata": {},
   "outputs": [
    {
     "data": {
      "text/plain": [
       "47"
      ]
     },
     "execution_count": 5,
     "metadata": {},
     "output_type": "execute_result"
    }
   ],
   "source": [
    "person.firstName = \"emiliano\"\n",
    "person.lastName = \"Passarello\"\n",
    "person.age = 47\n",
    "//"
   ]
  },
  {
   "cell_type": "code",
   "execution_count": 6,
   "metadata": {},
   "outputs": [
    {
     "data": {
      "text/plain": [
       "{ firstName: 'emiliano',\n",
       "  lastName: 'Passarello',\n",
       "  age: 47,\n",
       "  eyeColor: 'blue' }"
      ]
     },
     "execution_count": 6,
     "metadata": {},
     "output_type": "execute_result"
    }
   ],
   "source": [
    "person"
   ]
  },
  {
   "cell_type": "code",
   "execution_count": 7,
   "metadata": {},
   "outputs": [
    {
     "data": {
      "text/plain": [
       "'blue'"
      ]
     },
     "execution_count": 7,
     "metadata": {},
     "output_type": "execute_result"
    }
   ],
   "source": [
    "const persona = new Object();\n",
    "persona.firstName = \"John\";\n",
    "persona.lastName = \"Doe\";\n",
    "persona.age = 50;\n",
    "persona.eyeColor = \"blue\";"
   ]
  },
  {
   "cell_type": "code",
   "execution_count": 8,
   "metadata": {},
   "outputs": [
    {
     "data": {
      "text/plain": [
       "{ firstName: 'John', lastName: 'Doe', age: 50, eyeColor: 'blue' }"
      ]
     },
     "execution_count": 8,
     "metadata": {},
     "output_type": "execute_result"
    }
   ],
   "source": [
    "persona"
   ]
  },
  {
   "cell_type": "code",
   "execution_count": 9,
   "metadata": {},
   "outputs": [
    {
     "data": {
      "text/plain": [
       "'emiliano'"
      ]
     },
     "execution_count": 9,
     "metadata": {},
     "output_type": "execute_result"
    }
   ],
   "source": [
    "person.firstName\n"
   ]
  },
  {
   "cell_type": "code",
   "execution_count": 10,
   "metadata": {},
   "outputs": [
    {
     "data": {
      "text/plain": [
       "47"
      ]
     },
     "execution_count": 10,
     "metadata": {},
     "output_type": "execute_result"
    }
   ],
   "source": [
    "person[\"age\"]"
   ]
  },
  {
   "cell_type": "code",
   "execution_count": 11,
   "metadata": {},
   "outputs": [],
   "source": [
    "var alumno = {\n",
    "    nombre    : \"Emiliano\",\n",
    "    apellido  : \"Passarello\",\n",
    "    getNombre : function () {\n",
    "        return `mi nombre es : ${this.nombre}`\n",
    "    }\n",
    "    \n",
    "}"
   ]
  },
  {
   "cell_type": "code",
   "execution_count": 12,
   "metadata": {},
   "outputs": [
    {
     "data": {
      "text/plain": [
       "'mi nombre es : Emiliano'"
      ]
     },
     "execution_count": 12,
     "metadata": {},
     "output_type": "execute_result"
    }
   ],
   "source": [
    "alumno.getNombre()"
   ]
  },
  {
   "cell_type": "markdown",
   "metadata": {},
   "source": [
    "## Craando objetos a traves de funciones"
   ]
  },
  {
   "cell_type": "code",
   "execution_count": 13,
   "metadata": {},
   "outputs": [],
   "source": [
    "function Icecream(flavor) {\n",
    "    this.flavor = flavor;\n",
    "    this.meltIt = function() {\n",
    "        console.log(`El Icecream de ${this.flavor} esta derretido`);\n",
    "    }\n",
    "}"
   ]
  },
  {
   "cell_type": "code",
   "execution_count": 14,
   "metadata": {},
   "outputs": [],
   "source": [
    "var helado = new Icecream (\"limon\")"
   ]
  },
  {
   "cell_type": "code",
   "execution_count": 15,
   "metadata": {},
   "outputs": [
    {
     "data": {
      "text/plain": [
       "'object'"
      ]
     },
     "execution_count": 15,
     "metadata": {},
     "output_type": "execute_result"
    }
   ],
   "source": [
    "typeof(helado)"
   ]
  },
  {
   "cell_type": "code",
   "execution_count": 16,
   "metadata": {},
   "outputs": [
    {
     "data": {
      "text/plain": [
       "Icecream { flavor: 'limon', meltIt: [Function] }"
      ]
     },
     "execution_count": 16,
     "metadata": {},
     "output_type": "execute_result"
    }
   ],
   "source": [
    "helado"
   ]
  },
  {
   "cell_type": "code",
   "execution_count": 17,
   "metadata": {},
   "outputs": [
    {
     "name": "stdout",
     "output_type": "stream",
     "text": [
      "El Icecream de limon esta derretido\n"
     ]
    }
   ],
   "source": [
    "helado.meltIt()"
   ]
  },
  {
   "cell_type": "code",
   "execution_count": 18,
   "metadata": {},
   "outputs": [
    {
     "data": {
      "text/plain": [
       "Icecream {}"
      ]
     },
     "execution_count": 18,
     "metadata": {},
     "output_type": "execute_result"
    }
   ],
   "source": [
    "Object.getPrototypeOf(helado)   // para averiguar que tipo es el objeto"
   ]
  },
  {
   "cell_type": "code",
   "execution_count": 19,
   "metadata": {},
   "outputs": [
    {
     "data": {
      "text/plain": [
       "[ 'limon', [Function] ]"
      ]
     },
     "execution_count": 19,
     "metadata": {},
     "output_type": "execute_result"
    }
   ],
   "source": [
    "Object.values(helado)"
   ]
  },
  {
   "cell_type": "code",
   "execution_count": 20,
   "metadata": {},
   "outputs": [
    {
     "data": {
      "text/plain": [
       "[ 'flavor', 'meltIt' ]"
      ]
     },
     "execution_count": 20,
     "metadata": {},
     "output_type": "execute_result"
    }
   ],
   "source": [
    "Object.keys(helado)"
   ]
  },
  {
   "cell_type": "code",
   "execution_count": 21,
   "metadata": {},
   "outputs": [
    {
     "data": {
      "text/plain": [
       "'function'"
      ]
     },
     "execution_count": 21,
     "metadata": {},
     "output_type": "execute_result"
    }
   ],
   "source": [
    "typeof(Icecream)"
   ]
  },
  {
   "cell_type": "code",
   "execution_count": 22,
   "metadata": {},
   "outputs": [
    {
     "data": {
      "text/plain": [
       "[]"
      ]
     },
     "execution_count": 22,
     "metadata": {},
     "output_type": "execute_result"
    }
   ],
   "source": [
    "Object.keys(Icecream)"
   ]
  },
  {
   "cell_type": "markdown",
   "metadata": {},
   "source": [
    "## Creando Objetos con Class"
   ]
  },
  {
   "cell_type": "markdown",
   "metadata": {},
   "source": [
    "Cuando necesite codificar relaciones OOP más complejas, puede usar la  palabra clave class  y su sintaxis fácil de entender y de razonar."
   ]
  },
  {
   "cell_type": "code",
   "execution_count": 23,
   "metadata": {},
   "outputs": [],
   "source": [
    "// se unas class y el constructor es constructor, la palabla clave this es obligatoria como si fuera el self de python \n",
    "class Train                                                             {\n",
    "    \n",
    "    constructor ( color, lightsOn )                                     {\n",
    "        this.color = color                                              ;\n",
    "        this.lightsOn = lightsOn;                                       }\n",
    "                                                                        }"
   ]
  },
  {
   "cell_type": "code",
   "execution_count": 24,
   "metadata": {},
   "outputs": [],
   "source": [
    "var Tren_sarmiento = new Train(\"celeste\",false)"
   ]
  },
  {
   "cell_type": "code",
   "execution_count": 25,
   "metadata": {},
   "outputs": [
    {
     "name": "stdout",
     "output_type": "stream",
     "text": [
      "Train {}\n",
      "[ 'color', 'lightsOn' ]\n",
      "[ 'celeste', false ]\n"
     ]
    }
   ],
   "source": [
    "console.log( Object.getPrototypeOf(Tren_sarmiento))\n",
    "console.log( Object.keys(          Tren_sarmiento))\n",
    "console.log( Object.values(        Tren_sarmiento))\n",
    "\n"
   ]
  },
  {
   "cell_type": "code",
   "execution_count": 1,
   "metadata": {},
   "outputs": [],
   "source": [
    "class Tren {\n",
    "    constructor(color , lucesON ) {\n",
    "        this.color   = color;\n",
    "        this.lucesON = lucesON;\n",
    "    }\n",
    "    alternalLuz() {\n",
    "        this.lucesON = ! this.lucesON;\n",
    "    }\n",
    "    lightsStatus() {\n",
    "        console.log('Luces encendidas?', this.lucesON ?  \"SI\" : \"No\");  // ? : funcionan como if y else\n",
    "    }\n",
    "    getSelf() {\n",
    "        console.log(this);\n",
    "    }\n",
    "    getPrototype() {\n",
    "        var proto = Object.getPrototypeOf(this);\n",
    "        console.log(proto);\n",
    "    }\n",
    "}\n",
    "\n"
   ]
  },
  {
   "cell_type": "code",
   "execution_count": 2,
   "metadata": {},
   "outputs": [],
   "source": [
    "var sarmiento = new Tren(\"celeste\", false)"
   ]
  },
  {
   "cell_type": "code",
   "execution_count": 3,
   "metadata": {},
   "outputs": [
    {
     "data": {
      "text/plain": [
       "[ 'color', 'lucesON' ]"
      ]
     },
     "execution_count": 3,
     "metadata": {},
     "output_type": "execute_result"
    }
   ],
   "source": [
    "Object.keys(sarmiento)"
   ]
  },
  {
   "cell_type": "code",
   "execution_count": 5,
   "metadata": {},
   "outputs": [
    {
     "data": {
      "text/plain": [
       "[ 'celeste', false ]"
      ]
     },
     "execution_count": 5,
     "metadata": {},
     "output_type": "execute_result"
    }
   ],
   "source": [
    "Object.values(sarmiento)"
   ]
  },
  {
   "cell_type": "code",
   "execution_count": 6,
   "metadata": {},
   "outputs": [
    {
     "name": "stdout",
     "output_type": "stream",
     "text": [
      "Tren { color: 'celeste', lucesON: false }\n"
     ]
    }
   ],
   "source": [
    "sarmiento.getSelf()"
   ]
  },
  {
   "cell_type": "code",
   "execution_count": 7,
   "metadata": {},
   "outputs": [
    {
     "name": "stdout",
     "output_type": "stream",
     "text": [
      "Tren {}\n"
     ]
    }
   ],
   "source": [
    "sarmiento.getPrototype()"
   ]
  },
  {
   "cell_type": "code",
   "execution_count": 8,
   "metadata": {},
   "outputs": [
    {
     "data": {
      "text/plain": [
       "Tren { color: 'celeste', lucesON: true }"
      ]
     },
     "execution_count": 8,
     "metadata": {},
     "output_type": "execute_result"
    }
   ],
   "source": [
    "aarmiento.alternalLuz()\n",
    "sarmiento"
   ]
  },
  {
   "cell_type": "code",
   "execution_count": 17,
   "metadata": {},
   "outputs": [
    {
     "name": "stdout",
     "output_type": "stream",
     "text": [
      "Luces encendidas? SI\n"
     ]
    }
   ],
   "source": [
    "sarmiento.lightsStatus()"
   ]
  },
  {
   "cell_type": "markdown",
   "metadata": {},
   "source": [
    "## Herencia\n",
    "\n",
    "Para heredar de una clase a una nueva subclase, JavaScript proporciona la  palabra clave extends  , que funciona de la siguiente manera:"
   ]
  },
  {
   "cell_type": "code",
   "execution_count": 11,
   "metadata": {},
   "outputs": [],
   "source": [
    "class TrenRapido extends Tren {\n",
    "    constructor (color , lucesON, pasajeros, altaVelocidad) {\n",
    "        super (color , lucesON);\n",
    "        this.pasajeros     = pasajeros;\n",
    "        this.altaVelocidad = altaVelocidad;\n",
    "    }\n",
    "    alternaVelocidad () {\n",
    "        this.altaVelocidad = !this.altaVelocidad;\n",
    "        console.log('Estado velocidad:', this.altaVelocidad ? \"Alta\" : \"Normal\");\n",
    "    }\n",
    "    alternalLuz() {\n",
    "        super.alternalLuz();\n",
    "        super.lightsStatus();\n",
    "        // console.log('Lights are 100% operational.');\n",
    "    }\n",
    "\n",
    "}"
   ]
  },
  {
   "cell_type": "code",
   "execution_count": 12,
   "metadata": {},
   "outputs": [],
   "source": [
    "var Sarmiento = new TrenRapido (\"celeste\", false, 1000, false)"
   ]
  },
  {
   "cell_type": "code",
   "execution_count": 13,
   "metadata": {},
   "outputs": [
    {
     "name": "stdout",
     "output_type": "stream",
     "text": [
      "TrenRapido {\n",
      "  color: 'celeste',\n",
      "  lucesON: false,\n",
      "  pasajeros: 1000,\n",
      "  altaVelocidad: false }\n"
     ]
    }
   ],
   "source": [
    "Sarmiento.getSelf()"
   ]
  },
  {
   "cell_type": "code",
   "execution_count": 15,
   "metadata": {},
   "outputs": [
    {
     "name": "stdout",
     "output_type": "stream",
     "text": [
      "Luces encendidas? No\n"
     ]
    }
   ],
   "source": [
    "Sarmiento.alternalLuz()"
   ]
  },
  {
   "cell_type": "code",
   "execution_count": 19,
   "metadata": {},
   "outputs": [
    {
     "name": "stdout",
     "output_type": "stream",
     "text": [
      "Estado velocidad: Alta\n"
     ]
    }
   ],
   "source": [
    "Sarmiento.alternaVelocidad()"
   ]
  },
  {
   "cell_type": "code",
   "execution_count": 28,
   "metadata": {},
   "outputs": [
    {
     "name": "stdout",
     "output_type": "stream",
     "text": [
      "TrenRapido {}\n"
     ]
    }
   ],
   "source": [
    "Sarmiento.getPrototype()"
   ]
  },
  {
   "cell_type": "code",
   "execution_count": 29,
   "metadata": {},
   "outputs": [
    {
     "data": {
      "text/plain": [
       "{ color: \n",
       "   { value: 'celeste',\n",
       "     writable: true,\n",
       "     enumerable: true,\n",
       "     configurable: true },\n",
       "  lucesON: \n",
       "   { value: false,\n",
       "     writable: true,\n",
       "     enumerable: true,\n",
       "     configurable: true },\n",
       "  pasajeros: \n",
       "   { value: 1000,\n",
       "     writable: true,\n",
       "     enumerable: true,\n",
       "     configurable: true },\n",
       "  altaVelocidad: \n",
       "   { value: true,\n",
       "     writable: true,\n",
       "     enumerable: true,\n",
       "     configurable: true } }"
      ]
     },
     "execution_count": 29,
     "metadata": {},
     "output_type": "execute_result"
    }
   ],
   "source": [
    "Object.getOwnPropertyDescriptors(Sarmiento)"
   ]
  },
  {
   "cell_type": "markdown",
   "metadata": {},
   "source": [
    "## Polifmorfismo"
   ]
  },
  {
   "cell_type": "markdown",
   "metadata": {},
   "source": []
  },
  {
   "cell_type": "code",
   "execution_count": 20,
   "metadata": {},
   "outputs": [],
   "source": [
    "class Bird {\n",
    "    useWings() {\n",
    "        console.log(\"Flying!\")\n",
    "    }\n",
    "}\n"
   ]
  },
  {
   "cell_type": "code",
   "execution_count": 21,
   "metadata": {},
   "outputs": [],
   "source": [
    "class Eagle extends Bird {\n",
    "    useWings() {\n",
    "        super.useWings()\n",
    "        console.log(\"Barely flapping!\")\n",
    "    }\n",
    "}\n"
   ]
  },
  {
   "cell_type": "code",
   "execution_count": 22,
   "metadata": {},
   "outputs": [],
   "source": [
    "class Penguin extends Bird {\n",
    "    useWings() {\n",
    "        console.log(\"Diving!\")\n",
    "    }\n",
    "}\n"
   ]
  },
  {
   "cell_type": "code",
   "execution_count": 23,
   "metadata": {},
   "outputs": [],
   "source": [
    "var baldEagle = new Eagle();\n",
    "var kingPenguin = new Penguin();\n"
   ]
  },
  {
   "cell_type": "code",
   "execution_count": 25,
   "metadata": {},
   "outputs": [
    {
     "name": "stdout",
     "output_type": "stream",
     "text": [
      "Flying!\n",
      "Barely flapping!\n"
     ]
    }
   ],
   "source": [
    "\n",
    "baldEagle.useWings(); // \"Flying! Barely flapping!\"\n"
   ]
  },
  {
   "cell_type": "code",
   "execution_count": 26,
   "metadata": {},
   "outputs": [
    {
     "name": "stdout",
     "output_type": "stream",
     "text": [
      "Diving!\n"
     ]
    }
   ],
   "source": [
    "kingPenguin.useWings(); // \"Diving!\""
   ]
  },
  {
   "cell_type": "code",
   "execution_count": null,
   "metadata": {},
   "outputs": [],
   "source": []
  },
  {
   "cell_type": "code",
   "execution_count": 34,
   "metadata": {},
   "outputs": [
    {
     "name": "stdout",
     "output_type": "stream",
     "text": [
      "2\n"
     ]
    }
   ],
   "source": [
    "class Cake {\n",
    "    constructor(lyr) {\n",
    "        this.layers = lyr + 1;\n",
    "    }\n",
    "}\n",
    "\n",
    "var result = new Cake(1);\n",
    "console.log(result.layers);\n"
   ]
  },
  {
   "cell_type": "code",
   "execution_count": 35,
   "metadata": {},
   "outputs": [
    {
     "name": "stdout",
     "output_type": "stream",
     "text": [
      "4\n"
     ]
    }
   ],
   "source": [
    "class Animal {\n",
    "    constructor(lg) {\n",
    "        this.legs = lg;\n",
    "    }\n",
    "}\n",
    "\n",
    "class Dog extends Animal {\n",
    "    constructor() {\n",
    "        super(4);\n",
    "    }\n",
    "}\n",
    "\n",
    "var result = new Dog();\n",
    "console.log(result.legs);"
   ]
  },
  {
   "cell_type": "code",
   "execution_count": 36,
   "metadata": {},
   "outputs": [
    {
     "name": "stdout",
     "output_type": "stream",
     "text": [
      "undefined\n"
     ]
    }
   ],
   "source": [
    "class Mascota {\n",
    "\n",
    "}\n",
    "\n",
    "class Cat extends Mascota {\n",
    "  constructor() {\n",
    "    super();\n",
    "    this.noise = \"meow\";\n",
    "  }\n",
    "}\n",
    "\n",
    "var result = new Mascota();\n",
    "console.log(result.noise);"
   ]
  },
  {
   "cell_type": "code",
   "execution_count": 37,
   "metadata": {},
   "outputs": [
    {
     "name": "stdout",
     "output_type": "stream",
     "text": [
      "Hey\n"
     ]
    }
   ],
   "source": [
    "class Person {\n",
    "    sayHello() {\n",
    "        console.log(\"Hello\");\n",
    "    }\n",
    "}\n",
    "\n",
    "class Friend extends Person {\n",
    "    sayHello() {\n",
    "        console.log(\"Hey\");\n",
    "    }\n",
    "}\n",
    "\n",
    "var result = new Friend();\n",
    "result.sayHello();\n"
   ]
  },
  {
   "cell_type": "code",
   "execution_count": null,
   "metadata": {},
   "outputs": [],
   "source": []
  }
 ],
 "metadata": {
  "kernelspec": {
   "display_name": "JavaScript (Node.js)",
   "language": "javascript",
   "name": "javascript"
  },
  "language_info": {
   "file_extension": ".js",
   "mimetype": "application/javascript",
   "name": "javascript",
   "version": "8.10.0"
  },
  "orig_nbformat": 4,
  "vscode": {
   "interpreter": {
    "hash": "80000eb5ac6a8ec86f12c7c1572fd79b71cde2b05663699b4fdacdc8a3d334c0"
   }
  }
 },
 "nbformat": 4,
 "nbformat_minor": 2
}
