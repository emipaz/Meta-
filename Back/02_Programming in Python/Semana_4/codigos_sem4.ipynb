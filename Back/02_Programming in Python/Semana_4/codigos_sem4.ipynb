{
 "cells": [
  {
   "cell_type": "markdown",
   "metadata": {},
   "source": [
    "Como desarrollador de Python en Little Lemon, sabes que hay varias ventajas de los módulos en Python. Cuál de estas ventajas te ayudará a evitar la interdependencia entre tus módulos de Python.\n",
    "\n",
    "\n",
    "- Alcance\n",
    "- **Simplicidad**\n",
    "- Reutilización"
   ]
  },
  {
   "cell_type": "markdown",
   "metadata": {},
   "source": [
    "Uno de tus compañeros de Little Lemon se ha acercado a ti y te ha preguntado si la siguiente afirmación es cierta: \"¿Puede cualquier archivo de Python ser un módulo?\" ¿Cuál sería tu respuesta?\n",
    "\n",
    "- **Sí**\n",
    "- No"
   ]
  },
  {
   "cell_type": "code",
   "execution_count": 1,
   "metadata": {},
   "outputs": [
    {
     "data": {
      "text/plain": [
       "['/home/emi/Escritorio/Meta-/Back/02_Programming in Python/Semana_4',\n",
       " '/usr/lib/python311.zip',\n",
       " '/usr/lib/python3.11',\n",
       " '/usr/lib/python3.11/lib-dynload',\n",
       " '',\n",
       " '/home/emi/py311/lib/python3.11/site-packages']"
      ]
     },
     "execution_count": 1,
     "metadata": {},
     "output_type": "execute_result"
    }
   ],
   "source": [
    "import sys\n",
    "\n",
    "sys.path"
   ]
  },
  {
   "cell_type": "code",
   "execution_count": 3,
   "metadata": {},
   "outputs": [
    {
     "name": "stdout",
     "output_type": "stream",
     "text": [
      "/home/emi/Escritorio/Meta-/Back/02_Programming in Python/Semana_4\n",
      "/usr/lib/python311.zip\n",
      "/usr/lib/python3.11\n",
      "/usr/lib/python3.11/lib-dynload\n",
      "\n",
      "/home/emi/py311/lib/python3.11/site-packages\n"
     ]
    }
   ],
   "source": [
    "print(*sys.path, sep=\"\\n\")"
   ]
  },
  {
   "cell_type": "code",
   "execution_count": 4,
   "metadata": {},
   "outputs": [],
   "source": [
    "import calendar"
   ]
  },
  {
   "cell_type": "code",
   "execution_count": 13,
   "metadata": {},
   "outputs": [
    {
     "data": {
      "text/plain": [
       "3"
      ]
     },
     "execution_count": 13,
     "metadata": {},
     "output_type": "execute_result"
    }
   ],
   "source": [
    "calendar.leapdays(2000,2010)"
   ]
  },
  {
   "cell_type": "code",
   "execution_count": 17,
   "metadata": {},
   "outputs": [
    {
     "data": {
      "text/plain": [
       "True"
      ]
     },
     "execution_count": 17,
     "metadata": {},
     "output_type": "execute_result"
    }
   ],
   "source": [
    "calendar.isleap(2036)"
   ]
  },
  {
   "cell_type": "code",
   "execution_count": 14,
   "metadata": {},
   "outputs": [],
   "source": [
    "lista = []"
   ]
  },
  {
   "cell_type": "code",
   "execution_count": 15,
   "metadata": {},
   "outputs": [],
   "source": [
    "a = lista.append"
   ]
  },
  {
   "cell_type": "code",
   "execution_count": 16,
   "metadata": {},
   "outputs": [
    {
     "data": {
      "text/plain": [
       "[1, 2, 3, 5]"
      ]
     },
     "execution_count": 16,
     "metadata": {},
     "output_type": "execute_result"
    }
   ],
   "source": [
    "a(1);a(2);a(3);a(5)\n",
    "lista"
   ]
  },
  {
   "cell_type": "markdown",
   "metadata": {},
   "source": [
    "# Ambitos"
   ]
  },
  {
   "cell_type": "code",
   "execution_count": 19,
   "metadata": {},
   "outputs": [
    {
     "name": "stdout",
     "output_type": "stream",
     "text": [
      "variable 139817388060400\n"
     ]
    }
   ],
   "source": [
    "var = \"alfa\"\n",
    "\n",
    "print(var, id(var))"
   ]
  },
  {
   "cell_type": "code",
   "execution_count": 24,
   "metadata": {},
   "outputs": [],
   "source": [
    "def b():\n",
    "    Var = \"beta\"\n",
    "    print(\"Enclosed : \",var, id(var))\n",
    "    \n",
    "def c():\n",
    "    Var = \"beta\"\n",
    "    print(\"Enclosed : \",Var, id(Var))"
   ]
  },
  {
   "cell_type": "code",
   "execution_count": 25,
   "metadata": {},
   "outputs": [
    {
     "name": "stdout",
     "output_type": "stream",
     "text": [
      "Enclosed :  beta 139817371272368\n"
     ]
    }
   ],
   "source": [
    "c()"
   ]
  },
  {
   "cell_type": "code",
   "execution_count": 26,
   "metadata": {},
   "outputs": [
    {
     "name": "stdout",
     "output_type": "stream",
     "text": [
      "Enclosed :  variable 139817388060400\n"
     ]
    }
   ],
   "source": [
    "b()"
   ]
  },
  {
   "cell_type": "code",
   "execution_count": 1,
   "metadata": {},
   "outputs": [
    {
     "name": "stdout",
     "output_type": "stream",
     "text": [
      "11\n",
      "8\n",
      "5\n",
      "2\n"
     ]
    }
   ],
   "source": [
    "def recursion(num):\n",
    "    print(num)\n",
    "    next = num - 3\n",
    "    if next > 1:\n",
    "        recursion(next)\n",
    "\n",
    "recursion(11)"
   ]
  },
  {
   "cell_type": "code",
   "execution_count": 2,
   "metadata": {},
   "outputs": [
    {
     "name": "stdout",
     "output_type": "stream",
     "text": [
      "Color: yellow\n"
     ]
    }
   ],
   "source": [
    "def d():\n",
    "    color = \"green\"\n",
    "    def e():\n",
    "        nonlocal color\n",
    "        color = \"yellow\"\n",
    "    e()\n",
    "    print(\"Color: \" + color)\n",
    "    color = \"red\"\n",
    "color = \"blue\"\n",
    "d()"
   ]
  },
  {
   "cell_type": "code",
   "execution_count": 3,
   "metadata": {},
   "outputs": [
    {
     "name": "stdout",
     "output_type": "stream",
     "text": [
      "9\n"
     ]
    }
   ],
   "source": [
    "num = 9\n",
    "class Car:\n",
    "    num = 5\n",
    "    bathrooms = 2\n",
    "\n",
    "def cost_evaluation(num):\n",
    "    num = 10\n",
    "    return num\n",
    "\n",
    "class Bike():\n",
    "    num = 11\n",
    "\n",
    "cost_evaluation(num)\n",
    "car = Car()\n",
    "bike = Bike()\n",
    "car.num = 7\n",
    "Car.num = 2\n",
    "print(num)"
   ]
  },
  {
   "cell_type": "code",
   "execution_count": 5,
   "metadata": {},
   "outputs": [
    {
     "name": "stdout",
     "output_type": "stream",
     "text": [
      "Function inside A\n"
     ]
    }
   ],
   "source": [
    "class A:\n",
    "    def a(self):\n",
    "       return \"Function inside A\"\n",
    "\n",
    "class B:\n",
    "   def a(self):\n",
    "       return \"Function inside B\"\n",
    "\n",
    "class C:\n",
    "   pass\n",
    "\n",
    "class D(C, A, B):\n",
    "   pass\n",
    "\n",
    "d = D()\n",
    "print(d.a())"
   ]
  },
  {
   "cell_type": "code",
   "execution_count": 1,
   "metadata": {},
   "outputs": [],
   "source": [
    "import os \n",
    "def print_changes(): \n",
    "    contenido = os.listdir(\".\") \n",
    "    print(\"Contenido del directorio actual\") \n",
    "    print(contenido) "
   ]
  },
  {
   "cell_type": "code",
   "execution_count": null,
   "metadata": {},
   "outputs": [],
   "source": []
  }
 ],
 "metadata": {
  "kernelspec": {
   "display_name": "anaconda",
   "language": "python",
   "name": "python3.7"
  },
  "language_info": {
   "codemirror_mode": {
    "name": "ipython",
    "version": 3
   },
   "file_extension": ".py",
   "mimetype": "text/x-python",
   "name": "python",
   "nbconvert_exporter": "python",
   "pygments_lexer": "ipython3",
   "version": "3.7.7"
  },
  "vscode": {
   "interpreter": {
    "hash": "fcbf007ba77cba3fdf48b1b0ee5de58e7e03e3fe5e5fc9e328b4c9ebf96f443e"
   }
  }
 },
 "nbformat": 4,
 "nbformat_minor": 4
}
