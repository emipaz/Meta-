{
 "cells": [
  {
   "attachments": {},
   "cell_type": "markdown",
   "metadata": {},
   "source": [
    "# Sub-classing Generic Views"
   ]
  },
  {
   "attachments": {},
   "cell_type": "markdown",
   "metadata": {},
   "source": [
    "En esta lectura, aprenderá sobre las vistas genéricas basadas en clases. Puede implementar la capa de vista con funciones o vistas basadas en clases en una aplicación Django. Declara una clase extendiendo la clase django.views.View y define los métodos get() y post() dentro de ella para manejar las solicitudes HTTP. El patrón de URL conecta la ruta a la clase con el método as_view() de la clase View. Un ejemplo rápido de vista de clase:"
   ]
  },
  {
   "attachments": {},
   "cell_type": "markdown",
   "metadata": {},
   "source": []
  },
  {
   "cell_type": "code",
   "execution_count": 1,
   "metadata": {},
   "outputs": [],
   "source": [
    "from django.views import View   \n",
    "from django.shortcuts import HttpResponse\n",
    "\n",
    "class NewView(View):   \n",
    "    def get(self, request):   \n",
    "        # View logic will place here   \n",
    "        return HttpResponse('response') "
   ]
  },
  {
   "cell_type": "code",
   "execution_count": 5,
   "metadata": {},
   "outputs": [],
   "source": [
    "# El patrón de URL en urls.py se actualiza de la siguiente manera:\n",
    "\n",
    "#urls.py\n",
    "#from myapp.views import NewView   \n",
    "from django.urls import path, include\n",
    "urlpatterns = [   \n",
    "    path('about/', NewView.as_view()),   \n",
    "]  "
   ]
  },
  {
   "attachments": {},
   "cell_type": "markdown",
   "metadata": {},
   "source": [
    "Django proporciona vistas genéricas basadas en clases para que el proceso de desarrollo sea mucho más fácil y rápido. En esta lectura, descubrirá cómo se implementan las vistas genéricas. Las vistas genéricas más utilizadas son:\n",
    "\n",
    "- TemplateView\n",
    "\n",
    "- CreateView \n",
    "\n",
    "- ListView\n",
    "\n",
    "- DetailView \n",
    "\n",
    "- UpdateView \n",
    "\n",
    "- DeleteView\n",
    "\n",
    "- LoginView"
   ]
  },
  {
   "attachments": {},
   "cell_type": "markdown",
   "metadata": {},
   "source": [
    "## Diferencia entre vista de función y vista genérica \n",
    "\n",
    "Tomemos un ejemplo simple de representación de una plantilla Hello world. \n",
    "\n",
    "Debe representar la plantilla como la respuesta HTTP: el valor de retorno de la función. La función de vista para este propósito sería la siguiente:"
   ]
  },
  {
   "cell_type": "code",
   "execution_count": 18,
   "metadata": {},
   "outputs": [],
   "source": [
    "from django.shortcuts import render \n",
    "from django.template import loader\n",
    "\n",
    "def index(request): \n",
    "    template = loader.get_template('myapp/index.html') \n",
    "    context={} \n",
    "    return HttpResponse(template.render(context, request)) "
   ]
  },
  {
   "attachments": {},
   "cell_type": "markdown",
   "metadata": {},
   "source": [
    "Como ya habrá aprendido, la carpeta del paquete de la aplicación existe dentro de la carpeta del contenedor externo del proyecto. La aplicación myapp se crea en el proyecto Django denominado myproject.\n",
    "\n",
    "In the myapp/urls.py, define the URL pattern:\n",
    "\n",
    "```python \n",
    "\n",
    "path('/', views.index, name='index') \n",
    "\n",
    "```"
   ]
  },
  {
   "attachments": {},
   "cell_type": "markdown",
   "metadata": {},
   "source": [
    "Utilice una clase TemplateView en su lugar. Simplemente defina una clase que la amplíe y establezca el atributo template_name."
   ]
  },
  {
   "cell_type": "code",
   "execution_count": null,
   "metadata": {},
   "outputs": [],
   "source": [
    "from django.views.generic.base import TemplateView \n",
    "\n",
    "class IndexView(TemplateView): \n",
    "    template_name = 'index.html' "
   ]
  },
  {
   "attachments": {},
   "cell_type": "markdown",
   "metadata": {},
   "source": [
    "The corresponding URL pattern should incorporate this:\n",
    "\n",
    "```python \n",
    "from . import views\n",
    "\n",
    "path('/', views.IndexView.as_view(), name='index') \n",
    "\n",
    "```"
   ]
  },
  {
   "attachments": {},
   "cell_type": "markdown",
   "metadata": {},
   "source": [
    "Ventaja de las vistas basadas en funciones \n",
    "\n",
    "- Simple de implementar. \n",
    "- Fácil de leer. \n",
    "- Flujo de código explícito. \n",
    "- Uso sencillo de decoradores. \n",
    "- bueno para una funcionalidad única o especializada. \n",
    "\n",
    "Desventajas de las vistas basadas en funciones \n",
    "\n",
    "- Difícil de extender y reutilizar el código. \n",
    "- Manejo de métodos HTTP a través de bifurcaciones condicionales. \n",
    "\n",
    "Ventajas de las vistas basadas en clases \n",
    " \n",
    "- Reutilización de código. \n",
    "- DRY: el uso de CBV ayuda a reducir la duplicación de código. \n",
    "- El código se puede ampliar para incluir más funcionalidades. \n",
    "- clase con diferentes métodos para cada solicitud http en lugar de declaraciones de bifurcación condicional dentro de una sola vista basada en funciones. \n",
    "- Vistas genéricas basadas en clases integradas. \n",
    "\n",
    "Desventajas de las vistas basadas en clases \n",
    "\n",
    "- Más difícil de leer. \n",
    "- Flujo de código implícito. \n",
    "- El uso de decoradores de vista requiere una importación adicional o una anulación de método. \n",
    "\n",
    "Requisitos de una vista genérica \n",
    "\n",
    "- Si la vista necesita que se procese un modelo, debe establecerse como el valor de la propiedad del modelo de la vista. \n",
    "- Cada tipo de vista busca un nombre de plantilla con nombre de modelo con el sufijo del tipo de vista genérica. Por ejemplo, para un modelo de empleado de procesamiento de vista de lista, Django intenta encontrar employee_list.html. \n",
    "- La vista genérica se asigna a la URL con el método as_view() de la clase View."
   ]
  },
  {
   "attachments": {},
   "cell_type": "markdown",
   "metadata": {},
   "source": []
  },
  {
   "attachments": {},
   "cell_type": "markdown",
   "metadata": {},
   "source": [
    "Ahora construyamos una subclase para cada una de las respectivas clases de vista genérica para realizar operaciones CRUD en el modelo de empleado:"
   ]
  },
  {
   "attachments": {},
   "cell_type": "markdown",
   "metadata": {},
   "source": [
    "```python\n",
    "\n",
    "from django.db import models\n",
    "\n",
    "class Employee(models.Model):   \n",
    "    name    = models.CharField(max_length=100)   \n",
    "    email   = models.EmailField()   \n",
    "    contact = models.CharField(max_length=15)   \n",
    "    class Meta:   \n",
    "        db_table = \"Employee\" \n",
    "```"
   ]
  },
  {
   "attachments": {},
   "cell_type": "markdown",
   "metadata": {},
   "source": []
  },
  {
   "attachments": {},
   "cell_type": "markdown",
   "metadata": {},
   "source": [
    "## CreateView\n",
    "LA Clase CreateView  automatiza la creación de una nueva instancia del modelo. Para proporcionar una vista de creación, use la subclase de  CreateView:\n",
    "\n",
    "```python\n",
    "from django.views.generic.edit import CreateView   \n",
    "\n",
    "class EmployeeCreate(CreateView):   \n",
    "    model = Employee    \n",
    "    fields = '__all__' \n",
    "    success_url = \"/employees/success/\" \n",
    "```\n",
    "Esta vista crea un formulario modelo basado en la estructura del modelo y lo pasa a la plantilla employeeCreate.html:\n",
    "\n",
    "```html\n",
    "<form method=\"post\"> \n",
    "{% csrf_token %} \n",
    "<table> \n",
    "    {{ form.as_table }} \n",
    "</table> \n",
    "    <input type=\"submit\" value=\"Save\"> \n",
    "</form> \n",
    "```\n",
    "\n",
    "La ruta URL se actualiza asignando la ruta \"create/\" al método as_view() de esta clase:\n",
    "\n",
    "```python\n",
    "\n",
    "from .views import EmployeeCreate \n",
    "urlpatterns = [ \n",
    "    . . . \n",
    "    path('create/', EmployeeCreate.as_view(), name = 'EmployeeCreate')  , \n",
    "] \n",
    "```\n",
    "\n",
    "Cuando el cliente visita esta URL, se le presenta el formulario. El usuario completa y envía los detalles del empleado, que se guardan en la tabla Empleado.\n",
    "\n",
    "\n"
   ]
  },
  {
   "attachments": {},
   "cell_type": "markdown",
   "metadata": {},
   "source": [
    "# ListView\n",
    "\n",
    "El módulo django.views.generic.list de Django contiene la definición de la clase ListView. Escriba su subclase para representar la lista de objetos modelo. \n",
    "\n",
    "La clase EmployeeList es similar a la subclase CreateView, excepto por su clase base.\n",
    "\n",
    "```python\n",
    "from django.views.generic.list import ListView  \n",
    "class EmployeeList(ListView):   \n",
    "    model = Employee   \n",
    "    success_url = \"/employees/success/\" \n",
    "```\n",
    "La plantilla requerida para esta vista debe llamarse employee_list.html. Django envía el objeto modelo en su contexto. Usando la sintaxis de bucle DTL, puede mostrar la lista de empleados:\n",
    "\n",
    "```html\n",
    "<ul>   \n",
    "        {% for object in object_list %}   \n",
    "        <li>Name: {{ object.name }}</li>   \n",
    "        <li>Email: {{ object.email }}</li>   \n",
    "        <li>contact: {{ object.contact }}</li>  \n",
    "        <br/> \n",
    "        {% endfor %}   \n",
    "</ul> \n",
    "```\n",
    "\n",
    "If the user visits \n",
    "http://localhost:/8000/employees/list\n",
    ", the browser lists all the rows in the employee table."
   ]
  },
  {
   "attachments": {},
   "cell_type": "markdown",
   "metadata": {},
   "source": []
  },
  {
   "attachments": {},
   "cell_type": "markdown",
   "metadata": {},
   "source": [
    "\n",
    "El DetailView genérico se encuentra en el módulo django.views.generic.detail. Ahora, cree su subclase, EmployeeDetail (de la misma manera que EmployeeList). \n",
    "\n",
    "```python\n",
    "from django.views.generic.detail import DetailView  \n",
    "class EmployeeList(DetailView):   \n",
    "    model = Employee   \n",
    "    success_url = \"/employees/success/\" \n",
    "```\n",
    "\n",
    "Tenga en cuenta que esta vista muestra los detalles de un objeto cuya clave principal se pasa como argumento en la URL. Por lo tanto, agregue la siguiente ruta en el patrón de URL de la aplicación:\n",
    "\n",
    "```python\n",
    "path('show/<int:pk>', EmployeeDetail.as_view(), name = 'EmployeeDetail') \n",
    "```\n",
    "\n",
    "Una vez más, el objeto View obtiene la instancia del modelo y la pasa como contexto a la plantilla employee_detail.html, que muestra sus atributos con la sintaxis de plantilla de la siguiente manera:\n",
    "\n",
    "```html\n",
    "<h1>Name : {{object.name}}</h1>   \n",
    "\n",
    "    <p>Email : {{ object.email }}</p>   \n",
    "    <p>Contact : {{ object.contact }}</p> \n",
    "```\n",
    "\n",
    "Assuming the URL visited is /employees/1, the Employee record with primary key=1 will be displayed.\n",
    "\n"
   ]
  },
  {
   "attachments": {},
   "cell_type": "markdown",
   "metadata": {},
   "source": [
    "## UpdateView\n",
    "\n",
    "Dado que esta vista está destinada a actualizar los datos de una instancia de modelo dada, su ruta URL debe configurarse en consecuencia:\n",
    "\n",
    "```python\n",
    "from django.views.generic.edit import UpdateView  \n",
    "class EmployeeUpdate(UpdateView):   \n",
    "    model = Employee   \n",
    "    fields = '__all__'   \n",
    "    success_url = \"/employees/success/\" \n",
    "```\n",
    "\n",
    "Dado que esta vista está destinada a actualizar los datos de una instancia de modelo dada, su ruta URL debe configurarse en consecuencia:\n",
    "\n",
    "```python\n",
    "path('update/<int:pk>', EmployeeUpdate.as_view(), name = 'EmployeeUpdate')\n",
    "```\n",
    "\n",
    "The example URL that invokes this view is /employees/1.\n",
    "\n",
    "The UpdateView class renders the template with its name having update_formas suffix:\n",
    "\n",
    "#employee_update_form.html \n",
    "\n",
    "```html\n",
    "<form method=\"post\"> \n",
    "{% csrf_token %} \n",
    "<table> \n",
    "    {{ form.as_table }} \n",
    "</table> \n",
    "    <input type=\"submit\" value=\"Save\"> \n",
    "</form> \n",
    "```"
   ]
  },
  {
   "attachments": {},
   "cell_type": "markdown",
   "metadata": {},
   "source": [
    "## DeleteView\n",
    "\n",
    "Por último, la vista genérica realiza la operación de eliminación en la instancia dada de un modelo. Está presente al editar el submódulo del módulo django.views.generic:\n",
    "\n",
    "```python\n",
    "from django.views.generic.edit import DeleteView \n",
    "class EmployeeDelete(DeleteView):   \n",
    "    model = Employee   \n",
    "    success_url = \"/employees/success/\" \n",
    "\n",
    "# urls.py\n",
    "path('<delete/int:pk>', EmployeeDelete.as_view(), name = 'EmployeeDelete')\n",
    "```\n",
    "\n",
    "La plantilla employee_confirm_delete.html solicita la confirmación del usuario antes de eliminar la instancia del modelo.\n",
    "\n",
    "```html\n",
    "<form method=\"post\"> \n",
    "{% csrf_token %}   \n",
    "\n",
    "    <p>Are you sure you want to delete \"{{ object }}\"?</p>   \n",
    "\n",
    "    <input type=\"submit\" value=\"Confirm\">   \n",
    "</form> \n",
    "```\n",
    "En esta lectura, conoció las vistas genéricas basadas en clases para realizar operaciones CRUD. Las vistas genéricas son mucho más fáciles de escribir que la vista basada en funciones, aunque ambas tienen sus propias ventajas y desventajas.\n",
    "\n"
   ]
  },
  {
   "attachments": {},
   "cell_type": "markdown",
   "metadata": {},
   "source": []
  }
 ],
 "metadata": {
  "kernelspec": {
   "display_name": "env",
   "language": "python",
   "name": "python3"
  },
  "language_info": {
   "codemirror_mode": {
    "name": "ipython",
    "version": 3
   },
   "file_extension": ".py",
   "mimetype": "text/x-python",
   "name": "python",
   "nbconvert_exporter": "python",
   "pygments_lexer": "ipython3",
   "version": "3.8.10"
  },
  "orig_nbformat": 4
 },
 "nbformat": 4,
 "nbformat_minor": 2
}
