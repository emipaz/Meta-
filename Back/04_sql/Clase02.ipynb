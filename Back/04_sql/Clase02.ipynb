{
 "cells": [
  {
   "cell_type": "code",
   "execution_count": 1,
   "id": "e319f884-3abb-4ebe-b1aa-a43b00ce3c73",
   "metadata": {
    "tags": []
   },
   "outputs": [],
   "source": [
    "%load_ext sql"
   ]
  },
  {
   "cell_type": "code",
   "execution_count": 2,
   "id": "301c8e8a-5c62-465f-810f-1d411c753609",
   "metadata": {
    "tags": []
   },
   "outputs": [],
   "source": [
    "%sql sqlite:///nueva.sqlite"
   ]
  },
  {
   "cell_type": "code",
   "execution_count": 3,
   "id": "15bfacbe-dcb3-4fa3-b110-33a53c2d3feb",
   "metadata": {
    "tags": []
   },
   "outputs": [
    {
     "name": "stdout",
     "output_type": "stream",
     "text": [
      " * sqlite:///nueva.sqlite\n",
      "(sqlite3.OperationalError) table alumnos already exists\n",
      "[SQL: CREATE TABLE alumnos (id INTEGER NOT NULL, \n",
      "                      nombre VARCHAR(50) NOT NULL, \n",
      "                      clase VARCHAR(30) DEFAULT \"SQL\",\n",
      "                      fecha_de_ingreso DATE NOT NULL);]\n",
      "(Background on this error at: http://sqlalche.me/e/e3q8)\n"
     ]
    }
   ],
   "source": [
    "%%sql\n",
    "\n",
    "CREATE TABLE alumnos (id INTEGER NOT NULL, \n",
    "                      nombre VARCHAR(50) NOT NULL, \n",
    "                      clase VARCHAR(30) DEFAULT \"SQL\",\n",
    "                      fecha_de_ingreso DATE NOT NULL);"
   ]
  },
  {
   "cell_type": "code",
   "execution_count": 4,
   "id": "9bde443c-6687-4f23-ba65-640dd3c5359e",
   "metadata": {
    "tags": []
   },
   "outputs": [
    {
     "name": "stdout",
     "output_type": "stream",
     "text": [
      " * sqlite:///nueva.sqlite\n",
      "1 rows affected.\n"
     ]
    },
    {
     "data": {
      "text/plain": [
       "[]"
      ]
     },
     "execution_count": 4,
     "metadata": {},
     "output_type": "execute_result"
    }
   ],
   "source": [
    "%sql INSERT INTO alumnos (id, nombre, fecha_de_ingreso) VALUES (1, \"Jorge\", \"01-01-2023\");"
   ]
  },
  {
   "cell_type": "code",
   "execution_count": 5,
   "id": "aaed0686-e676-42a7-b26e-85078b117f95",
   "metadata": {
    "tags": []
   },
   "outputs": [
    {
     "name": "stdout",
     "output_type": "stream",
     "text": [
      " * sqlite:///nueva.sqlite\n",
      "Done.\n"
     ]
    },
    {
     "data": {
      "text/html": [
       "<table>\n",
       "    <tr>\n",
       "        <th>id</th>\n",
       "        <th>nombre</th>\n",
       "        <th>fecha_de_ingreso</th>\n",
       "    </tr>\n",
       "    <tr>\n",
       "        <td>1</td>\n",
       "        <td>Xavier</td>\n",
       "        <td>2023-02-04</td>\n",
       "    </tr>\n",
       "    <tr>\n",
       "        <td>2</td>\n",
       "        <td>Ana</td>\n",
       "        <td>2023-01-15</td>\n",
       "    </tr>\n",
       "    <tr>\n",
       "        <td>3</td>\n",
       "        <td>Rodrigo</td>\n",
       "        <td>2023-02-02</td>\n",
       "    </tr>\n",
       "    <tr>\n",
       "        <td>4</td>\n",
       "        <td>Susana</td>\n",
       "        <td>2023-01-01</td>\n",
       "    </tr>\n",
       "    <tr>\n",
       "        <td>5</td>\n",
       "        <td>Jose</td>\n",
       "        <td>2023-02-01</td>\n",
       "    </tr>\n",
       "    <tr>\n",
       "        <td>6</td>\n",
       "        <td>Luis</td>\n",
       "        <td>2023-02-01</td>\n",
       "    </tr>\n",
       "    <tr>\n",
       "        <td>7</td>\n",
       "        <td>Omar</td>\n",
       "        <td>2023-02-01</td>\n",
       "    </tr>\n",
       "    <tr>\n",
       "        <td>1</td>\n",
       "        <td>Jorge</td>\n",
       "        <td>01-01-2023</td>\n",
       "    </tr>\n",
       "</table>"
      ],
      "text/plain": [
       "[(1, 'Xavier', '2023-02-04'),\n",
       " (2, 'Ana', '2023-01-15'),\n",
       " (3, 'Rodrigo', '2023-02-02'),\n",
       " (4, 'Susana', '2023-01-01'),\n",
       " (5, 'Jose', '2023-02-01'),\n",
       " (6, 'Luis', '2023-02-01'),\n",
       " (7, 'Omar', '2023-02-01'),\n",
       " (1, 'Jorge', '01-01-2023')]"
      ]
     },
     "execution_count": 5,
     "metadata": {},
     "output_type": "execute_result"
    }
   ],
   "source": [
    "%sql SELECT * FROM alumnos;"
   ]
  },
  {
   "cell_type": "code",
   "execution_count": 6,
   "id": "5b580cef-7837-4b32-b29b-2c8c2cbe28e5",
   "metadata": {
    "tags": []
   },
   "outputs": [
    {
     "name": "stdout",
     "output_type": "stream",
     "text": [
      " * sqlite:///nueva.sqlite\n",
      "Done.\n"
     ]
    },
    {
     "data": {
      "text/plain": [
       "[]"
      ]
     },
     "execution_count": 6,
     "metadata": {},
     "output_type": "execute_result"
    }
   ],
   "source": [
    "%sql ALTER TABLE alumnos ADD puntaje INTEGER;"
   ]
  },
  {
   "cell_type": "code",
   "execution_count": 7,
   "id": "bbffb6a9-bdc0-4d05-9b3d-a2309e1d3558",
   "metadata": {
    "tags": []
   },
   "outputs": [
    {
     "name": "stdout",
     "output_type": "stream",
     "text": [
      " * sqlite:///nueva.sqlite\n",
      "Done.\n"
     ]
    },
    {
     "data": {
      "text/html": [
       "<table>\n",
       "    <tr>\n",
       "        <th>id</th>\n",
       "        <th>nombre</th>\n",
       "        <th>fecha_de_ingreso</th>\n",
       "        <th>puntaje</th>\n",
       "    </tr>\n",
       "    <tr>\n",
       "        <td>1</td>\n",
       "        <td>Xavier</td>\n",
       "        <td>2023-02-04</td>\n",
       "        <td>None</td>\n",
       "    </tr>\n",
       "    <tr>\n",
       "        <td>2</td>\n",
       "        <td>Ana</td>\n",
       "        <td>2023-01-15</td>\n",
       "        <td>None</td>\n",
       "    </tr>\n",
       "    <tr>\n",
       "        <td>3</td>\n",
       "        <td>Rodrigo</td>\n",
       "        <td>2023-02-02</td>\n",
       "        <td>None</td>\n",
       "    </tr>\n",
       "    <tr>\n",
       "        <td>4</td>\n",
       "        <td>Susana</td>\n",
       "        <td>2023-01-01</td>\n",
       "        <td>None</td>\n",
       "    </tr>\n",
       "    <tr>\n",
       "        <td>5</td>\n",
       "        <td>Jose</td>\n",
       "        <td>2023-02-01</td>\n",
       "        <td>None</td>\n",
       "    </tr>\n",
       "    <tr>\n",
       "        <td>6</td>\n",
       "        <td>Luis</td>\n",
       "        <td>2023-02-01</td>\n",
       "        <td>None</td>\n",
       "    </tr>\n",
       "    <tr>\n",
       "        <td>7</td>\n",
       "        <td>Omar</td>\n",
       "        <td>2023-02-01</td>\n",
       "        <td>None</td>\n",
       "    </tr>\n",
       "    <tr>\n",
       "        <td>1</td>\n",
       "        <td>Jorge</td>\n",
       "        <td>01-01-2023</td>\n",
       "        <td>None</td>\n",
       "    </tr>\n",
       "</table>"
      ],
      "text/plain": [
       "[(1, 'Xavier', '2023-02-04', None),\n",
       " (2, 'Ana', '2023-01-15', None),\n",
       " (3, 'Rodrigo', '2023-02-02', None),\n",
       " (4, 'Susana', '2023-01-01', None),\n",
       " (5, 'Jose', '2023-02-01', None),\n",
       " (6, 'Luis', '2023-02-01', None),\n",
       " (7, 'Omar', '2023-02-01', None),\n",
       " (1, 'Jorge', '01-01-2023', None)]"
      ]
     },
     "execution_count": 7,
     "metadata": {},
     "output_type": "execute_result"
    }
   ],
   "source": [
    "%sql SELECT * FROM alumnos;"
   ]
  },
  {
   "cell_type": "code",
   "execution_count": 8,
   "id": "25f1e981-9287-4413-87b5-484d51464844",
   "metadata": {
    "tags": []
   },
   "outputs": [
    {
     "name": "stdout",
     "output_type": "stream",
     "text": [
      " * sqlite:///nueva.sqlite\n",
      "4 rows affected.\n"
     ]
    },
    {
     "data": {
      "text/plain": [
       "[]"
      ]
     },
     "execution_count": 8,
     "metadata": {},
     "output_type": "execute_result"
    }
   ],
   "source": [
    "%%sql \n",
    "\n",
    "INSERT INTO alumnos \n",
    "(id, nombre, fecha_de_ingreso)\n",
    "VALUES \n",
    "(4, \"Susana\", \"01-01-2023\"),\n",
    "(5, \"Jose\", \"01-02-2023\"),\n",
    "(6, \"Luis\", \"01-02-2023\"),\n",
    "(7, \"Omar\", \"01-02-2023\");"
   ]
  },
  {
   "cell_type": "code",
   "execution_count": 9,
   "id": "aac0b4d4-c33d-4116-a24a-c844e3e66ed8",
   "metadata": {
    "tags": []
   },
   "outputs": [
    {
     "name": "stdout",
     "output_type": "stream",
     "text": [
      " * sqlite:///nueva.sqlite\n",
      "Done.\n"
     ]
    },
    {
     "data": {
      "text/plain": [
       "[]"
      ]
     },
     "execution_count": 9,
     "metadata": {},
     "output_type": "execute_result"
    }
   ],
   "source": [
    "%sql ALTER TABLE alumnos DROP puntaje;"
   ]
  },
  {
   "cell_type": "code",
   "execution_count": 10,
   "id": "58d5b778-b5d7-494e-b121-17305a19b929",
   "metadata": {
    "tags": []
   },
   "outputs": [
    {
     "name": "stdout",
     "output_type": "stream",
     "text": [
      " * sqlite:///nueva.sqlite\n",
      "(sqlite3.OperationalError) no such column: clase\n",
      "[SQL: SELECT nombre, clase, id, fecha_de_ingreso, nombre FROM alumnos;]\n",
      "(Background on this error at: http://sqlalche.me/e/e3q8)\n"
     ]
    }
   ],
   "source": [
    "%sql SELECT nombre, id, fecha_de_ingreso, nombre FROM alumnos;"
   ]
  },
  {
   "cell_type": "code",
   "execution_count": 12,
   "id": "f04c7340-60c0-4e8d-ba04-a0cddd42ed5d",
   "metadata": {
    "tags": []
   },
   "outputs": [
    {
     "name": "stdout",
     "output_type": "stream",
     "text": [
      " * sqlite:///nueva.sqlite\n",
      "2 rows affected.\n"
     ]
    },
    {
     "data": {
      "text/plain": [
       "[]"
      ]
     },
     "execution_count": 12,
     "metadata": {},
     "output_type": "execute_result"
    }
   ],
   "source": [
    "%sql UPDATE alumnos SET fecha_de_ingreso = \"01-03-2023\" WHERE id = 4;"
   ]
  },
  {
   "cell_type": "code",
   "execution_count": 14,
   "id": "87376b0c-16c6-42fa-a462-9ef68d8f4540",
   "metadata": {
    "tags": []
   },
   "outputs": [
    {
     "name": "stdout",
     "output_type": "stream",
     "text": [
      " * sqlite:///nueva.sqlite\n",
      "2 rows affected.\n"
     ]
    },
    {
     "data": {
      "text/plain": [
       "[]"
      ]
     },
     "execution_count": 14,
     "metadata": {},
     "output_type": "execute_result"
    }
   ],
   "source": [
    "%sql DELETE FROM alumnos WHERE nombre = \"Omar\";"
   ]
  },
  {
   "cell_type": "code",
   "execution_count": 15,
   "id": "05508d9b-4fca-47e9-ad78-57d80febdaf7",
   "metadata": {
    "tags": []
   },
   "outputs": [
    {
     "name": "stdout",
     "output_type": "stream",
     "text": [
      " * sqlite:///nueva.sqlite\n",
      "10 rows affected.\n"
     ]
    },
    {
     "data": {
      "text/plain": [
       "[]"
      ]
     },
     "execution_count": 15,
     "metadata": {},
     "output_type": "execute_result"
    }
   ],
   "source": [
    "%sql DELETE FROM alumnos;"
   ]
  },
  {
   "cell_type": "code",
   "execution_count": 16,
   "id": "1ff117c9-2bc0-43fe-8295-7a4f7af447d7",
   "metadata": {
    "tags": []
   },
   "outputs": [
    {
     "name": "stdout",
     "output_type": "stream",
     "text": [
      " * sqlite:///nueva.sqlite\n",
      "Done.\n"
     ]
    },
    {
     "data": {
      "text/plain": [
       "[]"
      ]
     },
     "execution_count": 16,
     "metadata": {},
     "output_type": "execute_result"
    }
   ],
   "source": [
    "%sql DROP TABLE alumnos;"
   ]
  }
 ],
 "metadata": {
  "kernelspec": {
   "display_name": "Python 3 (ipykernel)",
   "language": "python",
   "name": "python3"
  },
  "language_info": {
   "codemirror_mode": {
    "name": "ipython",
    "version": 3
   },
   "file_extension": ".py",
   "mimetype": "text/x-python",
   "name": "python",
   "nbconvert_exporter": "python",
   "pygments_lexer": "ipython3",
   "version": "3.10.6"
  }
 },
 "nbformat": 4,
 "nbformat_minor": 5
}
