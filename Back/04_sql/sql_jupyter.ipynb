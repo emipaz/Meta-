{
 "cells": [
  {
   "cell_type": "code",
   "execution_count": 1,
   "id": "c047ed3d-6d0c-4db0-a7fe-1f8ba31a0102",
   "metadata": {},
   "outputs": [],
   "source": [
    "# pip install sql\n",
    "# pip install ipython-sql\n",
    "# pip install sqlalchemy"
   ]
  },
  {
   "cell_type": "code",
   "execution_count": 2,
   "id": "fc6ea36f",
   "metadata": {},
   "outputs": [],
   "source": [
    "import sqlalchemy"
   ]
  },
  {
   "cell_type": "code",
   "execution_count": 3,
   "id": "64411f9d",
   "metadata": {},
   "outputs": [
    {
     "data": {
      "text/plain": [
       "'1.4.46'"
      ]
     },
     "execution_count": 3,
     "metadata": {},
     "output_type": "execute_result"
    }
   ],
   "source": [
    "sqlalchemy.__version__"
   ]
  },
  {
   "cell_type": "code",
   "execution_count": 1,
   "id": "cc94a776-c133-40c5-ad8c-70c76b645cf0",
   "metadata": {},
   "outputs": [],
   "source": [
    "%load_ext sql"
   ]
  },
  {
   "cell_type": "code",
   "execution_count": 3,
   "id": "1554b1a4-b947-4095-b70e-810ff17b9258",
   "metadata": {},
   "outputs": [],
   "source": [
    "%sql sqlite:///mi_db.db"
   ]
  },
  {
   "cell_type": "code",
   "execution_count": 4,
   "id": "5e3fd91e-0b12-4b2c-9be8-70abf3c45cfc",
   "metadata": {},
   "outputs": [
    {
     "name": "stdout",
     "output_type": "stream",
     "text": [
      " * sqlite:///mi_db.db\n",
      "Done.\n",
      "1 rows affected.\n",
      "1 rows affected.\n",
      "1 rows affected.\n",
      "1 rows affected.\n",
      "1 rows affected.\n"
     ]
    },
    {
     "data": {
      "text/plain": [
       "[]"
      ]
     },
     "execution_count": 4,
     "metadata": {},
     "output_type": "execute_result"
    }
   ],
   "source": [
    "%%sql\n",
    "\n",
    "CREATE TABLE Fam(Name TEXT, Age INTEGER, Profession TEXT, Major TEXT);\n",
    "INSERT INTO Fam (Name, Age) VALUES('Pam', 50);\n",
    "INSERT INTO Fam (Name, Age) VALUES('Miranda', 32);\n",
    "INSERT INTO Fam (Name, Age) VALUES('Pascal', 45);\n",
    "INSERT INTO Fam (Name, Age) VALUES('Dave', 12);\n",
    "INSERT INTO Fam (Name, Age) VALUES('Emmy', 23);"
   ]
  },
  {
   "cell_type": "code",
   "execution_count": 5,
   "id": "2623ebdb-116e-4c2d-a831-f1b3c341059b",
   "metadata": {},
   "outputs": [
    {
     "name": "stdout",
     "output_type": "stream",
     "text": [
      " * sqlite:///mi_db.db\n",
      "(sqlite3.OperationalError) near \"s\": syntax error\n",
      "[SQL: s]\n",
      "(Background on this error at: https://sqlalche.me/e/14/e3q8)\n"
     ]
    }
   ],
   "source": [
    "%%sql\n",
    "\n",
    "s"
   ]
  },
  {
   "cell_type": "code",
   "execution_count": 4,
   "id": "10137ddc-28d0-4733-b4ee-4cf49ad714f7",
   "metadata": {},
   "outputs": [
    {
     "name": "stdout",
     "output_type": "stream",
     "text": [
      " * sqlite:///mi_db.db\n",
      "Done.\n"
     ]
    },
    {
     "data": {
      "text/html": [
       "<table>\n",
       "    <tr>\n",
       "        <th>Name</th>\n",
       "        <th>Age</th>\n",
       "        <th>Profession</th>\n",
       "        <th>Major</th>\n",
       "    </tr>\n",
       "    <tr>\n",
       "        <td>Pam</td>\n",
       "        <td>50</td>\n",
       "        <td>Unknown</td>\n",
       "        <td>1</td>\n",
       "    </tr>\n",
       "    <tr>\n",
       "        <td>Miranda</td>\n",
       "        <td>32</td>\n",
       "        <td>Unknown</td>\n",
       "        <td>1</td>\n",
       "    </tr>\n",
       "    <tr>\n",
       "        <td>Pascal</td>\n",
       "        <td>45</td>\n",
       "        <td>Unknown</td>\n",
       "        <td>1</td>\n",
       "    </tr>\n",
       "    <tr>\n",
       "        <td>Dave</td>\n",
       "        <td>12</td>\n",
       "        <td>Unknown</td>\n",
       "        <td>0</td>\n",
       "    </tr>\n",
       "    <tr>\n",
       "        <td>Emmy</td>\n",
       "        <td>23</td>\n",
       "        <td>Unknown</td>\n",
       "        <td>1</td>\n",
       "    </tr>\n",
       "</table>"
      ],
      "text/plain": [
       "[('Pam', 50, 'Unknown', '1'),\n",
       " ('Miranda', 32, 'Unknown', '1'),\n",
       " ('Pascal', 45, 'Unknown', '1'),\n",
       " ('Dave', 12, 'Unknown', '0'),\n",
       " ('Emmy', 23, 'Unknown', '1')]"
      ]
     },
     "execution_count": 4,
     "metadata": {},
     "output_type": "execute_result"
    }
   ],
   "source": [
    "%sql SELECT * FROM Fam"
   ]
  },
  {
   "cell_type": "code",
   "execution_count": 7,
   "id": "34fcc094-59f0-4c18-95aa-ccb7e0b2f45a",
   "metadata": {},
   "outputs": [
    {
     "name": "stdout",
     "output_type": "stream",
     "text": [
      " * sqlite:///mi_db.db\n",
      "5 rows affected.\n",
      "Done.\n"
     ]
    },
    {
     "data": {
      "text/html": [
       "<table>\n",
       "    <tr>\n",
       "        <th>Name</th>\n",
       "        <th>Age</th>\n",
       "        <th>Profession</th>\n",
       "        <th>Major</th>\n",
       "    </tr>\n",
       "    <tr>\n",
       "        <td>Pam</td>\n",
       "        <td>50</td>\n",
       "        <td>Unknown</td>\n",
       "        <td>None</td>\n",
       "    </tr>\n",
       "    <tr>\n",
       "        <td>Miranda</td>\n",
       "        <td>32</td>\n",
       "        <td>Unknown</td>\n",
       "        <td>None</td>\n",
       "    </tr>\n",
       "    <tr>\n",
       "        <td>Pascal</td>\n",
       "        <td>45</td>\n",
       "        <td>Unknown</td>\n",
       "        <td>None</td>\n",
       "    </tr>\n",
       "    <tr>\n",
       "        <td>Dave</td>\n",
       "        <td>12</td>\n",
       "        <td>Unknown</td>\n",
       "        <td>None</td>\n",
       "    </tr>\n",
       "    <tr>\n",
       "        <td>Emmy</td>\n",
       "        <td>23</td>\n",
       "        <td>Unknown</td>\n",
       "        <td>None</td>\n",
       "    </tr>\n",
       "</table>"
      ],
      "text/plain": [
       "[('Pam', 50, 'Unknown', None),\n",
       " ('Miranda', 32, 'Unknown', None),\n",
       " ('Pascal', 45, 'Unknown', None),\n",
       " ('Dave', 12, 'Unknown', None),\n",
       " ('Emmy', 23, 'Unknown', None)]"
      ]
     },
     "execution_count": 7,
     "metadata": {},
     "output_type": "execute_result"
    }
   ],
   "source": [
    "%%sql \n",
    "UPDATE Fam SET Profession='Unknown' WHERE Profession ISNULL;\n",
    "SELECT * FROM Fam"
   ]
  },
  {
   "cell_type": "code",
   "execution_count": 8,
   "id": "f718217f-7448-409c-aab0-4c6214295428",
   "metadata": {},
   "outputs": [
    {
     "name": "stdout",
     "output_type": "stream",
     "text": [
      " * sqlite:///mi_db.db\n",
      "Done.\n",
      "+---------+-----+------------+-------+\n",
      "|   Name  | Age | Profession | Major |\n",
      "+---------+-----+------------+-------+\n",
      "|   Pam   |  50 |  Unknown   |  None |\n",
      "| Miranda |  32 |  Unknown   |  None |\n",
      "|  Pascal |  45 |  Unknown   |  None |\n",
      "|   Dave  |  12 |  Unknown   |  None |\n",
      "|   Emmy  |  23 |  Unknown   |  None |\n",
      "+---------+-----+------------+-------+\n"
     ]
    }
   ],
   "source": [
    "a = %sql SELECT * FROM Fam\n",
    "\n",
    "print (a)"
   ]
  },
  {
   "cell_type": "code",
   "execution_count": 9,
   "id": "9b2b7a96-8f70-4c8c-abc8-36ef76305739",
   "metadata": {},
   "outputs": [
    {
     "data": {
      "text/plain": [
       "sql.run.ResultSet"
      ]
     },
     "execution_count": 9,
     "metadata": {},
     "output_type": "execute_result"
    }
   ],
   "source": [
    "type(a)"
   ]
  },
  {
   "cell_type": "code",
   "execution_count": 10,
   "id": "82d973e0-d17e-4e1e-9364-815cab4f5115",
   "metadata": {},
   "outputs": [
    {
     "data": {
      "text/html": [
       "<div>\n",
       "<style scoped>\n",
       "    .dataframe tbody tr th:only-of-type {\n",
       "        vertical-align: middle;\n",
       "    }\n",
       "\n",
       "    .dataframe tbody tr th {\n",
       "        vertical-align: top;\n",
       "    }\n",
       "\n",
       "    .dataframe thead th {\n",
       "        text-align: right;\n",
       "    }\n",
       "</style>\n",
       "<table border=\"1\" class=\"dataframe\">\n",
       "  <thead>\n",
       "    <tr style=\"text-align: right;\">\n",
       "      <th></th>\n",
       "      <th>Name</th>\n",
       "      <th>Age</th>\n",
       "      <th>Profession</th>\n",
       "      <th>Major</th>\n",
       "    </tr>\n",
       "  </thead>\n",
       "  <tbody>\n",
       "    <tr>\n",
       "      <th>0</th>\n",
       "      <td>Pam</td>\n",
       "      <td>50</td>\n",
       "      <td>Unknown</td>\n",
       "      <td>None</td>\n",
       "    </tr>\n",
       "    <tr>\n",
       "      <th>1</th>\n",
       "      <td>Miranda</td>\n",
       "      <td>32</td>\n",
       "      <td>Unknown</td>\n",
       "      <td>None</td>\n",
       "    </tr>\n",
       "    <tr>\n",
       "      <th>2</th>\n",
       "      <td>Pascal</td>\n",
       "      <td>45</td>\n",
       "      <td>Unknown</td>\n",
       "      <td>None</td>\n",
       "    </tr>\n",
       "    <tr>\n",
       "      <th>3</th>\n",
       "      <td>Dave</td>\n",
       "      <td>12</td>\n",
       "      <td>Unknown</td>\n",
       "      <td>None</td>\n",
       "    </tr>\n",
       "    <tr>\n",
       "      <th>4</th>\n",
       "      <td>Emmy</td>\n",
       "      <td>23</td>\n",
       "      <td>Unknown</td>\n",
       "      <td>None</td>\n",
       "    </tr>\n",
       "  </tbody>\n",
       "</table>\n",
       "</div>"
      ],
      "text/plain": [
       "      Name  Age Profession Major\n",
       "0      Pam   50    Unknown  None\n",
       "1  Miranda   32    Unknown  None\n",
       "2   Pascal   45    Unknown  None\n",
       "3     Dave   12    Unknown  None\n",
       "4     Emmy   23    Unknown  None"
      ]
     },
     "execution_count": 10,
     "metadata": {},
     "output_type": "execute_result"
    }
   ],
   "source": [
    "a.DataFrame()"
   ]
  },
  {
   "cell_type": "code",
   "execution_count": 11,
   "id": "c4cf1b66-dc41-4c29-b8a9-2b56eaec2e48",
   "metadata": {},
   "outputs": [
    {
     "data": {
      "text/plain": [
       "pandas.core.frame.DataFrame"
      ]
     },
     "execution_count": 11,
     "metadata": {},
     "output_type": "execute_result"
    }
   ],
   "source": [
    "type(a.DataFrame())"
   ]
  },
  {
   "cell_type": "code",
   "execution_count": 12,
   "id": "46e812c6-3281-4ddb-a335-067a2815234c",
   "metadata": {},
   "outputs": [
    {
     "name": "stdout",
     "output_type": "stream",
     "text": [
      " * sqlite:///mi_db.db\n",
      "2 rows affected.\n"
     ]
    },
    {
     "data": {
      "text/plain": [
       "[]"
      ]
     },
     "execution_count": 12,
     "metadata": {},
     "output_type": "execute_result"
    }
   ],
   "source": [
    "dato = False\n",
    "\n",
    "%sql UPDATE Fam SET Major= {dato} WHERE Age < 18"
   ]
  },
  {
   "cell_type": "code",
   "execution_count": 13,
   "id": "9f8b54b9",
   "metadata": {},
   "outputs": [
    {
     "name": "stdout",
     "output_type": "stream",
     "text": [
      " * sqlite:///mi_db.db\n",
      "Done.\n"
     ]
    },
    {
     "data": {
      "text/html": [
       "<table>\n",
       "    <tr>\n",
       "        <th>Name</th>\n",
       "        <th>Age</th>\n",
       "        <th>Profession</th>\n",
       "        <th>Major</th>\n",
       "    </tr>\n",
       "    <tr>\n",
       "        <td>Pam</td>\n",
       "        <td>50</td>\n",
       "        <td>Unknown</td>\n",
       "        <td>None</td>\n",
       "    </tr>\n",
       "    <tr>\n",
       "        <td>Miranda</td>\n",
       "        <td>32</td>\n",
       "        <td>Unknown</td>\n",
       "        <td>None</td>\n",
       "    </tr>\n",
       "    <tr>\n",
       "        <td>Pascal</td>\n",
       "        <td>45</td>\n",
       "        <td>Unknown</td>\n",
       "        <td>None</td>\n",
       "    </tr>\n",
       "    <tr>\n",
       "        <td>Dave</td>\n",
       "        <td>12</td>\n",
       "        <td>Unknown</td>\n",
       "        <td>0</td>\n",
       "    </tr>\n",
       "    <tr>\n",
       "        <td>Emmy</td>\n",
       "        <td>23</td>\n",
       "        <td>Unknown</td>\n",
       "        <td>None</td>\n",
       "    </tr>\n",
       "</table>"
      ],
      "text/plain": [
       "[('Pam', 50, 'Unknown', None),\n",
       " ('Miranda', 32, 'Unknown', None),\n",
       " ('Pascal', 45, 'Unknown', None),\n",
       " ('Dave', 12, 'Unknown', '0'),\n",
       " ('Emmy', 23, 'Unknown', None)]"
      ]
     },
     "execution_count": 13,
     "metadata": {},
     "output_type": "execute_result"
    }
   ],
   "source": [
    "%sql SELECT * FROM Fam"
   ]
  },
  {
   "cell_type": "code",
   "execution_count": 10,
   "id": "44a0ca27",
   "metadata": {},
   "outputs": [
    {
     "name": "stdout",
     "output_type": "stream",
     "text": [
      " * sqlite:///mi_db.db\n",
      "6 rows affected.\n"
     ]
    },
    {
     "data": {
      "text/plain": [
       "[]"
      ]
     },
     "execution_count": 10,
     "metadata": {},
     "output_type": "execute_result"
    }
   ],
   "source": [
    "data = True\n",
    "%sql UPDATE Fam SET Major= :data WHERE Age >=18"
   ]
  },
  {
   "cell_type": "code",
   "execution_count": 16,
   "id": "ac7cbacf",
   "metadata": {},
   "outputs": [
    {
     "name": "stdout",
     "output_type": "stream",
     "text": [
      " * sqlite:///mi_db.db\n",
      "Done.\n"
     ]
    },
    {
     "data": {
      "text/html": [
       "<table>\n",
       "    <tr>\n",
       "        <th>Name</th>\n",
       "        <th>Age</th>\n",
       "        <th>Profession</th>\n",
       "        <th>Major</th>\n",
       "    </tr>\n",
       "    <tr>\n",
       "        <td>Pam</td>\n",
       "        <td>50</td>\n",
       "        <td>Unknown</td>\n",
       "        <td>1</td>\n",
       "    </tr>\n",
       "    <tr>\n",
       "        <td>Miranda</td>\n",
       "        <td>32</td>\n",
       "        <td>Unknown</td>\n",
       "        <td>1</td>\n",
       "    </tr>\n",
       "    <tr>\n",
       "        <td>Pascal</td>\n",
       "        <td>45</td>\n",
       "        <td>Unknown</td>\n",
       "        <td>1</td>\n",
       "    </tr>\n",
       "    <tr>\n",
       "        <td>Dave</td>\n",
       "        <td>12</td>\n",
       "        <td>Unknown</td>\n",
       "        <td>0</td>\n",
       "    </tr>\n",
       "    <tr>\n",
       "        <td>Emmy</td>\n",
       "        <td>23</td>\n",
       "        <td>Unknown</td>\n",
       "        <td>1</td>\n",
       "    </tr>\n",
       "</table>"
      ],
      "text/plain": [
       "[('Pam', 50, 'Unknown', '1'),\n",
       " ('Miranda', 32, 'Unknown', '1'),\n",
       " ('Pascal', 45, 'Unknown', '1'),\n",
       " ('Dave', 12, 'Unknown', '0'),\n",
       " ('Emmy', 23, 'Unknown', '1')]"
      ]
     },
     "execution_count": 16,
     "metadata": {},
     "output_type": "execute_result"
    }
   ],
   "source": [
    "%sql SELECT * FROM Fam"
   ]
  },
  {
   "cell_type": "code",
   "execution_count": 64,
   "id": "2290766a",
   "metadata": {},
   "outputs": [
    {
     "name": "stdout",
     "output_type": "stream",
     "text": [
      " * sqlite:///mi_db.db\n",
      "Done.\n",
      "Returning data to local variable result\n"
     ]
    }
   ],
   "source": [
    "%%sql result << SELECT Name, Profession, Age FROM fam WHERE Major = 1\n",
    "Order BY Age DESC \n",
    "LIMIT 4 "
   ]
  },
  {
   "cell_type": "code",
   "execution_count": 65,
   "id": "11d62c38",
   "metadata": {},
   "outputs": [
    {
     "data": {
      "text/html": [
       "<table>\n",
       "    <tr>\n",
       "        <th>Name</th>\n",
       "        <th>Profession</th>\n",
       "        <th>Age</th>\n",
       "    </tr>\n",
       "    <tr>\n",
       "        <td>Pam</td>\n",
       "        <td>Unknown</td>\n",
       "        <td>50</td>\n",
       "    </tr>\n",
       "    <tr>\n",
       "        <td>Pascal</td>\n",
       "        <td>Unknown</td>\n",
       "        <td>45</td>\n",
       "    </tr>\n",
       "    <tr>\n",
       "        <td>Miranda</td>\n",
       "        <td>Unknown</td>\n",
       "        <td>32</td>\n",
       "    </tr>\n",
       "    <tr>\n",
       "        <td>Emmy</td>\n",
       "        <td>Unknown</td>\n",
       "        <td>23</td>\n",
       "    </tr>\n",
       "</table>"
      ],
      "text/plain": [
       "[('Pam', 'Unknown', 50),\n",
       " ('Pascal', 'Unknown', 45),\n",
       " ('Miranda', 'Unknown', 32),\n",
       " ('Emmy', 'Unknown', 23)]"
      ]
     },
     "execution_count": 65,
     "metadata": {},
     "output_type": "execute_result"
    }
   ],
   "source": [
    "result"
   ]
  },
  {
   "cell_type": "code",
   "execution_count": 66,
   "id": "616bef1b",
   "metadata": {},
   "outputs": [
    {
     "name": "stdout",
     "output_type": "stream",
     "text": [
      " * sqlite:///mi_db.db\n",
      "Done.\n",
      "Returning data to local variable result\n"
     ]
    }
   ],
   "source": [
    "%%sql \n",
    "result << select Name , Age  from fam where Major = 1 Order BY Age DESC"
   ]
  },
  {
   "cell_type": "code",
   "execution_count": 67,
   "id": "07fabd1f",
   "metadata": {},
   "outputs": [
    {
     "data": {
      "text/html": [
       "<table>\n",
       "    <tr>\n",
       "        <th>Name</th>\n",
       "        <th>Age</th>\n",
       "    </tr>\n",
       "    <tr>\n",
       "        <td>Pam</td>\n",
       "        <td>50</td>\n",
       "    </tr>\n",
       "    <tr>\n",
       "        <td>Pascal</td>\n",
       "        <td>45</td>\n",
       "    </tr>\n",
       "    <tr>\n",
       "        <td>Miranda</td>\n",
       "        <td>32</td>\n",
       "    </tr>\n",
       "    <tr>\n",
       "        <td>Emmy</td>\n",
       "        <td>23</td>\n",
       "    </tr>\n",
       "</table>"
      ],
      "text/plain": [
       "[('Pam', 50), ('Pascal', 45), ('Miranda', 32), ('Emmy', 23)]"
      ]
     },
     "execution_count": 67,
     "metadata": {},
     "output_type": "execute_result"
    }
   ],
   "source": [
    "result"
   ]
  },
  {
   "cell_type": "code",
   "execution_count": 68,
   "id": "132a51c1",
   "metadata": {},
   "outputs": [
    {
     "data": {
      "text/html": [
       "<a href=\"./files/data.csv\">CSV results</a>"
      ],
      "text/plain": [
       "CSV results at /home/emi/Escritorio/Meta-/Back/04_sql/data.csv"
      ]
     },
     "execution_count": 68,
     "metadata": {},
     "output_type": "execute_result"
    }
   ],
   "source": [
    "result.csv('data.csv')"
   ]
  },
  {
   "cell_type": "code",
   "execution_count": 55,
   "id": "debe479e",
   "metadata": {},
   "outputs": [],
   "source": [
    "conn = %sql l / --connections"
   ]
  },
  {
   "cell_type": "code",
   "execution_count": 56,
   "id": "769abbc0",
   "metadata": {},
   "outputs": [
    {
     "data": {
      "text/plain": [
       "{'sqlite:///mi_db.db': <sql.connection.Connection at 0x7f7226923b20>}"
      ]
     },
     "execution_count": 56,
     "metadata": {},
     "output_type": "execute_result"
    }
   ],
   "source": [
    "conn"
   ]
  },
  {
   "cell_type": "code",
   "execution_count": 6,
   "id": "cd28a35d",
   "metadata": {},
   "outputs": [],
   "source": [
    "lista = [(\"emi\",47),\n",
    "          (\"belu\",42),\n",
    "           (\"luca\",12)]"
   ]
  },
  {
   "cell_type": "code",
   "execution_count": 8,
   "id": "584f2831",
   "metadata": {},
   "outputs": [
    {
     "name": "stdout",
     "output_type": "stream",
     "text": [
      "emi 47\n",
      " * sqlite:///mi_db.db\n",
      "1 rows affected.\n",
      "belu 42\n",
      " * sqlite:///mi_db.db\n",
      "1 rows affected.\n",
      "luca 12\n",
      " * sqlite:///mi_db.db\n",
      "1 rows affected.\n"
     ]
    }
   ],
   "source": [
    "for nombre, edad in lista:\n",
    "    print(nombre, edad)\n",
    "\n",
    "    %sql INSERT INTO Fam (Name, Age) VALUES('{nombre}' , '{edad}');"
   ]
  },
  {
   "cell_type": "code",
   "execution_count": 13,
   "id": "fc9b9d6c",
   "metadata": {},
   "outputs": [
    {
     "name": "stdout",
     "output_type": "stream",
     "text": [
      " * sqlite:///mi_db.db\n",
      "Done.\n"
     ]
    },
    {
     "data": {
      "text/html": [
       "<table>\n",
       "    <tr>\n",
       "        <th>Name</th>\n",
       "        <th>Age</th>\n",
       "        <th>Profession</th>\n",
       "        <th>Major</th>\n",
       "    </tr>\n",
       "    <tr>\n",
       "        <td>Pam</td>\n",
       "        <td>50</td>\n",
       "        <td>Unknown</td>\n",
       "        <td>1</td>\n",
       "    </tr>\n",
       "    <tr>\n",
       "        <td>Miranda</td>\n",
       "        <td>32</td>\n",
       "        <td>Unknown</td>\n",
       "        <td>1</td>\n",
       "    </tr>\n",
       "    <tr>\n",
       "        <td>Pascal</td>\n",
       "        <td>45</td>\n",
       "        <td>Unknown</td>\n",
       "        <td>1</td>\n",
       "    </tr>\n",
       "    <tr>\n",
       "        <td>Dave</td>\n",
       "        <td>12</td>\n",
       "        <td>Unknown</td>\n",
       "        <td>0</td>\n",
       "    </tr>\n",
       "    <tr>\n",
       "        <td>Emmy</td>\n",
       "        <td>23</td>\n",
       "        <td>Unknown</td>\n",
       "        <td>1</td>\n",
       "    </tr>\n",
       "    <tr>\n",
       "        <td>emi</td>\n",
       "        <td>47</td>\n",
       "        <td>None</td>\n",
       "        <td>1</td>\n",
       "    </tr>\n",
       "    <tr>\n",
       "        <td>belu</td>\n",
       "        <td>42</td>\n",
       "        <td>None</td>\n",
       "        <td>1</td>\n",
       "    </tr>\n",
       "    <tr>\n",
       "        <td>luca</td>\n",
       "        <td>12</td>\n",
       "        <td>None</td>\n",
       "        <td>0</td>\n",
       "    </tr>\n",
       "</table>"
      ],
      "text/plain": [
       "[('Pam', 50, 'Unknown', '1'),\n",
       " ('Miranda', 32, 'Unknown', '1'),\n",
       " ('Pascal', 45, 'Unknown', '1'),\n",
       " ('Dave', 12, 'Unknown', '0'),\n",
       " ('Emmy', 23, 'Unknown', '1'),\n",
       " ('emi', 47, None, '1'),\n",
       " ('belu', 42, None, '1'),\n",
       " ('luca', 12, None, '0')]"
      ]
     },
     "execution_count": 13,
     "metadata": {},
     "output_type": "execute_result"
    }
   ],
   "source": [
    "%sql SELECT * FROM Fam"
   ]
  },
  {
   "cell_type": "code",
   "execution_count": null,
   "id": "67ad8f65",
   "metadata": {},
   "outputs": [],
   "source": []
  }
 ],
 "metadata": {
  "kernelspec": {
   "display_name": "Python 3",
   "language": "python",
   "name": "python3"
  },
  "language_info": {
   "codemirror_mode": {
    "name": "ipython",
    "version": 3
   },
   "file_extension": ".py",
   "mimetype": "text/x-python",
   "name": "python",
   "nbconvert_exporter": "python",
   "pygments_lexer": "ipython3",
   "version": "3.8.10"
  },
  "vscode": {
   "interpreter": {
    "hash": "31f2aee4e71d21fbe5cf8b01ff0e069b9275f58929596ceb00d14d90e3e16cd6"
   }
  }
 },
 "nbformat": 4,
 "nbformat_minor": 5
}
