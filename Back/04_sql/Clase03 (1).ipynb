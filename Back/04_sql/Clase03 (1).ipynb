{
 "cells": [
  {
   "cell_type": "code",
   "execution_count": 1,
   "id": "c6da30ed-50a6-45f2-97a4-33c0011e050f",
   "metadata": {
    "tags": []
   },
   "outputs": [],
   "source": [
    "%load_ext sql"
   ]
  },
  {
   "cell_type": "code",
   "execution_count": 2,
   "id": "f83e88f2-a0a9-425f-9e57-985d85c8f08e",
   "metadata": {
    "tags": []
   },
   "outputs": [],
   "source": [
    "%sql sqlite:///nueva.sqlite"
   ]
  },
  {
   "cell_type": "code",
   "execution_count": 3,
   "id": "e6246da3-3b3e-46db-b740-aed5dd879317",
   "metadata": {
    "tags": []
   },
   "outputs": [
    {
     "name": "stdout",
     "output_type": "stream",
     "text": [
      " * sqlite:///nueva.sqlite\n",
      "Done.\n"
     ]
    },
    {
     "data": {
      "text/plain": [
       "[]"
      ]
     },
     "execution_count": 3,
     "metadata": {},
     "output_type": "execute_result"
    }
   ],
   "source": [
    "%%sql\n",
    "\n",
    "CREATE TABLE alumnos (id INTEGER NOT NULL, \n",
    "                      nombre VARCHAR(50) NOT NULL, \n",
    "                      clase VARCHAR(30) DEFAULT \"SQL\",\n",
    "                      fecha_de_ingreso DATE NOT NULL,\n",
    "                      puntaje_A INTEGER,\n",
    "                      puntaje_B INTEGER);"
   ]
  },
  {
   "cell_type": "code",
   "execution_count": 4,
   "id": "18d3aa40-6ae9-4ce5-8c36-9a8d2414d6be",
   "metadata": {
    "tags": []
   },
   "outputs": [
    {
     "name": "stdout",
     "output_type": "stream",
     "text": [
      " * sqlite:///nueva.sqlite\n",
      "7 rows affected.\n"
     ]
    },
    {
     "data": {
      "text/plain": [
       "[]"
      ]
     },
     "execution_count": 4,
     "metadata": {},
     "output_type": "execute_result"
    }
   ],
   "source": [
    "%%sql \n",
    "\n",
    "INSERT INTO alumnos \n",
    "(id, nombre, fecha_de_ingreso, puntaje_A, puntaje_B)\n",
    "VALUES\n",
    "(1, \"Xavier\", \"2023-02-04\", 3, 3),\n",
    "(2, \"Ana\", \"2023-01-15\", 8, 9),\n",
    "(3, \"Rodrigo\", \"2023-02-02\", 7, 9),\n",
    "(4, \"Susana\", \"2023-01-01\", 4, 9),\n",
    "(5, \"Jose\", \"2023-02-01\", 5, 5),\n",
    "(6, \"Luis\", \"2023-02-01\", 7, 10),\n",
    "(7, \"Omar\", \"2023-02-01\", 2, 8);"
   ]
  },
  {
   "cell_type": "code",
   "execution_count": 5,
   "id": "bad29532-5754-444d-a3c2-9041eff6e961",
   "metadata": {
    "tags": []
   },
   "outputs": [
    {
     "name": "stdout",
     "output_type": "stream",
     "text": [
      " * sqlite:///nueva.sqlite\n",
      "Done.\n"
     ]
    },
    {
     "data": {
      "text/html": [
       "<table>\n",
       "    <tr>\n",
       "        <th>id</th>\n",
       "        <th>nombre</th>\n",
       "        <th>clase</th>\n",
       "        <th>fecha_de_ingreso</th>\n",
       "        <th>puntaje_A</th>\n",
       "        <th>puntaje_B</th>\n",
       "    </tr>\n",
       "    <tr>\n",
       "        <td>1</td>\n",
       "        <td>Xavier</td>\n",
       "        <td>SQL</td>\n",
       "        <td>2023-02-04</td>\n",
       "        <td>3</td>\n",
       "        <td>3</td>\n",
       "    </tr>\n",
       "    <tr>\n",
       "        <td>2</td>\n",
       "        <td>Ana</td>\n",
       "        <td>SQL</td>\n",
       "        <td>2023-01-15</td>\n",
       "        <td>8</td>\n",
       "        <td>9</td>\n",
       "    </tr>\n",
       "    <tr>\n",
       "        <td>3</td>\n",
       "        <td>Rodrigo</td>\n",
       "        <td>SQL</td>\n",
       "        <td>2023-02-02</td>\n",
       "        <td>7</td>\n",
       "        <td>9</td>\n",
       "    </tr>\n",
       "    <tr>\n",
       "        <td>4</td>\n",
       "        <td>Susana</td>\n",
       "        <td>SQL</td>\n",
       "        <td>2023-01-01</td>\n",
       "        <td>4</td>\n",
       "        <td>9</td>\n",
       "    </tr>\n",
       "    <tr>\n",
       "        <td>5</td>\n",
       "        <td>Jose</td>\n",
       "        <td>SQL</td>\n",
       "        <td>2023-02-01</td>\n",
       "        <td>5</td>\n",
       "        <td>5</td>\n",
       "    </tr>\n",
       "    <tr>\n",
       "        <td>6</td>\n",
       "        <td>Luis</td>\n",
       "        <td>SQL</td>\n",
       "        <td>2023-02-01</td>\n",
       "        <td>7</td>\n",
       "        <td>10</td>\n",
       "    </tr>\n",
       "    <tr>\n",
       "        <td>7</td>\n",
       "        <td>Omar</td>\n",
       "        <td>SQL</td>\n",
       "        <td>2023-02-01</td>\n",
       "        <td>2</td>\n",
       "        <td>8</td>\n",
       "    </tr>\n",
       "</table>"
      ],
      "text/plain": [
       "[(1, 'Xavier', 'SQL', '2023-02-04', 3, 3),\n",
       " (2, 'Ana', 'SQL', '2023-01-15', 8, 9),\n",
       " (3, 'Rodrigo', 'SQL', '2023-02-02', 7, 9),\n",
       " (4, 'Susana', 'SQL', '2023-01-01', 4, 9),\n",
       " (5, 'Jose', 'SQL', '2023-02-01', 5, 5),\n",
       " (6, 'Luis', 'SQL', '2023-02-01', 7, 10),\n",
       " (7, 'Omar', 'SQL', '2023-02-01', 2, 8)]"
      ]
     },
     "execution_count": 5,
     "metadata": {},
     "output_type": "execute_result"
    }
   ],
   "source": [
    "%sql SELECT * FROM alumnos;"
   ]
  },
  {
   "cell_type": "code",
   "execution_count": 6,
   "id": "d3d48c0e-a93e-4a11-b1cb-06fee29751ee",
   "metadata": {
    "tags": []
   },
   "outputs": [
    {
     "name": "stdout",
     "output_type": "stream",
     "text": [
      " * sqlite:///nueva.sqlite\n",
      "Done.\n"
     ]
    },
    {
     "data": {
      "text/html": [
       "<table>\n",
       "    <tr>\n",
       "        <th>5 + 5</th>\n",
       "    </tr>\n",
       "    <tr>\n",
       "        <td>10</td>\n",
       "    </tr>\n",
       "</table>"
      ],
      "text/plain": [
       "[(10,)]"
      ]
     },
     "execution_count": 6,
     "metadata": {},
     "output_type": "execute_result"
    }
   ],
   "source": [
    "%sql SELECT 5 + 5;"
   ]
  },
  {
   "cell_type": "code",
   "execution_count": 7,
   "id": "57636121-17d2-4195-a72c-4340f89d3366",
   "metadata": {
    "tags": []
   },
   "outputs": [
    {
     "name": "stdout",
     "output_type": "stream",
     "text": [
      " * sqlite:///nueva.sqlite\n",
      "Done.\n"
     ]
    },
    {
     "data": {
      "text/html": [
       "<table>\n",
       "    <tr>\n",
       "        <th>5 - 5</th>\n",
       "    </tr>\n",
       "    <tr>\n",
       "        <td>0</td>\n",
       "    </tr>\n",
       "</table>"
      ],
      "text/plain": [
       "[(0,)]"
      ]
     },
     "execution_count": 7,
     "metadata": {},
     "output_type": "execute_result"
    }
   ],
   "source": [
    "%sql SELECT 5 - 5;"
   ]
  },
  {
   "cell_type": "code",
   "execution_count": 8,
   "id": "01fb1a89-8257-4b5d-8810-e4272bfb0d60",
   "metadata": {
    "tags": []
   },
   "outputs": [
    {
     "name": "stdout",
     "output_type": "stream",
     "text": [
      " * sqlite:///nueva.sqlite\n",
      "Done.\n"
     ]
    },
    {
     "data": {
      "text/html": [
       "<table>\n",
       "    <tr>\n",
       "        <th>5 * 5</th>\n",
       "    </tr>\n",
       "    <tr>\n",
       "        <td>25</td>\n",
       "    </tr>\n",
       "</table>"
      ],
      "text/plain": [
       "[(25,)]"
      ]
     },
     "execution_count": 8,
     "metadata": {},
     "output_type": "execute_result"
    }
   ],
   "source": [
    "%sql SELECT 5 * 5;"
   ]
  },
  {
   "cell_type": "code",
   "execution_count": 9,
   "id": "1079cecd-c7a4-4356-a5e8-655e012e1b2a",
   "metadata": {
    "tags": []
   },
   "outputs": [
    {
     "name": "stdout",
     "output_type": "stream",
     "text": [
      " * sqlite:///nueva.sqlite\n",
      "Done.\n"
     ]
    },
    {
     "data": {
      "text/html": [
       "<table>\n",
       "    <tr>\n",
       "        <th>5 / 5</th>\n",
       "    </tr>\n",
       "    <tr>\n",
       "        <td>1</td>\n",
       "    </tr>\n",
       "</table>"
      ],
      "text/plain": [
       "[(1,)]"
      ]
     },
     "execution_count": 9,
     "metadata": {},
     "output_type": "execute_result"
    }
   ],
   "source": [
    "%sql SELECT 5 / 5;"
   ]
  },
  {
   "cell_type": "code",
   "execution_count": 10,
   "id": "9e8d04b2-e57e-4a70-a7e5-a5f198ffda52",
   "metadata": {
    "tags": []
   },
   "outputs": [
    {
     "name": "stdout",
     "output_type": "stream",
     "text": [
      " * sqlite:///nueva.sqlite\n",
      "Done.\n"
     ]
    },
    {
     "data": {
      "text/html": [
       "<table>\n",
       "    <tr>\n",
       "        <th>7 % 5</th>\n",
       "    </tr>\n",
       "    <tr>\n",
       "        <td>2</td>\n",
       "    </tr>\n",
       "</table>"
      ],
      "text/plain": [
       "[(2,)]"
      ]
     },
     "execution_count": 10,
     "metadata": {},
     "output_type": "execute_result"
    }
   ],
   "source": [
    "%sql SELECT 7 % 5;"
   ]
  },
  {
   "cell_type": "code",
   "execution_count": 11,
   "id": "1bda066f-26df-4cea-b939-02f44de93f78",
   "metadata": {
    "tags": []
   },
   "outputs": [
    {
     "name": "stdout",
     "output_type": "stream",
     "text": [
      " * sqlite:///nueva.sqlite\n",
      "Done.\n"
     ]
    },
    {
     "data": {
      "text/html": [
       "<table>\n",
       "    <tr>\n",
       "        <th>nombre</th>\n",
       "        <th>clase</th>\n",
       "        <th>puntaje_final</th>\n",
       "    </tr>\n",
       "    <tr>\n",
       "        <td>Xavier</td>\n",
       "        <td>SQL</td>\n",
       "        <td>3</td>\n",
       "    </tr>\n",
       "    <tr>\n",
       "        <td>Ana</td>\n",
       "        <td>SQL</td>\n",
       "        <td>8</td>\n",
       "    </tr>\n",
       "    <tr>\n",
       "        <td>Rodrigo</td>\n",
       "        <td>SQL</td>\n",
       "        <td>8</td>\n",
       "    </tr>\n",
       "    <tr>\n",
       "        <td>Susana</td>\n",
       "        <td>SQL</td>\n",
       "        <td>6</td>\n",
       "    </tr>\n",
       "    <tr>\n",
       "        <td>Jose</td>\n",
       "        <td>SQL</td>\n",
       "        <td>5</td>\n",
       "    </tr>\n",
       "    <tr>\n",
       "        <td>Luis</td>\n",
       "        <td>SQL</td>\n",
       "        <td>8</td>\n",
       "    </tr>\n",
       "    <tr>\n",
       "        <td>Omar</td>\n",
       "        <td>SQL</td>\n",
       "        <td>5</td>\n",
       "    </tr>\n",
       "</table>"
      ],
      "text/plain": [
       "[('Xavier', 'SQL', 3),\n",
       " ('Ana', 'SQL', 8),\n",
       " ('Rodrigo', 'SQL', 8),\n",
       " ('Susana', 'SQL', 6),\n",
       " ('Jose', 'SQL', 5),\n",
       " ('Luis', 'SQL', 8),\n",
       " ('Omar', 'SQL', 5)]"
      ]
     },
     "execution_count": 11,
     "metadata": {},
     "output_type": "execute_result"
    }
   ],
   "source": [
    "%sql SELECT nombre, clase, (puntaje_A + puntaje_B) / 2 AS puntaje_final FROM alumnos;"
   ]
  },
  {
   "cell_type": "code",
   "execution_count": 12,
   "id": "c386a1da-7576-47db-9a80-b95459164436",
   "metadata": {
    "tags": []
   },
   "outputs": [
    {
     "name": "stdout",
     "output_type": "stream",
     "text": [
      " * sqlite:///nueva.sqlite\n",
      "Done.\n"
     ]
    },
    {
     "data": {
      "text/html": [
       "<table>\n",
       "    <tr>\n",
       "        <th>puntaje_A + puntaje_B</th>\n",
       "    </tr>\n",
       "    <tr>\n",
       "        <td>6</td>\n",
       "    </tr>\n",
       "    <tr>\n",
       "        <td>17</td>\n",
       "    </tr>\n",
       "    <tr>\n",
       "        <td>16</td>\n",
       "    </tr>\n",
       "    <tr>\n",
       "        <td>13</td>\n",
       "    </tr>\n",
       "    <tr>\n",
       "        <td>10</td>\n",
       "    </tr>\n",
       "    <tr>\n",
       "        <td>17</td>\n",
       "    </tr>\n",
       "    <tr>\n",
       "        <td>10</td>\n",
       "    </tr>\n",
       "</table>"
      ],
      "text/plain": [
       "[(6,), (17,), (16,), (13,), (10,), (17,), (10,)]"
      ]
     },
     "execution_count": 12,
     "metadata": {},
     "output_type": "execute_result"
    }
   ],
   "source": [
    "%sql SELECT puntaje_A + puntaje_B FROM alumnos;"
   ]
  },
  {
   "cell_type": "code",
   "execution_count": 13,
   "id": "407e58ec-4556-409a-9355-9c34cbe64627",
   "metadata": {
    "tags": []
   },
   "outputs": [
    {
     "name": "stdout",
     "output_type": "stream",
     "text": [
      " * sqlite:///nueva.sqlite\n",
      "Done.\n"
     ]
    },
    {
     "data": {
      "text/html": [
       "<table>\n",
       "    <tr>\n",
       "        <th>puntaje_A - puntaje_B</th>\n",
       "    </tr>\n",
       "    <tr>\n",
       "        <td>0</td>\n",
       "    </tr>\n",
       "    <tr>\n",
       "        <td>-1</td>\n",
       "    </tr>\n",
       "    <tr>\n",
       "        <td>-2</td>\n",
       "    </tr>\n",
       "    <tr>\n",
       "        <td>-5</td>\n",
       "    </tr>\n",
       "    <tr>\n",
       "        <td>0</td>\n",
       "    </tr>\n",
       "    <tr>\n",
       "        <td>-3</td>\n",
       "    </tr>\n",
       "    <tr>\n",
       "        <td>-6</td>\n",
       "    </tr>\n",
       "</table>"
      ],
      "text/plain": [
       "[(0,), (-1,), (-2,), (-5,), (0,), (-3,), (-6,)]"
      ]
     },
     "execution_count": 13,
     "metadata": {},
     "output_type": "execute_result"
    }
   ],
   "source": [
    "%sql SELECT puntaje_A - puntaje_B FROM alumnos;"
   ]
  },
  {
   "cell_type": "code",
   "execution_count": 14,
   "id": "8a27c109-6c66-4cae-ac4f-49edc89a2453",
   "metadata": {
    "tags": []
   },
   "outputs": [
    {
     "name": "stdout",
     "output_type": "stream",
     "text": [
      " * sqlite:///nueva.sqlite\n",
      "Done.\n"
     ]
    },
    {
     "data": {
      "text/html": [
       "<table>\n",
       "    <tr>\n",
       "        <th>puntaje_B * 2</th>\n",
       "    </tr>\n",
       "    <tr>\n",
       "        <td>6</td>\n",
       "    </tr>\n",
       "    <tr>\n",
       "        <td>18</td>\n",
       "    </tr>\n",
       "    <tr>\n",
       "        <td>18</td>\n",
       "    </tr>\n",
       "    <tr>\n",
       "        <td>18</td>\n",
       "    </tr>\n",
       "    <tr>\n",
       "        <td>10</td>\n",
       "    </tr>\n",
       "    <tr>\n",
       "        <td>20</td>\n",
       "    </tr>\n",
       "    <tr>\n",
       "        <td>16</td>\n",
       "    </tr>\n",
       "</table>"
      ],
      "text/plain": [
       "[(6,), (18,), (18,), (18,), (10,), (20,), (16,)]"
      ]
     },
     "execution_count": 14,
     "metadata": {},
     "output_type": "execute_result"
    }
   ],
   "source": [
    "%sql SELECT puntaje_B * 2 FROM alumnos;"
   ]
  },
  {
   "cell_type": "code",
   "execution_count": 15,
   "id": "b5ab7fc7-e35f-4600-b6fd-5847ca079c2c",
   "metadata": {
    "tags": []
   },
   "outputs": [
    {
     "name": "stdout",
     "output_type": "stream",
     "text": [
      " * sqlite:///nueva.sqlite\n",
      "Done.\n"
     ]
    },
    {
     "data": {
      "text/html": [
       "<table>\n",
       "    <tr>\n",
       "        <th>puntaje_B / 2</th>\n",
       "    </tr>\n",
       "    <tr>\n",
       "        <td>1</td>\n",
       "    </tr>\n",
       "    <tr>\n",
       "        <td>4</td>\n",
       "    </tr>\n",
       "    <tr>\n",
       "        <td>4</td>\n",
       "    </tr>\n",
       "    <tr>\n",
       "        <td>4</td>\n",
       "    </tr>\n",
       "    <tr>\n",
       "        <td>2</td>\n",
       "    </tr>\n",
       "    <tr>\n",
       "        <td>5</td>\n",
       "    </tr>\n",
       "    <tr>\n",
       "        <td>4</td>\n",
       "    </tr>\n",
       "</table>"
      ],
      "text/plain": [
       "[(1,), (4,), (4,), (4,), (2,), (5,), (4,)]"
      ]
     },
     "execution_count": 15,
     "metadata": {},
     "output_type": "execute_result"
    }
   ],
   "source": [
    "%sql SELECT puntaje_B / 2 FROM alumnos;"
   ]
  },
  {
   "cell_type": "code",
   "execution_count": 38,
   "id": "0bff291c-a165-4ac2-827b-ea2095a58e6c",
   "metadata": {
    "tags": []
   },
   "outputs": [
    {
     "name": "stdout",
     "output_type": "stream",
     "text": [
      " * sqlite:///nueva.sqlite\n",
      "Done.\n"
     ]
    },
    {
     "data": {
      "text/html": [
       "<table>\n",
       "    <tr>\n",
       "        <th>puntaje_B &gt; 5</th>\n",
       "    </tr>\n",
       "    <tr>\n",
       "        <td>0</td>\n",
       "    </tr>\n",
       "    <tr>\n",
       "        <td>1</td>\n",
       "    </tr>\n",
       "    <tr>\n",
       "        <td>1</td>\n",
       "    </tr>\n",
       "    <tr>\n",
       "        <td>1</td>\n",
       "    </tr>\n",
       "    <tr>\n",
       "        <td>0</td>\n",
       "    </tr>\n",
       "    <tr>\n",
       "        <td>1</td>\n",
       "    </tr>\n",
       "    <tr>\n",
       "        <td>1</td>\n",
       "    </tr>\n",
       "</table>"
      ],
      "text/plain": [
       "[(0,), (1,), (1,), (1,), (0,), (1,), (1,)]"
      ]
     },
     "execution_count": 38,
     "metadata": {},
     "output_type": "execute_result"
    }
   ],
   "source": [
    "%sql SELECT puntaje_B > 5 FROM alumnos;"
   ]
  },
  {
   "cell_type": "code",
   "execution_count": 17,
   "id": "21d562b6-0bf7-451b-95ee-e87bb70732d5",
   "metadata": {
    "tags": []
   },
   "outputs": [
    {
     "name": "stdout",
     "output_type": "stream",
     "text": [
      " * sqlite:///nueva.sqlite\n",
      "Done.\n"
     ]
    },
    {
     "data": {
      "text/html": [
       "<table>\n",
       "    <tr>\n",
       "        <th>id</th>\n",
       "        <th>nombre</th>\n",
       "        <th>clase</th>\n",
       "        <th>fecha_de_ingreso</th>\n",
       "        <th>puntaje_A</th>\n",
       "        <th>puntaje_B</th>\n",
       "    </tr>\n",
       "    <tr>\n",
       "        <td>1</td>\n",
       "        <td>Xavier</td>\n",
       "        <td>SQL</td>\n",
       "        <td>2023-02-04</td>\n",
       "        <td>3</td>\n",
       "        <td>3</td>\n",
       "    </tr>\n",
       "    <tr>\n",
       "        <td>2</td>\n",
       "        <td>Ana</td>\n",
       "        <td>SQL</td>\n",
       "        <td>2023-01-15</td>\n",
       "        <td>8</td>\n",
       "        <td>9</td>\n",
       "    </tr>\n",
       "    <tr>\n",
       "        <td>3</td>\n",
       "        <td>Rodrigo</td>\n",
       "        <td>SQL</td>\n",
       "        <td>2023-02-02</td>\n",
       "        <td>7</td>\n",
       "        <td>9</td>\n",
       "    </tr>\n",
       "    <tr>\n",
       "        <td>4</td>\n",
       "        <td>Susana</td>\n",
       "        <td>SQL</td>\n",
       "        <td>2023-01-01</td>\n",
       "        <td>4</td>\n",
       "        <td>9</td>\n",
       "    </tr>\n",
       "    <tr>\n",
       "        <td>6</td>\n",
       "        <td>Luis</td>\n",
       "        <td>SQL</td>\n",
       "        <td>2023-02-01</td>\n",
       "        <td>7</td>\n",
       "        <td>10</td>\n",
       "    </tr>\n",
       "    <tr>\n",
       "        <td>7</td>\n",
       "        <td>Omar</td>\n",
       "        <td>SQL</td>\n",
       "        <td>2023-02-01</td>\n",
       "        <td>2</td>\n",
       "        <td>8</td>\n",
       "    </tr>\n",
       "</table>"
      ],
      "text/plain": [
       "[(1, 'Xavier', 'SQL', '2023-02-04', 3, 3),\n",
       " (2, 'Ana', 'SQL', '2023-01-15', 8, 9),\n",
       " (3, 'Rodrigo', 'SQL', '2023-02-02', 7, 9),\n",
       " (4, 'Susana', 'SQL', '2023-01-01', 4, 9),\n",
       " (6, 'Luis', 'SQL', '2023-02-01', 7, 10),\n",
       " (7, 'Omar', 'SQL', '2023-02-01', 2, 8)]"
      ]
     },
     "execution_count": 17,
     "metadata": {},
     "output_type": "execute_result"
    }
   ],
   "source": [
    "%sql SELECT * FROM alumnos WHERE puntaje_B != 5;"
   ]
  },
  {
   "cell_type": "code",
   "execution_count": 18,
   "id": "53e7e597-9d8f-4a6b-9572-566910c1fa44",
   "metadata": {
    "tags": []
   },
   "outputs": [
    {
     "name": "stdout",
     "output_type": "stream",
     "text": [
      " * sqlite:///nueva.sqlite\n",
      "Done.\n"
     ]
    },
    {
     "data": {
      "text/html": [
       "<table>\n",
       "    <tr>\n",
       "        <th>id</th>\n",
       "        <th>nombre</th>\n",
       "        <th>clase</th>\n",
       "        <th>fecha_de_ingreso</th>\n",
       "        <th>puntaje_A</th>\n",
       "        <th>puntaje_B</th>\n",
       "    </tr>\n",
       "    <tr>\n",
       "        <td>1</td>\n",
       "        <td>Xavier</td>\n",
       "        <td>SQL</td>\n",
       "        <td>2023-02-04</td>\n",
       "        <td>3</td>\n",
       "        <td>3</td>\n",
       "    </tr>\n",
       "    <tr>\n",
       "        <td>2</td>\n",
       "        <td>Ana</td>\n",
       "        <td>SQL</td>\n",
       "        <td>2023-01-15</td>\n",
       "        <td>8</td>\n",
       "        <td>9</td>\n",
       "    </tr>\n",
       "    <tr>\n",
       "        <td>3</td>\n",
       "        <td>Rodrigo</td>\n",
       "        <td>SQL</td>\n",
       "        <td>2023-02-02</td>\n",
       "        <td>7</td>\n",
       "        <td>9</td>\n",
       "    </tr>\n",
       "    <tr>\n",
       "        <td>5</td>\n",
       "        <td>Jose</td>\n",
       "        <td>SQL</td>\n",
       "        <td>2023-02-01</td>\n",
       "        <td>5</td>\n",
       "        <td>5</td>\n",
       "    </tr>\n",
       "    <tr>\n",
       "        <td>6</td>\n",
       "        <td>Luis</td>\n",
       "        <td>SQL</td>\n",
       "        <td>2023-02-01</td>\n",
       "        <td>7</td>\n",
       "        <td>10</td>\n",
       "    </tr>\n",
       "    <tr>\n",
       "        <td>7</td>\n",
       "        <td>Omar</td>\n",
       "        <td>SQL</td>\n",
       "        <td>2023-02-01</td>\n",
       "        <td>2</td>\n",
       "        <td>8</td>\n",
       "    </tr>\n",
       "</table>"
      ],
      "text/plain": [
       "[(1, 'Xavier', 'SQL', '2023-02-04', 3, 3),\n",
       " (2, 'Ana', 'SQL', '2023-01-15', 8, 9),\n",
       " (3, 'Rodrigo', 'SQL', '2023-02-02', 7, 9),\n",
       " (5, 'Jose', 'SQL', '2023-02-01', 5, 5),\n",
       " (6, 'Luis', 'SQL', '2023-02-01', 7, 10),\n",
       " (7, 'Omar', 'SQL', '2023-02-01', 2, 8)]"
      ]
     },
     "execution_count": 18,
     "metadata": {},
     "output_type": "execute_result"
    }
   ],
   "source": [
    "%sql SELECT * FROM alumnos WHERE puntaje_A <> 4;"
   ]
  },
  {
   "cell_type": "code",
   "execution_count": 19,
   "id": "fd12034e-61d8-47de-aff9-7b3ef349cfd0",
   "metadata": {},
   "outputs": [
    {
     "name": "stdout",
     "output_type": "stream",
     "text": [
      " * sqlite:///nueva.sqlite\n",
      "Done.\n"
     ]
    },
    {
     "data": {
      "text/html": [
       "<table>\n",
       "    <tr>\n",
       "        <th>id</th>\n",
       "        <th>nombre</th>\n",
       "        <th>clase</th>\n",
       "        <th>fecha_de_ingreso</th>\n",
       "        <th>puntaje_A</th>\n",
       "        <th>puntaje_B</th>\n",
       "    </tr>\n",
       "    <tr>\n",
       "        <td>2</td>\n",
       "        <td>Ana</td>\n",
       "        <td>SQL</td>\n",
       "        <td>2023-01-15</td>\n",
       "        <td>8</td>\n",
       "        <td>9</td>\n",
       "    </tr>\n",
       "    <tr>\n",
       "        <td>5</td>\n",
       "        <td>Jose</td>\n",
       "        <td>SQL</td>\n",
       "        <td>2023-02-01</td>\n",
       "        <td>5</td>\n",
       "        <td>5</td>\n",
       "    </tr>\n",
       "    <tr>\n",
       "        <td>6</td>\n",
       "        <td>Luis</td>\n",
       "        <td>SQL</td>\n",
       "        <td>2023-02-01</td>\n",
       "        <td>7</td>\n",
       "        <td>10</td>\n",
       "    </tr>\n",
       "    <tr>\n",
       "        <td>7</td>\n",
       "        <td>Omar</td>\n",
       "        <td>SQL</td>\n",
       "        <td>2023-02-01</td>\n",
       "        <td>2</td>\n",
       "        <td>8</td>\n",
       "    </tr>\n",
       "    <tr>\n",
       "        <td>3</td>\n",
       "        <td>Rodrigo</td>\n",
       "        <td>SQL</td>\n",
       "        <td>2023-02-02</td>\n",
       "        <td>7</td>\n",
       "        <td>9</td>\n",
       "    </tr>\n",
       "    <tr>\n",
       "        <td>4</td>\n",
       "        <td>Susana</td>\n",
       "        <td>SQL</td>\n",
       "        <td>2023-01-01</td>\n",
       "        <td>4</td>\n",
       "        <td>9</td>\n",
       "    </tr>\n",
       "    <tr>\n",
       "        <td>1</td>\n",
       "        <td>Xavier</td>\n",
       "        <td>SQL</td>\n",
       "        <td>2023-02-04</td>\n",
       "        <td>3</td>\n",
       "        <td>3</td>\n",
       "    </tr>\n",
       "</table>"
      ],
      "text/plain": [
       "[(2, 'Ana', 'SQL', '2023-01-15', 8, 9),\n",
       " (5, 'Jose', 'SQL', '2023-02-01', 5, 5),\n",
       " (6, 'Luis', 'SQL', '2023-02-01', 7, 10),\n",
       " (7, 'Omar', 'SQL', '2023-02-01', 2, 8),\n",
       " (3, 'Rodrigo', 'SQL', '2023-02-02', 7, 9),\n",
       " (4, 'Susana', 'SQL', '2023-01-01', 4, 9),\n",
       " (1, 'Xavier', 'SQL', '2023-02-04', 3, 3)]"
      ]
     },
     "execution_count": 19,
     "metadata": {},
     "output_type": "execute_result"
    }
   ],
   "source": [
    "%%sql \n",
    "SELECT *\n",
    "FROM alumnos\n",
    "ORDER BY nombre ASC;"
   ]
  },
  {
   "cell_type": "code",
   "execution_count": 20,
   "id": "f8f048df-a071-4a8c-bea1-fc3d46f0c08f",
   "metadata": {
    "tags": []
   },
   "outputs": [
    {
     "name": "stdout",
     "output_type": "stream",
     "text": [
      " * sqlite:///nueva.sqlite\n",
      "Done.\n"
     ]
    },
    {
     "data": {
      "text/html": [
       "<table>\n",
       "    <tr>\n",
       "        <th>id</th>\n",
       "        <th>nombre</th>\n",
       "        <th>clase</th>\n",
       "        <th>fecha_de_ingreso</th>\n",
       "        <th>puntaje_A</th>\n",
       "        <th>puntaje_B</th>\n",
       "        <th>promedio</th>\n",
       "    </tr>\n",
       "    <tr>\n",
       "        <td>2</td>\n",
       "        <td>Ana</td>\n",
       "        <td>SQL</td>\n",
       "        <td>2023-01-15</td>\n",
       "        <td>8</td>\n",
       "        <td>9</td>\n",
       "        <td>8</td>\n",
       "    </tr>\n",
       "    <tr>\n",
       "        <td>3</td>\n",
       "        <td>Rodrigo</td>\n",
       "        <td>SQL</td>\n",
       "        <td>2023-02-02</td>\n",
       "        <td>7</td>\n",
       "        <td>9</td>\n",
       "        <td>8</td>\n",
       "    </tr>\n",
       "    <tr>\n",
       "        <td>6</td>\n",
       "        <td>Luis</td>\n",
       "        <td>SQL</td>\n",
       "        <td>2023-02-01</td>\n",
       "        <td>7</td>\n",
       "        <td>10</td>\n",
       "        <td>8</td>\n",
       "    </tr>\n",
       "    <tr>\n",
       "        <td>4</td>\n",
       "        <td>Susana</td>\n",
       "        <td>SQL</td>\n",
       "        <td>2023-01-01</td>\n",
       "        <td>4</td>\n",
       "        <td>9</td>\n",
       "        <td>6</td>\n",
       "    </tr>\n",
       "    <tr>\n",
       "        <td>5</td>\n",
       "        <td>Jose</td>\n",
       "        <td>SQL</td>\n",
       "        <td>2023-02-01</td>\n",
       "        <td>5</td>\n",
       "        <td>5</td>\n",
       "        <td>5</td>\n",
       "    </tr>\n",
       "    <tr>\n",
       "        <td>7</td>\n",
       "        <td>Omar</td>\n",
       "        <td>SQL</td>\n",
       "        <td>2023-02-01</td>\n",
       "        <td>2</td>\n",
       "        <td>8</td>\n",
       "        <td>5</td>\n",
       "    </tr>\n",
       "    <tr>\n",
       "        <td>1</td>\n",
       "        <td>Xavier</td>\n",
       "        <td>SQL</td>\n",
       "        <td>2023-02-04</td>\n",
       "        <td>3</td>\n",
       "        <td>3</td>\n",
       "        <td>3</td>\n",
       "    </tr>\n",
       "</table>"
      ],
      "text/plain": [
       "[(2, 'Ana', 'SQL', '2023-01-15', 8, 9, 8),\n",
       " (3, 'Rodrigo', 'SQL', '2023-02-02', 7, 9, 8),\n",
       " (6, 'Luis', 'SQL', '2023-02-01', 7, 10, 8),\n",
       " (4, 'Susana', 'SQL', '2023-01-01', 4, 9, 6),\n",
       " (5, 'Jose', 'SQL', '2023-02-01', 5, 5, 5),\n",
       " (7, 'Omar', 'SQL', '2023-02-01', 2, 8, 5),\n",
       " (1, 'Xavier', 'SQL', '2023-02-04', 3, 3, 3)]"
      ]
     },
     "execution_count": 20,
     "metadata": {},
     "output_type": "execute_result"
    }
   ],
   "source": [
    "%%sql \n",
    "SELECT *, (puntaje_A + puntaje_B) / 2 AS promedio\n",
    "FROM alumnos\n",
    "ORDER BY promedio DESC;"
   ]
  },
  {
   "cell_type": "code",
   "execution_count": 21,
   "id": "a779d53d-49e6-48b6-bc50-576cab648111",
   "metadata": {
    "tags": []
   },
   "outputs": [
    {
     "name": "stdout",
     "output_type": "stream",
     "text": [
      " * sqlite:///nueva.sqlite\n",
      "Done.\n"
     ]
    },
    {
     "data": {
      "text/html": [
       "<table>\n",
       "    <tr>\n",
       "        <th>id</th>\n",
       "        <th>nombre</th>\n",
       "        <th>clase</th>\n",
       "        <th>fecha_de_ingreso</th>\n",
       "        <th>puntaje_A</th>\n",
       "        <th>puntaje_B</th>\n",
       "    </tr>\n",
       "    <tr>\n",
       "        <td>2</td>\n",
       "        <td>Ana</td>\n",
       "        <td>SQL</td>\n",
       "        <td>2023-01-15</td>\n",
       "        <td>8</td>\n",
       "        <td>9</td>\n",
       "    </tr>\n",
       "    <tr>\n",
       "        <td>3</td>\n",
       "        <td>Rodrigo</td>\n",
       "        <td>SQL</td>\n",
       "        <td>2023-02-02</td>\n",
       "        <td>7</td>\n",
       "        <td>9</td>\n",
       "    </tr>\n",
       "    <tr>\n",
       "        <td>4</td>\n",
       "        <td>Susana</td>\n",
       "        <td>SQL</td>\n",
       "        <td>2023-01-01</td>\n",
       "        <td>4</td>\n",
       "        <td>9</td>\n",
       "    </tr>\n",
       "    <tr>\n",
       "        <td>6</td>\n",
       "        <td>Luis</td>\n",
       "        <td>SQL</td>\n",
       "        <td>2023-02-01</td>\n",
       "        <td>7</td>\n",
       "        <td>10</td>\n",
       "    </tr>\n",
       "    <tr>\n",
       "        <td>7</td>\n",
       "        <td>Omar</td>\n",
       "        <td>SQL</td>\n",
       "        <td>2023-02-01</td>\n",
       "        <td>2</td>\n",
       "        <td>8</td>\n",
       "    </tr>\n",
       "</table>"
      ],
      "text/plain": [
       "[(2, 'Ana', 'SQL', '2023-01-15', 8, 9),\n",
       " (3, 'Rodrigo', 'SQL', '2023-02-02', 7, 9),\n",
       " (4, 'Susana', 'SQL', '2023-01-01', 4, 9),\n",
       " (6, 'Luis', 'SQL', '2023-02-01', 7, 10),\n",
       " (7, 'Omar', 'SQL', '2023-02-01', 2, 8)]"
      ]
     },
     "execution_count": 21,
     "metadata": {},
     "output_type": "execute_result"
    }
   ],
   "source": [
    "%%sql \n",
    "SELECT *\n",
    "FROM alumnos\n",
    "WHERE puntaje_B >= 8;"
   ]
  },
  {
   "cell_type": "code",
   "execution_count": 22,
   "id": "9b0615a1-f8f8-413a-9c28-1c5e5a7130e0",
   "metadata": {
    "tags": []
   },
   "outputs": [
    {
     "name": "stdout",
     "output_type": "stream",
     "text": [
      " * sqlite:///nueva.sqlite\n",
      "Done.\n"
     ]
    },
    {
     "data": {
      "text/html": [
       "<table>\n",
       "    <tr>\n",
       "        <th>id</th>\n",
       "        <th>nombre</th>\n",
       "        <th>clase</th>\n",
       "        <th>fecha_de_ingreso</th>\n",
       "        <th>puntaje_A</th>\n",
       "        <th>puntaje_B</th>\n",
       "    </tr>\n",
       "    <tr>\n",
       "        <td>2</td>\n",
       "        <td>Ana</td>\n",
       "        <td>SQL</td>\n",
       "        <td>2023-01-15</td>\n",
       "        <td>8</td>\n",
       "        <td>9</td>\n",
       "    </tr>\n",
       "    <tr>\n",
       "        <td>4</td>\n",
       "        <td>Susana</td>\n",
       "        <td>SQL</td>\n",
       "        <td>2023-01-01</td>\n",
       "        <td>4</td>\n",
       "        <td>9</td>\n",
       "    </tr>\n",
       "</table>"
      ],
      "text/plain": [
       "[(2, 'Ana', 'SQL', '2023-01-15', 8, 9),\n",
       " (4, 'Susana', 'SQL', '2023-01-01', 4, 9)]"
      ]
     },
     "execution_count": 22,
     "metadata": {},
     "output_type": "execute_result"
    }
   ],
   "source": [
    "%%sql \n",
    "SELECT *\n",
    "FROM alumnos\n",
    "WHERE fecha_de_ingreso BETWEEN \"2023-01-01\" AND \"2023-01-31\";"
   ]
  },
  {
   "cell_type": "code",
   "execution_count": 23,
   "id": "96f5d7c1-b0a6-442e-a6c8-d86d40094a9f",
   "metadata": {
    "tags": []
   },
   "outputs": [
    {
     "name": "stdout",
     "output_type": "stream",
     "text": [
      " * sqlite:///nueva.sqlite\n",
      "Done.\n"
     ]
    },
    {
     "data": {
      "text/html": [
       "<table>\n",
       "    <tr>\n",
       "        <th>id</th>\n",
       "        <th>nombre</th>\n",
       "        <th>clase</th>\n",
       "        <th>fecha_de_ingreso</th>\n",
       "        <th>puntaje_A</th>\n",
       "        <th>puntaje_B</th>\n",
       "        <th>promedio</th>\n",
       "    </tr>\n",
       "    <tr>\n",
       "        <td>1</td>\n",
       "        <td>Xavier</td>\n",
       "        <td>SQL</td>\n",
       "        <td>2023-02-04</td>\n",
       "        <td>3</td>\n",
       "        <td>3</td>\n",
       "        <td>3</td>\n",
       "    </tr>\n",
       "    <tr>\n",
       "        <td>4</td>\n",
       "        <td>Susana</td>\n",
       "        <td>SQL</td>\n",
       "        <td>2023-01-01</td>\n",
       "        <td>4</td>\n",
       "        <td>9</td>\n",
       "        <td>6</td>\n",
       "    </tr>\n",
       "    <tr>\n",
       "        <td>5</td>\n",
       "        <td>Jose</td>\n",
       "        <td>SQL</td>\n",
       "        <td>2023-02-01</td>\n",
       "        <td>5</td>\n",
       "        <td>5</td>\n",
       "        <td>5</td>\n",
       "    </tr>\n",
       "    <tr>\n",
       "        <td>7</td>\n",
       "        <td>Omar</td>\n",
       "        <td>SQL</td>\n",
       "        <td>2023-02-01</td>\n",
       "        <td>2</td>\n",
       "        <td>8</td>\n",
       "        <td>5</td>\n",
       "    </tr>\n",
       "</table>"
      ],
      "text/plain": [
       "[(1, 'Xavier', 'SQL', '2023-02-04', 3, 3, 3),\n",
       " (4, 'Susana', 'SQL', '2023-01-01', 4, 9, 6),\n",
       " (5, 'Jose', 'SQL', '2023-02-01', 5, 5, 5),\n",
       " (7, 'Omar', 'SQL', '2023-02-01', 2, 8, 5)]"
      ]
     },
     "execution_count": 23,
     "metadata": {},
     "output_type": "execute_result"
    }
   ],
   "source": [
    "%%sql \n",
    "SELECT *, (puntaje_A + puntaje_B) / 2 AS promedio\n",
    "FROM alumnos\n",
    "WHERE promedio BETWEEN 3 AND 7;"
   ]
  },
  {
   "cell_type": "code",
   "execution_count": 39,
   "id": "e2a7da66-49a1-4563-bf54-18e1282d0d89",
   "metadata": {
    "tags": []
   },
   "outputs": [
    {
     "name": "stdout",
     "output_type": "stream",
     "text": [
      " * sqlite:///nueva.sqlite\n",
      "Done.\n"
     ]
    },
    {
     "data": {
      "text/html": [
       "<table>\n",
       "    <tr>\n",
       "        <th>id</th>\n",
       "        <th>nombre</th>\n",
       "        <th>clase</th>\n",
       "        <th>fecha_de_ingreso</th>\n",
       "        <th>puntaje_A</th>\n",
       "        <th>puntaje_B</th>\n",
       "    </tr>\n",
       "    <tr>\n",
       "        <td>2</td>\n",
       "        <td>Ana</td>\n",
       "        <td>SQL</td>\n",
       "        <td>2023-01-15</td>\n",
       "        <td>8</td>\n",
       "        <td>9</td>\n",
       "    </tr>\n",
       "    <tr>\n",
       "        <td>4</td>\n",
       "        <td>Susana</td>\n",
       "        <td>SQL</td>\n",
       "        <td>2023-01-01</td>\n",
       "        <td>4</td>\n",
       "        <td>9</td>\n",
       "    </tr>\n",
       "</table>"
      ],
      "text/plain": [
       "[(2, 'Ana', 'SQL', '2023-01-15', 8, 9),\n",
       " (4, 'Susana', 'SQL', '2023-01-01', 4, 9)]"
      ]
     },
     "execution_count": 39,
     "metadata": {},
     "output_type": "execute_result"
    }
   ],
   "source": [
    "%%sql \n",
    "SELECT *\n",
    "FROM alumnos\n",
    "WHERE nombre LIKE \"%a\";"
   ]
  },
  {
   "cell_type": "code",
   "execution_count": 40,
   "id": "d84de10a-fe3a-4c8a-b087-16f430359543",
   "metadata": {},
   "outputs": [
    {
     "name": "stdout",
     "output_type": "stream",
     "text": [
      " * sqlite:///nueva.sqlite\n",
      "Done.\n"
     ]
    },
    {
     "data": {
      "text/html": [
       "<table>\n",
       "    <tr>\n",
       "        <th>id</th>\n",
       "        <th>nombre</th>\n",
       "        <th>clase</th>\n",
       "        <th>fecha_de_ingreso</th>\n",
       "        <th>puntaje_A</th>\n",
       "        <th>puntaje_B</th>\n",
       "    </tr>\n",
       "    <tr>\n",
       "        <td>2</td>\n",
       "        <td>Ana</td>\n",
       "        <td>SQL</td>\n",
       "        <td>2023-01-15</td>\n",
       "        <td>8</td>\n",
       "        <td>9</td>\n",
       "    </tr>\n",
       "    <tr>\n",
       "        <td>3</td>\n",
       "        <td>Rodrigo</td>\n",
       "        <td>SQL</td>\n",
       "        <td>2023-02-02</td>\n",
       "        <td>7</td>\n",
       "        <td>9</td>\n",
       "    </tr>\n",
       "    <tr>\n",
       "        <td>4</td>\n",
       "        <td>Susana</td>\n",
       "        <td>SQL</td>\n",
       "        <td>2023-01-01</td>\n",
       "        <td>4</td>\n",
       "        <td>9</td>\n",
       "    </tr>\n",
       "    <tr>\n",
       "        <td>6</td>\n",
       "        <td>Luis</td>\n",
       "        <td>SQL</td>\n",
       "        <td>2023-02-01</td>\n",
       "        <td>7</td>\n",
       "        <td>10</td>\n",
       "    </tr>\n",
       "    <tr>\n",
       "        <td>7</td>\n",
       "        <td>Omar</td>\n",
       "        <td>SQL</td>\n",
       "        <td>2023-02-01</td>\n",
       "        <td>2</td>\n",
       "        <td>8</td>\n",
       "    </tr>\n",
       "</table>"
      ],
      "text/plain": [
       "[(2, 'Ana', 'SQL', '2023-01-15', 8, 9),\n",
       " (3, 'Rodrigo', 'SQL', '2023-02-02', 7, 9),\n",
       " (4, 'Susana', 'SQL', '2023-01-01', 4, 9),\n",
       " (6, 'Luis', 'SQL', '2023-02-01', 7, 10),\n",
       " (7, 'Omar', 'SQL', '2023-02-01', 2, 8)]"
      ]
     },
     "execution_count": 40,
     "metadata": {},
     "output_type": "execute_result"
    }
   ],
   "source": [
    "%%sql \n",
    "SELECT *\n",
    "FROM alumnos\n",
    "WHERE puntaje_B IN (8, 9, 10);"
   ]
  },
  {
   "cell_type": "code",
   "execution_count": 26,
   "id": "dff22124-138c-4e9f-9a1b-07a945aed1d3",
   "metadata": {},
   "outputs": [
    {
     "name": "stdout",
     "output_type": "stream",
     "text": [
      " * sqlite:///nueva.sqlite\n",
      "Done.\n"
     ]
    },
    {
     "data": {
      "text/html": [
       "<table>\n",
       "    <tr>\n",
       "        <th>puntaje_B</th>\n",
       "    </tr>\n",
       "    <tr>\n",
       "        <td>3</td>\n",
       "    </tr>\n",
       "    <tr>\n",
       "        <td>9</td>\n",
       "    </tr>\n",
       "    <tr>\n",
       "        <td>5</td>\n",
       "    </tr>\n",
       "    <tr>\n",
       "        <td>10</td>\n",
       "    </tr>\n",
       "    <tr>\n",
       "        <td>8</td>\n",
       "    </tr>\n",
       "</table>"
      ],
      "text/plain": [
       "[(3,), (9,), (5,), (10,), (8,)]"
      ]
     },
     "execution_count": 26,
     "metadata": {},
     "output_type": "execute_result"
    }
   ],
   "source": [
    "%%sql\n",
    "SELECT DISTINCT puntaje_B\n",
    "FROM alumnos;"
   ]
  },
  {
   "cell_type": "code",
   "execution_count": 27,
   "id": "669a0c79-f8f4-47d5-af64-2872d26f7eab",
   "metadata": {
    "tags": []
   },
   "outputs": [
    {
     "name": "stdout",
     "output_type": "stream",
     "text": [
      " * sqlite:///nueva.sqlite\n",
      "Done.\n"
     ]
    },
    {
     "data": {
      "text/html": [
       "<table>\n",
       "    <tr>\n",
       "        <th>clase</th>\n",
       "        <th>fecha_de_ingreso</th>\n",
       "    </tr>\n",
       "    <tr>\n",
       "        <td>SQL</td>\n",
       "        <td>2023-02-04</td>\n",
       "    </tr>\n",
       "    <tr>\n",
       "        <td>SQL</td>\n",
       "        <td>2023-01-15</td>\n",
       "    </tr>\n",
       "    <tr>\n",
       "        <td>SQL</td>\n",
       "        <td>2023-02-02</td>\n",
       "    </tr>\n",
       "    <tr>\n",
       "        <td>SQL</td>\n",
       "        <td>2023-01-01</td>\n",
       "    </tr>\n",
       "    <tr>\n",
       "        <td>SQL</td>\n",
       "        <td>2023-02-01</td>\n",
       "    </tr>\n",
       "</table>"
      ],
      "text/plain": [
       "[('SQL', '2023-02-04'),\n",
       " ('SQL', '2023-01-15'),\n",
       " ('SQL', '2023-02-02'),\n",
       " ('SQL', '2023-01-01'),\n",
       " ('SQL', '2023-02-01')]"
      ]
     },
     "execution_count": 27,
     "metadata": {},
     "output_type": "execute_result"
    }
   ],
   "source": [
    "%%sql\n",
    "SELECT DISTINCT clase, fecha_de_ingreso\n",
    "FROM alumnos;"
   ]
  },
  {
   "cell_type": "code",
   "execution_count": 28,
   "id": "70137137-62d2-479c-922c-d245a7e1f9e9",
   "metadata": {
    "tags": []
   },
   "outputs": [
    {
     "name": "stdout",
     "output_type": "stream",
     "text": [
      " * sqlite:///nueva.sqlite\n",
      "Done.\n"
     ]
    },
    {
     "data": {
      "text/html": [
       "<table>\n",
       "    <tr>\n",
       "        <th>COUNT(DISTINCT fecha_de_ingreso)</th>\n",
       "    </tr>\n",
       "    <tr>\n",
       "        <td>5</td>\n",
       "    </tr>\n",
       "</table>"
      ],
      "text/plain": [
       "[(5,)]"
      ]
     },
     "execution_count": 28,
     "metadata": {},
     "output_type": "execute_result"
    }
   ],
   "source": [
    "%%sql\n",
    "SELECT COUNT(DISTINCT fecha_de_ingreso)\n",
    "FROM alumnos;"
   ]
  },
  {
   "cell_type": "code",
   "execution_count": 29,
   "id": "2752c1d5-eaad-46f7-9b10-f46b1d32b329",
   "metadata": {},
   "outputs": [],
   "source": [
    "#%sql DROP TABLE alumnos;"
   ]
  },
  {
   "cell_type": "code",
   "execution_count": null,
   "id": "7525d206-ad2f-43f3-b76e-17a3fb3035dc",
   "metadata": {},
   "outputs": [],
   "source": []
  }
 ],
 "metadata": {
  "kernelspec": {
   "display_name": "Python 3 (ipykernel)",
   "language": "python",
   "name": "python3"
  },
  "language_info": {
   "codemirror_mode": {
    "name": "ipython",
    "version": 3
   },
   "file_extension": ".py",
   "mimetype": "text/x-python",
   "name": "python",
   "nbconvert_exporter": "python",
   "pygments_lexer": "ipython3",
   "version": "3.10.6"
  }
 },
 "nbformat": 4,
 "nbformat_minor": 5
}
