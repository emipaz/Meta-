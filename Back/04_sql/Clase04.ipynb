{
 "cells": [
  {
   "cell_type": "code",
   "execution_count": 1,
   "id": "c6da30ed-50a6-45f2-97a4-33c0011e050f",
   "metadata": {
    "tags": []
   },
   "outputs": [],
   "source": [
    "%load_ext sql"
   ]
  },
  {
   "cell_type": "code",
   "execution_count": 2,
   "id": "f83e88f2-a0a9-425f-9e57-985d85c8f08e",
   "metadata": {
    "tags": []
   },
   "outputs": [],
   "source": [
    "%sql sqlite:///nueva.sqlite"
   ]
  },
  {
   "cell_type": "code",
   "execution_count": 3,
   "id": "e6246da3-3b3e-46db-b740-aed5dd879317",
   "metadata": {
    "tags": []
   },
   "outputs": [
    {
     "name": "stdout",
     "output_type": "stream",
     "text": [
      " * sqlite:///nueva.sqlite\n",
      "Done.\n"
     ]
    },
    {
     "data": {
      "text/plain": [
       "[]"
      ]
     },
     "execution_count": 3,
     "metadata": {},
     "output_type": "execute_result"
    }
   ],
   "source": [
    "%%sql\n",
    "\n",
    "CREATE TABLE alumnos (id INTEGER NOT NULL, \n",
    "                      nombre VARCHAR(50) NOT NULL, \n",
    "                      fecha_de_ingreso DATE NOT NULL);"
   ]
  },
  {
   "cell_type": "code",
   "execution_count": 4,
   "id": "18d3aa40-6ae9-4ce5-8c36-9a8d2414d6be",
   "metadata": {
    "tags": []
   },
   "outputs": [
    {
     "name": "stdout",
     "output_type": "stream",
     "text": [
      " * sqlite:///nueva.sqlite\n",
      "7 rows affected.\n"
     ]
    },
    {
     "data": {
      "text/plain": [
       "[]"
      ]
     },
     "execution_count": 4,
     "metadata": {},
     "output_type": "execute_result"
    }
   ],
   "source": [
    "%%sql \n",
    "\n",
    "INSERT INTO alumnos \n",
    "(id, nombre, fecha_de_ingreso, id_examenes)\n",
    "VALUES\n",
    "(1, \"Xavier\", \"2023-02-04\"),\n",
    "(2, \"Ana\", \"2023-01-15\"),\n",
    "(3, \"Rodrigo\", \"2023-02-02\"),\n",
    "(4, \"Susana\", \"2023-01-01\"),\n",
    "(5, \"Jose\", \"2023-02-01\"),\n",
    "(6, \"Luis\", \"2023-02-01\"),\n",
    "(7, \"Omar\", \"2023-02-01\");"
   ]
  },
  {
   "cell_type": "code",
   "execution_count": 5,
   "id": "bad29532-5754-444d-a3c2-9041eff6e961",
   "metadata": {
    "tags": []
   },
   "outputs": [
    {
     "name": "stdout",
     "output_type": "stream",
     "text": [
      " * sqlite:///nueva.sqlite\n",
      "Done.\n"
     ]
    },
    {
     "data": {
      "text/html": [
       "<table>\n",
       "    <tr>\n",
       "        <th>id</th>\n",
       "        <th>nombre</th>\n",
       "        <th>fecha_de_ingreso</th>\n",
       "    </tr>\n",
       "    <tr>\n",
       "        <td>1</td>\n",
       "        <td>Xavier</td>\n",
       "        <td>2023-02-04</td>\n",
       "    </tr>\n",
       "    <tr>\n",
       "        <td>2</td>\n",
       "        <td>Ana</td>\n",
       "        <td>2023-01-15</td>\n",
       "    </tr>\n",
       "    <tr>\n",
       "        <td>3</td>\n",
       "        <td>Rodrigo</td>\n",
       "        <td>2023-02-02</td>\n",
       "    </tr>\n",
       "    <tr>\n",
       "        <td>4</td>\n",
       "        <td>Susana</td>\n",
       "        <td>2023-01-01</td>\n",
       "    </tr>\n",
       "    <tr>\n",
       "        <td>5</td>\n",
       "        <td>Jose</td>\n",
       "        <td>2023-02-01</td>\n",
       "    </tr>\n",
       "    <tr>\n",
       "        <td>6</td>\n",
       "        <td>Luis</td>\n",
       "        <td>2023-02-01</td>\n",
       "    </tr>\n",
       "    <tr>\n",
       "        <td>7</td>\n",
       "        <td>Omar</td>\n",
       "        <td>2023-02-01</td>\n",
       "    </tr>\n",
       "</table>"
      ],
      "text/plain": [
       "[(1, 'Xavier', '2023-02-04'),\n",
       " (2, 'Ana', '2023-01-15'),\n",
       " (3, 'Rodrigo', '2023-02-02'),\n",
       " (4, 'Susana', '2023-01-01'),\n",
       " (5, 'Jose', '2023-02-01'),\n",
       " (6, 'Luis', '2023-02-01'),\n",
       " (7, 'Omar', '2023-02-01')]"
      ]
     },
     "execution_count": 5,
     "metadata": {},
     "output_type": "execute_result"
    }
   ],
   "source": [
    "%sql SELECT * FROM alumnos;"
   ]
  },
  {
   "cell_type": "code",
   "execution_count": 6,
   "id": "e8766bcd-cba9-433f-8808-7eccf31c21fe",
   "metadata": {},
   "outputs": [
    {
     "name": "stdout",
     "output_type": "stream",
     "text": [
      " * sqlite:///nueva.sqlite\n",
      "Done.\n"
     ]
    },
    {
     "data": {
      "text/plain": [
       "[]"
      ]
     },
     "execution_count": 6,
     "metadata": {},
     "output_type": "execute_result"
    }
   ],
   "source": [
    "%%sql\n",
    "\n",
    "CREATE TABLE examenes (id INTEGER NOT NULL, \n",
    "                      clase VARCHAR(30) DEFAULT \"SQL\",\n",
    "                      puntaje INTEGER,\n",
    "                      id_alumno INTEGER REFERENCES alumnos(id));"
   ]
  },
  {
   "cell_type": "code",
   "execution_count": 7,
   "id": "5f44cfc6-7dc4-4fb2-9602-904b9a64937a",
   "metadata": {},
   "outputs": [
    {
     "name": "stdout",
     "output_type": "stream",
     "text": [
      " * sqlite:///nueva.sqlite\n",
      "13 rows affected.\n"
     ]
    },
    {
     "data": {
      "text/plain": [
       "[]"
      ]
     },
     "execution_count": 7,
     "metadata": {},
     "output_type": "execute_result"
    }
   ],
   "source": [
    "%%sql\n",
    "\n",
    "INSERT INTO examenes\n",
    "(id, clase, puntaje, id_alumno)\n",
    "VALUES\n",
    "(1, \"SQL\", 8, 6),\n",
    "(2, \"Python\", 4, 3),\n",
    "(3, \"SQL\", 9, 7),\n",
    "(4, \"HTML\", 7, 1),\n",
    "(5, \"SQL\", 8, 2),\n",
    "(6, \"SQL\", 9, 4),\n",
    "(7, \"Python\", 10, 5),\n",
    "(8, \"SQL\", 8, 6),\n",
    "(9, \"Python\", 8, 3),\n",
    "(10, \"SQL\", 5, 7),\n",
    "(11, \"HTML\", 8, 1),\n",
    "(12, \"SQL\", 7, 2),\n",
    "(13, \"SQL\", 10, 4);"
   ]
  },
  {
   "cell_type": "code",
   "execution_count": 8,
   "id": "03c568b1-5bb7-4f6a-8d92-314bb8c426bb",
   "metadata": {},
   "outputs": [
    {
     "name": "stdout",
     "output_type": "stream",
     "text": [
      " * sqlite:///nueva.sqlite\n",
      "Done.\n"
     ]
    },
    {
     "data": {
      "text/html": [
       "<table>\n",
       "    <tr>\n",
       "        <th>id</th>\n",
       "        <th>clase</th>\n",
       "        <th>puntaje</th>\n",
       "        <th>id_alumno</th>\n",
       "    </tr>\n",
       "    <tr>\n",
       "        <td>1</td>\n",
       "        <td>SQL</td>\n",
       "        <td>8</td>\n",
       "        <td>6</td>\n",
       "    </tr>\n",
       "    <tr>\n",
       "        <td>2</td>\n",
       "        <td>Python</td>\n",
       "        <td>4</td>\n",
       "        <td>3</td>\n",
       "    </tr>\n",
       "    <tr>\n",
       "        <td>3</td>\n",
       "        <td>SQL</td>\n",
       "        <td>9</td>\n",
       "        <td>7</td>\n",
       "    </tr>\n",
       "    <tr>\n",
       "        <td>4</td>\n",
       "        <td>HTML</td>\n",
       "        <td>7</td>\n",
       "        <td>1</td>\n",
       "    </tr>\n",
       "    <tr>\n",
       "        <td>5</td>\n",
       "        <td>SQL</td>\n",
       "        <td>8</td>\n",
       "        <td>2</td>\n",
       "    </tr>\n",
       "    <tr>\n",
       "        <td>6</td>\n",
       "        <td>SQL</td>\n",
       "        <td>9</td>\n",
       "        <td>4</td>\n",
       "    </tr>\n",
       "    <tr>\n",
       "        <td>7</td>\n",
       "        <td>Python</td>\n",
       "        <td>10</td>\n",
       "        <td>5</td>\n",
       "    </tr>\n",
       "    <tr>\n",
       "        <td>8</td>\n",
       "        <td>SQL</td>\n",
       "        <td>8</td>\n",
       "        <td>6</td>\n",
       "    </tr>\n",
       "    <tr>\n",
       "        <td>9</td>\n",
       "        <td>Python</td>\n",
       "        <td>8</td>\n",
       "        <td>3</td>\n",
       "    </tr>\n",
       "    <tr>\n",
       "        <td>10</td>\n",
       "        <td>SQL</td>\n",
       "        <td>5</td>\n",
       "        <td>7</td>\n",
       "    </tr>\n",
       "    <tr>\n",
       "        <td>11</td>\n",
       "        <td>HTML</td>\n",
       "        <td>8</td>\n",
       "        <td>1</td>\n",
       "    </tr>\n",
       "    <tr>\n",
       "        <td>12</td>\n",
       "        <td>SQL</td>\n",
       "        <td>7</td>\n",
       "        <td>2</td>\n",
       "    </tr>\n",
       "    <tr>\n",
       "        <td>13</td>\n",
       "        <td>SQL</td>\n",
       "        <td>10</td>\n",
       "        <td>4</td>\n",
       "    </tr>\n",
       "</table>"
      ],
      "text/plain": [
       "[(1, 'SQL', 8, 6),\n",
       " (2, 'Python', 4, 3),\n",
       " (3, 'SQL', 9, 7),\n",
       " (4, 'HTML', 7, 1),\n",
       " (5, 'SQL', 8, 2),\n",
       " (6, 'SQL', 9, 4),\n",
       " (7, 'Python', 10, 5),\n",
       " (8, 'SQL', 8, 6),\n",
       " (9, 'Python', 8, 3),\n",
       " (10, 'SQL', 5, 7),\n",
       " (11, 'HTML', 8, 1),\n",
       " (12, 'SQL', 7, 2),\n",
       " (13, 'SQL', 10, 4)]"
      ]
     },
     "execution_count": 8,
     "metadata": {},
     "output_type": "execute_result"
    }
   ],
   "source": [
    "%sql SELECT * FROM examenes;"
   ]
  },
  {
   "cell_type": "code",
   "execution_count": 9,
   "id": "ce2b8ab5-9585-43f3-81a1-e5ee7e523b8b",
   "metadata": {
    "tags": []
   },
   "outputs": [
    {
     "name": "stdout",
     "output_type": "stream",
     "text": [
      " * sqlite:///nueva.sqlite\n",
      "Done.\n"
     ]
    },
    {
     "data": {
      "text/html": [
       "<table>\n",
       "    <tr>\n",
       "        <th>id</th>\n",
       "        <th>clase</th>\n",
       "        <th>puntaje</th>\n",
       "        <th>id_alumno</th>\n",
       "    </tr>\n",
       "    <tr>\n",
       "        <td>6</td>\n",
       "        <td>SQL</td>\n",
       "        <td>9</td>\n",
       "        <td>4</td>\n",
       "    </tr>\n",
       "    <tr>\n",
       "        <td>13</td>\n",
       "        <td>SQL</td>\n",
       "        <td>10</td>\n",
       "        <td>4</td>\n",
       "    </tr>\n",
       "</table>"
      ],
      "text/plain": [
       "[(6, 'SQL', 9, 4), (13, 'SQL', 10, 4)]"
      ]
     },
     "execution_count": 9,
     "metadata": {},
     "output_type": "execute_result"
    }
   ],
   "source": [
    "%sql SELECT * from examenes WHERE id_alumno = 4;"
   ]
  },
  {
   "cell_type": "code",
   "execution_count": 10,
   "id": "7857eb69-7e31-4e86-b063-2d961d53dc61",
   "metadata": {
    "tags": []
   },
   "outputs": [
    {
     "name": "stdout",
     "output_type": "stream",
     "text": [
      " * sqlite:///nueva.sqlite\n",
      "Done.\n",
      "Done.\n"
     ]
    },
    {
     "data": {
      "text/plain": [
       "[]"
      ]
     },
     "execution_count": 10,
     "metadata": {},
     "output_type": "execute_result"
    }
   ],
   "source": [
    "%%sql\n",
    "\n",
    "CREATE TABLE clases (id INTEGER NOT NULL,\n",
    "                     nombre VARCHAR(50) NOT NULL);\n",
    "\n",
    "\n",
    "CREATE TABLE profesores (id INTEGER NOT NULL, \n",
    "                         nombre VARCHAR(50) NOT NULL, \n",
    "                         id_clase INTEGER REFERENCES clases(id));\n",
    "\n"
   ]
  },
  {
   "cell_type": "code",
   "execution_count": 11,
   "id": "14723c21-e43d-4356-a3d1-a62ce2c9336a",
   "metadata": {},
   "outputs": [
    {
     "name": "stdout",
     "output_type": "stream",
     "text": [
      " * sqlite:///nueva.sqlite\n",
      "3 rows affected.\n",
      "3 rows affected.\n"
     ]
    },
    {
     "data": {
      "text/plain": [
       "[]"
      ]
     },
     "execution_count": 11,
     "metadata": {},
     "output_type": "execute_result"
    }
   ],
   "source": [
    "%%sql\n",
    "\n",
    "INSERT INTO clases\n",
    "(id, nombre)\n",
    "VALUES\n",
    "(1, \"SQL\"),\n",
    "(2, \"Python\"),\n",
    "(3, \"HTML\"),\n",
    "(4, \"JavaScript\");\n",
    "\n",
    "INSERT INTO profesores\n",
    "(id, nombre, id_clase)\n",
    "VALUES\n",
    "(1, \"Jirafales\", 2),\n",
    "(2, \"Maestro Roshi\", 3),\n",
    "(3, \"Sarmiento\", 1);"
   ]
  },
  {
   "cell_type": "code",
   "execution_count": 12,
   "id": "5bbd5dd7-e310-455b-aae7-f37a78b6509e",
   "metadata": {},
   "outputs": [
    {
     "name": "stdout",
     "output_type": "stream",
     "text": [
      " * sqlite:///nueva.sqlite\n",
      "Done.\n"
     ]
    },
    {
     "data": {
      "text/html": [
       "<table>\n",
       "    <tr>\n",
       "        <th>id</th>\n",
       "        <th>nombre</th>\n",
       "        <th>id_clase</th>\n",
       "    </tr>\n",
       "    <tr>\n",
       "        <td>1</td>\n",
       "        <td>Jirafales</td>\n",
       "        <td>2</td>\n",
       "    </tr>\n",
       "    <tr>\n",
       "        <td>2</td>\n",
       "        <td>Maestro Roshi</td>\n",
       "        <td>3</td>\n",
       "    </tr>\n",
       "    <tr>\n",
       "        <td>3</td>\n",
       "        <td>Sarmiento</td>\n",
       "        <td>1</td>\n",
       "    </tr>\n",
       "</table>"
      ],
      "text/plain": [
       "[(1, 'Jirafales', 2), (2, 'Maestro Roshi', 3), (3, 'Sarmiento', 1)]"
      ]
     },
     "execution_count": 12,
     "metadata": {},
     "output_type": "execute_result"
    }
   ],
   "source": [
    "%sql SELECT * FROM profesores;"
   ]
  },
  {
   "cell_type": "code",
   "execution_count": 13,
   "id": "75a82739-6ff5-433c-8d71-398c2bf07852",
   "metadata": {},
   "outputs": [
    {
     "name": "stdout",
     "output_type": "stream",
     "text": [
      " * sqlite:///nueva.sqlite\n",
      "Done.\n"
     ]
    },
    {
     "data": {
      "text/html": [
       "<table>\n",
       "    <tr>\n",
       "        <th>id</th>\n",
       "        <th>nombre</th>\n",
       "    </tr>\n",
       "    <tr>\n",
       "        <td>1</td>\n",
       "        <td>SQL</td>\n",
       "    </tr>\n",
       "    <tr>\n",
       "        <td>2</td>\n",
       "        <td>Python</td>\n",
       "    </tr>\n",
       "    <tr>\n",
       "        <td>3</td>\n",
       "        <td>HTML</td>\n",
       "    </tr>\n",
       "</table>"
      ],
      "text/plain": [
       "[(1, 'SQL'), (2, 'Python'), (3, 'HTML')]"
      ]
     },
     "execution_count": 13,
     "metadata": {},
     "output_type": "execute_result"
    }
   ],
   "source": [
    "%sql SELECT * FROM clases;"
   ]
  },
  {
   "cell_type": "code",
   "execution_count": 16,
   "id": "08d040b0-17e0-4ca8-beb1-31f16a0e4d0d",
   "metadata": {},
   "outputs": [
    {
     "name": "stdout",
     "output_type": "stream",
     "text": [
      " * sqlite:///nueva.sqlite\n",
      "Done.\n"
     ]
    },
    {
     "data": {
      "text/plain": [
       "[]"
      ]
     },
     "execution_count": 16,
     "metadata": {},
     "output_type": "execute_result"
    }
   ],
   "source": [
    "%%sql\n",
    "\n",
    "CREATE TABLE alumnos_cursando (id INTEGER NOT NULL, \n",
    "                               id_alumno INTEGER REFERENCES alumnos(id), \n",
    "                               id_clase INTEGER REFERENCES clases(id));"
   ]
  },
  {
   "cell_type": "code",
   "execution_count": 17,
   "id": "f79307d8-ab17-4eea-8c35-4f110f27be9c",
   "metadata": {},
   "outputs": [
    {
     "name": "stdout",
     "output_type": "stream",
     "text": [
      " * sqlite:///nueva.sqlite\n",
      "6 rows affected.\n"
     ]
    },
    {
     "data": {
      "text/plain": [
       "[]"
      ]
     },
     "execution_count": 17,
     "metadata": {},
     "output_type": "execute_result"
    }
   ],
   "source": [
    "%%sql\n",
    "\n",
    "INSERT INTO alumnos_cursando\n",
    "(id, id_alumno, id_clase)\n",
    "VALUES\n",
    "(1, 1, 1),\n",
    "(2, 1, 3),\n",
    "(3, 2, 1),\n",
    "(4, 3, 2),\n",
    "(5, 3, 3),\n",
    "(6, 4, 2);"
   ]
  },
  {
   "cell_type": "code",
   "execution_count": 18,
   "id": "4c276f1f-a4e1-43f5-868f-060178052d5c",
   "metadata": {
    "tags": []
   },
   "outputs": [
    {
     "name": "stdout",
     "output_type": "stream",
     "text": [
      " * sqlite:///nueva.sqlite\n",
      "Done.\n"
     ]
    },
    {
     "data": {
      "text/html": [
       "<table>\n",
       "    <tr>\n",
       "        <th>id</th>\n",
       "        <th>id_alumno</th>\n",
       "        <th>id_clase</th>\n",
       "    </tr>\n",
       "    <tr>\n",
       "        <td>1</td>\n",
       "        <td>1</td>\n",
       "        <td>1</td>\n",
       "    </tr>\n",
       "    <tr>\n",
       "        <td>2</td>\n",
       "        <td>1</td>\n",
       "        <td>3</td>\n",
       "    </tr>\n",
       "    <tr>\n",
       "        <td>3</td>\n",
       "        <td>2</td>\n",
       "        <td>1</td>\n",
       "    </tr>\n",
       "    <tr>\n",
       "        <td>4</td>\n",
       "        <td>3</td>\n",
       "        <td>2</td>\n",
       "    </tr>\n",
       "    <tr>\n",
       "        <td>5</td>\n",
       "        <td>3</td>\n",
       "        <td>3</td>\n",
       "    </tr>\n",
       "    <tr>\n",
       "        <td>6</td>\n",
       "        <td>4</td>\n",
       "        <td>2</td>\n",
       "    </tr>\n",
       "</table>"
      ],
      "text/plain": [
       "[(1, 1, 1), (2, 1, 3), (3, 2, 1), (4, 3, 2), (5, 3, 3), (6, 4, 2)]"
      ]
     },
     "execution_count": 18,
     "metadata": {},
     "output_type": "execute_result"
    }
   ],
   "source": [
    "%sql SELECT * FROM alumnos_cursando;"
   ]
  },
  {
   "cell_type": "code",
   "execution_count": null,
   "id": "2752c1d5-eaad-46f7-9b10-f46b1d32b329",
   "metadata": {},
   "outputs": [],
   "source": [
    "#%sql DROP TABLE alumnos;\n",
    "#%sql DROP TABLE examenes;\n",
    "#%sql DROP TABLE clases;\n",
    "#%sql DROP TABLE profesores;"
   ]
  },
  {
   "cell_type": "code",
   "execution_count": null,
   "id": "7525d206-ad2f-43f3-b76e-17a3fb3035dc",
   "metadata": {},
   "outputs": [],
   "source": []
  }
 ],
 "metadata": {
  "kernelspec": {
   "display_name": "Python 3 (ipykernel)",
   "language": "python",
   "name": "python3"
  },
  "language_info": {
   "codemirror_mode": {
    "name": "ipython",
    "version": 3
   },
   "file_extension": ".py",
   "mimetype": "text/x-python",
   "name": "python",
   "nbconvert_exporter": "python",
   "pygments_lexer": "ipython3",
   "version": "3.10.6"
  }
 },
 "nbformat": 4,
 "nbformat_minor": 5
}
