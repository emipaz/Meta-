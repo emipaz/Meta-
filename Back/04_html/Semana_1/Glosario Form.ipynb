{
 "cells": [
  {
   "cell_type": "markdown",
   "metadata": {},
   "source": [
    "# Glosario Form Html\n",
    "\n"
   ]
  },
  {
   "attachments": {},
   "cell_type": "markdown",
   "metadata": {},
   "source": [
    "El elemento \\<form> en HTML es un elemento importante y útil. La siguiente hoja proporciona una descripción general de los elementos constituyentes de \\<form> y sus atributos comunes con ejemplos simples para una referencia rápida"
   ]
  },
  {
   "attachments": {},
   "cell_type": "markdown",
   "metadata": {},
   "source": [
    "\\<input>\n",
    "\n",
    "Se utiliza para crear controles interactivos, por ejemplo, botones y varios tipos de campos de texto, etc., para aceptar entradas o datos del usuario. El atributo clave de este elemento es el **_type_** . Algunos valores comunes para el **_type_** incluyen: **_button, checkbox, date, email, number, password, submit, text, y url_** . Estos valores dictan la apariencia del elemento. Por ejemplo, este código:"
   ]
  },
  {
   "cell_type": "markdown",
   "metadata": {},
   "source": []
  },
  {
   "cell_type": "code",
   "execution_count": 1,
   "metadata": {
    "vscode": {
     "languageId": "html"
    }
   },
   "outputs": [
    {
     "data": {
      "text/html": [
       "\n",
       "<form action=\"my_action_page\"> \n",
       "\n",
       "    <label for=\"uname\">Username:</label> \n",
       "    <br> \n",
       "    <input type=\"text\" id=\"uname\" name=\"username\"> \n",
       "    <br> \n",
       "    <label for=\"pwd\">Password:</label> \n",
       "    <br> \n",
       "    <input type=\"password\" id=\"pwd\" name=\"pwd\"> \n",
       "    <br><br> \n",
       "    <input type=\"submit\" value=\"Login\"> \n",
       "  </form> \n"
      ],
      "text/plain": [
       "<IPython.core.display.HTML object>"
      ]
     },
     "metadata": {},
     "output_type": "display_data"
    }
   ],
   "source": [
    "%%HTML\n",
    "\n",
    "<form action=\"my_action_page\"> \n",
    "\n",
    "    <label for=\"uname\">Username:</label> \n",
    "    <br> \n",
    "    <input type=\"text\" id=\"uname\" name=\"username\"> \n",
    "    <br> \n",
    "    <label for=\"pwd\">Password:</label> \n",
    "    <br> \n",
    "    <input type=\"password\" id=\"pwd\" name=\"pwd\"> \n",
    "    <br><br> \n",
    "    <input type=\"submit\" value=\"Login\"> \n",
    "  </form> "
   ]
  },
  {
   "attachments": {},
   "cell_type": "markdown",
   "metadata": {
    "vscode": {
     "languageId": "html"
    }
   },
   "source": [
    "\\<label>\n",
    "\n",
    "Define una etiqueta para un elemento. Tiene un atributo \"for\", cuyo valor debe ser igual al atributo id del elemento al que está asociado. Observe cómo en el ejemplo anterior, `<label>` está asociado con `<input>` utilizando su valor de id. \n",
    "\n",
    "\n",
    "\\<select>\n",
    "\n",
    "        Define una lista desplegable de opciones presentadas al usuario. Tiene un par de atributos: \n",
    "\n",
    "- Formulario, el id del formulario en el que aparece el desplegable\n",
    "- Nombre especifica el nombre del control\n",
    "- El atributo booleano múltiple, cuando se especifica, indica si un usuario puede seleccionar varias opciones de la lista\n",
    "- Obligatorio indica si el usuario debe seleccionar una opción antes de enviar un formulario\n",
    "- El tamaño menciona el número de opciones visibles en una lista desplegable\n",
    "\n",
    "Las opciones en una lista desplegable se definen usando el elemento `<option>` dentro de `<select>` . Tenga en cuenta el ejemplo en la descripción de `<opción>` a continuación.\n",
    "\n",
    "\n",
    "\\<textarea>\n",
    "\n",
    "Define un campo de entrada de varias líneas, generalmente para permitir que el usuario ingrese datos de texto más largos. Los atributos comunes para este elemento incluyen:\n",
    "\n",
    "- `cols` define el ancho del área de texto, el valor predeterminado es 20\n",
    "- `form` el elemento de formulario con el que está asociada el área de texto \n",
    "- `maxlength` cuando se especifica, limita el número máximo de caracteres que se pueden introducir en el área de texto\n",
    "- `minlength` el número mínimo de caracteres que el usuario debe ingresar\n",
    "- `readonly` una vez configurado, el usuario no puede modificar los contenidos\n",
    "- `rows` define el número de líneas de texto visibles para el área de texto \n",
    "\n",
    "La siguiente línea de código define un área de texto de 10 líneas visibles y casi 30 caracteres de ancho donde el usuario puede ingresar un máximo de 200 caracteres:\n",
    "\n"
   ]
  },
  {
   "cell_type": "markdown",
   "metadata": {},
   "source": []
  },
  {
   "cell_type": "code",
   "execution_count": 2,
   "metadata": {
    "vscode": {
     "languageId": "html"
    }
   },
   "outputs": [
    {
     "data": {
      "text/html": [
       "\n",
       "<textarea name=\"response\" rows=\"10\" cols=\"30\" maxlength=”200”> \n",
       "\n",
       "</textarea> \n"
      ],
      "text/plain": [
       "<IPython.core.display.HTML object>"
      ]
     },
     "metadata": {},
     "output_type": "display_data"
    }
   ],
   "source": [
    "%%HTML\n",
    "\n",
    "<textarea name=\"response\" rows=\"10\" cols=\"30\" maxlength=”200”> \n",
    "\n",
    "</textarea> "
   ]
  },
  {
   "attachments": {},
   "cell_type": "markdown",
   "metadata": {},
   "source": [
    "\\<button>\n",
    "\n",
    "        Define un botón en el que se puede hacer clic. El atributo onclick define el comportamiento cuando el usuario hace clic en el botón. Por ejemplo, en el siguiente código, se muestra un mensaje de alerta al usuario. "
   ]
  },
  {
   "cell_type": "code",
   "execution_count": 3,
   "metadata": {
    "vscode": {
     "languageId": "html"
    }
   },
   "outputs": [
    {
     "data": {
      "text/html": [
       "\n",
       "<button type=\"button\" onclick=\"alert('You just clicked!')\">Click Me! \n",
       "</button> \n"
      ],
      "text/plain": [
       "<IPython.core.display.HTML object>"
      ]
     },
     "metadata": {},
     "output_type": "display_data"
    }
   ],
   "source": [
    "%%HTML\n",
    "\n",
    "<button type=\"button\" onclick=\"alert('You just clicked!')\">Click Me! \n",
    "</button> "
   ]
  },
  {
   "attachments": {},
   "cell_type": "markdown",
   "metadata": {},
   "source": [
    "\\<fieldset>\n",
    "\n",
    "        Se utiliza para agrupar elementos de entrada relacionados en un formulario. Por ejemplo, los elementos relacionados con la información personal y la calificación educativa del usuario se pueden agrupar por separado en dos conjuntos de campos.\n",
    "\n",
    "\\<legend> \n",
    "\n",
    "        Define un título para el elemento <fieldset> . Por ejemplo: \n"
   ]
  },
  {
   "cell_type": "markdown",
   "metadata": {},
   "source": []
  },
  {
   "cell_type": "code",
   "execution_count": 7,
   "metadata": {
    "vscode": {
     "languageId": "html"
    }
   },
   "outputs": [
    {
     "data": {
      "text/html": [
       "\n",
       "<fieldset> \n",
       "  <legend>Personal Info</legend> \n",
       "  <label for=\"fname\">First name:</label><br> \n",
       "  <input type=\"text\" id=\"fname\" name=\"fname\" value=\"John\"><br> \n",
       "  <label for=\"lname\">Last name:</label><br> \n",
       "  <input type=\"text\" id=\"lname\" name=\"lname\" value=\"Doe\"><br> \n",
       "</fieldset> \n"
      ],
      "text/plain": [
       "<IPython.core.display.HTML object>"
      ]
     },
     "metadata": {},
     "output_type": "display_data"
    }
   ],
   "source": [
    "%%HTML\n",
    "\n",
    "<fieldset> \n",
    "  <legend>Personal Info</legend> \n",
    "  <label for=\"fname\">First name:</label><br> \n",
    "  <input type=\"text\" id=\"fname\" name=\"fname\" value=\"John\"><br> \n",
    "  <label for=\"lname\">Last name:</label><br> \n",
    "  <input type=\"text\" id=\"lname\" name=\"lname\" value=\"Doe\"><br> \n",
    "</fieldset> \n"
   ]
  },
  {
   "cell_type": "code",
   "execution_count": 6,
   "metadata": {
    "vscode": {
     "languageId": "html"
    }
   },
   "outputs": [
    {
     "data": {
      "text/html": [
       "<fieldset> \n",
       "  <legend>Qualificaiton</legend> \n",
       "  <label for=\"pdegree\">Primary degree:</label><br> \n",
       "  <input type=\"text\" id=\"pdegree\" name=\"degree\" value=\"Masters\"><br> \n",
       "  <label for=\"fos\">Last name:</label><br> \n",
       "  <input type=\"text\" id=\"fos\" name=\"field\" value=\"Psychology\"><br> \n",
       "</fieldset> \n"
      ],
      "text/plain": [
       "<IPython.core.display.HTML object>"
      ]
     },
     "metadata": {},
     "output_type": "display_data"
    }
   ],
   "source": [
    "%%HTML\n",
    "<fieldset> \n",
    "  <legend>Qualificaiton</legend> \n",
    "  <label for=\"pdegree\">Primary degree:</label><br> \n",
    "  <input type=\"text\" id=\"pdegree\" name=\"degree\" value=\"Masters\"><br> \n",
    "  <label for=\"fos\">Last name:</label><br> \n",
    "  <input type=\"text\" id=\"fos\" name=\"field\" value=\"Psychology\"><br> \n",
    "</fieldset> "
   ]
  },
  {
   "attachments": {},
   "cell_type": "markdown",
   "metadata": {},
   "source": [
    "\\<datalist>\n",
    "\n",
    "        Especifica una lista de opciones predefinidas para un elemento de entrada. Se diferencia de <select> en que el usuario todavía puede proporcionar entradas de texto o numéricas además de las opciones enumeradas. "
   ]
  },
  {
   "cell_type": "code",
   "execution_count": 8,
   "metadata": {
    "vscode": {
     "languageId": "html"
    }
   },
   "outputs": [
    {
     "data": {
      "text/html": [
       "\n",
       "<form action=\"/my_action_page\"> \n",
       "    <label for=\"flowers\">Favourite flower:</label><br> \n",
       "    <input list=\"flowers\" name=\"flowers\"> \n",
       "    <datalist id=\"flowers\"> \n",
       "      <option value=\"Rose\"> \n",
       "      <option value=\"Lily\"> \n",
       "      <option value=\"Tulip\"> \n",
       "      <option value=\"Daffodil\"> \n",
       "      <option value=\"Orchid\"> \n",
       "    </datalist> \n",
       "    ... \n",
       "  </form>\n"
      ],
      "text/plain": [
       "<IPython.core.display.HTML object>"
      ]
     },
     "metadata": {},
     "output_type": "display_data"
    }
   ],
   "source": [
    "%%HTML\n",
    "\n",
    "<form action=\"/my_action_page\"> \n",
    "    <label for=\"flowers\">Favourite flower:</label><br> \n",
    "    <input list=\"flowers\" name=\"flowers\"> \n",
    "    <datalist id=\"flowers\"> \n",
    "      <option value=\"Rose\"> \n",
    "      <option value=\"Lily\"> \n",
    "      <option value=\"Tulip\"> \n",
    "      <option value=\"Daffodil\"> \n",
    "      <option value=\"Orchid\"> \n",
    "    </datalist> \n",
    "    ... \n",
    "  </form>"
   ]
  },
  {
   "attachments": {},
   "cell_type": "markdown",
   "metadata": {},
   "source": [
    "\\<output>\n",
    "\n",
    "        Representa el resultado de un cálculo (normalmente el resultado de un script) o el resultado de la acción del usuario.\n",
    "\n",
    "\\<opción>\n",
    "\n",
    "        Define una opción para la lista desplegable. El siguiente ejemplo de código demuestra cómo se puede definir una lista simple, con la vista representada debajo del bloque de código. \n",
    "\n",
    "\n",
    "\n"
   ]
  },
  {
   "cell_type": "code",
   "execution_count": 9,
   "metadata": {
    "vscode": {
     "languageId": "html"
    }
   },
   "outputs": [
    {
     "data": {
      "text/html": [
       "\n",
       "<label for=\"course\">Choose a course:</label><br> \n",
       "<select id=\"course\" name=\"courselist\"> \n",
       "  <option value=\"html\">HTML Introduction</option> \n",
       "  <option value=\"css\">Styling with CSS</option> \n",
       "  <option value=\"js\">JavaScript</option> \n",
       "  <option value=\"react\">React Basics</option> \n",
       "</select>\n"
      ],
      "text/plain": [
       "<IPython.core.display.HTML object>"
      ]
     },
     "metadata": {},
     "output_type": "display_data"
    }
   ],
   "source": [
    "%%HTML\n",
    "\n",
    "<label for=\"course\">Choose a course:</label><br> \n",
    "<select id=\"course\" name=\"courselist\"> \n",
    "  <option value=\"html\">HTML Introduction</option> \n",
    "  <option value=\"css\">Styling with CSS</option> \n",
    "  <option value=\"js\">JavaScript</option> \n",
    "  <option value=\"react\">React Basics</option> \n",
    "</select>"
   ]
  },
  {
   "attachments": {},
   "cell_type": "markdown",
   "metadata": {},
   "source": [
    "De forma predeterminada, se selecciona el primer elemento de la lista desplegable. Para definir una opción preseleccionada, agregue el atributo seleccionado a la opción.\n",
    "\n",
    "\\<optgroup>\n",
    "\n",
    "        Define un grupo de opciones relacionadas en una lista desplegable. Su etiqueta de atributo nombra el grupo.\n",
    "\n"
   ]
  },
  {
   "cell_type": "code",
   "execution_count": 14,
   "metadata": {
    "vscode": {
     "languageId": "html"
    }
   },
   "outputs": [
    {
     "data": {
      "text/html": [
       "\n",
       "<label for=\"dino-select\">Choose a dinosaur:</label>\n",
       "<select id=\"dino-select\">\n",
       "    <optgroup label=\"Theropods\">\n",
       "        <option>Tyrannosaurus</option>\n",
       "        <option>Velociraptor</option>\n",
       "        <option>Deinonychus</option>\n",
       "    </optgroup>\n",
       "    <optgroup label=\"Sauropods\">\n",
       "        <option>Diplodocus</option>\n",
       "        <option>Saltasaurus</option>\n",
       "        <option>Apatosaurus</option>\n",
       "    </optgroup>\n",
       "</select>\n"
      ],
      "text/plain": [
       "<IPython.core.display.HTML object>"
      ]
     },
     "metadata": {},
     "output_type": "display_data"
    }
   ],
   "source": [
    "%%HTML\n",
    "\n",
    "<label for=\"dino-select\">Choose a dinosaur:</label>\n",
    "<select id=\"dino-select\">\n",
    "    <optgroup label=\"Theropods\">\n",
    "        <option>Tyrannosaurus</option>\n",
    "        <option>Velociraptor</option>\n",
    "        <option>Deinonychus</option>\n",
    "    </optgroup>\n",
    "    <optgroup label=\"Sauropods\">\n",
    "        <option>Diplodocus</option>\n",
    "        <option>Saltasaurus</option>\n",
    "        <option>Apatosaurus</option>\n",
    "    </optgroup>\n",
    "</select>"
   ]
  },
  {
   "cell_type": "code",
   "execution_count": 15,
   "metadata": {
    "vscode": {
     "languageId": "html"
    }
   },
   "outputs": [
    {
     "data": {
      "text/html": [
       "\n",
       "<select>\n",
       "    <optgroup label=\"Group 1\">\n",
       "      <option>Option 1.1</option>\n",
       "    </optgroup>\n",
       "    <optgroup label=\"Group 2\">\n",
       "      <option>Option 2.1</option>\n",
       "      <option>Option 2.2</option>\n",
       "    </optgroup>\n",
       "    <optgroup label=\"Group 3\" disabled>\n",
       "      <option>Option 3.1</option>\n",
       "      <option>Option 3.2</option>\n",
       "      <option>Option 3.3</option>\n",
       "    </optgroup>\n",
       "  </select>\n"
      ],
      "text/plain": [
       "<IPython.core.display.HTML object>"
      ]
     },
     "metadata": {},
     "output_type": "display_data"
    }
   ],
   "source": [
    "%%HTML\n",
    "\n",
    "<select>\n",
    "    <optgroup label=\"Group 1\">\n",
    "      <option>Option 1.1</option>\n",
    "    </optgroup>\n",
    "    <optgroup label=\"Group 2\">\n",
    "      <option>Option 2.1</option>\n",
    "      <option>Option 2.2</option>\n",
    "    </optgroup>\n",
    "    <optgroup label=\"Group 3\" disabled>\n",
    "      <option>Option 3.1</option>\n",
    "      <option>Option 3.2</option>\n",
    "      <option>Option 3.3</option>\n",
    "    </optgroup>\n",
    "  </select>"
   ]
  },
  {
   "cell_type": "markdown",
   "metadata": {},
   "source": []
  }
 ],
 "metadata": {
  "kernelspec": {
   "display_name": "Py310",
   "language": "python",
   "name": "py310"
  },
  "orig_nbformat": 4,
  "vscode": {
   "interpreter": {
    "hash": "97cc609b13305c559618ec78a438abc56230b9381f827f22d070313b9a1f3777"
   }
  }
 },
 "nbformat": 4,
 "nbformat_minor": 2
}
