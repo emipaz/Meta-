{
 "cells": [
  {
   "attachments": {},
   "cell_type": "markdown",
   "metadata": {},
   "source": [
    "# Formularios\n",
    "Ya aprendió sobre la etiqueta HTML de entrada y cómo la propiedad de tipo determina los datos que sus usuarios pueden escribir. Esta hoja de trucos debe ser una referencia para decidir qué tipo se adapta mejor a su caso de uso. La mayoría de las entradas van de la mano con la etiqueta de la etiqueta para las mejores prácticas de accesibilidad.\n",
    "\n"
   ]
  },
  {
   "attachments": {},
   "cell_type": "markdown",
   "metadata": {},
   "source": [
    "## Botón\n",
    "\n",
    "        Esto muestra un botón en el que se puede hacer clic y se usa principalmente en formularios HTML para activar un script cuando se hace clic.   \n",
    "\\<input type=\"button\" value=\"Click me\" onclick=\"msg()\" />\n",
    "\n",
    "        Tenga en cuenta que también puede definir botones con la etiqueta \\<button> , con el beneficio adicional de poder colocar contenido como texto o imágenes dentro de la etiqueta."
   ]
  },
  {
   "cell_type": "code",
   "execution_count": 4,
   "metadata": {
    "vscode": {
     "languageId": "html"
    }
   },
   "outputs": [
    {
     "data": {
      "text/html": [
       "\n",
       "<button onclick=\"alert('Are you sure you want to continue?')\"> \n",
       "    <img src=\"logo.png\" \n",
       "        alt=\"Submit the form\" height=\"64\" width=\"64\">\n",
       "</button> \n"
      ],
      "text/plain": [
       "<IPython.core.display.HTML object>"
      ]
     },
     "metadata": {},
     "output_type": "display_data"
    }
   ],
   "source": [
    "%%HTML\n",
    "\n",
    "<button onclick=\"alert('Are you sure you want to continue?')\"> \n",
    "    <img src=\"logo.png\" \n",
    "        alt=\"Submit the form\" height=\"64\" width=\"64\">\n",
    "</button> "
   ]
  },
  {
   "attachments": {},
   "cell_type": "markdown",
   "metadata": {},
   "source": [
    "##  Checkbox\n",
    "\n",
    "        Define una casilla de verificación que permite seleccionar o deseleccionar valores únicos.   \n",
    "        Se utilizan para permitir que un usuario seleccione una o más opciones de un número limitado de opciones."
   ]
  },
  {
   "cell_type": "code",
   "execution_count": 7,
   "metadata": {
    "vscode": {
     "languageId": "html"
    }
   },
   "outputs": [
    {
     "data": {
      "text/html": [
       "\n",
       "<input type=\"checkbox\" id=\"dog\" name=\"dog\" value=\"Dog\">\n",
       "<label for=\"dog\">I like dogs</label>\n",
       "<input type=\"checkbox\" id=\"cat\" name=\"cat\" value=\"Cat\">\n",
       "<label for=\"cat\">I like cats</label>\n"
      ],
      "text/plain": [
       "<IPython.core.display.HTML object>"
      ]
     },
     "metadata": {},
     "output_type": "display_data"
    }
   ],
   "source": [
    "%%HTML\n",
    "\n",
    "<input type=\"checkbox\" id=\"dog\" name=\"dog\" value=\"Dog\">\n",
    "<label for=\"dog\">I like dogs</label>\n",
    "<input type=\"checkbox\" id=\"cat\" name=\"cat\" value=\"Cat\">\n",
    "<label for=\"cat\">I like cats</label>"
   ]
  },
  {
   "attachments": {},
   "cell_type": "markdown",
   "metadata": {},
   "source": [
    "## Radio\n",
    "\n",
    "        Muestra un botón de radio, que permite seleccionar un único valor entre varias opciones. Normalmente se presentan en grupos de opción, que es una colección de botones de opción que describen un conjunto de opciones relacionadas que comparten el mismo atributo de \"nombre\"."
   ]
  },
  {
   "cell_type": "code",
   "execution_count": 9,
   "metadata": {
    "vscode": {
     "languageId": "html"
    }
   },
   "outputs": [
    {
     "data": {
      "text/html": [
       "\n",
       "<input type=\"radio\" id=\"light\" name=\"theme\" value=\"Light\"> \n",
       "<label for=\"light\">Light</label> \n",
       "<input type=\"radio\" id=\"dark\" name=\"theme\" value=\"Dark\"> \n",
       "<label for=\"dark\">Dark</label> \n"
      ],
      "text/plain": [
       "<IPython.core.display.HTML object>"
      ]
     },
     "metadata": {},
     "output_type": "display_data"
    }
   ],
   "source": [
    "%%HTML\n",
    "\n",
    "<input type=\"radio\" id=\"light\" name=\"theme\" value=\"Light\"> \n",
    "<label for=\"light\">Light</label> \n",
    "<input type=\"radio\" id=\"dark\" name=\"theme\" value=\"Dark\"> \n",
    "<label for=\"dark\">Dark</label> "
   ]
  },
  {
   "attachments": {},
   "cell_type": "markdown",
   "metadata": {},
   "source": [
    "## Submit\n",
    "\n",
    "        Muestra un botón de envío para enviar todos los valores de un formulario HTML a un controlador de formulario, normalmente un servidor. El controlador de formulario se especifica en el atributo \"acción\" del formulario:"
   ]
  },
  {
   "cell_type": "code",
   "execution_count": 12,
   "metadata": {
    "vscode": {
     "languageId": "html"
    }
   },
   "outputs": [
    {
     "data": {
      "text/html": [
       "\n",
       "<form action=\"myserver.com\" method=\"POST\">\n",
       "    \n",
       "    <input type=\"submit\" value=\"Submit\" />\n",
       "    </form>\n"
      ],
      "text/plain": [
       "<IPython.core.display.HTML object>"
      ]
     },
     "metadata": {},
     "output_type": "display_data"
    }
   ],
   "source": [
    "%%HTML\n",
    "\n",
    "<form action=\"myserver.com\" method=\"POST\">\n",
    "    \n",
    "    <input type=\"submit\" value=\"Submit\" />\n",
    "    </form>"
   ]
  },
  {
   "attachments": {},
   "cell_type": "markdown",
   "metadata": {},
   "source": [
    "## Text\n",
    "\n",
    "        Define un campo de texto básico de una sola línea en el que un usuario puede ingresar texto. "
   ]
  },
  {
   "cell_type": "code",
   "execution_count": 13,
   "metadata": {
    "vscode": {
     "languageId": "html"
    }
   },
   "outputs": [
    {
     "data": {
      "text/html": [
       "\n",
       "<label for=\"fname\">First name:</label> \n",
       "<input type=\"text\" id=\"fname\" name=\"fname\"> \n"
      ],
      "text/plain": [
       "<IPython.core.display.HTML object>"
      ]
     },
     "metadata": {},
     "output_type": "display_data"
    }
   ],
   "source": [
    "%%HTML\n",
    "\n",
    "<label for=\"fname\">First name:</label> \n",
    "<input type=\"text\" id=\"fname\" name=\"fname\"> "
   ]
  },
  {
   "attachments": {},
   "cell_type": "markdown",
   "metadata": {},
   "source": [
    "## Password\n",
    "\n",
    "        Define un campo de texto de una sola línea cuyo valor está oculto, adecuado para información confidencial como contraseñas."
   ]
  },
  {
   "cell_type": "code",
   "execution_count": 15,
   "metadata": {
    "vscode": {
     "languageId": "html"
    }
   },
   "outputs": [
    {
     "data": {
      "text/html": [
       "\n",
       "<label for=\"pwd\">Password:</label> \n",
       "<input type=\"password\" id=\"pwd\" name=\"pwd\"> \n"
      ],
      "text/plain": [
       "<IPython.core.display.HTML object>"
      ]
     },
     "metadata": {},
     "output_type": "display_data"
    }
   ],
   "source": [
    "%%HTML\n",
    "\n",
    "<label for=\"pwd\">Password:</label> \n",
    "<input type=\"password\" id=\"pwd\" name=\"pwd\"> "
   ]
  },
  {
   "attachments": {},
   "cell_type": "markdown",
   "metadata": {},
   "source": [
    "## Date\n",
    "\n",
    "        Displays a control for entering a date with no time (year, month and day)."
   ]
  },
  {
   "cell_type": "code",
   "execution_count": 16,
   "metadata": {
    "vscode": {
     "languageId": "html"
    }
   },
   "outputs": [
    {
     "data": {
      "text/html": [
       "\n",
       "<input type=\"date\" id=\"dob\" name=\"date of birth\">\n"
      ],
      "text/plain": [
       "<IPython.core.display.HTML object>"
      ]
     },
     "metadata": {},
     "output_type": "display_data"
    }
   ],
   "source": [
    "%%HTML\n",
    "\n",
    "<input type=\"date\" id=\"dob\" name=\"date of birth\">"
   ]
  },
  {
   "attachments": {},
   "cell_type": "markdown",
   "metadata": {},
   "source": [
    "## Datetime-local\n",
    "\n",
    "        Defines a control for entering a date and time, including the year, month and day, as well as the time in hours and minutes."
   ]
  },
  {
   "cell_type": "code",
   "execution_count": 18,
   "metadata": {
    "vscode": {
     "languageId": "html"
    }
   },
   "outputs": [
    {
     "data": {
      "text/html": [
       "\n",
       "<label for=\"birthdaytime\">Birthday (date and time):</label>\n",
       "<input  type=\"datetime-local\" id=\"birthdaytime\" name=\"birthdaytime\">\n"
      ],
      "text/plain": [
       "<IPython.core.display.HTML object>"
      ]
     },
     "metadata": {},
     "output_type": "display_data"
    }
   ],
   "source": [
    "%%HTML\n",
    "\n",
    "<label for=\"birthdaytime\">Birthday (date and time):</label>\n",
    "<input type=\"datetime-local\" id=\"birthdaytime\" name=\"birthdaytime\">"
   ]
  },
  {
   "attachments": {},
   "cell_type": "markdown",
   "metadata": {},
   "source": [
    "## Email\n",
    "\n",
    "        Defines a field for an email address. It’s similar to a plain text input, with the addition that it validates automatically when submitted to the server."
   ]
  },
  {
   "cell_type": "code",
   "execution_count": 24,
   "metadata": {
    "vscode": {
     "languageId": "html"
    }
   },
   "outputs": [
    {
     "data": {
      "text/html": [
       "<label for=\"email\">Enter your email:</label>\n",
       "<input type=\"email\" id=\"email\" name=\"email\">\n"
      ],
      "text/plain": [
       "<IPython.core.display.HTML object>"
      ]
     },
     "metadata": {},
     "output_type": "display_data"
    }
   ],
   "source": [
    "%%HTML\n",
    "\n",
    "<label for=\"email\">Enter your email:</label>\n",
    "<input type=\"email\" id=\"email\" name=\"email\">"
   ]
  },
  {
   "attachments": {},
   "cell_type": "markdown",
   "metadata": {},
   "source": [
    "<label for=\"email\">Enter your email:</label>\n",
    "<input type=\"email\" id=\"email\" name=\"email\">"
   ]
  },
  {
   "attachments": {},
   "cell_type": "markdown",
   "metadata": {},
   "source": [
    "## File\n",
    "\n",
    "        Displays a control that lets the user select and upload a file from their computer. To define the types of files permissible you can use the \"accept\" attribute. Also, to enable multiple files to be selected, add the \"multiple\" attribute.\n",
    "\n"
   ]
  },
  {
   "cell_type": "code",
   "execution_count": 26,
   "metadata": {
    "vscode": {
     "languageId": "html"
    }
   },
   "outputs": [
    {
     "data": {
      "text/html": [
       "\n",
       "<label for=\"myfile\">Select a file:</label>\n",
       "<input type=\"file\" id=\"myfile\" name=\"myfile\">\n"
      ],
      "text/plain": [
       "<IPython.core.display.HTML object>"
      ]
     },
     "metadata": {},
     "output_type": "display_data"
    }
   ],
   "source": [
    "%%HTML\n",
    "\n",
    "<label for=\"myfile\">Select a file:</label>\n",
    "<input type=\"file\" id=\"myfile\" name=\"myfile\">"
   ]
  },
  {
   "attachments": {},
   "cell_type": "markdown",
   "metadata": {},
   "source": [
    "## Hidden\n",
    "\n",
    "        Defines a control that is not displayed but whose value is still submitted to the server."
   ]
  },
  {
   "cell_type": "code",
   "execution_count": 27,
   "metadata": {
    "vscode": {
     "languageId": "html"
    }
   },
   "outputs": [
    {
     "data": {
      "text/html": [
       "<input type=\"hidden\" id=\"custId\" name=\"custId\" value=\"3487\">\n"
      ],
      "text/plain": [
       "<IPython.core.display.HTML object>"
      ]
     },
     "metadata": {},
     "output_type": "display_data"
    }
   ],
   "source": [
    "%%HTML\n",
    "<input type=\"hidden\" id=\"custId\" name=\"custId\" value=\"3487\">"
   ]
  },
  {
   "attachments": {},
   "cell_type": "markdown",
   "metadata": {},
   "source": [
    "## Image\n",
    "\n",
    "        Defines an image as a graphical submit button. You should use the “src” attribute to point to the location of your image file."
   ]
  },
  {
   "cell_type": "code",
   "execution_count": 28,
   "metadata": {
    "vscode": {
     "languageId": "html"
    }
   },
   "outputs": [
    {
     "data": {
      "text/html": [
       "<input type=\"image\"src=\"logo.png\" alt=\"Submit\" width=\"48\" height=\"48\">\n"
      ],
      "text/plain": [
       "<IPython.core.display.HTML object>"
      ]
     },
     "metadata": {},
     "output_type": "display_data"
    }
   ],
   "source": [
    "%%HTML\n",
    "<input type=\"image\"src=\"logo.png\" alt=\"Submit\" width=\"48\" height=\"48\">"
   ]
  },
  {
   "attachments": {},
   "cell_type": "markdown",
   "metadata": {},
   "source": [
    "## Number\n",
    "\n",
    "        Defines a control for entering a number. You can use attributes to specify restrictions, such as min and max values allowed, number intervals or a default  value."
   ]
  },
  {
   "cell_type": "code",
   "execution_count": 29,
   "metadata": {
    "vscode": {
     "languageId": "html"
    }
   },
   "outputs": [
    {
     "data": {
      "text/html": [
       "<input type=\"number\" id=\"quantity\" name=\"quantity\" min=\"1\" max=\"5\">\n"
      ],
      "text/plain": [
       "<IPython.core.display.HTML object>"
      ]
     },
     "metadata": {},
     "output_type": "display_data"
    }
   ],
   "source": [
    "%%HTML\n",
    "<input type=\"number\" id=\"quantity\" name=\"quantity\" min=\"1\" max=\"5\">"
   ]
  },
  {
   "attachments": {},
   "cell_type": "markdown",
   "metadata": {},
   "source": [
    "## Range\n",
    "\n",
    "        Displays a range widget for specifying a number between two values. The precise value, however, is not considered important. This is typically represented using a slider or dial control. To define the range of acceptable values, use the “min” and “max” properties."
   ]
  },
  {
   "cell_type": "code",
   "execution_count": 30,
   "metadata": {
    "vscode": {
     "languageId": "html"
    }
   },
   "outputs": [
    {
     "data": {
      "text/html": [
       "<label for=\"volume\">Volume:</label>\n",
       "<input type=\"range\" id=\"volume\" name=\"volume\" min=\"0\"max=\"10\">\n"
      ],
      "text/plain": [
       "<IPython.core.display.HTML object>"
      ]
     },
     "metadata": {},
     "output_type": "display_data"
    }
   ],
   "source": [
    "%%HTML\n",
    "<label for=\"volume\">Volume:</label>\n",
    "<input type=\"range\" id=\"volume\" name=\"volume\" min=\"0\"max=\"10\">"
   ]
  },
  {
   "attachments": {},
   "cell_type": "markdown",
   "metadata": {},
   "source": [
    "## Reset\n",
    "\n",
    "        Displays a button that resets the contents of the form to their default values.\n"
   ]
  },
  {
   "cell_type": "code",
   "execution_count": 4,
   "metadata": {
    "vscode": {
     "languageId": "html"
    }
   },
   "outputs": [
    {
     "data": {
      "text/html": [
       "<input type=\"reset\">\n"
      ],
      "text/plain": [
       "<IPython.core.display.HTML object>"
      ]
     },
     "metadata": {},
     "output_type": "display_data"
    }
   ],
   "source": [
    "%%HTML\n",
    "<input type=\"reset\">"
   ]
  },
  {
   "attachments": {},
   "cell_type": "markdown",
   "metadata": {},
   "source": [
    "## Search\n",
    "\n",
    "        Defines a text field for entering a search query. These are functionally identical to text inputs, but may be styled differently depending on the browser."
   ]
  },
  {
   "cell_type": "code",
   "execution_count": 32,
   "metadata": {
    "vscode": {
     "languageId": "html"
    }
   },
   "outputs": [
    {
     "data": {
      "text/html": [
       "\n",
       "<label for=\"gsearch\">Search in Google:</label>\n",
       "<input type=\"search\" id=\"gsearch\" name=\"gsearch\">\n"
      ],
      "text/plain": [
       "<IPython.core.display.HTML object>"
      ]
     },
     "metadata": {},
     "output_type": "display_data"
    }
   ],
   "source": [
    "%%HTML\n",
    "\n",
    "<label for=\"gsearch\">Search in Google:</label>\n",
    "<input type=\"search\" id=\"gsearch\" name=\"gsearch\">"
   ]
  },
  {
   "cell_type": "markdown",
   "metadata": {},
   "source": []
  },
  {
   "attachments": {},
   "cell_type": "markdown",
   "metadata": {},
   "source": [
    "<label for=\"gsearch\">Search in Google:</label>\n",
    "<input type=\"search\" id=\"gsearch\" name=\"gsearch\">"
   ]
  },
  {
   "attachments": {},
   "cell_type": "markdown",
   "metadata": {},
   "source": [
    "## Time\n",
    "\n",
    "        Displays a control for entering a time value in hours and minutes, with no time zone."
   ]
  },
  {
   "cell_type": "code",
   "execution_count": 33,
   "metadata": {
    "vscode": {
     "languageId": "html"
    }
   },
   "outputs": [
    {
     "data": {
      "text/html": [
       "\n",
       "<label for=\"appt\">Select a time:</label>\n",
       "<input type=\"time\" id=\"appt\" name=\"appt\">\n"
      ],
      "text/plain": [
       "<IPython.core.display.HTML object>"
      ]
     },
     "metadata": {},
     "output_type": "display_data"
    }
   ],
   "source": [
    "%%HTML\n",
    "\n",
    "<label for=\"appt\">Select a time:</label>\n",
    "<input type=\"time\" id=\"appt\" name=\"appt\">"
   ]
  },
  {
   "attachments": {},
   "cell_type": "markdown",
   "metadata": {},
   "source": [
    "## Tel\n",
    "\n",
    "        Defines a control for entering a telephone number. Browsers that do not support “tel” fall back to standard text input. You can optionally use the \"pattern\" field to perform validation."
   ]
  },
  {
   "cell_type": "code",
   "execution_count": 5,
   "metadata": {
    "vscode": {
     "languageId": "html"
    }
   },
   "outputs": [
    {
     "data": {
      "text/html": [
       "\n",
       "<label for=\"phone\">Enter your phone number:</label>\n",
       "<input type=\"tel\" id=\"phone\" name=\"phone\" pattern=\"[+]{1}[0-9]{11,14}\">\n"
      ],
      "text/plain": [
       "<IPython.core.display.HTML object>"
      ]
     },
     "metadata": {},
     "output_type": "display_data"
    }
   ],
   "source": [
    "%%HTML\n",
    "\n",
    "<label for=\"phone\">Enter your phone number:</label>\n",
    "<input type=\"tel\" id=\"phone\" name=\"phone\" pattern=\"[+]{1}[0-9]{11,14}\">"
   ]
  },
  {
   "attachments": {},
   "cell_type": "markdown",
   "metadata": {},
   "source": [
    "## Url\n",
    "\n",
    "        Displays a field for entering a text URL. It works similar to a text input, but performs automatic validation before being submitted to the server."
   ]
  },
  {
   "cell_type": "code",
   "execution_count": 40,
   "metadata": {
    "vscode": {
     "languageId": "html"
    }
   },
   "outputs": [
    {
     "data": {
      "text/html": [
       "<label for=\"homepage\">Add your homepage:</label>\n",
       "<input type=\"url\" id=\"homepage\" name=\"homepage\">\n"
      ],
      "text/plain": [
       "<IPython.core.display.HTML object>"
      ]
     },
     "metadata": {},
     "output_type": "display_data"
    }
   ],
   "source": [
    "%%HTML\n",
    "<label for=\"homepage\">Add your homepage:</label>\n",
    "<input type=\"url\" id=\"homepage\" name=\"homepage\">"
   ]
  },
  {
   "attachments": {},
   "cell_type": "markdown",
   "metadata": {},
   "source": [
    "## Week\n",
    "\n",
    "        Defines a control for entering a date consisting of a week-year number and a year, with no time zone. Keep in mind that this is a newer type that is not supported by all the browsers.\n"
   ]
  },
  {
   "cell_type": "code",
   "execution_count": 42,
   "metadata": {
    "vscode": {
     "languageId": "html"
    }
   },
   "outputs": [
    {
     "data": {
      "text/html": [
       "<label for=\"week\">Select a week:</label>\n",
       "<input type=\"week\" id=\"week\" name=\"week\">\n"
      ],
      "text/plain": [
       "<IPython.core.display.HTML object>"
      ]
     },
     "metadata": {},
     "output_type": "display_data"
    }
   ],
   "source": [
    "%%HTML\n",
    "<label for=\"week\">Select a week:</label>\n",
    "<input type=\"week\" id=\"week\" name=\"week\">"
   ]
  },
  {
   "attachments": {},
   "cell_type": "markdown",
   "metadata": {},
   "source": [
    "## Month\n",
    "\n",
    "        Displays a control for entering a month and year, with no time zone. Keep in mind that this is a newer type that is not supported by all the browsers."
   ]
  },
  {
   "cell_type": "code",
   "execution_count": 45,
   "metadata": {
    "vscode": {
     "languageId": "html"
    }
   },
   "outputs": [
    {
     "data": {
      "text/html": [
       "\n",
       "<label for=\"bdaymonth\">Birthday (month and year):</label>\n",
       "<input type=\"month\" id=\"bdaymonth\" name=\"bdaymonth\" min=\"1930-01\" value=\"2023-01\">\n"
      ],
      "text/plain": [
       "<IPython.core.display.HTML object>"
      ]
     },
     "metadata": {},
     "output_type": "display_data"
    }
   ],
   "source": [
    "%%HTML\n",
    "\n",
    "<label for=\"bdaymonth\">Birthday (month and year):</label>\n",
    "<input type=\"month\" id=\"bdaymonth\" name=\"bdaymonth\" min=\"1930-01\" value=\"2023-01\">"
   ]
  },
  {
   "attachments": {},
   "cell_type": "markdown",
   "metadata": {},
   "source": [
    "## Ejemplo de formulario"
   ]
  },
  {
   "cell_type": "code",
   "execution_count": 5,
   "metadata": {},
   "outputs": [],
   "source": [
    "# creamos una variable para crear un archivo desde la jupyter con el comando magico %%writefile\n",
    "file = \"estilos.css\""
   ]
  },
  {
   "cell_type": "code",
   "execution_count": 15,
   "metadata": {},
   "outputs": [
    {
     "name": "stdout",
     "output_type": "stream",
     "text": [
      "Overwriting estilos.css\n"
     ]
    }
   ],
   "source": [
    "%%writefile {file}\n",
    "\n",
    "body {\n",
    "    background-color: rgb(0, 0, 0);\n",
    "}\n",
    "\n",
    "ul {\n",
    "    list-style-type: none;\n",
    "    text-align: center;\n",
    "    padding: 0px;\n",
    "}\n",
    "\n",
    "li {\n",
    "    display: inline;\n",
    "}\n",
    "\n",
    "main {\n",
    "    text-align: center;\n",
    "}\n",
    "\n",
    "footer {\n",
    "    text-align: center;\n",
    "}\n",
    "\n",
    "h1 {\n",
    "    color: #721817;\n",
    "}\n",
    "\n",
    "h2 {\n",
    "    color: #721817;\n",
    "}\n",
    "\n",
    ".center-text {\n",
    "    text-align: center;\n",
    "}\n",
    "\n",
    "img {\n",
    "    display: block;\n",
    "    margin-left: auto;\n",
    "    margin-right: auto;\n",
    "}\n",
    "\n",
    "h2 > span {\n",
    "    color: #FA9F42;\n",
    "    font-size: 0.75em;\n",
    "}\n",
    "\n",
    "form > div {\n",
    "    margin-top: 0.5em;\n",
    "    margin-bottom: 0.5em;\n",
    "}\n",
    "\n",
    "#copyright {\n",
    "    color : blue;\n",
    "    padding-top: 12px;\n",
    "    font-size: 1.75em;\n",
    "}\n",
    "\n",
    "input:focus:invalid {\n",
    "    color: red;\n",
    "    border: red 3px solid;\n",
    "}\n",
    "\n"
   ]
  },
  {
   "cell_type": "markdown",
   "metadata": {},
   "source": []
  },
  {
   "cell_type": "code",
   "execution_count": 16,
   "metadata": {
    "vscode": {
     "languageId": "html"
    }
   },
   "outputs": [
    {
     "data": {
      "text/html": [
       "\n",
       "<html lang=\"en\">\n",
       "\n",
       "<head>\n",
       "    <title>Little Lemon</title>\n",
       "\n",
       "    <meta property=\"og:title\" content=\"Our Menu\">\n",
       "    <meta property=\"og:type\"  content=\"website\">\n",
       "    <meta property=\"og:image\" content=\"logo.png\">\n",
       "    <meta property=\"og:url\"   content=\"https://littlelemon/\">\n",
       "    <meta property=\"og:description\" content=\"Little Lemon is a family-owned Mediterranean restaurant, focused on traditional recipes served with a modern twist.\">\n",
       "    <meta property=\"og:locale\" content=\"en_US\">\n",
       "    <meta property=\"og:site_name\" content=\"Little Lemon\">\n",
       "  \n",
       "    <link rel=\"stylesheet\" href=\"./estilos.css\">\n",
       "</head>\n",
       "\n",
       "<body>\n",
       "    <header>\n",
       "        <img src=\"./logo.png\">\n",
       "    </header>\n",
       "    <nav>\n",
       "        <ul>\n",
       "            <li><a href=\"index.html\">Home</a></li>\n",
       "            <li><a href=\"location.html\">Location</a></li>\n",
       "            <li><a href=\"blog.html\">Blog</a></li>\n",
       "        </ul>\n",
       "    </nav>\n",
       "    <main>\n",
       "        <h1>Sign Up</h1>\n",
       "        <form>\n",
       "            <div>\n",
       "                <label for=\"user_first_name\">First Name</label><br>\n",
       "                <input type=\"text\" id=\"user_first_name\" name=\"user_first_name\">\n",
       "            </div>\n",
       "            <div>\n",
       "                <label for=\"user_last_name\">Last Name</label><br>\n",
       "                <input type=\"text\" id=\"user_last_name\" name=\"user_last_name\">\n",
       "            </div>\n",
       "            <div>\n",
       "                <label for=\"user_email\">Email</label><br>\n",
       "                <input type=\"email\" id=\"user_email\" name=\"user_email\">\n",
       "            </div>\n",
       "            <div>\n",
       "                <label for=\"user_password\">Password</label><br>\n",
       "                <input type=\"password\" id=\"user_password\" name=\"user_password\">\n",
       "            </div>\n",
       "            <div>\n",
       "                <label for=\"user_confirm_password\">User Confirm Password</label><br>\n",
       "                <input type=\"password\" id=\"user_confirm_password\" name=\"user_confirm_password\">\n",
       "            </div>\n",
       "            <div>\n",
       "                <button type=\"submit\">Sign Up</button>\n",
       "            </div>\n",
       "        </form>\n",
       "    </main>\n",
       "    <footer id = \"copyright\">\n",
       "        <p>Copyright Little Lemon</p>\n",
       "    </footer>\n",
       "</body>\n",
       "\n",
       "</html>\n"
      ],
      "text/plain": [
       "<IPython.core.display.HTML object>"
      ]
     },
     "metadata": {},
     "output_type": "display_data"
    }
   ],
   "source": [
    "%%HTML\n",
    "\n",
    "<html lang=\"en\">\n",
    "\n",
    "<head>\n",
    "    <title>Little Lemon</title>\n",
    "\n",
    "    <meta property=\"og:title\" content=\"Our Menu\">\n",
    "    <meta property=\"og:type\"  content=\"website\">\n",
    "    <meta property=\"og:image\" content=\"logo.png\">\n",
    "    <meta property=\"og:url\"   content=\"https://littlelemon/\">\n",
    "    <meta property=\"og:description\" content=\"Little Lemon is a family-owned Mediterranean restaurant, focused on traditional recipes served with a modern twist.\">\n",
    "    <meta property=\"og:locale\" content=\"en_US\">\n",
    "    <meta property=\"og:site_name\" content=\"Little Lemon\">\n",
    "  \n",
    "    <link rel=\"stylesheet\" href=\"./estilos.css\">\n",
    "</head>\n",
    "\n",
    "<body>\n",
    "    <header>\n",
    "        <img src=\"./logo.png\">\n",
    "    </header>\n",
    "    <nav>\n",
    "        <ul>\n",
    "            <li><a href=\"index.html\">Home</a></li>\n",
    "            <li><a href=\"location.html\">Location</a></li>\n",
    "            <li><a href=\"blog.html\">Blog</a></li>\n",
    "        </ul>\n",
    "    </nav>\n",
    "    <main>\n",
    "        <h1>Sign Up</h1>\n",
    "        <form>\n",
    "            <div>\n",
    "                <label for=\"user_first_name\">First Name</label><br>\n",
    "                <input type=\"text\" id=\"user_first_name\" name=\"user_first_name\">\n",
    "            </div>\n",
    "            <div>\n",
    "                <label for=\"user_last_name\">Last Name</label><br>\n",
    "                <input type=\"text\" id=\"user_last_name\" name=\"user_last_name\">\n",
    "            </div>\n",
    "            <div>\n",
    "                <label for=\"user_email\">Email</label><br>\n",
    "                <input type=\"email\" id=\"user_email\" name=\"user_email\">\n",
    "            </div>\n",
    "            <div>\n",
    "                <label for=\"user_password\">Password</label><br>\n",
    "                <input type=\"password\" id=\"user_password\" name=\"user_password\">\n",
    "            </div>\n",
    "            <div>\n",
    "                <label for=\"user_confirm_password\">User Confirm Password</label><br>\n",
    "                <input type=\"password\" id=\"user_confirm_password\" name=\"user_confirm_password\">\n",
    "            </div>\n",
    "            <div>\n",
    "                <button type=\"submit\">Sign Up</button>\n",
    "            </div>\n",
    "        </form>\n",
    "    </main>\n",
    "    <footer id = \"copyright\">\n",
    "        <p>Copyright Little Lemon</p>\n",
    "    </footer>\n",
    "</body>\n",
    "\n",
    "</html>"
   ]
  },
  {
   "attachments": {},
   "cell_type": "markdown",
   "metadata": {},
   "source": [
    "### Otro ejemplo con Radio"
   ]
  },
  {
   "cell_type": "code",
   "execution_count": 3,
   "metadata": {
    "vscode": {
     "languageId": "html"
    }
   },
   "outputs": [
    {
     "data": {
      "text/html": [
       "\n",
       "<html lang=\"en\">\n",
       "\n",
       "<head>\n",
       "    <title>Little Lemon</title>\n",
       "\n",
       "    <meta property=\"og:title\" content=\"Our Menu\">\n",
       "    <meta property=\"og:type\" content=\"website\">\n",
       "    <meta property=\"og:image\" content=\"logo.png\">\n",
       "    <meta property=\"og:url\" content=\"https://littlelemon/\">\n",
       "    <meta property=\"og:description\"\n",
       "        content=\"Little Lemon is a family-owned Mediterranean restaurant, focused on traditional recipes served with a modern twist.\">\n",
       "    <meta property=\"og:locale\" content=\"en_US\">\n",
       "    <meta property=\"og:site_name\" content=\"Little Lemon\">\n",
       "\n",
       "    <link rel=\"stylesheet\" href=\"./estilos.css\">\n",
       "</head>\n",
       "\n",
       "<body>\n",
       "    <header>\n",
       "        <img src=\"./logo.png\">\n",
       "    </header>\n",
       "    <nav>\n",
       "        <ul>\n",
       "            <li><a href=\"index.html\">Home</a></li>\n",
       "            <li><a href=\"location.html\">Location</a></li>\n",
       "            <li><a href=\"blog.html\">Blog</a></li>\n",
       "        </ul>\n",
       "    </nav>\n",
       "    <main>\n",
       "        <h1>Book a Table</h1>\n",
       "        <form method=\"POST\">\n",
       "            \n",
       "            <fieldset id=\"size\">\n",
       "                <label><input type = \"radio\" value = \"2\" name = \"size\" checked>> 2-person table</label>\n",
       "                <label><input type = \"radio\" value = \"4\" name = \"size\" > 4-person table</label>\n",
       "                <label><input type = \"radio\" value = \"6\" name = \"size\"> 6-person table</label>\n",
       "            </fieldset>\n",
       "            \n",
       "            <fieldset id=\"location\">\n",
       "                <label><input type=\"radio\" value=\"indoors\" name=\"location\" checked> Indoors</label>\n",
       "                <label><input type=\"radio\" value=\"outdoors\" name=\"location\"> Outdoors</label>\n",
       "            </fieldset>\n",
       "            \n",
       "            <button type=\"submit\">Book table</button>\n",
       "        </form>\n",
       "    </main>\n",
       "    <footer>\n",
       "        <p>Copyright Little Lemon</p>\n",
       "    </footer>\n",
       "</body>\n",
       "\n",
       "</html>\n"
      ],
      "text/plain": [
       "<IPython.core.display.HTML object>"
      ]
     },
     "metadata": {},
     "output_type": "display_data"
    }
   ],
   "source": [
    "%%HTML\n",
    "\n",
    "<html lang=\"en\">\n",
    "\n",
    "<head>\n",
    "    <title>Little Lemon</title>\n",
    "\n",
    "    <meta property=\"og:title\" content=\"Our Menu\">\n",
    "    <meta property=\"og:type\" content=\"website\">\n",
    "    <meta property=\"og:image\" content=\"logo.png\">\n",
    "    <meta property=\"og:url\" content=\"https://littlelemon/\">\n",
    "    <meta property=\"og:description\"\n",
    "        content=\"Little Lemon is a family-owned Mediterranean restaurant, focused on traditional recipes served with a modern twist.\">\n",
    "    <meta property=\"og:locale\" content=\"en_US\">\n",
    "    <meta property=\"og:site_name\" content=\"Little Lemon\">\n",
    "\n",
    "    <link rel=\"stylesheet\" href=\"./estilos.css\">\n",
    "</head>\n",
    "\n",
    "<body>\n",
    "    <header>\n",
    "        <img src=\"./logo.png\">\n",
    "    </header>\n",
    "    <nav>\n",
    "        <ul>\n",
    "            <li><a href=\"index.html\">Home</a></li>\n",
    "            <li><a href=\"location.html\">Location</a></li>\n",
    "            <li><a href=\"blog.html\">Blog</a></li>\n",
    "        </ul>\n",
    "    </nav>\n",
    "    <main>\n",
    "        <h1>Book a Table</h1>\n",
    "        <form method=\"POST\">\n",
    "            \n",
    "            <fieldset id=\"size\">\n",
    "                <label><input type = \"radio\" value = \"2\" name = \"size\" checked>> 2-person table</label>\n",
    "                <label><input type = \"radio\" value = \"4\" name = \"size\">4-person table</label>\n",
    "                <label><input type = \"radio\" value = \"6\" name = \"size\">6-person table</label>\n",
    "            </fieldset>\n",
    "            \n",
    "            <fieldset id=\"location\">\n",
    "                <label><input type = \"radio\" value = \"indoors\"   name = \"location\" checked>Indoors</label>\n",
    "                <label><input type = \"radio\" value = \"outdoors\"  name = \"location\"> Outdoors</label>\n",
    "            </fieldset>\n",
    "            \n",
    "            <button type = \"submit\">Book table</button>\n",
    "        </form>\n",
    "    </main>\n",
    "    <footer>\n",
    "        <p>Copyright Little Lemon</p>\n",
    "    </footer>\n",
    "</body>\n",
    "\n",
    "</html>"
   ]
  },
  {
   "cell_type": "markdown",
   "metadata": {},
   "source": []
  },
  {
   "attachments": {},
   "cell_type": "markdown",
   "metadata": {},
   "source": [
    "# Hoja de trucos: elementos de formulario interactivos"
   ]
  },
  {
   "attachments": {},
   "cell_type": "markdown",
   "metadata": {},
   "source": [
    "Al completar formularios HTML, esperamos que los usuarios cumplan con ciertas reglas, como usar números cuando se les solicite, o formatear correctamente una URL o un correo electrónico cuando sea necesario. Sin embargo, los humanos son propensos a cometer errores y, en algunos casos, pueden pasar por alto algunos de los datos que ingresan. Por eso es importante asegurarse de que la forma de los datos que esperamos en cada campo sea correcta. La validación de formulario HTML es un conjunto de atributos que podemos agregar a las entradas de formulario para realizar la validación automática en nombre del usuario. Los atributos más importantes que usará para la validación son los siguientes."
   ]
  },
  {
   "attachments": {},
   "cell_type": "markdown",
   "metadata": {},
   "source": [
    "## Required\n",
    "\n",
    "        Indica una entrada obligatoria que el usuario no puede dejar vacía. Se puede usar con cualquier tipo de entrada, como contraseña, radio, texto, etc. \n",
    "\n"
   ]
  },
  {
   "cell_type": "code",
   "execution_count": 6,
   "metadata": {
    "vscode": {
     "languageId": "html"
    }
   },
   "outputs": [
    {
     "data": {
      "text/html": [
       "\n",
       "<input type=\"text\" id=\"firstName\" name=\"firstName\" requerido>\n",
       "\n"
      ],
      "text/plain": [
       "<IPython.core.display.HTML object>"
      ]
     },
     "metadata": {},
     "output_type": "display_data"
    }
   ],
   "source": [
    "%%HTML\n",
    "\n",
    "<input type=\"text\" id=\"firstName\" name=\"firstName\" requerido>\n",
    "\n"
   ]
  },
  {
   "attachments": {},
   "cell_type": "markdown",
   "metadata": {},
   "source": [
    "## Maxlength \n",
    "\n",
    "        Especifica la longitud máxima de una entrada de texto, en otras palabras, la cantidad máxima de caracteres que se pueden ingresar para un campo específico. Si se proporciona, evitará que el usuario ingrese más caracteres que el límite. "
   ]
  },
  {
   "cell_type": "code",
   "execution_count": 7,
   "metadata": {
    "vscode": {
     "languageId": "html"
    }
   },
   "outputs": [
    {
     "data": {
      "text/html": [
       "\n",
       "<input type=\"text\" id=\"description\" name=\"description\" maxlength=\"50\">\n"
      ],
      "text/plain": [
       "<IPython.core.display.HTML object>"
      ]
     },
     "metadata": {},
     "output_type": "display_data"
    }
   ],
   "source": [
    "%%HTML\n",
    "\n",
    "<input type=\"text\" id=\"description\" name=\"description\" maxlength=\"50\">"
   ]
  },
  {
   "attachments": {},
   "cell_type": "markdown",
   "metadata": {},
   "source": [
    "## Minlength\n",
    "\n",
    "        Especifica la longitud mínima de una entrada de texto. Si se establece, la entrada no aceptará menos caracteres que los especificados. "
   ]
  },
  {
   "cell_type": "code",
   "execution_count": 8,
   "metadata": {
    "vscode": {
     "languageId": "html"
    }
   },
   "outputs": [
    {
     "data": {
      "text/html": [
       "\n",
       "<input type=\"password\" id=\"password\" name=\"password\" minlength=\"8\">\n"
      ],
      "text/plain": [
       "<IPython.core.display.HTML object>"
      ]
     },
     "metadata": {},
     "output_type": "display_data"
    }
   ],
   "source": [
    "%%HTML\n",
    "\n",
    "<input type=\"password\" id=\"password\" name=\"password\" minlength=\"8\">"
   ]
  },
  {
   "attachments": {},
   "cell_type": "markdown",
   "metadata": {},
   "source": [
    "## Min and max attributes \n",
    "\n",
    "        Determine los valores mínimo y máximo permitidos para un campo de entrada. Por lo general, se aplican a entradas de texto numérico, entradas de rango o fechas. "
   ]
  },
  {
   "cell_type": "code",
   "execution_count": 10,
   "metadata": {
    "vscode": {
     "languageId": "html"
    }
   },
   "outputs": [
    {
     "data": {
      "text/html": [
       "\n",
       "<input type=\"number\" id=\"quantity\" name=\"quantity\" min=\"1\" max=\"10\"> \n",
       "<br>\n",
       "<input type=\"range\" id=\"volume\" name=\"volume\" min=\"1\" max=\"100\"> \n",
       "\n"
      ],
      "text/plain": [
       "<IPython.core.display.HTML object>"
      ]
     },
     "metadata": {},
     "output_type": "display_data"
    }
   ],
   "source": [
    "%%HTML\n",
    "\n",
    "<input type=\"number\" id=\"quantity\" name=\"quantity\" min=\"1\" max=\"10\"> \n",
    "<br>\n",
    "<input type=\"range\" id=\"volume\" name=\"volume\" min=\"1\" max=\"100\"> \n",
    "\n"
   ]
  },
  {
   "attachments": {},
   "cell_type": "markdown",
   "metadata": {},
   "source": [
    "## Multiple \n",
    "\n",
    "        Indica que el usuario puede ingresar más de un valor en un solo campo de entrada. Este atributo solo se puede usar para los tipos de entrada de correo electrónico y archivo. "
   ]
  },
  {
   "cell_type": "code",
   "execution_count": 11,
   "metadata": {
    "vscode": {
     "languageId": "html"
    }
   },
   "outputs": [
    {
     "data": {
      "text/html": [
       "\n",
       "<input type=\"file\" id=\"gallery\" name=\"gallery\" multiple>\n",
       "\n"
      ],
      "text/plain": [
       "<IPython.core.display.HTML object>"
      ]
     },
     "metadata": {},
     "output_type": "display_data"
    }
   ],
   "source": [
    "%%HTML\n",
    "\n",
    "<input type=\"file\" id=\"gallery\" name=\"gallery\" multiple>\n",
    "\n"
   ]
  },
  {
   "attachments": {},
   "cell_type": "markdown",
   "metadata": {},
   "source": [
    "## Pattern \n",
    "\n",
    "        Define un patrón particular que debe cumplir un valor de campo de entrada para que se considere válido. Este atributo espera una expresión regular para especificar el patrón. Funciona con tipos de entrada de texto, fecha, búsqueda, URL, teléfono, correo electrónico y contraseña. Por ejemplo, puede restringir los números de teléfono para que sean solo del Reino Unido. "
   ]
  },
  {
   "cell_type": "code",
   "execution_count": 30,
   "metadata": {
    "vscode": {
     "languageId": "html"
    }
   },
   "outputs": [
    {
     "data": {
      "text/html": [
       "\n",
       "<input type=\"tel\" id=\"phone\" name=\"phone\" pattern=”^(\\+44)(\\d\\s*{9,10}$” > \n",
       "\n"
      ],
      "text/plain": [
       "<IPython.core.display.HTML object>"
      ]
     },
     "metadata": {},
     "output_type": "display_data"
    }
   ],
   "source": [
    "%%HTML\n",
    "\n",
    "<input type=\"tel\" id=\"phone\" name=\"phone\" pattern=”^(\\+44)(\\d\\s*{9,10}$” > \n",
    "\n"
   ]
  },
  {
   "attachments": {},
   "cell_type": "markdown",
   "metadata": {},
   "source": [
    "### Creardo formulario con elementos interactivos"
   ]
  },
  {
   "cell_type": "code",
   "execution_count": 1,
   "metadata": {
    "vscode": {
     "languageId": "html"
    }
   },
   "outputs": [
    {
     "data": {
      "text/html": [
       "\n",
       "<html lang=\"en\">\n",
       "\n",
       "<head>\n",
       "    <title>Little Lemon</title>\n",
       "\n",
       "    <meta property=\"og:title\" content=\"Our Menu\">\n",
       "    <meta property=\"og:type\" content=\"website\">\n",
       "    <meta property=\"og:image\" content=\"logo.png\">\n",
       "    <meta property=\"og:url\" content=\"https://littlelemon/\">\n",
       "    <meta property=\"og:description\"\n",
       "        content=\"Little Lemon is a family-owned Mediterranean restaurant, focused on traditional recipes served with a modern twist.\">\n",
       "    <meta property=\"og:locale\" content=\"en_US\">\n",
       "    <meta property=\"og:site_name\" content=\"Little Lemon\">\n",
       "\n",
       "    <link rel=\"stylesheet\" href=\"./estilos.css\">\n",
       "</head>\n",
       "\n",
       "<body>\n",
       "    <header>\n",
       "        <img src=\"./logo.png\">\n",
       "    </header>\n",
       "    <nav>\n",
       "        <ul>\n",
       "            <li><a href=\"index.html\">Home</a></li>\n",
       "            <li><a href=\"location.html\">Location</a></li>\n",
       "            <li><a href=\"blog.html\">Blog</a></li>\n",
       "        </ul>\n",
       "    </nav>\n",
       "    <main>\n",
       "        <h1>Book a Table</h1>\n",
       "        <form method=\"POST\">\n",
       "            <div>\n",
       "                <label for=\"booking_date\">Booking Date</label>\n",
       "                <input type=\"date\" id=\"booking_date\" name=\"booking_date\">\n",
       "            </div>\n",
       "            <div>\n",
       "                <label for=\"booking_people\">Number of People</label>\n",
       "                <input type=\"range\" id=\"booking_people\" name=\"booking_people\" min=\"1\" max=\"10\" value=\"4\" oninput=\"this.nextElementSibling.value = this.value\">\n",
       "                <output>4</output>\n",
       "            </div>\n",
       "            <div>\n",
       "                <label for=\"booking_location\">Location</label>\n",
       "                <input id=\"booking_location\" name=\"booking_location\" list=\"locations\">\n",
       "                <datalist id=\"locations\">\n",
       "                    <option value=\"Downtown\"></option>\n",
       "                    <option value=\"Uptown\"></option>\n",
       "                </datalist>\n",
       "            </div>\n",
       "            <div>\n",
       "                <button type=\"submit\">Book table</button>\n",
       "            </div>\n",
       "        </form>\n",
       "    </main>\n",
       "    <footer>\n",
       "        <p>Copyright Little Lemon</p>\n",
       "    </footer>\n",
       "</body>\n",
       "\n",
       "</html>\n"
      ],
      "text/plain": [
       "<IPython.core.display.HTML object>"
      ]
     },
     "metadata": {},
     "output_type": "display_data"
    }
   ],
   "source": [
    "%%HTML\n",
    "\n",
    "<html lang=\"en\">\n",
    "\n",
    "<head>\n",
    "    <title>Little Lemon</title>\n",
    "\n",
    "    <meta property=\"og:title\" content=\"Our Menu\">\n",
    "    <meta property=\"og:type\" content=\"website\">\n",
    "    <meta property=\"og:image\" content=\"logo.png\">\n",
    "    <meta property=\"og:url\" content=\"https://littlelemon/\">\n",
    "    <meta property=\"og:description\"\n",
    "        content=\"Little Lemon is a family-owned Mediterranean restaurant, focused on traditional recipes served with a modern twist.\">\n",
    "    <meta property=\"og:locale\" content=\"en_US\">\n",
    "    <meta property=\"og:site_name\" content=\"Little Lemon\">\n",
    "\n",
    "    <link rel=\"stylesheet\" href=\"./estilos.css\">\n",
    "</head>\n",
    "\n",
    "<body>\n",
    "    <header>\n",
    "        <img src=\"./logo.png\">\n",
    "    </header>\n",
    "    <nav>\n",
    "        <ul>\n",
    "            <li><a href=\"index.html\">Home</a></li>\n",
    "            <li><a href=\"location.html\">Location</a></li>\n",
    "            <li><a href=\"blog.html\">Blog</a></li>\n",
    "        </ul>\n",
    "    </nav>\n",
    "    <main>\n",
    "        <h1>Book a Table</h1>\n",
    "        <form method=\"POST\">\n",
    "            <div>\n",
    "                <label for=\"booking_date\">Booking Date</label>\n",
    "                <input type=\"date\" id=\"booking_date\" name=\"booking_date\">\n",
    "            </div>\n",
    "            <div>\n",
    "                <label for=\"booking_people\">Number of People</label>\n",
    "                <input type=\"range\" id=\"booking_people\" name=\"booking_people\" min=\"1\" max=\"10\" value=\"4\" oninput=\"this.nextElementSibling.value = this.value\">\n",
    "                <output>4</output>\n",
    "            </div>\n",
    "            <div>\n",
    "                <label for=\"booking_location\">Location</label>\n",
    "                <input id=\"booking_location\" name=\"booking_location\" list=\"locations\">\n",
    "                <datalist id=\"locations\">\n",
    "                    <option value=\"Downtown\"></option>\n",
    "                    <option value=\"Uptown\"></option>\n",
    "                </datalist>\n",
    "            </div>\n",
    "            <div>\n",
    "                <button type=\"submit\">Book table</button>\n",
    "            </div>\n",
    "        </form>\n",
    "    </main>\n",
    "    <footer>\n",
    "        <p>Copyright Little Lemon</p>\n",
    "    </footer>\n",
    "</body>\n",
    "\n",
    "</html>"
   ]
  },
  {
   "cell_type": "code",
   "execution_count": null,
   "metadata": {
    "vscode": {
     "languageId": "html"
    }
   },
   "outputs": [],
   "source": []
  }
 ],
 "metadata": {
  "kernelspec": {
   "display_name": "Python 3",
   "language": "python",
   "name": "python3"
  },
  "language_info": {
   "codemirror_mode": {
    "name": "ipython",
    "version": 3
   },
   "file_extension": ".py",
   "mimetype": "text/x-python",
   "name": "python",
   "nbconvert_exporter": "python",
   "pygments_lexer": "ipython3",
   "version": "3.8.10 (default, Nov 14 2022, 12:59:47) \n[GCC 9.4.0]"
  },
  "orig_nbformat": 4,
  "vscode": {
   "interpreter": {
    "hash": "31f2aee4e71d21fbe5cf8b01ff0e069b9275f58929596ceb00d14d90e3e16cd6"
   }
  }
 },
 "nbformat": 4,
 "nbformat_minor": 2
}
