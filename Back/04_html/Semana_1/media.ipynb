{
 "cells": [
  {
   "cell_type": "markdown",
   "metadata": {},
   "source": [
    "# Media y iFrame"
   ]
  },
  {
   "cell_type": "code",
   "execution_count": null,
   "metadata": {
    "vscode": {
     "languageId": "html"
    }
   },
   "outputs": [],
   "source": []
  },
  {
   "cell_type": "code",
   "execution_count": 2,
   "metadata": {
    "vscode": {
     "languageId": "html"
    }
   },
   "outputs": [
    {
     "data": {
      "text/html": [
       "\n",
       "<video controls width=\"640\" height=\"480\">\n",
       "    <source src=\"video.mp4\" type=\"video/mp4\">\n",
       "  </video>\n",
       "\n",
       "  <form>\n",
       "    <div>\n",
       "      <label for=\"rating\">Rating</label>\n",
       "      <input type=\"range\" min=\"1\" max=\"5\" id=\"rating\" name=\"rating\" list=\"ratings\">\n",
       "      <datalist id=\"ratings\">\n",
       "          <option value=\"1\" label=\"1\"></option>\n",
       "          <option value=\"2\"></option>\n",
       "          <option value=\"3\"></option>\n",
       "          <option value=\"4\"></option>\n",
       "          <option value=\"5\" label=\"5\"></option>\n",
       "      </datalist>\n",
       "    </div>\n",
       "    <button type=\"submit\">Submit Rating</button>\n",
       "  </form\n"
      ],
      "text/plain": [
       "<IPython.core.display.HTML object>"
      ]
     },
     "metadata": {},
     "output_type": "display_data"
    }
   ],
   "source": [
    "%%HTML\n",
    "\n",
    "<video controls width=\"640\" height=\"480\">\n",
    "    <source src=\"video.mp4\" type=\"video/mp4\">\n",
    "  </video>\n",
    "\n",
    "  <form>\n",
    "    <div>\n",
    "      <label for=\"rating\">Rating</label>\n",
    "      <input type=\"range\" min=\"1\" max=\"5\" id=\"rating\" name=\"rating\" list=\"ratings\">\n",
    "      <datalist id=\"ratings\">\n",
    "          <option value=\"1\" label=\"1\"></option>\n",
    "          <option value=\"2\"></option>\n",
    "          <option value=\"3\"></option>\n",
    "          <option value=\"4\"></option>\n",
    "          <option value=\"5\" label=\"5\"></option>\n",
    "      </datalist>\n",
    "    </div>\n",
    "    <button type=\"submit\">Submit Rating</button>\n",
    "  </form"
   ]
  },
  {
   "attachments": {},
   "cell_type": "markdown",
   "metadata": {},
   "source": [
    "# iFrame sandbox cheat sheet"
   ]
  },
  {
   "attachments": {},
   "cell_type": "markdown",
   "metadata": {},
   "source": [
    "El \\<iframe> es el elemento de marco en línea que incrusta una página HTML en otra página. Además de los atributos globales, que pueden formar parte del iframe , los principales atributos específicos de los elementos se enumeran a continuación. \n",
    "\n",
    "allow\n",
    "\n",
    "- Especifica qué funciones o permisos están disponibles para el marco, por ejemplo, el acceso al micrófono, la cámara, otras API, etc. Por ejemplo:\n",
    "\n",
    "    - allow=\"fullscreen\" se puede activar el modo de pantalla completa\n",
    "\n",
    "    - allow=“geolocalización” le permite acceder a la ubicación del usuario\n",
    "\n",
    "- Para especificar más de una característica, se debe usar un separador de punto y coma entre características. Por ejemplo, lo siguiente permitiría usar la cámara y el micrófono:\n",
    "\n",
    "\\<iframe src=\"https://example.com/…\" allow=\"camera; microphone\"> </iframe>\n",
    "\n",
    "<iframe src=\"https://example.com/…\" allow=\"camera; microphone\"> </iframe>"
   ]
  },
  {
   "cell_type": "markdown",
   "metadata": {},
   "source": []
  },
  {
   "attachments": {},
   "cell_type": "markdown",
   "metadata": {},
   "source": [
    "## name \n",
    "\n",
    "    The name for the <iframe>. For example: \n"
   ]
  },
  {
   "cell_type": "code",
   "execution_count": 8,
   "metadata": {
    "vscode": {
     "languageId": "html"
    }
   },
   "outputs": [
    {
     "data": {
      "text/html": [
       "\n",
       "<iframe name= \"graduadosfiuba.org\" src=\"http:/www.graduadosfiuba.org\" width=\"600\" height=\"400\" > </iframe>\n"
      ],
      "text/plain": [
       "<IPython.core.display.HTML object>"
      ]
     },
     "metadata": {},
     "output_type": "display_data"
    }
   ],
   "source": [
    "%%HTML\n",
    "\n",
    "<iframe name= \"graduadosfiuba.org\" src=\"http:/www.graduadosfiuba.org\" width=\"600\" height=\"400\" > </iframe>"
   ]
  },
  {
   "attachments": {},
   "cell_type": "markdown",
   "metadata": {},
   "source": [
    "height \n",
    "\n",
    "        It specifies the height of the frame. The default value is 150, in terms of CSS pixels. \n",
    "\n",
    "width  \n",
    "        \n",
    "        Specifies the width of the frame, in terms of CSS pixels. The default value is 300 pixels."
   ]
  },
  {
   "cell_type": "markdown",
   "metadata": {},
   "source": []
  },
  {
   "cell_type": "code",
   "execution_count": 7,
   "metadata": {
    "vscode": {
     "languageId": "html"
    }
   },
   "outputs": [
    {
     "data": {
      "text/html": [
       "\n",
       "<iframe src=\"https://ia.tuexitoprofesional.guru/temporada2023\" width=\"800\" height=\"600\" > </iframe>\n"
      ],
      "text/plain": [
       "<IPython.core.display.HTML object>"
      ]
     },
     "metadata": {},
     "output_type": "display_data"
    }
   ],
   "source": [
    "%%HTML\n",
    "\n",
    "<iframe src=\"https://ia.tuexitoprofesional.guru/temporada2023\" width=\"800\" height=\"600\" > </iframe>"
   ]
  },
  {
   "attachments": {},
   "cell_type": "markdown",
   "metadata": {},
   "source": [
    "## referrerpolicy  \n",
    "\n",
    "Un referente es el encabezado HTTP que le permite a la página saber quién la está cargando. Este atributo indica qué información de referencia enviar al cargar el recurso de marco. Los valores comunes son:\n",
    "\n",
    "- `no-referrer` No se enviará el encabezado de referencia.\n",
    "- `origen` El remitente se limitará al origen de la página de referencia\n",
    "- `strict-origin` El origen del documento se envía como remitente solo cuando se utiliza el mismo nivel de seguridad de protocolo (HTTPS a HTTPS)\n",
    "\n",
    "\n",
    "\n"
   ]
  },
  {
   "cell_type": "code",
   "execution_count": 9,
   "metadata": {
    "vscode": {
     "languageId": "html"
    }
   },
   "outputs": [
    {
     "data": {
      "text/html": [
       "\n",
       "<iframe src=\"https://ia.tuexitoprofesional.guru/temporada2023\" width=\"800\" height=\"600\" no-referrer> </iframe>\n"
      ],
      "text/plain": [
       "<IPython.core.display.HTML object>"
      ]
     },
     "metadata": {},
     "output_type": "display_data"
    }
   ],
   "source": [
    "%%HTML\n",
    "\n",
    "<iframe src=\"https://ia.tuexitoprofesional.guru/temporada2023\" width=\"800\" height=\"600\" no-referrer> </iframe>"
   ]
  },
  {
   "attachments": {},
   "cell_type": "markdown",
   "metadata": {},
   "source": [
    "## sandbox \n",
    "\n",
    "\n",
    "Para imponer una mayor seguridad, un sandbox aplica restricciones adicionales al contenido en el \\<iframe> . Para levantar restricciones particulares, se utiliza un valor de atributo (token de permiso). Los tokens de permiso comunes se enumeran a continuación:\n",
    "\n",
    "- `allow-downloads` Permite al usuario descargar un elemento\n",
    "- `allow-forms` Permite al usuario enviar formularios\n",
    "- `allow-modals` El recurso puede abrir ventanas modales\n",
    "- `allow-orientation-lock` Permite que el recurso bloquee la orientación de la pantalla\n",
    "- `allow-popups` Permite abrir ventanas emergentes\n",
    "- `allow-presentation` Permite iniciar una sesión de presentación\n",
    "- `allow-scripts` Permite que el recurso ejecute scripts sin crear ventanas emergentes\n",
    "\n",
    "\n",
    "Tenga en cuenta que cuando el valor de este atributo está vacío, se aplican todas las restricciones. Para aplicar más de un permiso, use una lista separada por espacios. Por ejemplo, lo siguiente permitiría el envío de formularios y scripts mientras se mantienen activas otras restricciones: \n",
    "\n",
    "\n",
    "```html\n",
    "\n",
    "<iframe src=\"my_iframe_sandbox.html\" sandbox=\"allow-forms allow-scripts\"> \n",
    "</iframe> \n",
    "\n",
    " ```"
   ]
  },
  {
   "attachments": {},
   "cell_type": "markdown",
   "metadata": {},
   "source": [
    "## src \n",
    "        \n",
    "        The URL of the page to embed in the <iframe>. Using the value about:blank would embed an empty page. \n",
    "\n",
    "## srcdoc\n",
    "        \n",
    "        Let's you specify the inline HTML to embed in the <iframe>. When defined, this attribute would override the src attribute.  \n",
    "\n",
    "For instance, the following code will display \"My inline html\" in the frame, instead of loading my_iframe_src.html. "
   ]
  },
  {
   "cell_type": "code",
   "execution_count": 41,
   "metadata": {
    "vscode": {
     "languageId": "html"
    }
   },
   "outputs": [
    {
     "data": {
      "text/html": [
       "\n",
       "<iframe src=\"\" srcdoc= \"<h1 style='color:green; font-size:14px;'>Esto es un encabezado</h1>\"> \n",
       "\n",
       "</iframe>\n"
      ],
      "text/plain": [
       "<IPython.core.display.HTML object>"
      ]
     },
     "metadata": {},
     "output_type": "display_data"
    }
   ],
   "source": [
    "%%HTML\n",
    "\n",
    "<iframe src=\"\" srcdoc= \"<h1 style='color:green; font-size:14px;'>Esto es un encabezado</h1>\"> \n",
    "\n",
    "</iframe>"
   ]
  },
  {
   "attachments": {},
   "cell_type": "markdown",
   "metadata": {},
   "source": [
    "## loading\n",
    "\n",
    "Este atributo le permite especificar si el iframe debe cargarse inmediatamente cuando se carga la página web ( ávido ) o si debe cargarse cuando el iframe se muestra en el navegador ( perezoso ). Esto le permite aplazar la carga de contenido iframe si está más abajo en su página web y fuera del área de visualización cuando la página se carga inicialmente.\n",
    "\n",
    "```html\n",
    "\n",
    "<iframe src=\"my_iframe_src.html\" loading=\"lazy\" > \n",
    "</iframe> \n",
    "\n",
    "```"
   ]
  },
  {
   "attachments": {},
   "cell_type": "markdown",
   "metadata": {},
   "source": [
    "## title\n",
    "\n",
    "Este atributo le permite agregar una descripción al iframe con fines de accesibilidad. El valor de este atributo debe describir con precisión el contenido del iframe.\n",
    "\n",
    "```html\n",
    "\n",
    "<iframe src=\"history.html\" title=\"An embedded document about the history of my family\" > \n",
    "</iframe> \n",
    "\n",
    "```"
   ]
  },
  {
   "cell_type": "code",
   "execution_count": 43,
   "metadata": {
    "vscode": {
     "languageId": "html"
    }
   },
   "outputs": [
    {
     "data": {
      "text/html": [
       "\n",
       "<iframe src=\"logo.png\"></iframe>\n"
      ],
      "text/plain": [
       "<IPython.core.display.HTML object>"
      ]
     },
     "metadata": {},
     "output_type": "display_data"
    }
   ],
   "source": [
    "%%HTML\n",
    "\n",
    "<iframe src=\"logo.png\"></iframe>"
   ]
  },
  {
   "cell_type": "code",
   "execution_count": 34,
   "metadata": {
    "vscode": {
     "languageId": "html"
    }
   },
   "outputs": [
    {
     "data": {
      "text/html": [
       "\n",
       "<html lang=\"en\">\n",
       "\n",
       "<head>\n",
       "    <title>Little Lemon</title>\n",
       "\n",
       "    <meta property=\"og:title\" content=\"Our Menu\">\n",
       "    <meta property=\"og:type\" content=\"website\">\n",
       "    <meta property=\"og:image\" content=\"logo.png\">\n",
       "    <meta property=\"og:url\" content=\"https://littlelemon/\">\n",
       "    <meta property=\"og:description\"\n",
       "        content=\"Little Lemon is a family-owned Mediterranean restaurant, focused on traditional recipes served with a modern twist.\">\n",
       "    <meta property=\"og:locale\" content=\"en_US\">\n",
       "    <meta property=\"og:site_name\" content=\"Little Lemon\">\n",
       "\n",
       "    <link rel=\"stylesheet\" href=\"./estilos.css\">\n",
       "</head>\n",
       "\n",
       "<body>\n",
       "    <header>\n",
       "        <img src=\"./logo.png\">\n",
       "    </header>\n",
       "    <nav>\n",
       "        <ul>\n",
       "            <li><a href=\"index.html\">Home</a></li>\n",
       "            <li><a href=\"location.html\">Location</a></li>\n",
       "            <li><a href=\"blog.html\">Blog</a></li>\n",
       "        </ul>\n",
       "    </nav>\n",
       "    <main>\n",
       "        <iframe src=\"./placeholder.png\"></iframe>\n",
       "        <h1>Blog</h1>\n",
       "        <article>\n",
       "            <h2>20% off this weekend</h2>\n",
       "            <p>Come down to Little Lemon and your meal will be 20% off!</p>\n",
       "        </article>\n",
       "        <article>\n",
       "            <h2>Our new menu</h2>\n",
       "            <p>We've updated our menu with new dinners.</p>\n",
       "        </article>\n",
       "    </main>\n",
       "    <footer>\n",
       "        <p>Copyright Little Lemon</p>\n",
       "    </footer>\n",
       "</body>\n",
       "\n",
       "</html>\n"
      ],
      "text/plain": [
       "<IPython.core.display.HTML object>"
      ]
     },
     "metadata": {},
     "output_type": "display_data"
    }
   ],
   "source": [
    "%%HTML\n",
    "\n",
    "<html lang=\"en\">\n",
    "\n",
    "<head>\n",
    "    <title>Little Lemon</title>\n",
    "\n",
    "    <meta property=\"og:title\" content=\"Our Menu\">\n",
    "    <meta property=\"og:type\" content=\"website\">\n",
    "    <meta property=\"og:image\" content=\"logo.png\">\n",
    "    <meta property=\"og:url\" content=\"https://littlelemon/\">\n",
    "    <meta property=\"og:description\"\n",
    "        content=\"Little Lemon is a family-owned Mediterranean restaurant, focused on traditional recipes served with a modern twist.\">\n",
    "    <meta property=\"og:locale\" content=\"en_US\">\n",
    "    <meta property=\"og:site_name\" content=\"Little Lemon\">\n",
    "\n",
    "    <link rel=\"stylesheet\" href=\"./estilos.css\">\n",
    "</head>\n",
    "\n",
    "<body>\n",
    "    <header>\n",
    "        <img src=\"./logo.png\">\n",
    "    </header>\n",
    "    <nav>\n",
    "        <ul>\n",
    "            <li><a href=\"index.html\">Home</a></li>\n",
    "            <li><a href=\"location.html\">Location</a></li>\n",
    "            <li><a href=\"blog.html\">Blog</a></li>\n",
    "        </ul>\n",
    "    </nav>\n",
    "    <main>\n",
    "        <iframe src=\"./placeholder.png\"></iframe>\n",
    "        <h1>Blog</h1>\n",
    "        <article>\n",
    "            <h2>20% off this weekend</h2>\n",
    "            <p>Come down to Little Lemon and your meal will be 20% off!</p>\n",
    "        </article>\n",
    "        <article>\n",
    "            <h2>Our new menu</h2>\n",
    "            <p>We've updated our menu with new dinners.</p>\n",
    "        </article>\n",
    "    </main>\n",
    "    <footer>\n",
    "        <p>Copyright Little Lemon</p>\n",
    "    </footer>\n",
    "</body>\n",
    "\n",
    "</html>"
   ]
  }
 ],
 "metadata": {
  "kernelspec": {
   "display_name": "Py310",
   "language": "python",
   "name": "py310"
  },
  "language_info": {
   "codemirror_mode": {
    "name": "ipython",
    "version": 3
   },
   "file_extension": ".py",
   "mimetype": "text/x-python",
   "name": "python",
   "nbconvert_exporter": "python",
   "pygments_lexer": "ipython3",
   "version": "3.10.9"
  },
  "orig_nbformat": 4,
  "vscode": {
   "interpreter": {
    "hash": "97cc609b13305c559618ec78a438abc56230b9381f827f22d070313b9a1f3777"
   }
  }
 },
 "nbformat": 4,
 "nbformat_minor": 2
}
