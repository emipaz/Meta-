{
 "cells": [
  {
   "cell_type": "markdown",
   "metadata": {},
   "source": [
    "# Canvas Html"
   ]
  },
  {
   "cell_type": "code",
   "execution_count": null,
   "metadata": {
    "vscode": {
     "languageId": "html"
    }
   },
   "outputs": [],
   "source": []
  },
  {
   "cell_type": "code",
   "execution_count": 1,
   "metadata": {
    "vscode": {
     "languageId": "html"
    }
   },
   "outputs": [
    {
     "data": {
      "text/html": [
       "\n",
       "<html>\n",
       "<body>\n",
       "\n",
       "<canvas id=\"myCanvas\" width=\"300\" height=\"100\" style=\"border:1px solid #01ff10;\">\n",
       "Your browser does not support the HTML canvas tag.</canvas>\n",
       "\n",
       "<script>\n",
       "var c = document.getElementById(\"myCanvas\");\n",
       "var ctx = c.getContext(\"2d\");\n",
       "ctx.strokeStyle = '#00ffff';\n",
       "ctx.moveTo(10,10);\n",
       "ctx.lineTo(190,90);\n",
       "ctx.stroke();\n",
       "</script>\n",
       "\n",
       "</body>\n",
       "</html>\n"
      ],
      "text/plain": [
       "<IPython.core.display.HTML object>"
      ]
     },
     "metadata": {},
     "output_type": "display_data"
    }
   ],
   "source": [
    "%%HTML\n",
    "\n",
    "<html>\n",
    "<body>\n",
    "\n",
    "<canvas id=\"myCanvas\" width=\"300\" height=\"100\" style=\"border:1px solid #01ff10;\">\n",
    "Your browser does not support the HTML canvas tag.</canvas>\n",
    "\n",
    "<script>\n",
    "var c = document.getElementById(\"myCanvas\");\n",
    "var ctx = c.getContext(\"2d\");\n",
    "ctx.strokeStyle = '#00ffff';\n",
    "ctx.moveTo(10,10);\n",
    "ctx.lineTo(190,90);\n",
    "ctx.stroke();\n",
    "</script>\n",
    "\n",
    "</body>\n",
    "</html>"
   ]
  },
  {
   "cell_type": "code",
   "execution_count": 2,
   "metadata": {
    "vscode": {
     "languageId": "html"
    }
   },
   "outputs": [
    {
     "data": {
      "text/html": [
       "<html>\n",
       "<body>\n",
       "\n",
       "<canvas id=\"myCanvas2\" width=\"200\" height=\"100\" style=\"border:1px solid #d3d3d3;\">\n",
       "Your browser does not support the HTML canvas tag.</canvas>\n",
       "\n",
       "<script>\n",
       "var c = document.getElementById(\"myCanvas2\");\n",
       "var ctx = c.getContext(\"2d\");\n",
       "ctx.strokeStyle = '#00ffff';\n",
       "ctx.font = \"30px Arial\";\n",
       "ctx.strokeText(\"Hello World\",10,50);\n",
       "</script>\n",
       "\n",
       "</body>\n",
       "</html>\n"
      ],
      "text/plain": [
       "<IPython.core.display.HTML object>"
      ]
     },
     "metadata": {},
     "output_type": "display_data"
    }
   ],
   "source": [
    "%%HTML\n",
    "<html>\n",
    "<body>\n",
    "\n",
    "<canvas id=\"myCanvas2\" width=\"200\" height=\"100\" style=\"border:1px solid #d3d3d3;\">\n",
    "Your browser does not support the HTML canvas tag.</canvas>\n",
    "\n",
    "<script>\n",
    "var c = document.getElementById(\"myCanvas2\");\n",
    "var ctx = c.getContext(\"2d\");\n",
    "ctx.strokeStyle = '#00ffff';\n",
    "ctx.font = \"30px Arial\";\n",
    "ctx.strokeText(\"Hello World\",10,50);\n",
    "</script>\n",
    "\n",
    "</body>\n",
    "</html>"
   ]
  },
  {
   "cell_type": "code",
   "execution_count": 3,
   "metadata": {
    "vscode": {
     "languageId": "html"
    }
   },
   "outputs": [
    {
     "data": {
      "text/html": [
       "\n",
       "<html>\n",
       "<body>\n",
       "\n",
       "<p>Image to use:</p>\n",
       "<img id=\"logo\" src=\"./logo.png\" alt=\"The Scream\">\n",
       "\n",
       "<p>Canvas to fill:</p>\n",
       "<canvas id=\"myCanvas3\" width=\"250\" height=\"300\"\n",
       "style=\"border:1px solid #d3d3d3;\">\n",
       "Your browser does not support the HTML canvas tag.</canvas>\n",
       "\n",
       "<p><button onclick=\"myCanvas()\">Try it</button></p>\n",
       "\n",
       "<script>\n",
       "function myCanvas() {\n",
       "  var c = document.getElementById(\"myCanvas3\");\n",
       "  var ctx = c.getContext(\"2d\");\n",
       "  var img = document.getElementById(\"logo\");\n",
       "  ctx.drawImage(img,10,10);\n",
       "}\n",
       "</script>\n",
       "\n",
       "</body>\n",
       "</html>\n"
      ],
      "text/plain": [
       "<IPython.core.display.HTML object>"
      ]
     },
     "metadata": {},
     "output_type": "display_data"
    }
   ],
   "source": [
    "%%HTML\n",
    "\n",
    "<html>\n",
    "<body>\n",
    "\n",
    "<p>Image to use:</p>\n",
    "<img id=\"logo\" src=\"./logo.png\" alt=\"The Scream\">\n",
    "\n",
    "<p>Canvas to fill:</p>\n",
    "<canvas id=\"myCanvas3\" width=\"250\" height=\"300\"\n",
    "style=\"border:1px solid #d3d3d3;\">\n",
    "Your browser does not support the HTML canvas tag.</canvas>\n",
    "\n",
    "<p><button onclick=\"myCanvas()\">Try it</button></p>\n",
    "\n",
    "<script>\n",
    "function myCanvas() {\n",
    "  var c = document.getElementById(\"myCanvas3\");\n",
    "  var ctx = c.getContext(\"2d\");\n",
    "  var img = document.getElementById(\"logo\");\n",
    "  ctx.drawImage(img,10,10);\n",
    "}\n",
    "</script>\n",
    "\n",
    "</body>\n",
    "</html>\n"
   ]
  },
  {
   "cell_type": "code",
   "execution_count": 6,
   "metadata": {
    "vscode": {
     "languageId": "html"
    }
   },
   "outputs": [
    {
     "data": {
      "text/html": [
       "\n",
       "<html>\n",
       "    <head></head>\n",
       "    <body>\n",
       "        <canvas width=\"640\" height=\"480\" id=\"my_canvas4\">\n",
       "    \n",
       "        </canvas>\n",
       "    </body>\n",
       "\n",
       "    \n",
       "\n",
       "<script>\n",
       "let canvas = document.getElementById(\"my_canvas4\");\n",
       "let context = canvas.getContext(\"2d\");\n",
       "\n",
       "const speed = 4;\n",
       "let position = 0;\n",
       "let moveSpeed = speed;\n",
       "let radius = 40;\n",
       "\n",
       "function moveBall() {\n",
       "    if (position + radius > 640) {\n",
       "        moveSpeed = -speed;\n",
       "    } else if (position - radius < 0) {\n",
       "        moveSpeed = speed;\n",
       "    }\n",
       "    position += moveSpeed;\n",
       "}\n",
       "\n",
       "function drawBall() {\n",
       "    context.clearRect(0, 0, 640, 480);\n",
       "\n",
       "    context.fillStyle = \"#62687f\";\n",
       "    context.beginPath();\n",
       "    context.arc(position, 50, radius, 0, 2 * Math.PI);\n",
       "    context.fill();\n",
       "}\n",
       "\n",
       "function animate() {\n",
       "    moveBall();\n",
       "    drawBall();\n",
       "    window.requestAnimationFrame(animate);\n",
       "}\n",
       "\n",
       "window.requestAnimationFrame(animate);\n",
       "\n",
       "</script>\n",
       "\n",
       "</html>\n"
      ],
      "text/plain": [
       "<IPython.core.display.HTML object>"
      ]
     },
     "metadata": {},
     "output_type": "display_data"
    }
   ],
   "source": [
    "%%HTML\n",
    "\n",
    "<html>\n",
    "    <head></head>\n",
    "    <body>\n",
    "        <canvas width=\"640\" height=\"480\" id=\"my_canvas4\">\n",
    "    \n",
    "        </canvas>\n",
    "    </body>\n",
    "\n",
    "    \n",
    "\n",
    "<script>\n",
    "let canvas = document.getElementById(\"my_canvas4\");\n",
    "let context = canvas.getContext(\"2d\");\n",
    "\n",
    "const speed = 4;\n",
    "let position = 0;\n",
    "let moveSpeed = speed;\n",
    "let radius = 40;\n",
    "\n",
    "function moveBall() {\n",
    "    if (position + radius > 640) {\n",
    "        moveSpeed = -speed;\n",
    "    } else if (position - radius < 0) {\n",
    "        moveSpeed = speed;\n",
    "    }\n",
    "    position += moveSpeed;\n",
    "}\n",
    "\n",
    "function drawBall() {\n",
    "    context.clearRect(0, 0, 640, 480);\n",
    "\n",
    "    context.fillStyle = \"#62687f\";\n",
    "    context.beginPath();\n",
    "    context.arc(position, 50, radius, 0, 2 * Math.PI);\n",
    "    context.fill();\n",
    "}\n",
    "\n",
    "function animate() {\n",
    "    moveBall();\n",
    "    drawBall();\n",
    "    window.requestAnimationFrame(animate);\n",
    "}\n",
    "\n",
    "window.requestAnimationFrame(animate);\n",
    "\n",
    "</script>\n",
    "\n",
    "</html>"
   ]
  },
  {
   "cell_type": "code",
   "execution_count": null,
   "metadata": {
    "vscode": {
     "languageId": "html"
    }
   },
   "outputs": [],
   "source": []
  }
 ],
 "metadata": {
  "kernelspec": {
   "display_name": "Py310",
   "language": "python",
   "name": "py310"
  },
  "language_info": {
   "codemirror_mode": {
    "name": "ipython",
    "version": 3
   },
   "file_extension": ".py",
   "mimetype": "text/x-python",
   "name": "python",
   "nbconvert_exporter": "python",
   "pygments_lexer": "ipython3",
   "version": "3.10.9"
  },
  "orig_nbformat": 4
 },
 "nbformat": 4,
 "nbformat_minor": 2
}
