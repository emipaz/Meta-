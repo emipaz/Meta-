{
 "cells": [
  {
   "attachments": {},
   "cell_type": "markdown",
   "metadata": {},
   "source": [
    "# Entendiendo flexbox\n",
    "\n",
    "Al igual que el contenedor div y box que puede crear usando HTML, flexbox es un tipo de contenedor. Flexbox puede superar las limitaciones causadas por los contenedores como el bloque y en línea porque hace un mejor trabajo de escalado en páginas web más grandes y también proporciona un control más dinámico de los contenedores. Esto se debe a que puede hacer crecer, reducir y alinear los elementos dentro de él, lo que brinda un mejor control al programador sobre el contenido y el estilo de los elementos dentro del contenedor. \n",
    "\n",
    "Antes de conocer los diseños comunes creados con flexbox, es importante comprender las propiedades que contiene y cómo funciona flexbox. Examinemos algunas de las características importantes de los flexboxes y las propiedades que se pueden usar para configurarlos.\n",
    "\n",
    "Flexbox es unidimensional, lo que significa que puede alinearlo a lo largo de una fila o una columna y está configurado para la alineación de filas de forma predeterminada. Hay dos ejes, el principal y el transversal, muy parecidos a los ejes x e y que se utilizan en la geometría de coordenadas. Cuando se alinea a lo largo de la fila, el eje horizontal se denomina eje principal y el eje vertical se denomina eje transversal. Para los artículos presentes dentro del contenedor flexbox, la ubicación comienza desde la esquina superior izquierda y se mueve a lo largo del eje principal u horizontal. Cuando se llena la fila, los elementos continúan a la fila siguiente. Tenga en cuenta que con la ayuda de una propiedad llamada dirección flexible, puede voltear el eje principal para que se ejecute verticalmente y el eje transversal será horizontal. En tal caso, los elementos comenzarán desde la parte superior izquierda y se moverán hacia abajo a lo largo del eje principal vertical. \n",
    "\n",
    "https://css-tricks.com/snippets/css/a-guide-to-flexbox/#aa-basics-and-terminology"
   ]
  },
  {
   "attachments": {},
   "cell_type": "markdown",
   "metadata": {},
   "source": [
    "<img src= \"https://d3c33hcgiwev3.cloudfront.net/imageAssetProxy.v1/ikoFt7vUS1qKBbe71Ita7Q_c1ed63555296483094650eb4c49b37e1_Understanding-Flexbox.png?expiry=1676419200000&hmac=kfFqNVMMeDCoDphDVfeBmQDTzEx0u5UobQcWYB6MyaA\">"
   ]
  },
  {
   "cell_type": "code",
   "execution_count": 70,
   "metadata": {
    "vscode": {
     "languageId": "html"
    }
   },
   "outputs": [
    {
     "data": {
      "text/html": [
       "<body>\n",
       "    <div class=\"flex-container\">\n",
       "      <div class=\"box box1\">  One..</div>\n",
       "      <div class=\"box box2\">  Two..</div>\n",
       "      <div class=\"box box3\">  Three..</div>\n",
       "      <div class=\"box box4\">  Four..</div>\n",
       "      <div class=\"box box5\">  Five..</div>\n",
       "      <div class=\"box box6\">  Six..</div>\n",
       "      <div class=\"box box7\">  Seven..</div>\n",
       "    </div>\n",
       "  </body>\n"
      ],
      "text/plain": [
       "<IPython.core.display.HTML object>"
      ]
     },
     "metadata": {},
     "output_type": "display_data"
    }
   ],
   "source": [
    "%%HTML\n",
    "<body>\n",
    "    <div class=\"flex-container\">\n",
    "      <div class=\"box box1\">  One..</div>\n",
    "      <div class=\"box box2\">  Two..</div>\n",
    "      <div class=\"box box3\">  Three..</div>\n",
    "      <div class=\"box box4\">  Four..</div>\n",
    "      <div class=\"box box5\">  Five..</div>\n",
    "      <div class=\"box box6\">  Six..</div>\n",
    "      <div class=\"box box7\">  Seven..</div>\n",
    "    </div>\n",
    "  </body>"
   ]
  },
  {
   "cell_type": "code",
   "execution_count": 71,
   "metadata": {},
   "outputs": [
    {
     "name": "stdout",
     "output_type": "stream",
     "text": [
      "Overwriting 01.css\n"
     ]
    }
   ],
   "source": [
    "%%writefile 01.css\n",
    "\n",
    ".box{\n",
    "    background-color: aquamarine;\n",
    "    border-radius: 5px;\n",
    "    margin: 2px;\n",
    "    padding: 10px;\n",
    "}"
   ]
  },
  {
   "cell_type": "code",
   "execution_count": 72,
   "metadata": {},
   "outputs": [
    {
     "data": {
      "text/html": [
       "<link rel=\"stylesheet\" href=\"./01.css\">\n",
       "<style>\n",
       "    .emi{\n",
       "    background-color: aquamarine;\n",
       "    border-radius: 5px;\n",
       "    margin: 2px;\n",
       "    padding: 10px;\n",
       "}\n",
       "    </style>\n",
       "<body>\n",
       "    <div class=\"flex-container\">\n",
       "      <div class=\"emi box1\">  One..</div>\n",
       "      <div class=\"emi box2\">  Two..</div>\n",
       "      <div class=\"emi box3\">  Three..</div>\n",
       "      <div class=\"emi box4\">  Four..</div>\n",
       "      <div class=\"emi box5\">  Five..</div>\n",
       "      <div class=\"emi box6\">  Six..</div>\n",
       "      <div class=\"emi box7\">  Seven..</div>\n",
       "    </div>\n",
       "  </body>\n"
      ],
      "text/plain": [
       "<IPython.core.display.HTML object>"
      ]
     },
     "metadata": {},
     "output_type": "display_data"
    }
   ],
   "source": [
    "%%HTML\n",
    "<link rel=\"stylesheet\" href=\"./01.css\">\n",
    "<style>\n",
    "    .emi{\n",
    "    background-color: aquamarine;\n",
    "    border-radius: 5px;\n",
    "    margin: 2px;\n",
    "    padding: 10px;\n",
    "}\n",
    "    </style>\n",
    "<body>\n",
    "    <div class=\"flex-container\">\n",
    "      <div class=\"emi box1\">  One..</div>\n",
    "      <div class=\"emi box2\">  Two..</div>\n",
    "      <div class=\"emi box3\">  Three..</div>\n",
    "      <div class=\"emi box4\">  Four..</div>\n",
    "      <div class=\"emi box5\">  Five..</div>\n",
    "      <div class=\"emi box6\">  Six..</div>\n",
    "      <div class=\"emi box7\">  Seven..</div>\n",
    "    </div>\n",
    "  </body>"
   ]
  },
  {
   "attachments": {},
   "cell_type": "markdown",
   "metadata": {},
   "source": [
    "Hay siete contenedores div dentro del archivo HTML.\n",
    "\n",
    "El archivo CSS correspondiente contiene reglas para las siete etiquetas div que tienen la clase box. Nótese como se dan dos nombres de clase para cada una de las etiquetas, uno que es común entre todas las clases y otro independiente de ella. El estilo se aplica a todos los contenedores.\n",
    "\n",
    "Ahora agreguemos propiedades al contenedor flexible convirtiéndolo en flex.\n",
    "\n",
    "pantalla: flexible;"
   ]
  },
  {
   "cell_type": "code",
   "execution_count": 73,
   "metadata": {},
   "outputs": [
    {
     "name": "stdout",
     "output_type": "stream",
     "text": [
      "Writing 02.css\n"
     ]
    }
   ],
   "source": [
    "%%writefile 02.css\n",
    "\n",
    "\n",
    ".flex-container{\n",
    "    display: flex;\n",
    "}\n"
   ]
  },
  {
   "cell_type": "code",
   "execution_count": 74,
   "metadata": {
    "vscode": {
     "languageId": "html"
    }
   },
   "outputs": [
    {
     "data": {
      "text/html": [
       "<style>\n",
       "  .flex-container2{\n",
       "    display: flex;\n",
       "}\n",
       "</style>\n",
       "<body>\n",
       "    <div class=\"flex-container2\">\n",
       "      <div class=\"emi box1\">  One..</div>\n",
       "      <div class=\"emi box2\">  Two..</div>\n",
       "      <div class=\"emi box3\">  Three..</div>\n",
       "      <div class=\"emi box4\">  Four..</div>\n",
       "      <div class=\"emi box5\">  Five..</div>\n",
       "      <div class=\"emi box6\">  Six..</div>\n",
       "      <div class=\"emi box7\">  Seven..</div>\n",
       "    </div>\n",
       "  </body>\n"
      ],
      "text/plain": [
       "<IPython.core.display.HTML object>"
      ]
     },
     "metadata": {},
     "output_type": "display_data"
    }
   ],
   "source": [
    "%%HTML\n",
    "<style>\n",
    "  .flex-container2{\n",
    "    display: flex;\n",
    "}\n",
    "</style>\n",
    "<body>\n",
    "    <div class=\"flex-container2\">\n",
    "      <div class=\"emi box1\">  One..</div>\n",
    "      <div class=\"emi box2\">  Two..</div>\n",
    "      <div class=\"emi box3\">  Three..</div>\n",
    "      <div class=\"emi box4\">  Four..</div>\n",
    "      <div class=\"emi box5\">  Five..</div>\n",
    "      <div class=\"emi box6\">  Six..</div>\n",
    "      <div class=\"emi box7\">  Seven..</div>\n",
    "    </div>\n",
    "  </body>"
   ]
  },
  {
   "attachments": {},
   "cell_type": "markdown",
   "metadata": {},
   "source": [
    "## Propiedades de alineación\n",
    "\n",
    "Examinemos algunas propiedades de alineación dentro del flex. Hay cuatro propiedades principales que se utilizan para alinear un contenedor flexible y los elementos presentes en su interior:  \n",
    "\n",
    "- justify-content.     \n",
    "        \n",
    "        Para la alineación de artículos en el eje principal.\n",
    "\n",
    "- align-items.         \n",
    "        \n",
    "        Para la alineación de artículos en el eje transversal.\n",
    "\n",
    "- align-self.          \n",
    "        \n",
    "        Para artículos flexibles únicos en el eje transversal.\n",
    "\n",
    "- align-content.       \n",
    "        \n",
    "        Se utiliza para empaquetar líneas flexibles y controlar el espacio.\n",
    "\n",
    "De estos, los elementos de justificación de contenido y alineación se usan con frecuencia para los dos ejes respectivos.\n",
    "\n",
    "Primero examinemos el uso de justificar contenido que tiene un valor de 'izquierda' por defecto.\n"
   ]
  },
  {
   "attachments": {},
   "cell_type": "markdown",
   "metadata": {},
   "source": [
    "\n",
    "## justificar-contenido"
   ]
  },
  {
   "cell_type": "code",
   "execution_count": 75,
   "metadata": {
    "vscode": {
     "languageId": "html"
    }
   },
   "outputs": [
    {
     "data": {
      "text/html": [
       "<style>\n",
       ".flex-container3{\n",
       "    display: flex;\n",
       "    justify-content: center\n",
       "}\n",
       "</style>\n"
      ],
      "text/plain": [
       "<IPython.core.display.HTML object>"
      ]
     },
     "metadata": {},
     "output_type": "display_data"
    }
   ],
   "source": [
    "%%HTML\n",
    "<style>\n",
    ".flex-container3{\n",
    "    display: flex;\n",
    "    justify-content: center\n",
    "}\n",
    "</style>"
   ]
  },
  {
   "cell_type": "code",
   "execution_count": 76,
   "metadata": {
    "vscode": {
     "languageId": "html"
    }
   },
   "outputs": [
    {
     "data": {
      "text/html": [
       "<body>\n",
       "    <div class=\"flex-container3\">\n",
       "      <div class=\"emi box1\">  One..</div>\n",
       "      <div class=\"emi box2\">  Two..</div>\n",
       "      <div class=\"emi box3\">  Three..</div>\n",
       "      <div class=\"emi box4\">  Four..</div>\n",
       "      <div class=\"emi box5\">  Five..</div>\n",
       "      <div class=\"emi box6\">  Six..</div>\n",
       "      <div class=\"emi box7\">  Seven..</div>\n",
       "    </div>\n",
       "  </body>\n"
      ],
      "text/plain": [
       "<IPython.core.display.HTML object>"
      ]
     },
     "metadata": {},
     "output_type": "display_data"
    }
   ],
   "source": [
    "%%HTML\n",
    "<body>\n",
    "    <div class=\"flex-container3\">\n",
    "      <div class=\"emi box1\">  One..</div>\n",
    "      <div class=\"emi box2\">  Two..</div>\n",
    "      <div class=\"emi box3\">  Three..</div>\n",
    "      <div class=\"emi box4\">  Four..</div>\n",
    "      <div class=\"emi box5\">  Five..</div>\n",
    "      <div class=\"emi box6\">  Six..</div>\n",
    "      <div class=\"emi box7\">  Seven..</div>\n",
    "    </div>\n",
    "  </body>"
   ]
  },
  {
   "attachments": {},
   "cell_type": "markdown",
   "metadata": {},
   "source": [
    "## envoltura flexible:\n",
    "El valor predeterminado para esta propiedad es 'nowrap', lo que significa que los elementos abarcarán todo el ancho del eje."
   ]
  },
  {
   "cell_type": "code",
   "execution_count": 77,
   "metadata": {
    "vscode": {
     "languageId": "html"
    }
   },
   "outputs": [
    {
     "data": {
      "text/html": [
       "<style>\n",
       ".flex-container4{\n",
       "    display: flex;\n",
       "    justify-content: center;\n",
       "    flex-wrap: wrap;\n",
       "}\n",
       "</style>\n"
      ],
      "text/plain": [
       "<IPython.core.display.HTML object>"
      ]
     },
     "metadata": {},
     "output_type": "display_data"
    }
   ],
   "source": [
    "%%HTML\n",
    "<style>\n",
    ".flex-container4{\n",
    "    display: flex;\n",
    "    justify-content: center;\n",
    "    flex-wrap: wrap;\n",
    "}\n",
    "</style>"
   ]
  },
  {
   "cell_type": "code",
   "execution_count": 78,
   "metadata": {
    "vscode": {
     "languageId": "html"
    }
   },
   "outputs": [
    {
     "data": {
      "text/html": [
       "<body>\n",
       "    <div class=\"flex-container4\">\n",
       "      <div class=\"emi box1\">  One..</div>\n",
       "      <div class=\"emi box2\">  Two..</div>\n",
       "      <div class=\"emi box3\">  Three..</div>\n",
       "      <div class=\"emi box4\">  Four..</div>\n",
       "      <div class=\"emi box5\">  Five..</div>\n",
       "      <div class=\"emi box6\">  Six..</div>\n",
       "      <div class=\"emi box7\">  Seven..</div>\n",
       "    </div>\n",
       "  </body>\n"
      ],
      "text/plain": [
       "<IPython.core.display.HTML object>"
      ]
     },
     "metadata": {},
     "output_type": "display_data"
    }
   ],
   "source": [
    "%%HTML\n",
    "<body>\n",
    "    <div class=\"flex-container4\">\n",
    "      <div class=\"emi box1\">  One..</div>\n",
    "      <div class=\"emi box2\">  Two..</div>\n",
    "      <div class=\"emi box3\">  Three..</div>\n",
    "      <div class=\"emi box4\">  Four..</div>\n",
    "      <div class=\"emi box5\">  Five..</div>\n",
    "      <div class=\"emi box6\">  Six..</div>\n",
    "      <div class=\"emi box7\">  Seven..</div>\n",
    "    </div>\n",
    "  </body>"
   ]
  },
  {
   "attachments": {},
   "cell_type": "markdown",
   "metadata": {},
   "source": [
    "Los elementos ahora se ajustarán al tamaño de la ventana gráfica disponible.\n",
    "\n"
   ]
  },
  {
   "attachments": {},
   "cell_type": "markdown",
   "metadata": {},
   "source": [
    "## dirección de flexión:\n",
    "\n",
    "Esta propiedad se usa para establecer el eje principal, que es una 'fila' por defecto. Básicamente significa que está cambiando su eje 'principal' de filas horizontales a columnas verticales."
   ]
  },
  {
   "cell_type": "code",
   "execution_count": 79,
   "metadata": {},
   "outputs": [
    {
     "data": {
      "text/html": [
       "<style>\n",
       ".flex-container5{\n",
       "    display: flex;\n",
       "    justify-content: center;\n",
       "    flex-direction: column;\n",
       "    flex-wrap: wrap;\n",
       "}\n",
       "</style>\n",
       "<body>\n",
       "    <div class=\"flex-container5\">\n",
       "      <div class=\"emi box1\">  One..</div>\n",
       "      <div class=\"emi box2\">  Two..</div>\n",
       "      <div class=\"emi box3\">  Three..</div>\n",
       "      <div class=\"emi box4\">  Four..</div>\n",
       "      <div class=\"emi box5\">  Five..</div>\n",
       "      <div class=\"emi box6\">  Six..</div>\n",
       "      <div class=\"emi box7\">  Seven..</div>\n",
       "    </div>\n",
       "  </body>\n"
      ],
      "text/plain": [
       "<IPython.core.display.HTML object>"
      ]
     },
     "metadata": {},
     "output_type": "display_data"
    }
   ],
   "source": [
    "%%HTML\n",
    "<style>\n",
    ".flex-container5{\n",
    "    display: flex;\n",
    "    justify-content: center;\n",
    "    flex-direction: column;\n",
    "    flex-wrap: wrap;\n",
    "}\n",
    "</style>\n",
    "<body>\n",
    "    <div class=\"flex-container5\">\n",
    "      <div class=\"emi box1\">  One..</div>\n",
    "      <div class=\"emi box2\">  Two..</div>\n",
    "      <div class=\"emi box3\">  Three..</div>\n",
    "      <div class=\"emi box4\">  Four..</div>\n",
    "      <div class=\"emi box5\">  Five..</div>\n",
    "      <div class=\"emi box6\">  Six..</div>\n",
    "      <div class=\"emi box7\">  Seven..</div>\n",
    "    </div>\n",
    "  </body>"
   ]
  },
  {
   "attachments": {},
   "cell_type": "markdown",
   "metadata": {},
   "source": [
    "La salida se parece a la salida original; sin embargo, ahora es en realidad un flex.\n",
    "\n",
    "Ahora alineemos los elementos nuevamente y examinemos un par de las otras propiedades mencionadas anteriormente.   "
   ]
  },
  {
   "attachments": {},
   "cell_type": "markdown",
   "metadata": {},
   "source": [
    "## alinear elementos:\n",
    "La alineación en el eje transversal se realiza con la ayuda de esta propiedad. Cambiemos el valor a 'flex-end'."
   ]
  },
  {
   "cell_type": "code",
   "execution_count": 80,
   "metadata": {
    "vscode": {
     "languageId": "html"
    }
   },
   "outputs": [
    {
     "data": {
      "text/html": [
       "<style>\n",
       ".flex-container6{\n",
       "    display: flex;\n",
       "    justify-content: center;\n",
       "    flex-direction: column;\n",
       "    flex-wrap: wrap;\n",
       "    align-items:flex-end;\n",
       "}\n",
       "</style>\n",
       "<body>\n",
       "    <div class=\"flex-container6\">\n",
       "      <div class=\"emi box1\">  One..</div>\n",
       "      <div class=\"emi box2\">  Two..</div>\n",
       "      <div class=\"emi box3\">  Three..</div>\n",
       "      <div class=\"emi box4\">  Four..</div>\n",
       "      <div class=\"emi box5\">  Five..</div>\n",
       "      <div class=\"emi box6\">  Six..</div>\n",
       "      <div class=\"emi box7\">  Seven..</div>\n",
       "    </div>\n",
       "  </body>\n"
      ],
      "text/plain": [
       "<IPython.core.display.HTML object>"
      ]
     },
     "metadata": {},
     "output_type": "display_data"
    }
   ],
   "source": [
    "%%HTML\n",
    "<style>\n",
    ".flex-container6{\n",
    "    display: flex;\n",
    "    justify-content: center;\n",
    "    flex-direction: column;\n",
    "    flex-wrap: wrap;\n",
    "    align-items:flex-end;\n",
    "}\n",
    "</style>\n",
    "<body>\n",
    "    <div class=\"flex-container6\">\n",
    "      <div class=\"emi box1\">  One..</div>\n",
    "      <div class=\"emi box2\">  Two..</div>\n",
    "      <div class=\"emi box3\">  Three..</div>\n",
    "      <div class=\"emi box4\">  Four..</div>\n",
    "      <div class=\"emi box5\">  Five..</div>\n",
    "      <div class=\"emi box6\">  Six..</div>\n",
    "      <div class=\"emi box7\">  Seven..</div>\n",
    "    </div>\n",
    "  </body>"
   ]
  },
  {
   "attachments": {},
   "cell_type": "markdown",
   "metadata": {},
   "source": [
    "El término 'fin' se refiere al lado derecho de la página, ya que el lado izquierdo se considera el principio."
   ]
  },
  {
   "attachments": {},
   "cell_type": "markdown",
   "metadata": {},
   "source": [
    "## alinearse:\n",
    "Esta propiedad se puede usar en elementos individuales dentro del flex."
   ]
  },
  {
   "cell_type": "code",
   "execution_count": 81,
   "metadata": {
    "vscode": {
     "languageId": "html"
    }
   },
   "outputs": [
    {
     "data": {
      "text/html": [
       "<style>\n",
       ".flex-container7{\n",
       "    display: flex;\n",
       "    justify-content: center;\n",
       "    flex-direction: column;\n",
       "    flex-wrap: wrap;\n",
       "    align-items:flex-start;\n",
       "}\n",
       ".box33{\n",
       "    background-color: blanchedalmond;\n",
       "    align-self: center;\n",
       "}\n",
       "}\n",
       "}\n",
       "</style>\n",
       "<body>\n",
       "    <div class=\"flex-container7\">\n",
       "      <div class=\"emi box1\">  One..</div>\n",
       "      <div class=\"emi box2\">  Two..</div>\n",
       "      <div class=\"emi box33\">  Three..</div>\n",
       "      <div class=\"emi box4\">  Four..</div>\n",
       "      <div class=\"emi box5\">  Five..</div>\n",
       "      <div class=\"emi box6\">  Six..</div>\n",
       "      <div class=\"emi box7\">  Seven..</div>\n",
       "    </div>\n"
      ],
      "text/plain": [
       "<IPython.core.display.HTML object>"
      ]
     },
     "metadata": {},
     "output_type": "display_data"
    }
   ],
   "source": [
    "%%HTML\n",
    "<style>\n",
    ".flex-container7{\n",
    "    display: flex;\n",
    "    justify-content: center;\n",
    "    flex-direction: column;\n",
    "    flex-wrap: wrap;\n",
    "    align-items:flex-start;\n",
    "}\n",
    ".box33{\n",
    "    background-color: blanchedalmond;\n",
    "    align-self: center;\n",
    "}\n",
    "}\n",
    "}\n",
    "</style>\n",
    "<body>\n",
    "    <div class=\"flex-container7\">\n",
    "      <div class=\"emi box1\">  One..</div>\n",
    "      <div class=\"emi box2\">  Two..</div>\n",
    "      <div class=\"emi box33\">  Three..</div>\n",
    "      <div class=\"emi box4\">  Four..</div>\n",
    "      <div class=\"emi box5\">  Five..</div>\n",
    "      <div class=\"emi box6\">  Six..</div>\n",
    "      <div class=\"emi box7\">  Seven..</div>\n",
    "    </div>"
   ]
  },
  {
   "attachments": {},
   "cell_type": "markdown",
   "metadata": {},
   "source": [
    "## brecha:\n",
    "\n",
    "La propiedad gap se puede utilizar para crear espacio entre los elementos a lo largo del eje principal. También puede configurar individualmente los espacios en filas y columnas utilizando las propiedades de espacio entre filas y espacio entre columnas. "
   ]
  },
  {
   "cell_type": "code",
   "execution_count": 82,
   "metadata": {
    "vscode": {
     "languageId": "html"
    }
   },
   "outputs": [
    {
     "data": {
      "text/html": [
       "<style>\n",
       ".flex-container8{\n",
       "    display: flex;\n",
       "    justify-content: center;\n",
       "    flex-direction: column;\n",
       "    flex-wrap: wrap;\n",
       "    align-items:flex-start;\n",
       "    gap:10px;\n",
       "}\n",
       ".box33{\n",
       "    background-color: blanchedalmond;\n",
       "    align-self: center;\n",
       "}\n",
       "\n",
       "</style>\n",
       "<body>\n",
       "    <div class=\"flex-container8\">\n",
       "      <div class=\"emi box1\">  One..</div>\n",
       "      <div class=\"emi box2\">  Two..</div>\n",
       "      <div class=\"emi box33\">  Three..</div>\n",
       "      <div class=\"emi box4\">  Four..</div>\n",
       "      <div class=\"emi box5\">  Five..</div>\n",
       "      <div class=\"emi box6\">  Six..</div>\n",
       "      <div class=\"emi box7\">  Seven..</div>\n",
       "    </div>\n"
      ],
      "text/plain": [
       "<IPython.core.display.HTML object>"
      ]
     },
     "metadata": {},
     "output_type": "display_data"
    }
   ],
   "source": [
    "%%HTML\n",
    "<style>\n",
    ".flex-container8{\n",
    "    display: flex;\n",
    "    justify-content: center;\n",
    "    flex-direction: column;\n",
    "    flex-wrap: wrap;\n",
    "    align-items:flex-start;\n",
    "    gap:10px;\n",
    "}\n",
    ".box33{\n",
    "    background-color: blanchedalmond;\n",
    "    align-self: center;\n",
    "}\n",
    "\n",
    "</style>\n",
    "<body>\n",
    "    <div class=\"flex-container8\">\n",
    "      <div class=\"emi box1\">  One..</div>\n",
    "      <div class=\"emi box2\">  Two..</div>\n",
    "      <div class=\"emi box33\">  Three..</div>\n",
    "      <div class=\"emi box4\">  Four..</div>\n",
    "      <div class=\"emi box5\">  Five..</div>\n",
    "      <div class=\"emi box6\">  Six..</div>\n",
    "      <div class=\"emi box7\">  Seven..</div>\n",
    "    </div>"
   ]
  },
  {
   "cell_type": "markdown",
   "metadata": {},
   "source": [
    "Hay un claro cambio en el espacio entre los elementos."
   ]
  },
  {
   "cell_type": "markdown",
   "metadata": {},
   "source": [
    "El conjunto final de propiedades son flex-grow, flex-shrink y flex-base. Juntos, estos determinan cómo el flex ocupa espacio, crece o se encoge según el espacio disponible.\n",
    "\n",
    "Estas son las subpropiedades de una propiedad llamada flex. Juntas, a las tres propiedades también se les pueden dar valores con la ayuda de algo llamado notación abreviada en CSS. La notación abreviada lo ayuda a hacer que su código sea compacto y también fácil de escribir y seguir. Los valores que se dejan vacíos en notación abreviada reciben sus valores predeterminados."
   ]
  },
  {
   "cell_type": "code",
   "execution_count": 87,
   "metadata": {
    "vscode": {
     "languageId": "html"
    }
   },
   "outputs": [
    {
     "data": {
      "text/html": [
       "<style>\n",
       ".flex-container9{\n",
       "flex: 1 0 auto;\n",
       "}\n",
       "</style>\n",
       "<body>\n",
       "    <div class=\"flex-container9\">\n",
       "      <div class=\"emi box1\">  One..</div>\n",
       "      <div class=\"emi box2\">  Two..</div>\n",
       "      <div class=\"emi box33\">  Three..</div>\n",
       "      <div class=\"emi box4\">  Four..</div>\n",
       "      <div class=\"emi box5\">  Five..</div>\n",
       "      <div class=\"emi box6\">  Six..</div>\n",
       "      <div class=\"emi box7\">  Seven..</div>\n",
       "    </div>\n"
      ],
      "text/plain": [
       "<IPython.core.display.HTML object>"
      ]
     },
     "metadata": {},
     "output_type": "display_data"
    }
   ],
   "source": [
    "%%HTML\n",
    "<style>\n",
    ".flex-container9{\n",
    "flex: 1 0 auto;\n",
    "}\n",
    "</style>\n",
    "<body>\n",
    "    <div class=\"flex-container9\">\n",
    "      <div class=\"emi box1\">  One..</div>\n",
    "      <div class=\"emi box2\">  Two..</div>\n",
    "      <div class=\"emi box33\">  Three..</div>\n",
    "      <div class=\"emi box4\">  Four..</div>\n",
    "      <div class=\"emi box5\">  Five..</div>\n",
    "      <div class=\"emi box6\">  Six..</div>\n",
    "      <div class=\"emi box7\">  Seven..</div>\n",
    "    </div>"
   ]
  },
  {
   "cell_type": "code",
   "execution_count": null,
   "metadata": {
    "vscode": {
     "languageId": "html"
    }
   },
   "outputs": [],
   "source": []
  },
  {
   "cell_type": "code",
   "execution_count": null,
   "metadata": {
    "vscode": {
     "languageId": "html"
    }
   },
   "outputs": [],
   "source": []
  },
  {
   "attachments": {},
   "cell_type": "markdown",
   "metadata": {},
   "source": [
    "# CSS units of measurement\n",
    "\n",
    "A web page, as you know it, is two-dimensional. In other words, it has width and height. There are a number of other ways you can express this such as vertical and horizontal, length and breadth, x and y axis and so on. Another property of a web page is its size which can either be static or dynamic. When you’ve encountered enough CSS code, you will note a number of different ways in which the values for the same property can be declared using different units of measurement. Most of these units of measurement are used to account for the dynamism and dimensionality of a web page. \n",
    "\n",
    "Let’s examine the most widely used units of measurement. They can broadly be categorized as Absolute and Relative units.\n",
    "\n",
    "## Absolute units\n",
    "\n",
    "Absolute units are constant across different devices and have a fixed size. They are useful for activities like printing a page. They are not so suitable when it comes to the wide variety of devices in use today that have different viewport sizes. Because of this, absolute units are used when the size of the web page is known and will remain constant. \n",
    "\n",
    "The table for absolute units can be seen below:\n",
    "\n",
    "| Unit | Name | Comparison |\n",
    "|------|------|------------|\n",
    "| Q | Quarter-millimeters | 1Q = 1/40th of 1cm |\n",
    "| mm | Millimeters | 1mm = 1/10th of 1cm |\n",
    "| cm | Centimeters | 1cm = 37.8px = 25.2/64in |\n",
    "| in | Inches | 1in = 2.54cm = 96px |\n",
    "| pc | Picas | 1pc = 1/6th of 1in |\n",
    "| pt | Points | 1pt = 1/72nd of 1in |\n",
    "| px | Pixels | 1px = 1/96th of 1in |\n",
    "\n",
    "Of these, the pixels and centimeters are most frequently used for defining properties. \n",
    "\n",
    "## Relative values\n",
    "\n",
    "When you create a web page, you will almost never have only a single element present inside it. Even in case of containers such as flexboxes and grids, there’s usually more than one element present that rules are applied to. Relative values are defined ‘in relation’ to the other elements present inside the parent element. Additionally, they are defined ‘in relation’ to the viewport or the size of the visible web page. Given the dynamic nature of web pages today and the variable size of devices in use, relative units are the go-to option in many cases. Below is a list of some of the important relative units. \n",
    "\n",
    "| Unit | Description and relativity |\n",
    "|------|----------------------------|\n",
    "| em | Font size of the parent where present. |\n",
    "| ex | x-co-ordinate or height of the font element. |\n",
    "| ch | Width of the font character. |\n",
    "| rem | Font size of the root element. |\n",
    "| lh | Value computed for line height of parent element. |\n",
    "| rlh | Value computed for line height of root element which is `<html>`. |\n",
    "| vw | 1% of the viewport width. |\n",
    "| vh | 1% of the viewport height. |\n",
    "| vmin | 1% of the smaller dimension of viewport. |\n",
    "| vmax | 1% of the larger dimension of viewport. |\n",
    "| % | Denotes a percentage value in relation to its parent element. |\n",
    "\n",
    "Many of these units are used in terms of the relative size of fonts. Some units are more suitable depending on the relative context. Like when the dimensions of the viewport are important, it's more appropriate to use vw and vh. In a broader context, the relative units you will see most frequently used are percentage, em, vh, vw and rem. \n",
    "\n",
    "Much like the absolute and relative units discussed above, certain properties have their own set of acceptable values that need to be taken into account. For example, color-based properties such as backgroundcolor will have values such as hexadecimal, rgb(), rgba(), hsl(), hsla() and so on. Each property should be explored on an individual basis and practicing with the code will help you to decide which of these units of measurements are the most suitable choice."
   ]
  },
  {
   "cell_type": "markdown",
   "metadata": {},
   "source": []
  }
 ],
 "metadata": {
  "kernelspec": {
   "display_name": "Python 3",
   "language": "python",
   "name": "python3"
  },
  "language_info": {
   "codemirror_mode": {
    "name": "ipython",
    "version": 3
   },
   "file_extension": ".py",
   "mimetype": "text/x-python",
   "name": "python",
   "nbconvert_exporter": "python",
   "pygments_lexer": "ipython3",
   "version": "3.10.8"
  },
  "orig_nbformat": 4,
  "vscode": {
   "interpreter": {
    "hash": "95863ccd4418880417ff1d2e5e47fa6064365567c6268bb1bcbd5daf95db9502"
   }
  }
 },
 "nbformat": 4,
 "nbformat_minor": 2
}
